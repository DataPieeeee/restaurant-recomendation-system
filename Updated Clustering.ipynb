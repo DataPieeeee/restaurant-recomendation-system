{
 "cells": [
  {
   "cell_type": "markdown",
   "metadata": {},
   "source": [
    "# Clustering Analysis\n",
    "\n",
    "- According to the previous analysis, rating score is not completely reasonable. For example, reviews from the 4-5 stars cases are very similar and same circumstance also happens in 1-2 stars cases. Therefore, we can infer that one user rating a restaurant 4 satrs or 5 stars both means this user really recommend it.\n",
    "- In this part, I am going to replace the existing rating system with a two-degree system and a three-degree system respectively to see which clustering analysis has a better performance. In a two-dgree system, all the reviews are corresponding 2 degrees, like and dislike, whereas in a three-dgree system, reviews are connected to 3 degrees, most like, average like and dislike. The clutsering method used here is K-means. And it turns out that three clusters has better performance than two clusters.\n"
   ]
  },
  {
   "cell_type": "code",
   "execution_count": 221,
   "metadata": {},
   "outputs": [],
   "source": [
    "import pandas as pd\n",
    "import numpy as np\n",
    "import matplotlib.pyplot as plt\n",
    "%matplotlib inline\n",
    "plt.style.use(\"ggplot\")"
   ]
  },
  {
   "cell_type": "code",
   "execution_count": 224,
   "metadata": {},
   "outputs": [
    {
     "data": {
      "text/html": [
       "<div>\n",
       "<style scoped>\n",
       "    .dataframe tbody tr th:only-of-type {\n",
       "        vertical-align: middle;\n",
       "    }\n",
       "\n",
       "    .dataframe tbody tr th {\n",
       "        vertical-align: top;\n",
       "    }\n",
       "\n",
       "    .dataframe thead th {\n",
       "        text-align: right;\n",
       "    }\n",
       "</style>\n",
       "<table border=\"1\" class=\"dataframe\">\n",
       "  <thead>\n",
       "    <tr style=\"text-align: right;\">\n",
       "      <th></th>\n",
       "      <th>business_id</th>\n",
       "      <th>name</th>\n",
       "      <th>categories</th>\n",
       "      <th>avg_stars</th>\n",
       "      <th>cool</th>\n",
       "      <th>date</th>\n",
       "      <th>funny</th>\n",
       "      <th>review_id</th>\n",
       "      <th>stars</th>\n",
       "      <th>text</th>\n",
       "      <th>useful</th>\n",
       "      <th>user_id</th>\n",
       "    </tr>\n",
       "  </thead>\n",
       "  <tbody>\n",
       "    <tr>\n",
       "      <th>2</th>\n",
       "      <td>--1UhMGODdWsrMastO9DZw</td>\n",
       "      <td>The Spicy Amigos</td>\n",
       "      <td>Restaurants, Mexican</td>\n",
       "      <td>4.0</td>\n",
       "      <td>0</td>\n",
       "      <td>2017-12-12</td>\n",
       "      <td>0</td>\n",
       "      <td>e1HiHHD7CzY5NKZG7hvhTw</td>\n",
       "      <td>5</td>\n",
       "      <td>Absolutely delicious! And great service as wel...</td>\n",
       "      <td>0</td>\n",
       "      <td>Sew1Nht6Q0sGTIZeNvRfLw</td>\n",
       "    </tr>\n",
       "    <tr>\n",
       "      <th>3</th>\n",
       "      <td>--1UhMGODdWsrMastO9DZw</td>\n",
       "      <td>The Spicy Amigos</td>\n",
       "      <td>Restaurants, Mexican</td>\n",
       "      <td>4.0</td>\n",
       "      <td>0</td>\n",
       "      <td>2017-08-09</td>\n",
       "      <td>0</td>\n",
       "      <td>oKm8UTv-QSC0oCbniqwxjg</td>\n",
       "      <td>4</td>\n",
       "      <td>Tasty, authentic Mexican street food that give...</td>\n",
       "      <td>0</td>\n",
       "      <td>NoQCmYKyMPs4D01Wa6dZew</td>\n",
       "    </tr>\n",
       "    <tr>\n",
       "      <th>5</th>\n",
       "      <td>--1UhMGODdWsrMastO9DZw</td>\n",
       "      <td>The Spicy Amigos</td>\n",
       "      <td>Restaurants, Mexican</td>\n",
       "      <td>4.0</td>\n",
       "      <td>1</td>\n",
       "      <td>2017-05-10</td>\n",
       "      <td>0</td>\n",
       "      <td>9CLEOpUCqRkIR02sx-JsMQ</td>\n",
       "      <td>5</td>\n",
       "      <td>A little hole in the wall for some really deli...</td>\n",
       "      <td>0</td>\n",
       "      <td>atyCaAjUYatIFDOGKy00SA</td>\n",
       "    </tr>\n",
       "  </tbody>\n",
       "</table>\n",
       "</div>"
      ],
      "text/plain": [
       "              business_id              name            categories  avg_stars  \\\n",
       "2  --1UhMGODdWsrMastO9DZw  The Spicy Amigos  Restaurants, Mexican        4.0   \n",
       "3  --1UhMGODdWsrMastO9DZw  The Spicy Amigos  Restaurants, Mexican        4.0   \n",
       "5  --1UhMGODdWsrMastO9DZw  The Spicy Amigos  Restaurants, Mexican        4.0   \n",
       "\n",
       "   cool        date  funny               review_id  stars  \\\n",
       "2     0  2017-12-12      0  e1HiHHD7CzY5NKZG7hvhTw      5   \n",
       "3     0  2017-08-09      0  oKm8UTv-QSC0oCbniqwxjg      4   \n",
       "5     1  2017-05-10      0  9CLEOpUCqRkIR02sx-JsMQ      5   \n",
       "\n",
       "                                                text  useful  \\\n",
       "2  Absolutely delicious! And great service as wel...       0   \n",
       "3  Tasty, authentic Mexican street food that give...       0   \n",
       "5  A little hole in the wall for some really deli...       0   \n",
       "\n",
       "                  user_id  \n",
       "2  Sew1Nht6Q0sGTIZeNvRfLw  \n",
       "3  NoQCmYKyMPs4D01Wa6dZew  \n",
       "5  atyCaAjUYatIFDOGKy00SA  "
      ]
     },
     "execution_count": 224,
     "metadata": {},
     "output_type": "execute_result"
    }
   ],
   "source": [
    "df = pd.read_csv('2017_restaurant_reviews.csv')\n",
    "df.head(3)"
   ]
  },
  {
   "cell_type": "markdown",
   "metadata": {},
   "source": [
    "# Cluster the review text data for all the restaurants"
   ]
  },
  {
   "cell_type": "markdown",
   "metadata": {},
   "source": [
    "#### 1. Create a new variable to contain all reviews"
   ]
  },
  {
   "cell_type": "code",
   "execution_count": 225,
   "metadata": {},
   "outputs": [],
   "source": [
    "Reviews = df['text']"
   ]
  },
  {
   "cell_type": "markdown",
   "metadata": {},
   "source": [
    "#### 2. Create training dataset and test dataset in 7:3"
   ]
  },
  {
   "cell_type": "code",
   "execution_count": 226,
   "metadata": {},
   "outputs": [],
   "source": [
    "from sklearn.model_selection import train_test_split\n",
    "Reviews_train, Reviews_test= train_test_split(Reviews, test_size=0.3)\n",
    "# The clsutering algorithms is slow so I will take samples to find optima number of clusters"
   ]
  },
  {
   "cell_type": "markdown",
   "metadata": {},
   "source": [
    "#### 3. NLP"
   ]
  },
  {
   "cell_type": "code",
   "execution_count": 227,
   "metadata": {},
   "outputs": [],
   "source": [
    "from sklearn.feature_extraction.text import TfidfVectorizer\n",
    "# Initialize a TfidfVectorizer object\n",
    "vectorizer = TfidfVectorizer(analyzer = 'word', stop_words = 'english', \n",
    "                             lowercase = True, max_features = 5000\n",
    "                            )\n",
    "# Train the model with training data\n",
    "# Transform the text training data into a bag of words\n",
    "Reviews_train_vec = vectorizer.fit_transform(Reviews_train).toarray()[:300]\n",
    "# Get these words name\n",
    "words = vectorizer.get_feature_names()\n",
    "# Transform all the reviews\n",
    "Reviews_vec = vectorizer.transform(Reviews).toarray()#[:300]\n",
    "Reviews_test_vec = vectorizer.transform(Reviews_test).toarray()#[:300]"
   ]
  },
  {
   "cell_type": "markdown",
   "metadata": {},
   "source": [
    "#### 4. Cluster reviews with KMeans (two clusters) in training data"
   ]
  },
  {
   "cell_type": "code",
   "execution_count": 228,
   "metadata": {},
   "outputs": [
    {
     "data": {
      "text/plain": [
       "KMeans(algorithm='auto', copy_x=True, init='k-means++', max_iter=300,\n",
       "    n_clusters=2, n_init=10, n_jobs=None, precompute_distances='auto',\n",
       "    random_state=None, tol=0.0001, verbose=0)"
      ]
     },
     "execution_count": 228,
     "metadata": {},
     "output_type": "execute_result"
    }
   ],
   "source": [
    "from sklearn.cluster import KMeans\n",
    "km_clf = KMeans(verbose = 0,n_clusters = 2)\n",
    "km_clf.fit(Reviews_train_vec)"
   ]
  },
  {
   "cell_type": "markdown",
   "metadata": {},
   "source": [
    "##### Use this model to make predictions on training data, test data, all data respectively"
   ]
  },
  {
   "cell_type": "code",
   "execution_count": 229,
   "metadata": {},
   "outputs": [],
   "source": [
    "cluster_train = km_clf.predict(Reviews_train_vec)\n",
    "cluster_test = km_clf.predict(Reviews_test_vec)\n",
    "cluster = km_clf.predict(Reviews_vec)"
   ]
  },
  {
   "cell_type": "markdown",
   "metadata": {},
   "source": [
    "#### 5. Inspect the centroids\n",
    "Available to find centroids of the clusters is a good point of KMeans alogorithm. By inspecting the centroids, we can find the key points of each cluster. Here, the centroids are simply a bunch of vectors corresponding reviews' topic keywords. These vectors could be regarded as average review."
   ]
  },
  {
   "cell_type": "code",
   "execution_count": 230,
   "metadata": {},
   "outputs": [
    {
     "data": {
      "text/plain": [
       "array([[-6.50521303e-19,  0.00000000e+00,  3.70386544e-03, ...,\n",
       "         3.86245330e-03,  1.38112500e-03,  2.30667030e-03],\n",
       "       [ 8.05673056e-04,  0.00000000e+00,  9.24211355e-03, ...,\n",
       "        -2.16840434e-19,  1.30104261e-18,  2.38524478e-18]])"
      ]
     },
     "execution_count": 230,
     "metadata": {},
     "output_type": "execute_result"
    }
   ],
   "source": [
    "km_clf.cluster_centers_"
   ]
  },
  {
   "cell_type": "markdown",
   "metadata": {},
   "source": [
    "#### 6. Map the centroids to words and present the top 20 features for each cluster.\n",
    "Mapping centroids vectors back into 'word space' to make any sense of these numbers. These words would be the most representative of a cluster. Then print out top 20 keywords in each cluster."
   ]
  },
  {
   "cell_type": "code",
   "execution_count": 231,
   "metadata": {},
   "outputs": [
    {
     "name": "stdout",
     "output_type": "stream",
     "text": [
      "Cluster 0 : good, place, pork, service, chicken, ramen, food, just, restaurant, ordered, bad, like, delicious, rice, soup, taste, don, shrimp, ve, dessert\n",
      "Cluster 1 : food, great, place, good, delicious, service, really, just, amazing, nice, like, drinks, time, went, atmosphere, best, definitely, friendly, little, staff\n"
     ]
    }
   ],
   "source": [
    "cluster_top_features = list()\n",
    "# Sort each centroid vector to find the top 20 features\n",
    "for i in range(km_clf.n_clusters):\n",
    "    cluster_top_features.append(np.argsort(km_clf.cluster_centers_[i])[::-1][:20])\n",
    "# Map vector back to words and print out\n",
    "for num, centroid in enumerate(cluster_top_features):\n",
    "    print ('Cluster',num,':',(\", \".join(words[i] for i in centroid)))"
   ]
  },
  {
   "cell_type": "markdown",
   "metadata": {},
   "source": [
    "It seems that two clusters are both for positive reviews. This is quite strange. Then randomly to find samples from both 2 clusters with rating scores and reviews to get a sense of the cluster."
   ]
  },
  {
   "cell_type": "code",
   "execution_count": 232,
   "metadata": {},
   "outputs": [
    {
     "name": "stdout",
     "output_type": "stream",
     "text": [
      "The cluster is 1.\n",
      "The star is: 4 stars.\n",
      "The review is:\n",
      "Friendly service. Convenient location. Good menu choices. Like it that they buried the sauce within your ride so that the sizzling pan won't dry it up.  The place is small, and with the many sizzling plates, the ventilation is poor. Don't like coming out smelling like food..\n",
      "\n",
      "The cluster is 2.\n",
      "The star is: 5 stars.\n",
      "The review is:\n",
      "Great options in the menu!  Tough choices.  There are a variety of flavours to suit any mood.  We will be back.  Service was very friendly and had great recommendations..\n",
      "\n"
     ]
    }
   ],
   "source": [
    "for i in range(km_clf.n_clusters):\n",
    "    sub_cluster = np.arange(0, cluster_train.shape[0])[ cluster_train == i]\n",
    "    sample = np.random.choice(sub_cluster, 1)\n",
    "    print(\"The cluster is %d.\" % (i+1))\n",
    "    print(\"The star is: %s stars.\" % df['stars'].iloc[sample[0]])\n",
    "    print(\"The review is:\\n%s.\\n\" % df['text'].iloc[sample[0]])"
   ]
  },
  {
   "cell_type": "code",
   "execution_count": 166,
   "metadata": {},
   "outputs": [],
   "source": [
    "df111 = pd.read_csv('output.csv')\n",
    "\n"
   ]
  },
  {
   "cell_type": "code",
   "execution_count": 167,
   "metadata": {},
   "outputs": [
    {
     "data": {
      "text/html": [
       "<div>\n",
       "<style scoped>\n",
       "    .dataframe tbody tr th:only-of-type {\n",
       "        vertical-align: middle;\n",
       "    }\n",
       "\n",
       "    .dataframe tbody tr th {\n",
       "        vertical-align: top;\n",
       "    }\n",
       "\n",
       "    .dataframe thead th {\n",
       "        text-align: right;\n",
       "    }\n",
       "</style>\n",
       "<table border=\"1\" class=\"dataframe\">\n",
       "  <thead>\n",
       "    <tr style=\"text-align: right;\">\n",
       "      <th></th>\n",
       "      <th>business_id</th>\n",
       "      <th>name</th>\n",
       "      <th>categories</th>\n",
       "      <th>avg_stars</th>\n",
       "      <th>cool</th>\n",
       "      <th>date</th>\n",
       "      <th>funny</th>\n",
       "      <th>review_id</th>\n",
       "      <th>stars</th>\n",
       "      <th>text</th>\n",
       "      <th>useful</th>\n",
       "      <th>user_id</th>\n",
       "      <th>cluster</th>\n",
       "    </tr>\n",
       "  </thead>\n",
       "  <tbody>\n",
       "    <tr>\n",
       "      <th>0</th>\n",
       "      <td>business_id</td>\n",
       "      <td>name</td>\n",
       "      <td>categories</td>\n",
       "      <td>avg_stars</td>\n",
       "      <td>cool</td>\n",
       "      <td>date</td>\n",
       "      <td>funny</td>\n",
       "      <td>review_id</td>\n",
       "      <td>stars</td>\n",
       "      <td>text</td>\n",
       "      <td>useful</td>\n",
       "      <td>user_id</td>\n",
       "      <td>cluster</td>\n",
       "    </tr>\n",
       "    <tr>\n",
       "      <th>1</th>\n",
       "      <td>business_id</td>\n",
       "      <td>name</td>\n",
       "      <td>categories</td>\n",
       "      <td>avg_stars</td>\n",
       "      <td>cool</td>\n",
       "      <td>date</td>\n",
       "      <td>funny</td>\n",
       "      <td>review_id</td>\n",
       "      <td>stars</td>\n",
       "      <td>text</td>\n",
       "      <td>useful</td>\n",
       "      <td>user_id</td>\n",
       "      <td>cluster</td>\n",
       "    </tr>\n",
       "    <tr>\n",
       "      <th>2</th>\n",
       "      <td>business_id</td>\n",
       "      <td>name</td>\n",
       "      <td>categories</td>\n",
       "      <td>avg_stars</td>\n",
       "      <td>cool</td>\n",
       "      <td>date</td>\n",
       "      <td>funny</td>\n",
       "      <td>review_id</td>\n",
       "      <td>stars</td>\n",
       "      <td>text</td>\n",
       "      <td>useful</td>\n",
       "      <td>user_id</td>\n",
       "      <td>cluster</td>\n",
       "    </tr>\n",
       "    <tr>\n",
       "      <th>3</th>\n",
       "      <td>business_id</td>\n",
       "      <td>name</td>\n",
       "      <td>categories</td>\n",
       "      <td>avg_stars</td>\n",
       "      <td>cool</td>\n",
       "      <td>date</td>\n",
       "      <td>funny</td>\n",
       "      <td>review_id</td>\n",
       "      <td>stars</td>\n",
       "      <td>text</td>\n",
       "      <td>useful</td>\n",
       "      <td>user_id</td>\n",
       "      <td>cluster</td>\n",
       "    </tr>\n",
       "    <tr>\n",
       "      <th>4</th>\n",
       "      <td>business_id</td>\n",
       "      <td>name</td>\n",
       "      <td>categories</td>\n",
       "      <td>avg_stars</td>\n",
       "      <td>cool</td>\n",
       "      <td>date</td>\n",
       "      <td>funny</td>\n",
       "      <td>review_id</td>\n",
       "      <td>stars</td>\n",
       "      <td>text</td>\n",
       "      <td>useful</td>\n",
       "      <td>user_id</td>\n",
       "      <td>cluster</td>\n",
       "    </tr>\n",
       "  </tbody>\n",
       "</table>\n",
       "</div>"
      ],
      "text/plain": [
       "   business_id  name  categories  avg_stars  cool  date  funny  review_id  \\\n",
       "0  business_id  name  categories  avg_stars  cool  date  funny  review_id   \n",
       "1  business_id  name  categories  avg_stars  cool  date  funny  review_id   \n",
       "2  business_id  name  categories  avg_stars  cool  date  funny  review_id   \n",
       "3  business_id  name  categories  avg_stars  cool  date  funny  review_id   \n",
       "4  business_id  name  categories  avg_stars  cool  date  funny  review_id   \n",
       "\n",
       "   stars  text  useful  user_id  cluster  \n",
       "0  stars  text  useful  user_id  cluster  \n",
       "1  stars  text  useful  user_id  cluster  \n",
       "2  stars  text  useful  user_id  cluster  \n",
       "3  stars  text  useful  user_id  cluster  \n",
       "4  stars  text  useful  user_id  cluster  "
      ]
     },
     "execution_count": 167,
     "metadata": {},
     "output_type": "execute_result"
    }
   ],
   "source": [
    "df111.head(5)"
   ]
  },
  {
   "cell_type": "code",
   "execution_count": 146,
   "metadata": {},
   "outputs": [],
   "source": [
    "pd.DataFrame(final).to_csv('final.csv')"
   ]
  },
  {
   "cell_type": "code",
   "execution_count": 233,
   "metadata": {},
   "outputs": [
    {
     "name": "stdout",
     "output_type": "stream",
     "text": [
      "The correlation coefficient between number of reviews and average rating is -0.199299.\n"
     ]
    }
   ],
   "source": [
    "clu_num=[]\n",
    "pop=[]\n",
    "for j in range(1000):\n",
    "    for i in range(km_clf.n_clusters):\n",
    "        sub_cluster = np.arange(0, cluster.shape[0])[cluster == i]\n",
    "        sample = np.random.choice(sub_cluster, 1)\n",
    "        clu_num.append(i+1)\n",
    "        res=df['business_id'].iloc[sample[0]]\n",
    "        pop.append((df['business_id']==res).value_counts())\n",
    "pp=[]\n",
    "for i in pop:\n",
    "    pp.append(i[1])\n",
    "from scipy.stats.stats import pearsonr \n",
    "print('The correlation coefficient between number of reviews and average rating is %f.' \\\n",
    "      % (pearsonr(clu_num, pp)[0]))"
   ]
  },
  {
   "cell_type": "markdown",
   "metadata": {},
   "source": [
    "As what i thought before, this cluster performs bad even in the training data."
   ]
  },
  {
   "cell_type": "markdown",
   "metadata": {},
   "source": [
    "#### 7. Try 3 clusters"
   ]
  },
  {
   "cell_type": "code",
   "execution_count": 234,
   "metadata": {},
   "outputs": [
    {
     "data": {
      "text/plain": [
       "KMeans(algorithm='auto', copy_x=True, init='k-means++', max_iter=300,\n",
       "    n_clusters=3, n_init=10, n_jobs=None, precompute_distances='auto',\n",
       "    random_state=None, tol=0.0001, verbose=0)"
      ]
     },
     "execution_count": 234,
     "metadata": {},
     "output_type": "execute_result"
    }
   ],
   "source": [
    "# same as 2 clusters used before\n",
    "km_3_clusters = KMeans(verbose = 0, n_clusters = 3)\n",
    "km_3_clusters.fit(Reviews_train_vec)"
   ]
  },
  {
   "cell_type": "code",
   "execution_count": 235,
   "metadata": {},
   "outputs": [],
   "source": [
    "cluster_train_3 = km_3_clusters.predict(Reviews_train_vec)\n",
    "cluster_test_3 = km_3_clusters.predict(Reviews_test_vec)\n",
    "cluster_3 = km_3_clusters.predict(Reviews_vec)"
   ]
  },
  {
   "cell_type": "code",
   "execution_count": 237,
   "metadata": {},
   "outputs": [
    {
     "name": "stdout",
     "output_type": "stream",
     "text": [
      "1: service,food,good,like,great,place,pizza,time,delicious,just,don,definitely,experience,best,wait,et,rude,ve,came,worth\n",
      "2: food,great,atmosphere,drinks,place,nice,love,staff,delicious,amazing,went,service,good,recommend,loved,feel,really,patio,little,couple\n",
      "3: chicken,good,rice,pork,delicious,just,really,food,spicy,ordered,ramen,place,fish,soup,ve,taste,order,time,friendly,pretty\n"
     ]
    }
   ],
   "source": [
    "cluster_top_features = list()\n",
    "for i in range(km_3_clusters.n_clusters):\n",
    "    cluster_top_features.append(np.argsort(km_3_clusters.cluster_centers_[i])[::-1][:20])\n",
    "for num, centroid in enumerate(cluster_top_features):\n",
    "    print ('%d: %s' % (num+1, \",\".join(words[i] for i in centroid)))"
   ]
  },
  {
   "cell_type": "markdown",
   "metadata": {},
   "source": [
    "It seems that three clusters can get the positive, negative and in-between types."
   ]
  },
  {
   "cell_type": "markdown",
   "metadata": {},
   "source": [
    "Randomly to find samples from 3 clusters with rating scores and reviews to get a sense."
   ]
  },
  {
   "cell_type": "code",
   "execution_count": 238,
   "metadata": {},
   "outputs": [
    {
     "name": "stdout",
     "output_type": "stream",
     "text": [
      "The cluster is 1.\n",
      "The star is: 5 stars.\n",
      "The review is:\n",
      "Fantastic spot for lunch with great value for your money.   I was attending meetings at the building next door and went out to grab a bite with a colleague.  There isn't much around so this was chosen out of convenience but am I glad I did!  I only work a few blocks over and will definitely be back now that I have been introduced to this gem.  First of the staff are fantastic.  Super friendly, keep the orders moving and offer suggestions if you are stuck for what to chose.  There is a nice selection of drinks including mexica sodas (cane sugar) which is a thing for me.  I had quesadilla with the tinga chicken which had a bit of heat but not too much, just a nice kick.  The tortilla was fresh and they put the right amount of cheese, not too much, not greasy, just right.  Fresh lettuce, tomato, jalapenos are an option just not for me.  The portion size was probably a bit big for me for lunch but I couldn't help myself and finished the whole thing.  Honestly I could have taken 1/2 home for later which is why I say good value for the price.  The quality ingredients and the portion size are definitely worth the price.  Do know that it is busy at lunch but don't be intimidated by the line, it moves fast!.\n",
      "\n",
      "The cluster is 2.\n",
      "The star is: 3 stars.\n",
      "The review is:\n",
      "I like the concept of this restaurant but both times I have been here I have been disappointed. The lighting in the restaurant is awful- I guess that's the ambiance they're going for but it's extremely dark. The service is just average. \n",
      "\n",
      "The problem was that the last time I was there they couldn't accommodate for my allergies. I'm allergic to nuts and sesame and every single one of their sauces contained nuts/ sesame. So I had to have plain noodles and veggies...which wasn't exactly satisfying..\n",
      "\n",
      "The cluster is 3.\n",
      "The star is: 5 stars.\n",
      "The review is:\n",
      "A little hole in the wall for some really delicious Mexican street food! If I'm to busy to cook or craving a burrito or quesadilla, this is the spot I come to. The chicken tinga thats made here is out of this world! Enjoy it whatever option you'd like, trust me you'll be coming back for more. On top of that, the guacamole and pico is made from scratch and it's unlike anything I've found in the city. They'll even make some for you if you need it for a party (like Cinco de Mayo!). And to finish off a delicious meal, you can grab the tres leches cake. Super moist and full of flavor, can't go wrong with it..\n",
      "\n"
     ]
    }
   ],
   "source": [
    "for i in range(km_3_clusters.n_clusters):\n",
    "    sub_cluster = np.arange(0, cluster_train_3.shape[0])[cluster_train_3 == i]\n",
    "    sample = np.random.choice(sub_cluster, 1)\n",
    "    print(\"The cluster is %d.\" % (i+1))\n",
    "    print(\"The star is: %s stars.\" % df['stars'].iloc[sample[0]])\n",
    "    print(\"The review is:\\n%s.\\n\" % df['text'].iloc[sample[0]])"
   ]
  },
  {
   "cell_type": "markdown",
   "metadata": {},
   "source": [
    "It seems much better than 2 clusters. Then to test the model in test data and entire dataset."
   ]
  },
  {
   "cell_type": "code",
   "execution_count": 239,
   "metadata": {},
   "outputs": [
    {
     "name": "stdout",
     "output_type": "stream",
     "text": [
      "The cluster is 1.\n",
      "The star is: 3 stars.\n",
      "The review is:\n",
      "We waited for more than 30 mins being the second table to order at dinner time. \n",
      "The space is very small and tight.\n",
      "The portion of an entrée is small for what we paid. \n",
      "Food is nothing than ordinary with a distintive  presentation on a sizzling plate..\n",
      "\n",
      "The cluster is 2.\n",
      "The star is: 1 stars.\n",
      "The review is:\n",
      "Each time I come to this TH, there are consistent errors with my order. Today will be the last time I come to this location.  I ask for an english muffin breakfast sandwich to be toasted, it arrives cold and stale. I returned the sandwich to the counter for a properly toasted sandwich, the staff only toasts one slice of the sandwich. I tell them that is unacceptable as now i have one toasted side and one stale and cold side. Their solution is to microwave the entire sandwich. Seriously??  The amount of time spent trying to get a toasted sandwich was rather assinine. This happens all too often here. Save yourself the trouble and visit the TH on Hwy7 and Markham Rd..\n",
      "\n",
      "The cluster is 3.\n",
      "The star is: 4 stars.\n",
      "The review is:\n",
      "We walked here from downtown and it was as good as advertised. Huge portions of freshly made chicken (I got mine spicy), fries, and a side salad. No one I was with finished their container of food even though we walked in hungry. Delicious!.\n",
      "\n"
     ]
    }
   ],
   "source": [
    "#in test data\n",
    "for i in range(km_3_clusters.n_clusters):\n",
    "    sub_cluster = np.arange(0, cluster_test_3.shape[0])[cluster_test_3 == i]\n",
    "    \n",
    "    sample = np.random.choice(sub_cluster, 1)\n",
    "    print(\"The cluster is %d.\" % (i+1))\n",
    "    print(\"The star is: %s stars.\" % df['stars'].iloc[sample[0]])\n",
    "    print(\"The review is:\\n%s.\\n\" % df['text'].iloc[sample[0]])"
   ]
  },
  {
   "cell_type": "code",
   "execution_count": 240,
   "metadata": {},
   "outputs": [
    {
     "name": "stdout",
     "output_type": "stream",
     "text": [
      "The cluster is 1.\n",
      "The star is: 4 stars.\n",
      "The review is:\n",
      "4.5 Stars. First off, I am super picky with pho. The dish itself is pretty simple, so I believe it should be done right. The broth here was definitely up to standard! The portions were good, as well as the price. \n",
      "\n",
      "The service was pleasant as well, tea was brought right away and everything was done in a timely manner. I was super impressed by the cleanliness of this restaurant (though I know it's pretty new, so I guess this part may take some time to gauge properly). \n",
      "\n",
      "It's nice to see some Vietnamese cuisine in the Mahogany plaza since it's mostly Western food! I'll definitely be back and hope they don't change their prices/portions. They also had a few big tables (seats probably 8-10) for larger parties! There is plenty of parking in the plaza..\n",
      "\n",
      "The cluster is 2.\n",
      "The star is: 5 stars.\n",
      "The review is:\n",
      "A Montreal staple, Romados serves up some damn good Portuguese chicken along with other bar b q specialties. The fries doused in herbs and spices give the meal a nice side piece. \n",
      "\n",
      "Romados doubles up as a bakery serving fresh baked breads and pastries for ya sweet tooth. Finish off the meal with a refreshing drink that you can't find at your local grocery store.\n",
      "\n",
      "Spacing is limited during busy hours but take out makes for a nice little picnic at the park down the street (Mont-royal and Parc Jeanne-Mance to the west and Parc Lafontaine to the east)..\n",
      "\n",
      "The cluster is 3.\n",
      "The star is: 3 stars.\n",
      "The review is:\n",
      "Been meaning to return to this place. Actually, my first time doesn't really count because I was in a rush and got the sandwiches without the hot sauce. Big no-no. Anyways, happened to be strolling around the neighborhood and decided to give Romados a solid try.\n",
      "\n",
      "I arrived at a good time (hardly any line) and got my order in relatively quickly (a chicken leg combo with fries and salad, WITH hot sauce). After the grumpy guy behind the counter gave me my food, I paid, and vultured around for a table to eat. Luckily, I found a nice little window table and set up shop. Let's see what this place is all about.\n",
      "\n",
      "The chicken was nice and juicy, but sadly, the sauce wasn't to my liking. Seemed a little more on the grease side as opposed to the sauce side. It wasn't horrible, but not what I was hoping for. I tried, but I just didn't taste a whole lot of spice. The fries and salad were solid. \n",
      "\n",
      "Would I return here? I suppose if I was in the area, but it isn't a spot I'd go out of my way to visit..\n",
      "\n"
     ]
    }
   ],
   "source": [
    "# in entire dataset\n",
    "c_n=[]\n",
    "star=[]\n",
    "con=[]\n",
    "sub=[]\n",
    "for i in range(km_3_clusters.n_clusters):\n",
    "    sub_cluster = np.arange(0, cluster_3.shape[0])[cluster_3 == i]\n",
    "    sample = np.random.choice(sub_cluster, 1)\n",
    "    sub.append(sample)\n",
    "    print(\"The cluster is %d.\" % (i+1))\n",
    "    print(\"The star is: %s stars.\" % df['stars'].iloc[sample[0]])\n",
    "    print(\"The review is:\\n%s.\\n\" % df['text'].iloc[sample[0]])\n",
    "\n",
    "    "
   ]
  },
  {
   "cell_type": "markdown",
   "metadata": {},
   "source": [
    "much better to associate reviews with cluster than past rating system!"
   ]
  },
  {
   "cell_type": "code",
   "execution_count": 242,
   "metadata": {},
   "outputs": [],
   "source": [
    "content=[]\n",
    "cluster_num=[]\n",
    "for i in range(km_3_clusters.n_clusters):\n",
    "    sub_cluster = np.arange(0, cluster_3.shape[0])[ cluster_3 == i]\n",
    "    for j in sub_cluster:\n",
    "        content.append(pd.DataFrame(df.iloc[j]))\n",
    "        cluster_num.append(i+1)\n",
    "        \n",
    " "
   ]
  },
  {
   "cell_type": "code",
   "execution_count": 262,
   "metadata": {},
   "outputs": [],
   "source": [
    "final=[]\n",
    "\n",
    "for i in range(len(content)):\n",
    "    new1=content[i].T\n",
    "    new1['cluster']=cluster_num[i]\n",
    "    final.append(new1)"
   ]
  },
  {
   "cell_type": "code",
   "execution_count": 265,
   "metadata": {},
   "outputs": [],
   "source": [
    "a=final[1].append(final[2])"
   ]
  },
  {
   "cell_type": "code",
   "execution_count": 264,
   "metadata": {},
   "outputs": [
    {
     "data": {
      "text/html": [
       "<div>\n",
       "<style scoped>\n",
       "    .dataframe tbody tr th:only-of-type {\n",
       "        vertical-align: middle;\n",
       "    }\n",
       "\n",
       "    .dataframe tbody tr th {\n",
       "        vertical-align: top;\n",
       "    }\n",
       "\n",
       "    .dataframe thead th {\n",
       "        text-align: right;\n",
       "    }\n",
       "</style>\n",
       "<table border=\"1\" class=\"dataframe\">\n",
       "  <thead>\n",
       "    <tr style=\"text-align: right;\">\n",
       "      <th></th>\n",
       "      <th>business_id</th>\n",
       "      <th>name</th>\n",
       "      <th>categories</th>\n",
       "      <th>avg_stars</th>\n",
       "      <th>cool</th>\n",
       "      <th>date</th>\n",
       "      <th>funny</th>\n",
       "      <th>review_id</th>\n",
       "      <th>stars</th>\n",
       "      <th>text</th>\n",
       "      <th>useful</th>\n",
       "      <th>user_id</th>\n",
       "      <th>cluster</th>\n",
       "    </tr>\n",
       "  </thead>\n",
       "  <tbody>\n",
       "    <tr>\n",
       "      <th>3</th>\n",
       "      <td>--1UhMGODdWsrMastO9DZw</td>\n",
       "      <td>The Spicy Amigos</td>\n",
       "      <td>Restaurants, Mexican</td>\n",
       "      <td>4</td>\n",
       "      <td>0</td>\n",
       "      <td>2017-08-09</td>\n",
       "      <td>0</td>\n",
       "      <td>oKm8UTv-QSC0oCbniqwxjg</td>\n",
       "      <td>4</td>\n",
       "      <td>Tasty, authentic Mexican street food that give...</td>\n",
       "      <td>0</td>\n",
       "      <td>NoQCmYKyMPs4D01Wa6dZew</td>\n",
       "      <td>1</td>\n",
       "    </tr>\n",
       "  </tbody>\n",
       "</table>\n",
       "</div>"
      ],
      "text/plain": [
       "              business_id              name            categories avg_stars  \\\n",
       "3  --1UhMGODdWsrMastO9DZw  The Spicy Amigos  Restaurants, Mexican         4   \n",
       "\n",
       "  cool        date funny               review_id stars  \\\n",
       "3    0  2017-08-09     0  oKm8UTv-QSC0oCbniqwxjg     4   \n",
       "\n",
       "                                                text useful  \\\n",
       "3  Tasty, authentic Mexican street food that give...      0   \n",
       "\n",
       "                  user_id  cluster  \n",
       "3  NoQCmYKyMPs4D01Wa6dZew        1  "
      ]
     },
     "execution_count": 264,
     "metadata": {},
     "output_type": "execute_result"
    }
   ],
   "source": [
    "final[1]"
   ]
  },
  {
   "cell_type": "code",
   "execution_count": 272,
   "metadata": {},
   "outputs": [
    {
     "data": {
      "text/html": [
       "<div>\n",
       "<style scoped>\n",
       "    .dataframe tbody tr th:only-of-type {\n",
       "        vertical-align: middle;\n",
       "    }\n",
       "\n",
       "    .dataframe tbody tr th {\n",
       "        vertical-align: top;\n",
       "    }\n",
       "\n",
       "    .dataframe thead th {\n",
       "        text-align: right;\n",
       "    }\n",
       "</style>\n",
       "<table border=\"1\" class=\"dataframe\">\n",
       "  <thead>\n",
       "    <tr style=\"text-align: right;\">\n",
       "      <th></th>\n",
       "      <th>business_id</th>\n",
       "      <th>name</th>\n",
       "      <th>categories</th>\n",
       "      <th>avg_stars</th>\n",
       "      <th>cool</th>\n",
       "      <th>date</th>\n",
       "      <th>funny</th>\n",
       "      <th>review_id</th>\n",
       "      <th>stars</th>\n",
       "      <th>text</th>\n",
       "      <th>useful</th>\n",
       "      <th>user_id</th>\n",
       "      <th>cluster</th>\n",
       "    </tr>\n",
       "  </thead>\n",
       "  <tbody>\n",
       "    <tr>\n",
       "      <th>3</th>\n",
       "      <td>--1UhMGODdWsrMastO9DZw</td>\n",
       "      <td>The Spicy Amigos</td>\n",
       "      <td>Restaurants, Mexican</td>\n",
       "      <td>4</td>\n",
       "      <td>0</td>\n",
       "      <td>2017-08-09</td>\n",
       "      <td>0</td>\n",
       "      <td>oKm8UTv-QSC0oCbniqwxjg</td>\n",
       "      <td>4</td>\n",
       "      <td>Tasty, authentic Mexican street food that give...</td>\n",
       "      <td>0</td>\n",
       "      <td>NoQCmYKyMPs4D01Wa6dZew</td>\n",
       "      <td>1</td>\n",
       "    </tr>\n",
       "    <tr>\n",
       "      <th>6</th>\n",
       "      <td>--1UhMGODdWsrMastO9DZw</td>\n",
       "      <td>The Spicy Amigos</td>\n",
       "      <td>Restaurants, Mexican</td>\n",
       "      <td>4</td>\n",
       "      <td>0</td>\n",
       "      <td>2018-01-11</td>\n",
       "      <td>0</td>\n",
       "      <td>hhVr1uH7XaRlbIHI8dYvbA</td>\n",
       "      <td>5</td>\n",
       "      <td>Glad these guys moved in on the block! It's qu...</td>\n",
       "      <td>0</td>\n",
       "      <td>FYhU1fKQ7n11WQ7gcFYOag</td>\n",
       "      <td>1</td>\n",
       "    </tr>\n",
       "  </tbody>\n",
       "</table>\n",
       "</div>"
      ],
      "text/plain": [
       "              business_id              name            categories avg_stars  \\\n",
       "3  --1UhMGODdWsrMastO9DZw  The Spicy Amigos  Restaurants, Mexican         4   \n",
       "6  --1UhMGODdWsrMastO9DZw  The Spicy Amigos  Restaurants, Mexican         4   \n",
       "\n",
       "  cool        date funny               review_id stars  \\\n",
       "3    0  2017-08-09     0  oKm8UTv-QSC0oCbniqwxjg     4   \n",
       "6    0  2018-01-11     0  hhVr1uH7XaRlbIHI8dYvbA     5   \n",
       "\n",
       "                                                text useful  \\\n",
       "3  Tasty, authentic Mexican street food that give...      0   \n",
       "6  Glad these guys moved in on the block! It's qu...      0   \n",
       "\n",
       "                  user_id  cluster  \n",
       "3  NoQCmYKyMPs4D01Wa6dZew        1  \n",
       "6  FYhU1fKQ7n11WQ7gcFYOag        1  "
      ]
     },
     "execution_count": 272,
     "metadata": {},
     "output_type": "execute_result"
    }
   ],
   "source": [
    "final[1].append(final[2])"
   ]
  },
  {
   "cell_type": "code",
   "execution_count": 275,
   "metadata": {},
   "outputs": [
    {
     "data": {
      "text/plain": [
       "pandas.core.frame.DataFrame"
      ]
     },
     "execution_count": 275,
     "metadata": {},
     "output_type": "execute_result"
    }
   ],
   "source": [
    "type(final[1])"
   ]
  },
  {
   "cell_type": "code",
   "execution_count": 276,
   "metadata": {},
   "outputs": [
    {
     "data": {
      "text/plain": [
       "list"
      ]
     },
     "execution_count": 276,
     "metadata": {},
     "output_type": "execute_result"
    }
   ],
   "source": [
    "type(final)"
   ]
  },
  {
   "cell_type": "code",
   "execution_count": 165,
   "metadata": {},
   "outputs": [],
   "source": [
    "import csv\n",
    "with open(\"output.csv\",'w') as f:\n",
    "    wr = csv.writer(f, dialect='excel')\n",
    "    for i in final:\n",
    "        wr.writerow(i[])\n",
    "f.close()"
   ]
  }
 ],
 "metadata": {
  "anaconda-cloud": {},
  "kernelspec": {
   "display_name": "Python 3",
   "language": "python",
   "name": "python3"
  },
  "language_info": {
   "codemirror_mode": {
    "name": "ipython",
    "version": 3
   },
   "file_extension": ".py",
   "mimetype": "text/x-python",
   "name": "python",
   "nbconvert_exporter": "python",
   "pygments_lexer": "ipython3",
   "version": "3.6.7"
  }
 },
 "nbformat": 4,
 "nbformat_minor": 1
}
