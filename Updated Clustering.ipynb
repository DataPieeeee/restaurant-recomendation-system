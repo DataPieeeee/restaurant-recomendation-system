{
 "cells": [
  {
   "cell_type": "markdown",
   "metadata": {},
   "source": [
    "# Clustering Analysis\n",
    "\n",
    "- According to the previous analysis, rating score is not completely reasonable. For example, reviews from the 4-5 stars cases are very similar and same circumstance also happens in 1-2 stars cases. Therefore, we can infer that one user rating a restaurant 4 satrs or 5 stars both means this user really recommend it.\n",
    "- In this part, I am going to replace the existing rating system with a two-degree system and a three-degree system respectively to see which clustering analysis has a better performance. In a two-dgree system, all the reviews are corresponding 2 degrees, like and dislike, whereas in a three-dgree system, reviews are connected to 3 degrees, most like, average like and dislike. The clutsering method used here is K-means. And it turns out that three clusters has better performance than two clusters.\n"
   ]
  },
  {
   "cell_type": "code",
   "execution_count": 123,
   "metadata": {},
   "outputs": [],
   "source": [
    "import pandas as pd\n",
    "import numpy as np\n",
    "import matplotlib.pyplot as plt\n",
    "%matplotlib inline\n",
    "plt.style.use(\"ggplot\")"
   ]
  },
  {
   "cell_type": "code",
   "execution_count": 124,
   "metadata": {},
   "outputs": [
    {
     "data": {
      "text/html": [
       "<div>\n",
       "<style scoped>\n",
       "    .dataframe tbody tr th:only-of-type {\n",
       "        vertical-align: middle;\n",
       "    }\n",
       "\n",
       "    .dataframe tbody tr th {\n",
       "        vertical-align: top;\n",
       "    }\n",
       "\n",
       "    .dataframe thead th {\n",
       "        text-align: right;\n",
       "    }\n",
       "</style>\n",
       "<table border=\"1\" class=\"dataframe\">\n",
       "  <thead>\n",
       "    <tr style=\"text-align: right;\">\n",
       "      <th></th>\n",
       "      <th>business_id</th>\n",
       "      <th>name</th>\n",
       "      <th>categories</th>\n",
       "      <th>avg_stars</th>\n",
       "      <th>cool</th>\n",
       "      <th>date</th>\n",
       "      <th>funny</th>\n",
       "      <th>review_id</th>\n",
       "      <th>stars</th>\n",
       "      <th>text</th>\n",
       "      <th>useful</th>\n",
       "      <th>user_id</th>\n",
       "    </tr>\n",
       "  </thead>\n",
       "  <tbody>\n",
       "    <tr>\n",
       "      <th>2</th>\n",
       "      <td>--1UhMGODdWsrMastO9DZw</td>\n",
       "      <td>The Spicy Amigos</td>\n",
       "      <td>Restaurants, Mexican</td>\n",
       "      <td>4.0</td>\n",
       "      <td>0</td>\n",
       "      <td>2017-12-12</td>\n",
       "      <td>0</td>\n",
       "      <td>e1HiHHD7CzY5NKZG7hvhTw</td>\n",
       "      <td>5</td>\n",
       "      <td>Absolutely delicious! And great service as wel...</td>\n",
       "      <td>0</td>\n",
       "      <td>Sew1Nht6Q0sGTIZeNvRfLw</td>\n",
       "    </tr>\n",
       "    <tr>\n",
       "      <th>3</th>\n",
       "      <td>--1UhMGODdWsrMastO9DZw</td>\n",
       "      <td>The Spicy Amigos</td>\n",
       "      <td>Restaurants, Mexican</td>\n",
       "      <td>4.0</td>\n",
       "      <td>0</td>\n",
       "      <td>2017-08-09</td>\n",
       "      <td>0</td>\n",
       "      <td>oKm8UTv-QSC0oCbniqwxjg</td>\n",
       "      <td>4</td>\n",
       "      <td>Tasty, authentic Mexican street food that give...</td>\n",
       "      <td>0</td>\n",
       "      <td>NoQCmYKyMPs4D01Wa6dZew</td>\n",
       "    </tr>\n",
       "  </tbody>\n",
       "</table>\n",
       "</div>"
      ],
      "text/plain": [
       "              business_id              name            categories  avg_stars  \\\n",
       "2  --1UhMGODdWsrMastO9DZw  The Spicy Amigos  Restaurants, Mexican        4.0   \n",
       "3  --1UhMGODdWsrMastO9DZw  The Spicy Amigos  Restaurants, Mexican        4.0   \n",
       "\n",
       "   cool        date  funny               review_id  stars  \\\n",
       "2     0  2017-12-12      0  e1HiHHD7CzY5NKZG7hvhTw      5   \n",
       "3     0  2017-08-09      0  oKm8UTv-QSC0oCbniqwxjg      4   \n",
       "\n",
       "                                                text  useful  \\\n",
       "2  Absolutely delicious! And great service as wel...       0   \n",
       "3  Tasty, authentic Mexican street food that give...       0   \n",
       "\n",
       "                  user_id  \n",
       "2  Sew1Nht6Q0sGTIZeNvRfLw  \n",
       "3  NoQCmYKyMPs4D01Wa6dZew  "
      ]
     },
     "execution_count": 124,
     "metadata": {},
     "output_type": "execute_result"
    }
   ],
   "source": [
    "df = pd.read_csv('2017_restaurant_reviews.csv')\n",
    "df.head(2)"
   ]
  },
  {
   "cell_type": "markdown",
   "metadata": {},
   "source": [
    "# Cluster the review text data for all the restaurants"
   ]
  },
  {
   "cell_type": "markdown",
   "metadata": {},
   "source": [
    "#### 1. Create a new variable to contain all reviews"
   ]
  },
  {
   "cell_type": "code",
   "execution_count": 125,
   "metadata": {},
   "outputs": [],
   "source": [
    "Reviews = df['text']"
   ]
  },
  {
   "cell_type": "markdown",
   "metadata": {},
   "source": [
    "#### 2. Create training dataset and test dataset in 7:3"
   ]
  },
  {
   "cell_type": "code",
   "execution_count": 126,
   "metadata": {},
   "outputs": [],
   "source": [
    "from sklearn.model_selection import train_test_split\n",
    "Reviews_train, Reviews_test= train_test_split(Reviews, test_size=0.3)\n",
    "# The clsutering algorithms is slow so I will take samples to find optima number of clusters"
   ]
  },
  {
   "cell_type": "markdown",
   "metadata": {},
   "source": [
    "#### 3. NLP"
   ]
  },
  {
   "cell_type": "code",
   "execution_count": 127,
   "metadata": {},
   "outputs": [],
   "source": [
    "from sklearn.feature_extraction.text import TfidfVectorizer\n",
    "# Initialize a TfidfVectorizer object\n",
    "vectorizer = TfidfVectorizer(analyzer = 'word', stop_words = 'english', \n",
    "                             lowercase = True, max_features = 5000\n",
    "                            )\n",
    "# Train the model with training data\n",
    "# Transform the text training data into a bag of words\n",
    "Reviews_train_vec = vectorizer.fit_transform(Reviews_train).toarray()#[:300]\n",
    "# Get these words name\n",
    "words = vectorizer.get_feature_names()\n",
    "# Transform all the reviews\n",
    "Reviews_vec = vectorizer.transform(Reviews).toarray()#[:300]\n",
    "Reviews_test_vec = vectorizer.transform(Reviews_test).toarray()#[:300]"
   ]
  },
  {
   "cell_type": "code",
   "execution_count": 80,
   "metadata": {},
   "outputs": [
    {
     "data": {
      "text/plain": [
       "['accidentally',\n",
       " 'accommodate',\n",
       " 'accommodated',\n",
       " 'accommodating',\n",
       " 'accompanied',\n",
       " 'accompaniment',\n",
       " 'accompany',\n",
       " 'accompanying',\n",
       " 'according',\n",
       " 'accordingly']"
      ]
     },
     "execution_count": 80,
     "metadata": {},
     "output_type": "execute_result"
    }
   ],
   "source": [
    "words[90:100]"
   ]
  },
  {
   "cell_type": "markdown",
   "metadata": {},
   "source": [
    "#### 4. Cluster reviews with KMeans (two clusters) in training data"
   ]
  },
  {
   "cell_type": "code",
   "execution_count": 128,
   "metadata": {},
   "outputs": [
    {
     "data": {
      "text/plain": [
       "KMeans(algorithm='auto', copy_x=True, init='k-means++', max_iter=300,\n",
       "    n_clusters=2, n_init=10, n_jobs=None, precompute_distances='auto',\n",
       "    random_state=None, tol=0.0001, verbose=0)"
      ]
     },
     "execution_count": 128,
     "metadata": {},
     "output_type": "execute_result"
    }
   ],
   "source": [
    "from sklearn.cluster import KMeans\n",
    "km_clf = KMeans(verbose = 0,n_clusters = 2)\n",
    "km_clf.fit(Reviews_train_vec)"
   ]
  },
  {
   "cell_type": "markdown",
   "metadata": {},
   "source": [
    "##### Use this model to make predictions on training data, test data, all data respectively"
   ]
  },
  {
   "cell_type": "code",
   "execution_count": 129,
   "metadata": {},
   "outputs": [],
   "source": [
    "cluster_train = km_clf.predict(Reviews_train_vec)\n",
    "cluster_test = km_clf.predict(Reviews_test_vec)\n",
    "cluster = km_clf.predict(Reviews_vec)"
   ]
  },
  {
   "cell_type": "markdown",
   "metadata": {},
   "source": [
    "#### 5. Inspect the centroids\n",
    "Available to find centroids of the clusters is a good point of KMeans alogorithm. By inspecting the centroids, we can find the key points of each cluster. Here, the centroids are simply a bunch of vectors corresponding reviews' topic keywords. These vectors could be regarded as average review."
   ]
  },
  {
   "cell_type": "code",
   "execution_count": 130,
   "metadata": {},
   "outputs": [
    {
     "data": {
      "text/plain": [
       "array([[3.90312782e-18, 0.00000000e+00, 8.17484752e-03, ...,\n",
       "        1.51544771e-03, 0.00000000e+00, 0.00000000e+00],\n",
       "       [2.53495591e-03, 0.00000000e+00, 7.67806628e-03, ...,\n",
       "        1.30104261e-18, 0.00000000e+00, 0.00000000e+00]])"
      ]
     },
     "execution_count": 130,
     "metadata": {},
     "output_type": "execute_result"
    }
   ],
   "source": [
    "km_clf.cluster_centers_"
   ]
  },
  {
   "cell_type": "markdown",
   "metadata": {},
   "source": [
    "#### 6. Map the centroids to words and present the top 20 features for each cluster.\n",
    "Mapping centroids vectors back into 'word space' to make any sense of these numbers. These words would be the most representative of a cluster. Then print out top 20 keywords in each cluster."
   ]
  },
  {
   "cell_type": "code",
   "execution_count": 131,
   "metadata": {},
   "outputs": [
    {
     "name": "stdout",
     "output_type": "stream",
     "text": [
      "Cluster 0 : food, great, ramen, amazing, friendly, chicken, service, really, place, delicious, staff, nice, atmosphere, best, definitely, ll, spot, authentic, got, try\n",
      "Cluster 1 : place, good, food, service, just, like, pizza, order, got, time, great, restaurant, really, love, came, ordered, chicken, meat, come, try\n"
     ]
    }
   ],
   "source": [
    "cluster_top_features = list()\n",
    "# Sort each centroid vector to find the top 20 features\n",
    "for i in range(km_clf.n_clusters):\n",
    "    cluster_top_features.append(np.argsort(km_clf.cluster_centers_[i])[::-1][:20])\n",
    "# Map vector back to words and print out\n",
    "for num, centroid in enumerate(cluster_top_features):\n",
    "    print ('Cluster',num,':',(\", \".join(words[i] for i in centroid)))"
   ]
  },
  {
   "cell_type": "markdown",
   "metadata": {},
   "source": [
    "It seems that two clusters are both for positive reviews. This is quite strange. Then randomly to find samples from both 2 clusters with rating scores and reviews to get a sense of the cluster."
   ]
  },
  {
   "cell_type": "code",
   "execution_count": 133,
   "metadata": {},
   "outputs": [
    {
     "name": "stdout",
     "output_type": "stream",
     "text": [
      "The cluster is 1.\n",
      "The star is: 4 stars.\n",
      "The review is:\n",
      "Flaming Kitchen is located in First Markham Place and serves personal hotplate meals. The concept is from Pepper Lunch in Japan. Hot metal plates that are heated to 500 degrees Fahrenheit. raw meat with vegetables and/or rice are then placed on the plates, where they cook in front of the customer. The meat can be eaten rare or well done, depending on the customer's preference.\n",
      "\n",
      "The restaurant is located in the same location as Aka Teppan before and they have had a complete rebranding. The menu was revemped with lots more dessert additions, with over 15 pages of food ranging from snacks, hot plates, dessert, and bubble tea drinks. \n",
      "\n",
      "Appetizers\n",
      "We tried a variety of appetizers which are mostly fried. Flaming Kitchen is quite generous with the portion of their appetitizer so it is best to be shared among a few persons\n",
      "\n",
      "Curry Fries is made with Japanese curry served on a hotplate. We love Japanese curry and their sweet and spicy flavor, and it goes perfectly well with the fries.\n",
      "\n",
      "Tom Yum Shrimp  were lightly crisp and were really plump in texture. The tom yum sauce was flavourful but and gives a spicy kick.\n",
      "\n",
      "These two are must try for all cheese fans: Bite Sized Cheese and Cheese Rice Cake. Both are made with a lot of cheese and the melted cheese on the sizzling hot plate just taste so good\n",
      "\n",
      "Main\n",
      "Spicy Mentaiko Beef Udon is an interesting twist on Japanese udon. The udon texture was done perfectly with the right amount of cheesy sauce and a bit of spice from the mentaiko. It is also very satisfying to see the beef cooked on the hot plate right in front of you.\n",
      "\n",
      "Jumbo Scallop Spaghetti with Truffle Cream Sauce has a very rich sauce and also very strong truffle flavor. The scallop is really jumbo in size and blend in well with the spaghetti.\n",
      "\n",
      "In the revemped menu there are also lots of desserts and drinks. We tasted the Panna Cotta and Sizzling Marshmallow Waffle. The waffle was very cute since it is served on a small metal pan and definitely very Instagrammable.\n",
      "\n",
      "Overall we enjoyed Flaming Kitchen and would come back for more sizzling hot plates..\n",
      "\n",
      "The cluster is 2.\n",
      "The star is: 5 stars.\n",
      "The review is:\n",
      "I am a giant fan of tapas and Spanish food in general. One of my favourite places to eat in Spain was the Canary Islands. Las Canarias stay very true to those flavours.\n",
      "\n",
      "They have an awesome patio with different levels so everyone can watch the cation on 17th, and your not staring directly at your neighbor. Unfortunately it was raining when we went so inside we stayed. Liked that even when it got busier inside, it didn't get overly noisy which is a nice change.\n",
      "\n",
      "We went as a group of 4 hungry humans. We ordered 8 dishes to start and then added some more because it was all just too good. Below is a review of each dish.\n",
      "\n",
      "CHAMPIÑONES AL AJILLO - skillet filled with mushrooms done ina delightful garlic white wine sauce\n",
      "\n",
      "GAMBAS CON GABARDINA DE COCO - 5pc coconut shrimp with a orange ginger dip. One person refered to this dish as delightful. It was on special on Tues night and was so good we have a second plate.\n",
      "\n",
      "TORTILLA ESPAÑOLA CON ALI-OLI - lovely moist potato omelet. Ali oli sauce is tasty without being overpowering.\n",
      "\n",
      "CHORIZO A LA SIDRA - little pieces of chorizo braised in apple cider. Chorizo was sweeter than we expected but good size portion that dissapeared quick.\n",
      "\n",
      "PAPAS ARRUGADAS CON MOJO - salted baby potatoes with both mojo sauces. You can only get mojo sauce in the Canary Islands and was lovely to have again.\n",
      "\n",
      "MEJILLONES Y ALMEJAS - 1lb of mussles in white wine chilli cream sauce. Good portion size but the real winner was the sauce. It was so good we kepyt the sauce and got a ton more bread to soak it all up.\n",
      "\n",
      "CROQUETAS CASERAS - 3pc daily croquetas, was cod the day we went. Perfectly fried on the outside and soft and flavourful on the inside. Would love to try all the different ones they do.\n",
      "\n",
      "All 6 MONTADITOS - this is tapas on bread. Like that we had this plate last as we were full enough by this stage to cut each one into portions so we could try them all.\n",
      "- mackrel with horseradish cream\n",
      "- generous portion of serrano ham with stewed tomato base (SO GOOD!)\n",
      "- potato omlette \n",
      "- smoked oysters with fire roasted tomato sauce\n",
      "- chorizo pate with spicy mojo sauce\n",
      "- white anchovies with olive oil\n",
      "\n",
      "All in our bill was just over $100. Not bad for all the food we packed away.\n",
      "\n",
      "Overall the food was excellent, service was great and we were allowed to sit and relax and enjoy our meal together. I will absolutely be back to try the paellas and fideuas which I am sure will be incredibly tasty.\n",
      "\n",
      "This is sure to become my favourite tapas spot in the city..\n",
      "\n"
     ]
    }
   ],
   "source": [
    "for i in range(km_clf.n_clusters):\n",
    "    sub_cluster = np.arange(0, cluster_train.shape[0])[ cluster_train == i]\n",
    "    sample = np.random.choice(sub_cluster, 1)\n",
    "    print(\"The cluster is %d.\" % (i+1))\n",
    "    print(\"The star is: %s stars.\" % df['stars'].iloc[sample[0]])\n",
    "    print(\"The review is:\\n%s.\\n\" % df['text'].iloc[sample[0]])"
   ]
  },
  {
   "cell_type": "code",
   "execution_count": 134,
   "metadata": {},
   "outputs": [
    {
     "name": "stdout",
     "output_type": "stream",
     "text": [
      "The correlation coefficient between number of reviews and average rating is 0.109034.\n"
     ]
    }
   ],
   "source": [
    "clu_num=[]\n",
    "pop=[]\n",
    "for j in range(1000):\n",
    "    for i in range(km_clf.n_clusters):\n",
    "        sub_cluster = np.arange(0, cluster.shape[0])[cluster == i]\n",
    "        sample = np.random.choice(sub_cluster, 1)\n",
    "        clu_num.append(i+1)\n",
    "        res=df['business_id'].iloc[sample[0]]\n",
    "        pop.append((df['business_id']==res).value_counts())\n",
    "pp=[]\n",
    "for i in pop:\n",
    "    pp.append(i[1])\n",
    "from scipy.stats.stats import pearsonr \n",
    "print('The correlation coefficient between number of reviews and average rating is %f.' \\\n",
    "      % (pearsonr(clu_num, pp)[0]))"
   ]
  },
  {
   "cell_type": "markdown",
   "metadata": {},
   "source": [
    "As what i thought before, this cluster performs bad even in the training data."
   ]
  },
  {
   "cell_type": "markdown",
   "metadata": {},
   "source": [
    "#### 7. Try 3 clusters"
   ]
  },
  {
   "cell_type": "code",
   "execution_count": 135,
   "metadata": {},
   "outputs": [
    {
     "data": {
      "text/plain": [
       "KMeans(algorithm='auto', copy_x=True, init='k-means++', max_iter=300,\n",
       "    n_clusters=3, n_init=10, n_jobs=None, precompute_distances='auto',\n",
       "    random_state=None, tol=0.0001, verbose=0)"
      ]
     },
     "execution_count": 135,
     "metadata": {},
     "output_type": "execute_result"
    }
   ],
   "source": [
    "# same as 2 clusters used before\n",
    "km_3_clusters = KMeans(verbose = 0, n_clusters = 3)\n",
    "km_3_clusters.fit(Reviews_train_vec)"
   ]
  },
  {
   "cell_type": "code",
   "execution_count": 136,
   "metadata": {},
   "outputs": [],
   "source": [
    "cluster_train_3 = km_3_clusters.predict(Reviews_train_vec)\n",
    "cluster_test_3 = km_3_clusters.predict(Reviews_test_vec)\n",
    "cluster_3 = km_3_clusters.predict(Reviews_vec)"
   ]
  },
  {
   "cell_type": "code",
   "execution_count": 137,
   "metadata": {},
   "outputs": [
    {
     "name": "stdout",
     "output_type": "stream",
     "text": [
      "1: place,meal,like,bad,chicken,ordered,service,good,going,great,cheese,went,beer,time,outside,come,food,instead,seating,just\n",
      "2: pizza,friendly,staff,quick,great,best,place,slice,ramen,love,food,la,service,fantastic,line,pretty,just,amazing,experience,really\n",
      "3: food,good,place,service,really,great,got,restaurant,order,chicken,just,like,try,time,delicious,amazing,menu,dishes,sushi,better\n"
     ]
    }
   ],
   "source": [
    "cluster_top_features = list()\n",
    "for i in range(km_3_clusters.n_clusters):\n",
    "    cluster_top_features.append(np.argsort(km_3_clusters.cluster_centers_[i])[::-1][:20])\n",
    "for num, centroid in enumerate(cluster_top_features):\n",
    "    print ('%d: %s' % (num+1, \",\".join(words[i] for i in centroid)))"
   ]
  },
  {
   "cell_type": "markdown",
   "metadata": {},
   "source": [
    "It seems that three clusters can get the positive, negative and in-between types."
   ]
  },
  {
   "cell_type": "markdown",
   "metadata": {},
   "source": [
    "Randomly to find samples from 3 clusters with rating scores and reviews to get a sense."
   ]
  },
  {
   "cell_type": "code",
   "execution_count": 138,
   "metadata": {},
   "outputs": [
    {
     "name": "stdout",
     "output_type": "stream",
     "text": [
      "The cluster is 1.\n",
      "The star is: 5 stars.\n",
      "The review is:\n",
      "Last minute stopped for a drink while my daughter had lunch. Service was outstanding and we were given complimentary drinks and a sample tapas which was amazing!!  Yes and my daughter said her veggie burger was the best..\n",
      "\n",
      "The cluster is 2.\n",
      "The star is: 5 stars.\n",
      "The review is:\n",
      "This is our first time here with the renovations and new management, and all we have to say is, \"Wow!\". They really stepped up their game! The decor is amazing and the food is to die for. They have started making their own tortillas (so good!) and have added several new items to their already fantastic menu. The shrimp especiale taco is UNREAL. If that tamarind sauce was the last thing I ever ate, I would die happy. We also checked out the new fish taco and chicharonn taco - perfect! This was my favourite place in the city for authentic Mexican before, and now I would say it rivals my favourites in the Southern USA..\n",
      "\n",
      "The cluster is 3.\n",
      "The star is: 4 stars.\n",
      "The review is:\n",
      "The way you get your stirfry here is super neat, and you get to make it the way you want it. So thats awesome and delicious. but a word of caution, restrain yourself on the sauces! or youll ruin your own meal!.\n",
      "You pick the meat you want then you go and fill a bowl with veggies and sauces and they fry the hell out of it for you. RESTRAIN YOURSELF AT THE SAUCES or you will ruin dinner!.\n",
      "\n"
     ]
    }
   ],
   "source": [
    "for i in range(km_3_clusters.n_clusters):\n",
    "    sub_cluster = np.arange(0, cluster_train_3.shape[0])[cluster_train_3 == i]\n",
    "    sample = np.random.choice(sub_cluster, 1)\n",
    "    print(\"The cluster is %d.\" % (i+1))\n",
    "    print(\"The star is: %s stars.\" % df['stars'].iloc[sample[0]])\n",
    "    print(\"The review is:\\n%s.\\n\" % df['text'].iloc[sample[0]])"
   ]
  },
  {
   "cell_type": "markdown",
   "metadata": {},
   "source": [
    "It seems much better than 2 clusters. Then to test the model in test data and entire dataset."
   ]
  },
  {
   "cell_type": "code",
   "execution_count": 139,
   "metadata": {},
   "outputs": [
    {
     "name": "stdout",
     "output_type": "stream",
     "text": [
      "The cluster is 1.\n",
      "The star is: 2 stars.\n",
      "The review is:\n",
      "Came here hoping for a semi quick lunch with the hubs. Was throughly disappointed with the experience this past time. We stood at the door for a good ten minutes as there was no host and no servers we could get the attention of. We've always known that service is slower here, but waiting an hour for a stir-fry just didn't seem right! The restaurant was fairly empty when we went, and the server did apologize several times for her slow speed. \n",
      "We both opted for stir fry bowls, which took forever to get to us to fill. Once filled and dropped off, we watched as my food sat on the counter for 15 minutes getting cold. In the past I've tried to get it off the bar myself, but after being told no numerous times, I've learned not to try. We were able to speak with a manager during our last visit (which was another 15 minute wait as well) and get my meal compted as it had arrived ice cold.  \n",
      "Overall, the concept of the restaurant is great, but if they could crank up the service and the lights (its fairly dim in the restaurant) I think I would return here on a more regular basis..\n",
      "\n",
      "The cluster is 2.\n",
      "The star is: 4 stars.\n",
      "The review is:\n",
      "I've had \"Portuguese chicken place\" in my home jurisdiction and always order \"1/4 white\" - chicken breast meat, fries, some kind of salad. I ordered the same at Romados and this place met expectations. Chicken meat was juicy (I skipped the skin as I usually do); they brushed a sauce over it which was tasty (I got the mild sauce, but I believe customers have a choice of mild or hot). Fries (plain frites) are delicious. Salad was a green salad - lettuce, tomatoes, red onions, with a vinaigrette - overall good balance of flavors in the combo order..\n",
      "\n",
      "The cluster is 3.\n",
      "The star is: 5 stars.\n",
      "The review is:\n",
      "Best Portuguese chicken in town imo.\n",
      "Great price.\n",
      "It gets crowds fast and often have to wait in line up.\n",
      "Not much places to sit to eat cause it is mainly a take out restaurant.\n",
      "The desserts offered in the bakery are also really good and the price is honest..\n",
      "\n"
     ]
    }
   ],
   "source": [
    "#in test data\n",
    "for i in range(km_3_clusters.n_clusters):\n",
    "    sub_cluster = np.arange(0, cluster_test_3.shape[0])[cluster_test_3 == i]\n",
    "    sample = np.random.choice(sub_cluster, 1)\n",
    "    print(\"The cluster is %d.\" % (i+1))\n",
    "    print(\"The star is: %s stars.\" % df['stars'].iloc[sample[0]])\n",
    "    print(\"The review is:\\n%s.\\n\" % df['text'].iloc[sample[0]])"
   ]
  },
  {
   "cell_type": "code",
   "execution_count": 140,
   "metadata": {},
   "outputs": [
    {
     "name": "stdout",
     "output_type": "stream",
     "text": [
      "The cluster is 1.\n",
      "The star is: 5 stars.\n",
      "The review is:\n",
      "Last minute stopped for a drink while my daughter had lunch. Service was outstanding and we were given complimentary drinks and a sample tapas which was amazing!!  Yes and my daughter said her veggie burger was the best..\n",
      "\n",
      "The cluster is 2.\n",
      "The star is: 5 stars.\n",
      "The review is:\n",
      "Meilleur poulet portugais à Montréal. Les frites sont délicieuses. A deux, on commande le demi poulet avec extra sauce piquante à côté. On peut acheter leurs épices piri piri pour cuisiner chez soi: j'en mets sur le pop corn c'est vraiment bon !.\n",
      "\n",
      "The cluster is 3.\n",
      "The star is: 5 stars.\n",
      "The review is:\n",
      "Food took some time to prepare but the wait was definitely worth it, since you're sure that it's freshly cooked. Will come back soon!.\n",
      "\n"
     ]
    }
   ],
   "source": [
    "# in entire dataset\n",
    "for i in range(km_3_clusters.n_clusters):\n",
    "    sub_cluster = np.arange(0, cluster_3.shape[0])[cluster_3 == i]\n",
    "    sample = np.random.choice(sub_cluster, 1)\n",
    "    print(\"The cluster is %d.\" % (i+1))\n",
    "    print(\"The star is: %s stars.\" % df['stars'].iloc[sample[0]])\n",
    "    print(\"The review is:\\n%s.\\n\" % df['text'].iloc[sample[0]])"
   ]
  },
  {
   "cell_type": "markdown",
   "metadata": {},
   "source": [
    "much better to associate reviews with cluster than past rating system!"
   ]
  }
 ],
 "metadata": {
  "anaconda-cloud": {},
  "kernelspec": {
   "display_name": "Python 3",
   "language": "python",
   "name": "python3"
  },
  "language_info": {
   "codemirror_mode": {
    "name": "ipython",
    "version": 3
   },
   "file_extension": ".py",
   "mimetype": "text/x-python",
   "name": "python",
   "nbconvert_exporter": "python",
   "pygments_lexer": "ipython3",
   "version": "3.6.7"
  }
 },
 "nbformat": 4,
 "nbformat_minor": 1
}
