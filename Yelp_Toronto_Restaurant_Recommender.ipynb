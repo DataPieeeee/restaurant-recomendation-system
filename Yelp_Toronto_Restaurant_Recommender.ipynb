{
 "cells": [
  {
   "cell_type": "markdown",
   "metadata": {},
   "source": [
    "# Yelp Data Challenge - Restaurant Recommender\n",
    "Summary: \n",
    "- With current rating system, I can actually make use of it to build recommendation system. \n",
    "- Here I build item-item colaborative filtering recommender system, NMF_recommender system and SVD_recommender system.\n",
    "- I compare the performance of recommender system by checking the common labels shared by recommendered restaurants and visited restaurants.\n",
    "- It turns out that the item-item colaborative filtering recommender system and SVD_recommender system have better performance. SVD_recommender system shows faster computation speed. Therefore, SVD_recommender system wins the case here.\n",
    "- The reason can be concluded as:\n",
    "    - colaborative filtering need to calculate pair-wise distance so it is slower than matrix factorization models.\n",
    "    - SVD_recommender with restaurants labels solves the puzzle of choosing latent factor. Therefore, SVD_recommender system outperforms NMF_recommender system\n"
   ]
  },
  {
   "cell_type": "code",
   "execution_count": 1,
   "metadata": {},
   "outputs": [],
   "source": [
    "import pandas as pd\n",
    "import numpy as np\n",
    "import matplotlib.pyplot as plt\n",
    "% matplotlib inline\n",
    "plt.style.use(\"ggplot\")"
   ]
  },
  {
   "cell_type": "code",
   "execution_count": 2,
   "metadata": {},
   "outputs": [],
   "source": [
    "df = pd.read_csv('2017_restaurant_reviews.csv')"
   ]
  },
  {
   "cell_type": "code",
   "execution_count": 3,
   "metadata": {},
   "outputs": [
    {
     "data": {
      "text/html": [
       "<div>\n",
       "<style scoped>\n",
       "    .dataframe tbody tr th:only-of-type {\n",
       "        vertical-align: middle;\n",
       "    }\n",
       "\n",
       "    .dataframe tbody tr th {\n",
       "        vertical-align: top;\n",
       "    }\n",
       "\n",
       "    .dataframe thead th {\n",
       "        text-align: right;\n",
       "    }\n",
       "</style>\n",
       "<table border=\"1\" class=\"dataframe\">\n",
       "  <thead>\n",
       "    <tr style=\"text-align: right;\">\n",
       "      <th></th>\n",
       "      <th>business_id</th>\n",
       "      <th>name</th>\n",
       "      <th>categories</th>\n",
       "      <th>avg_stars</th>\n",
       "      <th>cool</th>\n",
       "      <th>date</th>\n",
       "      <th>funny</th>\n",
       "      <th>review_id</th>\n",
       "      <th>stars</th>\n",
       "      <th>text</th>\n",
       "      <th>useful</th>\n",
       "      <th>user_id</th>\n",
       "    </tr>\n",
       "  </thead>\n",
       "  <tbody>\n",
       "    <tr>\n",
       "      <th>1</th>\n",
       "      <td>--DaPTJW3-tB1vP-PfdTEg</td>\n",
       "      <td>Sunnyside Grill</td>\n",
       "      <td>Restaurants, Breakfast &amp; Brunch</td>\n",
       "      <td>3.5</td>\n",
       "      <td>0</td>\n",
       "      <td>2017-06-18</td>\n",
       "      <td>0</td>\n",
       "      <td>MzkM0K4Ifb8Xr3gTgCiW9g</td>\n",
       "      <td>1</td>\n",
       "      <td>Decided to go for Fathers Day breakfast with m...</td>\n",
       "      <td>0</td>\n",
       "      <td>8hfJ_MM1_Yd-ECDfuWeTAA</td>\n",
       "    </tr>\n",
       "    <tr>\n",
       "      <th>4</th>\n",
       "      <td>--DaPTJW3-tB1vP-PfdTEg</td>\n",
       "      <td>Sunnyside Grill</td>\n",
       "      <td>Restaurants, Breakfast &amp; Brunch</td>\n",
       "      <td>3.5</td>\n",
       "      <td>0</td>\n",
       "      <td>2017-05-02</td>\n",
       "      <td>0</td>\n",
       "      <td>_HY2yoOUbe13yw7PYFs8gg</td>\n",
       "      <td>5</td>\n",
       "      <td>Love the breakfast here and the pancakes! Alwa...</td>\n",
       "      <td>0</td>\n",
       "      <td>gi7nOGT7lrJRdcmgcSvjqA</td>\n",
       "    </tr>\n",
       "    <tr>\n",
       "      <th>9</th>\n",
       "      <td>--DaPTJW3-tB1vP-PfdTEg</td>\n",
       "      <td>Sunnyside Grill</td>\n",
       "      <td>Restaurants, Breakfast &amp; Brunch</td>\n",
       "      <td>3.5</td>\n",
       "      <td>0</td>\n",
       "      <td>2017-07-20</td>\n",
       "      <td>0</td>\n",
       "      <td>hTACl2M-vXHjnG3EXIU8Kw</td>\n",
       "      <td>1</td>\n",
       "      <td>This was our first visit to this restaurant an...</td>\n",
       "      <td>0</td>\n",
       "      <td>-TQ0Vqbu8F_3UM7B15GPbQ</td>\n",
       "    </tr>\n",
       "  </tbody>\n",
       "</table>\n",
       "</div>"
      ],
      "text/plain": [
       "              business_id             name                       categories  \\\n",
       "1  --DaPTJW3-tB1vP-PfdTEg  Sunnyside Grill  Restaurants, Breakfast & Brunch   \n",
       "4  --DaPTJW3-tB1vP-PfdTEg  Sunnyside Grill  Restaurants, Breakfast & Brunch   \n",
       "9  --DaPTJW3-tB1vP-PfdTEg  Sunnyside Grill  Restaurants, Breakfast & Brunch   \n",
       "\n",
       "   avg_stars  cool        date  funny               review_id  stars  \\\n",
       "1        3.5     0  2017-06-18      0  MzkM0K4Ifb8Xr3gTgCiW9g      1   \n",
       "4        3.5     0  2017-05-02      0  _HY2yoOUbe13yw7PYFs8gg      5   \n",
       "9        3.5     0  2017-07-20      0  hTACl2M-vXHjnG3EXIU8Kw      1   \n",
       "\n",
       "                                                text  useful  \\\n",
       "1  Decided to go for Fathers Day breakfast with m...       0   \n",
       "4  Love the breakfast here and the pancakes! Alwa...       0   \n",
       "9  This was our first visit to this restaurant an...       0   \n",
       "\n",
       "                  user_id  \n",
       "1  8hfJ_MM1_Yd-ECDfuWeTAA  \n",
       "4  gi7nOGT7lrJRdcmgcSvjqA  \n",
       "9  -TQ0Vqbu8F_3UM7B15GPbQ  "
      ]
     },
     "execution_count": 3,
     "metadata": {},
     "output_type": "execute_result"
    }
   ],
   "source": [
    "df.head(3)"
   ]
  },
  {
   "cell_type": "markdown",
   "metadata": {},
   "source": [
    "## Clean data and get rating data "
   ]
  },
  {
   "cell_type": "markdown",
   "metadata": {},
   "source": [
    "#### 1. Select relevant columns in the original dataframe"
   ]
  },
  {
   "cell_type": "code",
   "execution_count": 4,
   "metadata": {},
   "outputs": [
    {
     "data": {
      "text/html": [
       "<div>\n",
       "<style scoped>\n",
       "    .dataframe tbody tr th:only-of-type {\n",
       "        vertical-align: middle;\n",
       "    }\n",
       "\n",
       "    .dataframe tbody tr th {\n",
       "        vertical-align: top;\n",
       "    }\n",
       "\n",
       "    .dataframe thead th {\n",
       "        text-align: right;\n",
       "    }\n",
       "</style>\n",
       "<table border=\"1\" class=\"dataframe\">\n",
       "  <thead>\n",
       "    <tr style=\"text-align: right;\">\n",
       "      <th></th>\n",
       "      <th>business_id</th>\n",
       "      <th>user_id</th>\n",
       "      <th>stars</th>\n",
       "    </tr>\n",
       "  </thead>\n",
       "  <tbody>\n",
       "    <tr>\n",
       "      <th>1</th>\n",
       "      <td>--DaPTJW3-tB1vP-PfdTEg</td>\n",
       "      <td>8hfJ_MM1_Yd-ECDfuWeTAA</td>\n",
       "      <td>1</td>\n",
       "    </tr>\n",
       "    <tr>\n",
       "      <th>4</th>\n",
       "      <td>--DaPTJW3-tB1vP-PfdTEg</td>\n",
       "      <td>gi7nOGT7lrJRdcmgcSvjqA</td>\n",
       "      <td>5</td>\n",
       "    </tr>\n",
       "    <tr>\n",
       "      <th>9</th>\n",
       "      <td>--DaPTJW3-tB1vP-PfdTEg</td>\n",
       "      <td>-TQ0Vqbu8F_3UM7B15GPbQ</td>\n",
       "      <td>1</td>\n",
       "    </tr>\n",
       "  </tbody>\n",
       "</table>\n",
       "</div>"
      ],
      "text/plain": [
       "              business_id                 user_id  stars\n",
       "1  --DaPTJW3-tB1vP-PfdTEg  8hfJ_MM1_Yd-ECDfuWeTAA      1\n",
       "4  --DaPTJW3-tB1vP-PfdTEg  gi7nOGT7lrJRdcmgcSvjqA      5\n",
       "9  --DaPTJW3-tB1vP-PfdTEg  -TQ0Vqbu8F_3UM7B15GPbQ      1"
      ]
     },
     "execution_count": 4,
     "metadata": {},
     "output_type": "execute_result"
    }
   ],
   "source": [
    "recommender_df = df[['business_id', 'user_id', 'stars']]\n",
    "recommender_df.head(3)"
   ]
  },
  {
   "cell_type": "markdown",
   "metadata": {},
   "source": [
    "There are many users that haven't given many reviews, I will exclude these users from the item-item similarity recommender."
   ]
  },
  {
   "cell_type": "code",
   "execution_count": 8,
   "metadata": {},
   "outputs": [
    {
     "name": "stdout",
     "output_type": "stream",
     "text": [
      "                        business_id  stars\n",
      "user_id                                   \n",
      "--7gjElmOrthETJ8XqzMBw            1      1\n",
      "--BumyUHiO_7YsHurb9Hkw           37     37\n",
      "--C93xIlmjtgQfSOIpcQSA            1      1\n",
      "--DKDJlRHfsvufdGSk_Sdw            1      1\n",
      "--Qh8yKWAvIP4V4K8ZPfHA           30     30\n",
      "--WhK4MJx0fKvg64LqwStg            1      1\n",
      "--YhjyV-ce1nFLYxP49C5A           24     24\n",
      "--neBDssyZlHqAWgrHtUBQ            1      1\n",
      "--t6W1JHbStaCp5RO05thA            1      1\n",
      "-018WmPPk8qlp3TEiqqMVw            1      1\n",
      "-06T53TLMkg_xGl3flhDNw            1      1\n",
      "-0OE9Pn8vSK-WjJeRtHDtw            1      1\n",
      "-0Z6b2zZhdXV2pKX4jcCEQ            1      1\n",
      "-0kOvwKyRPhMtkj41zMLNw            1      1\n",
      "-1Kz6O4zTiC9eeYlUXlnTQ            1      1\n",
      "-1g1OCAmYUjkRgk8tcUMBA            1      1\n",
      "-1l27u1nHhe7F7AlheMIGQ           11     11\n",
      "-1wbglcr6x1qrUbqP1YAIA           14     14\n",
      "-2-QlooozM674mk38AWJIQ            2      2\n",
      "-2WXHI0UtH4v6OCnF10ENA            1      1\n",
      "-2kCxY7_aw5hOz7fJnGMbQ           31     31\n",
      "-2n9u5-z_uKuZZN6wnh5Ow           14     14\n",
      "-2yTDEg_SoLwaz72XDBXOA            1      1\n",
      "-30_X7fYHmdJHcB_pp3Glg            1      1\n",
      "-38JR3xa2ADoZBcJwdNNeQ            5      5\n",
      "-3CetmQjkQOcODxkULXixw            4      4\n",
      "-3Kl9BD45MwDnGgXX1fv8A            2      2\n",
      "-3Kq9ssSot4QizbPYO6ZQQ            4      4\n",
      "-3PTUP443q6hQESLKSu95w           37     37\n",
      "-3s52C4zL_DHRK0ULG6qtg            1      1\n",
      "...                             ...    ...\n",
      "zvoKQvcCsnJeC7ZRKrsWPA            1      1\n",
      "zvu3toqwToWAoE1rTMBCww            1      1\n",
      "zw7OedfTcwjtVCieZD-E-g            3      3\n",
      "zwBpOOb2GF3B4Iw3zH3efw            1      1\n",
      "zwDazUH1n6KLmWmJXJj7Rg            1      1\n",
      "zwEdDaKaEFOWvUGbN3FLQA            1      1\n",
      "zwHmho1kHvq8ikivtnxIbg            2      2\n",
      "zwPecMicGkmkyErCTxheHg            3      3\n",
      "zwbLP7Wt40PeyBLEUvMImw            1      1\n",
      "zwbi9UJueQLZkD57lMStQg            2      2\n",
      "zwiYjOeWqWkKvZLHDmSdkg            3      3\n",
      "zwmThlRiY1LHfJ_7zNfGqg            2      2\n",
      "zwwJklnKoi_tPG5V7MNk0w            2      2\n",
      "zx7JUWqE_Mu8Avy-Qfp2ew            1      1\n",
      "zxGmiPzrhR-K73rKgzPQWg            3      3\n",
      "zxMuMPov09xSiAsUD5H1Rw            1      1\n",
      "zxW_Mgwkd17pspoU1bc63g            1      1\n",
      "zxoVuq_Xd1khUdosVsiY6w            1      1\n",
      "zy-bRNv9Wp3fmNM4TD9kIw           11     11\n",
      "zyYWUdaodH0h1jCZAvFRPg            3      3\n",
      "zybT4EH-J2WOU4OlrLuzpQ            1      1\n",
      "zyg4-MFtfPWmwucVazSjfw           16     16\n",
      "zyiVxl6qWg9RVThstlOBuw            1      1\n",
      "zyvYVFRSLqChH8kb0V7i9A            1      1\n",
      "zyzoF7KjvOHmRJ1OO5JtLQ            5      5\n",
      "zzVGOFsIjStuFsy_kyJnIg            1      1\n",
      "zzmhLxcZ4XZQyz95c_KbOA            1      1\n",
      "zzo--VpSQh8PpsGVeMC1dQ            6      6\n",
      "zztkCqqgR6VntYbqio4UTQ            2      2\n",
      "zzyMMeUZzKAy7KQhM7lU2w            2      2\n",
      "\n",
      "[33033 rows x 2 columns]\n"
     ]
    }
   ],
   "source": [
    "print(recommender_df.groupby('user_id').count())"
   ]
  },
  {
   "cell_type": "code",
   "execution_count": 5,
   "metadata": {},
   "outputs": [
    {
     "data": {
      "text/plain": [
       "user_id\n",
       "--7gjElmOrthETJ8XqzMBw     1\n",
       "--BumyUHiO_7YsHurb9Hkw    37\n",
       "--C93xIlmjtgQfSOIpcQSA     1\n",
       "--DKDJlRHfsvufdGSk_Sdw     1\n",
       "--Qh8yKWAvIP4V4K8ZPfHA    30\n",
       "Name: stars, dtype: int64"
      ]
     },
     "execution_count": 5,
     "metadata": {},
     "output_type": "execute_result"
    }
   ],
   "source": [
    "reviews_count_df = recommender_df.groupby('user_id')['stars'].count()\n",
    "reviews_count_df.head(5)"
   ]
  },
  {
   "cell_type": "code",
   "execution_count": 9,
   "metadata": {},
   "outputs": [
    {
     "name": "stdout",
     "output_type": "stream",
     "text": [
      "Max reviews: 176, Min reviews: 1\n",
      "Median reviews: 1.0, Mean reviews: 2.9\n",
      "25% reviews: 1,  75% reviews: 2\n",
      "Number of unique business: 5381\n"
     ]
    }
   ],
   "source": [
    "print('Max reviews: %s, Min reviews: %s' % (max(reviews_count_df), min(reviews_count_df)))\n",
    "print('Median reviews: %s, Mean reviews: %s' % (np.median(reviews_count_df), round(np.mean(reviews_count_df),2)))\n",
    "print('25%% reviews: %d,  75%% reviews: %d' % (np.percentile(reviews_count_df, 25), np.percentile(reviews_count_df, 75)))\n",
    "print('Number of unique business: %d' % (len(set(recommender_df['business_id']))))"
   ]
  },
  {
   "cell_type": "code",
   "execution_count": 10,
   "metadata": {},
   "outputs": [
    {
     "data": {
      "text/html": [
       "<div>\n",
       "<style scoped>\n",
       "    .dataframe tbody tr th:only-of-type {\n",
       "        vertical-align: middle;\n",
       "    }\n",
       "\n",
       "    .dataframe tbody tr th {\n",
       "        vertical-align: top;\n",
       "    }\n",
       "\n",
       "    .dataframe thead th {\n",
       "        text-align: right;\n",
       "    }\n",
       "</style>\n",
       "<table border=\"1\" class=\"dataframe\">\n",
       "  <thead>\n",
       "    <tr style=\"text-align: right;\">\n",
       "      <th></th>\n",
       "      <th>business_id</th>\n",
       "      <th>user_id</th>\n",
       "      <th>stars</th>\n",
       "    </tr>\n",
       "  </thead>\n",
       "  <tbody>\n",
       "    <tr>\n",
       "      <th>17</th>\n",
       "      <td>--DaPTJW3-tB1vP-PfdTEg</td>\n",
       "      <td>2HjBjUrqjjVfopPfghgpqw</td>\n",
       "      <td>3</td>\n",
       "    </tr>\n",
       "    <tr>\n",
       "      <th>61</th>\n",
       "      <td>--SrzpvFLwP_YFwB_Cetow</td>\n",
       "      <td>6eCgSb66TE1LeiWPPBPnTg</td>\n",
       "      <td>4</td>\n",
       "    </tr>\n",
       "    <tr>\n",
       "      <th>70</th>\n",
       "      <td>--SrzpvFLwP_YFwB_Cetow</td>\n",
       "      <td>QbjryxoBD9wfzFpmvgubTw</td>\n",
       "      <td>5</td>\n",
       "    </tr>\n",
       "    <tr>\n",
       "      <th>73</th>\n",
       "      <td>--SrzpvFLwP_YFwB_Cetow</td>\n",
       "      <td>fM9LC2P8jQrQGGsXKccLQw</td>\n",
       "      <td>3</td>\n",
       "    </tr>\n",
       "    <tr>\n",
       "      <th>76</th>\n",
       "      <td>--SrzpvFLwP_YFwB_Cetow</td>\n",
       "      <td>XbiKsujS_qxU3xsr0xUqmQ</td>\n",
       "      <td>4</td>\n",
       "    </tr>\n",
       "  </tbody>\n",
       "</table>\n",
       "</div>"
      ],
      "text/plain": [
       "               business_id                 user_id  stars\n",
       "17  --DaPTJW3-tB1vP-PfdTEg  2HjBjUrqjjVfopPfghgpqw      3\n",
       "61  --SrzpvFLwP_YFwB_Cetow  6eCgSb66TE1LeiWPPBPnTg      4\n",
       "70  --SrzpvFLwP_YFwB_Cetow  QbjryxoBD9wfzFpmvgubTw      5\n",
       "73  --SrzpvFLwP_YFwB_Cetow  fM9LC2P8jQrQGGsXKccLQw      3\n",
       "76  --SrzpvFLwP_YFwB_Cetow  XbiKsujS_qxU3xsr0xUqmQ      4"
      ]
     },
     "execution_count": 10,
     "metadata": {},
     "output_type": "execute_result"
    }
   ],
   "source": [
    "active_user = list(reviews_count_df[reviews_count_df >= 10].index)  #过滤出review>10的user_id\n",
    "mask = [user in active_user for user in recommender_df['user_id']]\n",
    "active_user_df = recommender_df[mask]\n",
    "active_user_df.head(5)"
   ]
  },
  {
   "cell_type": "code",
   "execution_count": 39,
   "metadata": {},
   "outputs": [
    {
     "name": "stdout",
     "output_type": "stream",
     "text": [
      "The total number of active users in Toronto in 2017 is 1697.\n"
     ]
    }
   ],
   "source": [
    "print('The total number of active users in Toronto in 2017 is %d.' % \\\n",
    "      (len(active_user_df.groupby('user_id')['stars'].count())))"
   ]
  },
  {
   "cell_type": "code",
   "execution_count": 40,
   "metadata": {},
   "outputs": [
    {
     "name": "stdout",
     "output_type": "stream",
     "text": [
      "The total records number for active users in Toronto in 2017 is 36652.\n"
     ]
    }
   ],
   "source": [
    "print('The total records number for active users in Toronto in 2017 is %d.' % \\\n",
    "      (len(active_user_df)))"
   ]
  },
  {
   "cell_type": "markdown",
   "metadata": {},
   "source": [
    "#### 2. Create utility matrix from records"
   ]
  },
  {
   "cell_type": "code",
   "execution_count": 13,
   "metadata": {},
   "outputs": [
    {
     "data": {
      "text/plain": [
       "<1697x4464 sparse matrix of type '<class 'numpy.float64'>'\n",
       "\twith 0 stored elements in LInked List format>"
      ]
     },
     "execution_count": 13,
     "metadata": {},
     "output_type": "execute_result"
    }
   ],
   "source": [
    "from scipy import sparse\n",
    "highest_user_id = len(set(active_user_df['user_id']))\n",
    "highest_movie_id = len(set(active_user_df['business_id']))\n",
    "ratings_mat = sparse.lil_matrix((highest_user_id, highest_movie_id))\n",
    "ratings_mat"
   ]
  },
  {
   "cell_type": "markdown",
   "metadata": {},
   "source": [
    "Fill the rate matrix based on table"
   ]
  },
  {
   "cell_type": "code",
   "execution_count": 14,
   "metadata": {},
   "outputs": [
    {
     "data": {
      "text/plain": [
       "<1697x4464 sparse matrix of type '<class 'numpy.float64'>'\n",
       "\twith 36652 stored elements in LInked List format>"
      ]
     },
     "execution_count": 14,
     "metadata": {},
     "output_type": "execute_result"
    }
   ],
   "source": [
    "user_id = list(set(active_user_df['user_id']))\n",
    "business_id = list(set(active_user_df['business_id']))\n",
    "for _, row in active_user_df.iterrows():\n",
    "    ratings_mat[user_id.index(row.user_id), business_id.index(row.business_id)] = row.stars  #fill the stars in ratings_mat\n",
    "ratings_mat"
   ]
  },
  {
   "cell_type": "markdown",
   "metadata": {},
   "source": [
    "## Item - Item Collaborative Filter Recommender"
   ]
  },
  {
   "cell_type": "code",
   "execution_count": 17,
   "metadata": {},
   "outputs": [],
   "source": [
    "from sklearn.metrics.pairwise import cosine_similarity\n",
    "from time import time\n",
    "class ItemItemRecommender(object):\n",
    "\n",
    "    def __init__(self, neighborhood_size):\n",
    "        self.neighborhood_size = neighborhood_size\n",
    "\n",
    "    def fit(self, ratings_mat):\n",
    "        self.ratings_mat = ratings_mat\n",
    "        self.n_users = ratings_mat.shape[0]\n",
    "        self.n_items = ratings_mat.shape[1]\n",
    "        self.item_sim_mat = cosine_similarity(self.ratings_mat.T)\n",
    "        self._set_neighborhoods()\n",
    "\n",
    "    def _set_neighborhoods(self):\n",
    "        least_to_most_sim_indexes = np.argsort(self.item_sim_mat, 1)\n",
    "        self.neighborhoods = least_to_most_sim_indexes[:, -self.neighborhood_size:]\n",
    "\n",
    "    def pred_one_user(self, user_id, report_run_time=False):\n",
    "        start_time = time()\n",
    "        items_rated_by_this_user = self.ratings_mat[user_id].nonzero()[1]\n",
    "        # Just initializing so I have somewhere to put rating preds\n",
    "        out = np.zeros(self.n_items)\n",
    "        for item_to_rate in range(self.n_items):\n",
    "            relevant_items = np.intersect1d(self.neighborhoods[item_to_rate],\n",
    "                                            items_rated_by_this_user,\n",
    "                                            assume_unique=True)  # assume_unique speeds up intersection op\n",
    "            out[item_to_rate] = self.ratings_mat[user_id, relevant_items] * \\\n",
    "                self.item_sim_mat[item_to_rate, relevant_items] / \\\n",
    "                self.item_sim_mat[item_to_rate, relevant_items].sum()\n",
    "        if report_run_time:\n",
    "            print(\"Execution time: %f seconds\" % (time()-start_time))\n",
    "        cleaned_out = np.nan_to_num(out)\n",
    "        return cleaned_out\n",
    "\n",
    "    def pred_all_users(self, report_run_time=False):\n",
    "        start_time = time()\n",
    "        all_ratings = [\n",
    "            self.pred_one_user(user_id) for user_id in range(self.n_users)]\n",
    "        if report_run_time:\n",
    "            print(\"Execution time: %f seconds\" % (time()-start_time))\n",
    "        return np.array(all_ratings)\n",
    "\n",
    "    def top_n_recs(self, user_id, n):\n",
    "        pred_ratings = self.pred_one_user(user_id)\n",
    "        item_index_sorted_by_pred_rating = list(np.argsort(pred_ratings))\n",
    "        items_rated_by_this_user = self.ratings_mat[user_id].nonzero()[1]\n",
    "        unrated_items_by_pred_rating = [item for item in item_index_sorted_by_pred_rating\n",
    "                                        if item not in items_rated_by_this_user]\n",
    "        return unrated_items_by_pred_rating[-n:], items_rated_by_this_user"
   ]
  },
  {
   "cell_type": "code",
   "execution_count": 18,
   "metadata": {},
   "outputs": [],
   "source": [
    "#neighborhood_size\n",
    "my_rec_engine = ItemItemRecommender(neighborhood_size=80)\n",
    "my_rec_engine.fit(ratings_mat)"
   ]
  },
  {
   "cell_type": "markdown",
   "metadata": {},
   "source": [
    "Let me try the recommder system with a lucky user."
   ]
  },
  {
   "cell_type": "code",
   "execution_count": 19,
   "metadata": {},
   "outputs": [
    {
     "name": "stderr",
     "output_type": "stream",
     "text": [
      "D:\\ProgramData\\Anaconda3\\lib\\site-packages\\ipykernel_launcher.py:28: RuntimeWarning: invalid value encountered in true_divide\n"
     ]
    }
   ],
   "source": [
    "lucky_user = np.random.choice(active_user_df['user_id'], 1)[0]\n",
    "lucky_user_index = user_id.index(lucky_user)\n",
    "lucky_user_recommend, items_rated_by_this_user = my_rec_engine.top_n_recs(user_id=lucky_user_index, n = 10)"
   ]
  },
  {
   "cell_type": "code",
   "execution_count": 20,
   "metadata": {},
   "outputs": [
    {
     "name": "stdout",
     "output_type": "stream",
     "text": [
      "The top ten recommendation for user Ts2fDK6swkRDIhPpq62_2g are: \n",
      "Salus Fresh Foods, King Solomon and Queen of Sheba, The Bottom Line, Starving Artist, Tasty BBQ Seafood Restaurant, Global Imperial Cuisine, Perfect Blend Bakery & Espresso Bar, Patchmon's Thai Desserts & More, Ninki Japanese Cuisine, Popeyes Louisiana Kitchen\n"
     ]
    }
   ],
   "source": [
    "print(\"The top ten recommendation for user %s are: \" % (lucky_user))\n",
    "print('%s' % (', '.join(list(set(df['name'][df['business_id'] == business_id[i]]))[0] \\\n",
    "                       for i in lucky_user_recommend)))"
   ]
  },
  {
   "cell_type": "code",
   "execution_count": 23,
   "metadata": {},
   "outputs": [
    {
     "name": "stdout",
     "output_type": "stream",
     "text": [
      "Categories from user rated restaurants: \n",
      "american,asian,bagels,bakeries,barbeque,bars,beer,breakfast,brunch,cafes,canadian,caterers,chicken,chinese,coffee,comfort,cream,creperies,desserts,dim,diners,ethnic,event,fast,food,frozen,fusion,ice,imported,internet,japanese,juice,korean,mediterranean,new,nightlife,noodles,pizza,planning,plates,restaurants,salad,sandwiches,seafood,services,shop,small,smoothies,soul,soup,specialty,spirits,sum,sushi,swiss,taiwanese,tapas,tea,thai,traditional,vietnamese,wine,wings,yogurt\n"
     ]
    }
   ],
   "source": [
    "from sklearn.feature_extraction.text import TfidfVectorizer\n",
    "original_rated_restaurants = [list(set(df['name'][df['business_id'] == business_id[i]]))[0] for i in items_rated_by_this_user]\n",
    "mask = [name in original_rated_restaurants for name in df['name']]\n",
    "original_category = df['categories'][mask]\n",
    "vectorizer = TfidfVectorizer(analyzer = 'word', stop_words = 'english', \n",
    "                             lowercase = True)\n",
    "original_category_vec = vectorizer.fit_transform(original_category).toarray()\n",
    "original_word = vectorizer.get_feature_names()\n",
    "print('Categories from user rated restaurants: \\n%s' % (','.join(i for i in original_word)))"
   ]
  },
  {
   "cell_type": "code",
   "execution_count": 24,
   "metadata": {},
   "outputs": [
    {
     "name": "stdout",
     "output_type": "stream",
     "text": [
      "Categories from recommend restaurants: \n",
      "american,asian,bakeries,barbeque,bars,breakfast,brunch,cafes,cajun,canadian,chicken,chinese,coffee,creole,creperies,desserts,ethiopian,fast,food,free,fusion,gluten,health,japanese,juice,markets,new,nightlife,pubs,restaurants,salad,seafood,shop,smoothies,southern,specialty,steakhouses,tea,thai,traditional,waffles,wings\n"
     ]
    }
   ],
   "source": [
    "recommend_res = [list(set(df['name'][df['business_id'] == business_id[i]]))[0] \\\n",
    "                 for i in lucky_user_recommend]\n",
    "mask = [name in recommend_res for name in df['name']]\n",
    "recommend_category = df['categories'][mask]\n",
    "vectorizer = TfidfVectorizer(analyzer = 'word', stop_words = 'english', \n",
    "                             lowercase = True)\n",
    "recommend_category_vec = vectorizer.fit_transform(recommend_category).toarray()\n",
    "recommend_word = vectorizer.get_feature_names()\n",
    "print('Categories from recommend restaurants: \\n%s' % (','.join(i for i in recommend_word)))"
   ]
  },
  {
   "cell_type": "code",
   "execution_count": 25,
   "metadata": {},
   "outputs": [
    {
     "name": "stdout",
     "output_type": "stream",
     "text": [
      "Common labels are: \n",
      "american, asian, bakeries, barbeque, bars, breakfast, brunch, cafes, canadian, chicken, chinese, coffee, creperies, desserts, fast, food, fusion, japanese, juice, new, nightlife, restaurants, salad, seafood, shop, smoothies, specialty, tea, thai, traditional, wings\n"
     ]
    }
   ],
   "source": [
    "#Check the common labels\n",
    "print(\"Common labels are: \\n%s\" % (', '.join(word for word in recommend_word if word in original_word)))#original_word = vectorizer.get_feature_names()"
   ]
  },
  {
   "cell_type": "markdown",
   "metadata": {},
   "source": [
    "## Matrix Factorization recommender (NMF)"
   ]
  },
  {
   "cell_type": "code",
   "execution_count": 26,
   "metadata": {},
   "outputs": [],
   "source": [
    "from sklearn.decomposition import NMF\n",
    "class NMF_Recommender(object):\n",
    "\n",
    "    def __init__(self, n_components):\n",
    "        self.n_components = n_components\n",
    "\n",
    "    def fit(self, ratings_mat):\n",
    "        self.ratings_mat = ratings_mat\n",
    "        self.n_users = ratings_mat.shape[0]\n",
    "        self.n_items = ratings_mat.shape[1]\n",
    "        nmf = NMF(n_components = 200)\n",
    "        nmf.fit(ratings_mat)\n",
    "        self.W = nmf.transform(ratings_mat)\n",
    "        self.H = nmf.components_\n",
    "        self.error = nmf.reconstruction_err_\n",
    "        self.ratings_mat_fitted = self.W.dot(self.H)\n",
    "\n",
    "    def get_error(self):\n",
    "        return self.error\n",
    "        \n",
    "    def pred_one_user(self, user_id, report_run_time=False):\n",
    "        start_time = time()\n",
    "        cleaned_out = self.ratings_mat_fitted[user_id,:]\n",
    "        if report_run_time:\n",
    "            print(\"Execution time: %f seconds\" % (time()-start_time))\n",
    "        return cleaned_out\n",
    "\n",
    "    def pred_all_users(self, report_run_time=False):\n",
    "        start_time = time()\n",
    "        all_ratings = [\n",
    "            self.pred_one_user(user_id) for user_id in range(self.n_users)]\n",
    "        if report_run_time:\n",
    "            print(\"Execution time: %f seconds\" % (time()-start_time))\n",
    "        return np.array(all_ratings)\n",
    "\n",
    "    def top_n_recs(self, user_id, n):\n",
    "        pred_ratings = self.pred_one_user(user_id)\n",
    "        item_index_sorted_by_pred_rating = list(np.argsort(pred_ratings))\n",
    "        items_rated_by_this_user = self.ratings_mat[user_id].nonzero()[1]\n",
    "        unrated_items_by_pred_rating = [item for item in item_index_sorted_by_pred_rating\n",
    "                                        if item not in items_rated_by_this_user]\n",
    "        return unrated_items_by_pred_rating[-n:], items_rated_by_this_user"
   ]
  },
  {
   "cell_type": "code",
   "execution_count": 27,
   "metadata": {},
   "outputs": [
    {
     "name": "stdout",
     "output_type": "stream",
     "text": [
      "The top ten recommendation for user Ts2fDK6swkRDIhPpq62_2g are: \n",
      "Kaiju, Hibiscus, House of Gourmet, Plentea, Loaded Pierogi, King's Noodle Restaurant, Japango, Cocina Economica, Basil Box, Gyubee Japanese BBQ - Downtown\n"
     ]
    }
   ],
   "source": [
    "# get recommendations for the same lucky user\n",
    "my_rec_engine = NMF_Recommender(n_components=200)\n",
    "my_rec_engine.fit(ratings_mat)\n",
    "lucky_user_recommend, items_rated_by_this_user = my_rec_engine.top_n_recs(user_id=lucky_user_index, n = 10)\n",
    "print(\"The top ten recommendation for user %s are: \" % (lucky_user))\n",
    "print('%s' % (', '.join(list(set(df['name'][df['business_id'] == business_id[i]]))[0] \\\n",
    "                       for i in lucky_user_recommend)))"
   ]
  },
  {
   "cell_type": "code",
   "execution_count": 28,
   "metadata": {},
   "outputs": [
    {
     "name": "stdout",
     "output_type": "stream",
     "text": [
      "The users original rated resturants are :\n",
      " Hot-Star,Bach Yen,Akai Sushi,Onnki Donburi,Lee Chen Asian Bistro,Red Lobster,Swiss Chalet Rotisserie & Grill,Luscious Desserts,Spring Rolls,Chop Chop,Panera Bread,Yummy Yummy Dumplings,Church Street Espresso,Kobi Korean Restaurant,Huh Ga Ne,Big Sushi,Aroma Espresso Bar,Canephora Cafe & Bakery\n"
     ]
    }
   ],
   "source": [
    "print(\"The users original rated resturants are :\\n %s\" % (','.join(list(set(df['name'][df['business_id'] == business_id[i]]))[0] \\\n",
    "                       for i in items_rated_by_this_user)))"
   ]
  },
  {
   "cell_type": "code",
   "execution_count": 29,
   "metadata": {},
   "outputs": [
    {
     "name": "stdout",
     "output_type": "stream",
     "text": [
      "Categories from user rated restaurants: \n",
      "american,asian,bagels,bakeries,barbeque,bars,beer,breakfast,brunch,cafes,canadian,caterers,chicken,chinese,coffee,comfort,cream,creperies,desserts,dim,diners,ethnic,event,fast,food,frozen,fusion,ice,imported,internet,japanese,juice,korean,mediterranean,new,nightlife,noodles,pizza,planning,plates,restaurants,salad,sandwiches,seafood,services,shop,small,smoothies,soul,soup,specialty,spirits,sum,sushi,swiss,taiwanese,tapas,tea,thai,traditional,vietnamese,wine,wings,yogurt\n"
     ]
    }
   ],
   "source": [
    "original_rated_restaurants = [list(set(df['name'][df['business_id'] == business_id[i]]))[0] for i in items_rated_by_this_user]\n",
    "mask = [name in original_rated_restaurants for name in df['name']]\n",
    "original_category = df['categories'][mask]\n",
    "vectorizer = TfidfVectorizer(analyzer = 'word', stop_words = 'english', \n",
    "                             lowercase = True\n",
    "                            )\n",
    "original_category_vec = vectorizer.fit_transform(original_category).toarray()\n",
    "original_word = vectorizer.get_feature_names()\n",
    "print('Categories from user rated restaurants: \\n%s' % (','.join(i for i in original_word)))"
   ]
  },
  {
   "cell_type": "code",
   "execution_count": 30,
   "metadata": {},
   "outputs": [
    {
     "name": "stdout",
     "output_type": "stream",
     "text": [
      "Categories from recommend restaurants: \n",
      "american,asian,barbeque,bars,cafes,canadian,chinese,cocktail,coffee,comfort,desserts,ethnic,fast,food,free,fusion,gluten,imported,japanese,latin,malaysian,mexican,new,nightlife,noodles,organic,polish,restaurants,rooms,salad,soul,specialty,steakhouses,stores,sushi,tea,thai,traditional,vegan,vegetarian,vietnamese\n"
     ]
    }
   ],
   "source": [
    "recommend_res = [list(set(df['name'][df['business_id'] == business_id[i]]))[0] \\\n",
    "                 for i in lucky_user_recommend]\n",
    "mask = [name in recommend_res for name in df['name']]\n",
    "recommend_category = df['categories'][mask]\n",
    "vectorizer = TfidfVectorizer(analyzer = 'word', stop_words = 'english', \n",
    "                             lowercase = True\n",
    "                            )\n",
    "recommend_category_vec = vectorizer.fit_transform(recommend_category).toarray()\n",
    "recommend_word = vectorizer.get_feature_names()\n",
    "print('Categories from recommend restaurants: \\n%s' % (','.join(i for i in recommend_word)))"
   ]
  },
  {
   "cell_type": "code",
   "execution_count": 31,
   "metadata": {},
   "outputs": [
    {
     "name": "stdout",
     "output_type": "stream",
     "text": [
      "Common labels are: \n",
      "american, asian, barbeque, bars, cafes, canadian, chinese, coffee, comfort, desserts, ethnic, fast, food, fusion, imported, japanese, new, nightlife, noodles, restaurants, salad, soul, specialty, sushi, tea, thai, traditional, vietnamese\n"
     ]
    }
   ],
   "source": [
    "#Check the common labels\n",
    "print(\"Common labels are: \\n%s\" % (', '.join(word for word in recommend_word if word in original_word)))"
   ]
  },
  {
   "cell_type": "markdown",
   "metadata": {},
   "source": [
    "#### Common labels from Item - Item Collaborative Filter are: \n",
    "- american, asian, bakeries, barbeque, bars, breakfast, brunch, cafes, canadian, chicken, chinese, coffee, creperies, desserts, fast, food, fusion, japanese, juice, new, nightlife, restaurants, salad, seafood, shop, smoothies, specialty, tea, thai, traditional, wings"
   ]
  },
  {
   "cell_type": "markdown",
   "metadata": {},
   "source": [
    "#### Common labels are from SVD are: \n",
    "- american, asian, bars, breakfast, brunch, cafes, canadian, chinese, creperies, desserts, fast, food, fusion, japanese, korean, new, nightlife, noodles, restaurants, sandwiches, soup, sushi, taiwanese, tea, traditional"
   ]
  },
  {
   "cell_type": "markdown",
   "metadata": {},
   "source": [
    "Based on user's previous rating, the NMF recommder shows better performance.(这个性能指什么?)"
   ]
  },
  {
   "cell_type": "markdown",
   "metadata": {},
   "source": [
    "## Matrix Factorization recommender (SVD) with restaurants' labels."
   ]
  },
  {
   "cell_type": "markdown",
   "metadata": {},
   "source": [
    "Each business has its own labels. Suppose we have a table of business_id against category labels. Each element in the table represents the style score of resturants to labels. Additionally, we can build another table of user_id against category labels. Each element in the table stands for the preference/taste of clients to each label. By multipling two tables, we can get the utility table. The two sub-table can have negative number as preference can be divided into like or dislike."
   ]
  },
  {
   "cell_type": "code",
   "execution_count": 32,
   "metadata": {},
   "outputs": [
    {
     "name": "stdout",
     "output_type": "stream",
     "text": [
      "The total number of restaurant labels is 365\n"
     ]
    }
   ],
   "source": [
    "#get the number of labels \n",
    "mask = [business in business_id for business in df['business_id']]\n",
    "category = df['categories'][mask]\n",
    "from sklearn.feature_extraction.text import TfidfVectorizer\n",
    "vectorizer = TfidfVectorizer(analyzer = 'word', stop_words = 'english', \n",
    "                             lowercase = True\n",
    "                            )\n",
    "category_vec = vectorizer.fit_transform(category).toarray()\n",
    "words = vectorizer.get_feature_names()\n",
    "#This is the number of unique categories\n",
    "print('The total number of restaurant labels is %d' % (len(words))) "
   ]
  },
  {
   "cell_type": "code",
   "execution_count": 33,
   "metadata": {},
   "outputs": [],
   "source": [
    "from sklearn.decomposition import TruncatedSVD\n",
    "class SVD_Recommender(object):\n",
    "\n",
    "    def __init__(self):\n",
    "        self.n_components = 361 #the number of labels\n",
    "\n",
    "    def fit(self, ratings_mat):\n",
    "        self.ratings_mat = ratings_mat\n",
    "        self.n_users = ratings_mat.shape[0]\n",
    "        self.n_items = ratings_mat.shape[1]\n",
    "        svd = TruncatedSVD(n_components=self.n_components, n_iter=7, random_state=1)\n",
    "        svd.fit(ratings_mat)\n",
    "        self.V = svd.components_\n",
    "        self.U = svd.transform(ratings_mat)\n",
    "        self.ratings_mat_fitted = self.U.dot(self.V)\n",
    "\n",
    "    def get_error(self):\n",
    "        return ((self.ratings_mat_fitted - self.ratings_mat)**2).mean(axis=None)\n",
    "        \n",
    "    def pred_one_user(self, user_id, report_run_time=False):\n",
    "        start_time = time()\n",
    "        cleaned_out = self.ratings_mat_fitted[user_id,:]\n",
    "        if report_run_time:\n",
    "            print(\"Execution time: %f seconds\" % (time()-start_time))\n",
    "        return cleaned_out\n",
    "\n",
    "    def pred_all_users(self, report_run_time=False):\n",
    "        start_time = time()\n",
    "        all_ratings = [\n",
    "            self.pred_one_user(user_id) for user_id in range(self.n_users)]\n",
    "        if report_run_time:\n",
    "            print(\"Execution time: %f seconds\" % (time()-start_time))\n",
    "        return np.array(all_ratings)\n",
    "\n",
    "    def top_n_recs(self, user_id, n):\n",
    "        pred_ratings = self.pred_one_user(user_id)\n",
    "        item_index_sorted_by_pred_rating = list(np.argsort(pred_ratings))\n",
    "        items_rated_by_this_user = self.ratings_mat[user_id].nonzero()[1]\n",
    "        unrated_items_by_pred_rating = [item for item in item_index_sorted_by_pred_rating\n",
    "                                        if item not in items_rated_by_this_user]\n",
    "        return unrated_items_by_pred_rating[-n:], items_rated_by_this_user"
   ]
  },
  {
   "cell_type": "code",
   "execution_count": 35,
   "metadata": {},
   "outputs": [
    {
     "name": "stdout",
     "output_type": "stream",
     "text": [
      "The top ten recommendation for user Ts2fDK6swkRDIhPpq62_2g are: \n",
      "KINTON RAMEN, The Cups, Antler Kitchen & Bar, JOEY Sherway, Bubble Republic on Bay, August 8, Monga Fried Chicken, Chine Hot Pot & Noodles, Sunrise House, Millie Creperie\n"
     ]
    }
   ],
   "source": [
    "# get recommendations for the same lucky user\n",
    "my_rec_engine = SVD_Recommender()\n",
    "my_rec_engine.fit(ratings_mat)\n",
    "lucky_user_recommend, items_rated_by_this_user = my_rec_engine.top_n_recs(user_id=lucky_user_index, n = 10)\n",
    "print(\"The top ten recommendation for user %s are: \" % (lucky_user))\n",
    "print('%s' % (', '.join(list(set(df['name'][df['business_id'] == business_id[i]]))[0] \\\n",
    "                       for i in lucky_user_recommend)))"
   ]
  },
  {
   "cell_type": "markdown",
   "metadata": {},
   "source": [
    "Let me check whether the recommendation make sense. I can check through whether the category labels are consistent between original returants and recommend restaurants."
   ]
  },
  {
   "cell_type": "code",
   "execution_count": 36,
   "metadata": {},
   "outputs": [
    {
     "name": "stdout",
     "output_type": "stream",
     "text": [
      "Categories from user rated restaurants: \n",
      "american,asian,bagels,bakeries,barbeque,bars,beer,breakfast,brunch,cafes,canadian,caterers,chicken,chinese,coffee,comfort,cream,creperies,desserts,dim,diners,ethnic,event,fast,food,frozen,fusion,ice,imported,internet,japanese,juice,korean,mediterranean,new,nightlife,noodles,pizza,planning,plates,restaurants,salad,sandwiches,seafood,services,shop,small,smoothies,soul,soup,specialty,spirits,sum,sushi,swiss,taiwanese,tapas,tea,thai,traditional,vietnamese,wine,wings,yogurt\n"
     ]
    }
   ],
   "source": [
    "original_rated_restaurants = [list(set(df['name'][df['business_id'] == business_id[i]]))[0] for i in items_rated_by_this_user]\n",
    "mask = [name in original_rated_restaurants for name in df['name']]\n",
    "original_category = df['categories'][mask]\n",
    "vectorizer = TfidfVectorizer(analyzer = 'word', stop_words = 'english', \n",
    "                             lowercase = True\n",
    "                            )\n",
    "original_category_vec = vectorizer.fit_transform(original_category).toarray()\n",
    "original_word = vectorizer.get_feature_names()\n",
    "print('Categories from user rated restaurants: \\n%s' % (','.join(i for i in original_word)))"
   ]
  },
  {
   "cell_type": "code",
   "execution_count": 37,
   "metadata": {},
   "outputs": [
    {
     "name": "stdout",
     "output_type": "stream",
     "text": [
      "Categories from recommend restaurants: \n",
      "american,asian,bars,breakfast,brunch,bubble,buffets,cafes,canadian,chinese,creperies,desserts,fast,food,fusion,hot,japanese,korean,lounges,new,nightlife,noodles,pot,pubs,ramen,restaurants,rooms,sandwiches,soup,sushi,taiwanese,tea,traditional\n"
     ]
    }
   ],
   "source": [
    "recommend_res = [list(set(df['name'][df['business_id'] == business_id[i]]))[0] \\\n",
    "                 for i in lucky_user_recommend]\n",
    "mask = [name in recommend_res for name in df['name']]\n",
    "recommend_category = df['categories'][mask]\n",
    "vectorizer = TfidfVectorizer(analyzer = 'word', stop_words = 'english', \n",
    "                             lowercase = True\n",
    "                            )\n",
    "recommend_category_vec = vectorizer.fit_transform(recommend_category).toarray()\n",
    "recommend_word = vectorizer.get_feature_names()\n",
    "print('Categories from recommend restaurants: \\n%s' % (','.join(i for i in recommend_word)))"
   ]
  },
  {
   "cell_type": "code",
   "execution_count": 38,
   "metadata": {},
   "outputs": [
    {
     "name": "stdout",
     "output_type": "stream",
     "text": [
      "Common labels are: \n",
      "american, asian, bars, breakfast, brunch, cafes, canadian, chinese, creperies, desserts, fast, food, fusion, japanese, korean, new, nightlife, noodles, restaurants, sandwiches, soup, sushi, taiwanese, tea, traditional\n"
     ]
    }
   ],
   "source": [
    "#Check the common labels\n",
    "print(\"Common labels are: \\n%s\" % (', '.join(word for word in recommend_word if word in original_word)))"
   ]
  },
  {
   "cell_type": "code",
   "execution_count": null,
   "metadata": {},
   "outputs": [],
   "source": []
  }
 ],
 "metadata": {
  "anaconda-cloud": {},
  "kernelspec": {
   "display_name": "Python 3",
   "language": "python",
   "name": "python3"
  },
  "language_info": {
   "codemirror_mode": {
    "name": "ipython",
    "version": 3
   },
   "file_extension": ".py",
   "mimetype": "text/x-python",
   "name": "python",
   "nbconvert_exporter": "python",
   "pygments_lexer": "ipython3",
   "version": "3.7.0"
  }
 },
 "nbformat": 4,
 "nbformat_minor": 1
}
