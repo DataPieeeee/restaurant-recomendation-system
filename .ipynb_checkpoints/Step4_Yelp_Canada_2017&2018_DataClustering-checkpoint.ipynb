{
 "cells": [
  {
   "cell_type": "markdown",
   "metadata": {},
   "source": [
    "# Clustering Analysis\n",
    "\n",
    "- According to the previous analysis, rating score is not completely reasonable. For example, reviews from the 4-5 stars cases are very similar and same circumstance also happens in 1-2 stars cases. Therefore, we can infer that one user rating a restaurant 4 satrs or 5 stars both means this user really recommend it.\n",
    "- In this part, I am going to replace the existing rating system with a two-degree system and a three-degree system respectively to see which clustering analysis has a better performance. In a two-dgree system, all the reviews are corresponding 2 degrees, like and dislike, whereas in a three-dgree system, reviews are connected to 3 degrees, most like, average like and dislike. The clutsering method used here is K-means. And it turns out that three clusters has better performance than two clusters.\n"
   ]
  },
  {
   "cell_type": "code",
   "execution_count": 1,
   "metadata": {},
   "outputs": [],
   "source": [
    "import pandas as pd\n",
    "import numpy as np\n",
    "import matplotlib.pyplot as plt\n",
    "%matplotlib inline\n",
    "plt.style.use(\"ggplot\")"
   ]
  },
  {
   "cell_type": "code",
   "execution_count": 2,
   "metadata": {},
   "outputs": [
    {
     "data": {
      "text/html": [
       "<div>\n",
       "<style scoped>\n",
       "    .dataframe tbody tr th:only-of-type {\n",
       "        vertical-align: middle;\n",
       "    }\n",
       "\n",
       "    .dataframe tbody tr th {\n",
       "        vertical-align: top;\n",
       "    }\n",
       "\n",
       "    .dataframe thead th {\n",
       "        text-align: right;\n",
       "    }\n",
       "</style>\n",
       "<table border=\"1\" class=\"dataframe\">\n",
       "  <thead>\n",
       "    <tr style=\"text-align: right;\">\n",
       "      <th></th>\n",
       "      <th>business_id</th>\n",
       "      <th>name</th>\n",
       "      <th>categories</th>\n",
       "      <th>avg_stars</th>\n",
       "      <th>cool</th>\n",
       "      <th>date</th>\n",
       "      <th>funny</th>\n",
       "      <th>review_id</th>\n",
       "      <th>stars</th>\n",
       "      <th>text</th>\n",
       "      <th>useful</th>\n",
       "      <th>user_id</th>\n",
       "    </tr>\n",
       "  </thead>\n",
       "  <tbody>\n",
       "    <tr>\n",
       "      <th>2</th>\n",
       "      <td>--1UhMGODdWsrMastO9DZw</td>\n",
       "      <td>The Spicy Amigos</td>\n",
       "      <td>Restaurants, Mexican</td>\n",
       "      <td>4.0</td>\n",
       "      <td>0</td>\n",
       "      <td>2017-12-12</td>\n",
       "      <td>0</td>\n",
       "      <td>e1HiHHD7CzY5NKZG7hvhTw</td>\n",
       "      <td>5</td>\n",
       "      <td>Absolutely delicious! And great service as wel...</td>\n",
       "      <td>0</td>\n",
       "      <td>Sew1Nht6Q0sGTIZeNvRfLw</td>\n",
       "    </tr>\n",
       "    <tr>\n",
       "      <th>3</th>\n",
       "      <td>--1UhMGODdWsrMastO9DZw</td>\n",
       "      <td>The Spicy Amigos</td>\n",
       "      <td>Restaurants, Mexican</td>\n",
       "      <td>4.0</td>\n",
       "      <td>0</td>\n",
       "      <td>2017-08-09</td>\n",
       "      <td>0</td>\n",
       "      <td>oKm8UTv-QSC0oCbniqwxjg</td>\n",
       "      <td>4</td>\n",
       "      <td>Tasty, authentic Mexican street food that give...</td>\n",
       "      <td>0</td>\n",
       "      <td>NoQCmYKyMPs4D01Wa6dZew</td>\n",
       "    </tr>\n",
       "    <tr>\n",
       "      <th>5</th>\n",
       "      <td>--1UhMGODdWsrMastO9DZw</td>\n",
       "      <td>The Spicy Amigos</td>\n",
       "      <td>Restaurants, Mexican</td>\n",
       "      <td>4.0</td>\n",
       "      <td>1</td>\n",
       "      <td>2017-05-10</td>\n",
       "      <td>0</td>\n",
       "      <td>9CLEOpUCqRkIR02sx-JsMQ</td>\n",
       "      <td>5</td>\n",
       "      <td>A little hole in the wall for some really deli...</td>\n",
       "      <td>0</td>\n",
       "      <td>atyCaAjUYatIFDOGKy00SA</td>\n",
       "    </tr>\n",
       "  </tbody>\n",
       "</table>\n",
       "</div>"
      ],
      "text/plain": [
       "              business_id              name            categories  avg_stars  \\\n",
       "2  --1UhMGODdWsrMastO9DZw  The Spicy Amigos  Restaurants, Mexican        4.0   \n",
       "3  --1UhMGODdWsrMastO9DZw  The Spicy Amigos  Restaurants, Mexican        4.0   \n",
       "5  --1UhMGODdWsrMastO9DZw  The Spicy Amigos  Restaurants, Mexican        4.0   \n",
       "\n",
       "   cool        date  funny               review_id  stars  \\\n",
       "2     0  2017-12-12      0  e1HiHHD7CzY5NKZG7hvhTw      5   \n",
       "3     0  2017-08-09      0  oKm8UTv-QSC0oCbniqwxjg      4   \n",
       "5     1  2017-05-10      0  9CLEOpUCqRkIR02sx-JsMQ      5   \n",
       "\n",
       "                                                text  useful  \\\n",
       "2  Absolutely delicious! And great service as wel...       0   \n",
       "3  Tasty, authentic Mexican street food that give...       0   \n",
       "5  A little hole in the wall for some really deli...       0   \n",
       "\n",
       "                  user_id  \n",
       "2  Sew1Nht6Q0sGTIZeNvRfLw  \n",
       "3  NoQCmYKyMPs4D01Wa6dZew  \n",
       "5  atyCaAjUYatIFDOGKy00SA  "
      ]
     },
     "execution_count": 2,
     "metadata": {},
     "output_type": "execute_result"
    }
   ],
   "source": [
    "df = pd.read_csv('2017_restaurant_reviews.csv')\n",
    "df.head(3)"
   ]
  },
  {
   "cell_type": "markdown",
   "metadata": {},
   "source": [
    "# Cluster the review text data for all the restaurants"
   ]
  },
  {
   "cell_type": "markdown",
   "metadata": {},
   "source": [
    "#### 1. Create a new variable to contain all reviews"
   ]
  },
  {
   "cell_type": "code",
   "execution_count": 3,
   "metadata": {},
   "outputs": [],
   "source": [
    "Reviews = df['text']"
   ]
  },
  {
   "cell_type": "markdown",
   "metadata": {},
   "source": [
    "#### 2. Create training dataset and test dataset in 7:3"
   ]
  },
  {
   "cell_type": "code",
   "execution_count": 4,
   "metadata": {},
   "outputs": [],
   "source": [
    "from sklearn.model_selection import train_test_split\n",
    "Reviews_train, Reviews_test= train_test_split(Reviews, test_size=0.3)\n",
    "# The clsutering algorithms is slow so I will take samples to find optima number of clusters"
   ]
  },
  {
   "cell_type": "markdown",
   "metadata": {},
   "source": [
    "#### 3. NLP"
   ]
  },
  {
   "cell_type": "code",
   "execution_count": 6,
   "metadata": {},
   "outputs": [],
   "source": [
    "from sklearn.feature_extraction.text import TfidfVectorizer\n",
    "# Initialize a TfidfVectorizer object\n",
    "vectorizer = TfidfVectorizer(analyzer = 'word', stop_words = 'english', \n",
    "                             lowercase = True, max_features = 5000\n",
    "                            )\n",
    "# Train the model with training data\n",
    "# Transform the text training data into a bag of words\n",
    "Reviews_train_vec = vectorizer.fit_transform(Reviews_train).toarray()[:300]\n",
    "# Get these words name\n",
    "words = vectorizer.get_feature_names()\n",
    "# Transform all the reviews\n",
    "Reviews_vec = vectorizer.transform(Reviews).toarray()#[:300]\n",
    "Reviews_test_vec = vectorizer.transform(Reviews_test).toarray()#[:300]"
   ]
  },
  {
   "cell_type": "markdown",
   "metadata": {},
   "source": [
    "#### 4. Cluster reviews with KMeans (two clusters) in training data"
   ]
  },
  {
   "cell_type": "code",
   "execution_count": 7,
   "metadata": {},
   "outputs": [
    {
     "data": {
      "text/plain": [
       "KMeans(algorithm='auto', copy_x=True, init='k-means++', max_iter=300,\n",
       "    n_clusters=2, n_init=10, n_jobs=None, precompute_distances='auto',\n",
       "    random_state=None, tol=0.0001, verbose=0)"
      ]
     },
     "execution_count": 7,
     "metadata": {},
     "output_type": "execute_result"
    }
   ],
   "source": [
    "from sklearn.cluster import KMeans\n",
    "km_clf = KMeans(verbose = 0,n_clusters = 2)\n",
    "km_clf.fit(Reviews_train_vec)"
   ]
  },
  {
   "cell_type": "markdown",
   "metadata": {},
   "source": [
    "##### Use this model to make predictions on training data, test data, all data respectively"
   ]
  },
  {
   "cell_type": "code",
   "execution_count": 8,
   "metadata": {},
   "outputs": [],
   "source": [
    "cluster_train = km_clf.predict(Reviews_train_vec)\n",
    "cluster_test = km_clf.predict(Reviews_test_vec)\n",
    "cluster = km_clf.predict(Reviews_vec)"
   ]
  },
  {
   "cell_type": "markdown",
   "metadata": {},
   "source": [
    "#### 5. Inspect the centroids\n",
    "Available to find centroids of the clusters is a good point of KMeans alogorithm. By inspecting the centroids, we can find the key points of each cluster. Here, the centroids are simply a bunch of vectors corresponding reviews' topic keywords. These vectors could be regarded as average review."
   ]
  },
  {
   "cell_type": "code",
   "execution_count": 9,
   "metadata": {},
   "outputs": [
    {
     "data": {
      "text/plain": [
       "array([[1.08420217e-19, 0.00000000e+00, 5.79728622e-03, ...,\n",
       "        1.75513006e-03, 0.00000000e+00, 5.96311195e-19],\n",
       "       [1.44271932e-03, 0.00000000e+00, 1.37713646e-02, ...,\n",
       "        5.76241133e-04, 0.00000000e+00, 4.77990782e-04]])"
      ]
     },
     "execution_count": 9,
     "metadata": {},
     "output_type": "execute_result"
    }
   ],
   "source": [
    "km_clf.cluster_centers_"
   ]
  },
  {
   "cell_type": "markdown",
   "metadata": {},
   "source": [
    "#### 6. Map the centroids to words and present the top 20 features for each cluster.\n",
    "Mapping centroids vectors back into 'word space' to make any sense of these numbers. These words would be the most representative of a cluster. Then print out top 20 keywords in each cluster."
   ]
  },
  {
   "cell_type": "code",
   "execution_count": 10,
   "metadata": {},
   "outputs": [
    {
     "name": "stdout",
     "output_type": "stream",
     "text": [
      "Cluster 0 : food, great, best, sushi, recommend, fresh, place, good, highly, service, love, worth, coffee, probably, excellent, time, delicious, nice, amazing, really\n",
      "Cluster 1 : good, food, service, place, just, great, like, don, chicken, delicious, really, came, restaurant, try, table, meal, definitely, got, sauce, order\n"
     ]
    }
   ],
   "source": [
    "cluster_top_features = list()\n",
    "# Sort each centroid vector to find the top 20 features\n",
    "for i in range(km_clf.n_clusters):\n",
    "    cluster_top_features.append(np.argsort(km_clf.cluster_centers_[i])[::-1][:20])\n",
    "# Map vector back to words and print out\n",
    "for num, centroid in enumerate(cluster_top_features):\n",
    "    print ('Cluster',num,':',(\", \".join(words[i] for i in centroid)))"
   ]
  },
  {
   "cell_type": "markdown",
   "metadata": {},
   "source": [
    "It seems that two clusters are both for positive reviews. This is quite strange. Then randomly to find samples from both 2 clusters with rating scores and reviews to get a sense of the cluster."
   ]
  },
  {
   "cell_type": "code",
   "execution_count": 11,
   "metadata": {},
   "outputs": [
    {
     "name": "stdout",
     "output_type": "stream",
     "text": [
      "The cluster is 1.\n",
      "The star is: 1 stars.\n",
      "The review is:\n",
      "So disappointed in my experience today. I've been to Romados several times before when the food was decent with generous portions but today was not their day. First off, if you've bought a Groupon, they don't tell you to first head to the cash to validate it. So we waited in line to order food only to then be told to go line up at the cash before coming back to order our food. Then we go back to the guy prepping the food with our validated Groupon who's fulfilling our order and he hands us a bag of fries. We're hungry, we've been waiting for a while so we start eating them until he says \"no, you don't get fries, only poutine\" and takes it back only to throw the rest in with the large batch of fries for other customers. How DISGUSTING and unhygienic. Finally (to put the cherry on top), we decided at the last minute to take a small bottle of coke instead of the 1.5L water bottle included in our order. The old woman behind the cash literally opens the door and is ready to chase us down the street, which almost gets me run over at this point, and rudely tells me to return the coke that I stole. I explain that I took the coke instead of the water but at this point, the experience had deteriorated to a point of no return. She grabbed the coke, returns it to the fridge, and doesn't even bring me my water. When I ask her for it, she tells me to go get it myself and won't even look at me. Congratulations, you really stopped someone from stealing(!) I will make sure to try every single one of their competitors instead and never return. Word of mouth is a powerful tool and you've just lost a loyal customer..\n",
      "\n",
      "The cluster is 2.\n",
      "The star is: 5 stars.\n",
      "The review is:\n",
      "I love this place! I came across this place a few weeks ago and I can't get enough. This place has become my go-to cafe whenever I'm in the area. The establishment is a nice little cafe tucked away at the bottom of a building filled with local startups. The place gives off rustic, hip, and friendly vibes, and the baristas are very casual. There is adequate space to sit here and lots of natural lighting and nice decor.\n",
      "\n",
      "The last time I was here, the barista working was super friendly and helped my friends and I in selecting what to order. Their teas are very aromatic - I really liked the hibiscus tea. I tried the Ethiopian blend of coffee and also a regular latte. Good. Stuff. I'm not the biggest coffee connoisseur but I very much enjoyed the latte. \n",
      "\n",
      "Their food items are very tasty too - I tried the almond croissant/pastry (sooo good!) and also their chia seed pudding. I am not exaggerating, but the chia seed pudding is by far THE BEST I've ever had. It had a nice vanilla / almond / cardamom flavour with coconut shavings, fruit, and granola. Unlike other chia seed puddings, this one is very thick and not watery. For about $8-9 dollars, the pudding is definitely worth the price and I HIGHLY RECOMMEND it. \n",
      "\n",
      "I'm a huge fan of this place and I've become a regular whenever I'm in the area!.\n",
      "\n"
     ]
    }
   ],
   "source": [
    "for i in range(km_clf.n_clusters):\n",
    "    sub_cluster = np.arange(0, cluster_train.shape[0])[ cluster_train == i]\n",
    "    sample = np.random.choice(sub_cluster, 1)\n",
    "    print(\"The cluster is %d.\" % (i+1))\n",
    "    print(\"The star is: %s stars.\" % df['stars'].iloc[sample[0]])\n",
    "    print(\"The review is:\\n%s.\\n\" % df['text'].iloc[sample[0]])"
   ]
  },
  {
   "cell_type": "code",
   "execution_count": 13,
   "metadata": {},
   "outputs": [
    {
     "name": "stdout",
     "output_type": "stream",
     "text": [
      "The correlation coefficient between number of reviews and average rating is 0.323903.\n"
     ]
    }
   ],
   "source": [
    "clu_num=[]\n",
    "pop=[]\n",
    "for j in range(1000):\n",
    "    for i in range(km_clf.n_clusters):\n",
    "        sub_cluster = np.arange(0, cluster.shape[0])[cluster == i]\n",
    "        sample = np.random.choice(sub_cluster, 1)\n",
    "        clu_num.append(i+1)\n",
    "        res=df['business_id'].iloc[sample[0]]\n",
    "        pop.append((df['business_id']==res).value_counts())\n",
    "pp=[]\n",
    "for i in pop:\n",
    "    pp.append(i[1])\n",
    "from scipy.stats.stats import pearsonr \n",
    "print('The correlation coefficient between number of reviews and average rating is %f.' \\\n",
    "      % (pearsonr(clu_num, pp)[0]))"
   ]
  },
  {
   "cell_type": "markdown",
   "metadata": {},
   "source": [
    "As what i thought before, this cluster performs bad even in the training data."
   ]
  },
  {
   "cell_type": "markdown",
   "metadata": {},
   "source": [
    "#### 7. Try 3 clusters"
   ]
  },
  {
   "cell_type": "code",
   "execution_count": 14,
   "metadata": {},
   "outputs": [
    {
     "data": {
      "text/plain": [
       "KMeans(algorithm='auto', copy_x=True, init='k-means++', max_iter=300,\n",
       "    n_clusters=3, n_init=10, n_jobs=None, precompute_distances='auto',\n",
       "    random_state=None, tol=0.0001, verbose=0)"
      ]
     },
     "execution_count": 14,
     "metadata": {},
     "output_type": "execute_result"
    }
   ],
   "source": [
    "# same as 2 clusters used before\n",
    "km_3_clusters = KMeans(verbose = 0, n_clusters = 3)\n",
    "km_3_clusters.fit(Reviews_train_vec)"
   ]
  },
  {
   "cell_type": "code",
   "execution_count": 15,
   "metadata": {},
   "outputs": [],
   "source": [
    "cluster_train_3 = km_3_clusters.predict(Reviews_train_vec)\n",
    "cluster_test_3 = km_3_clusters.predict(Reviews_test_vec)\n",
    "cluster_3 = km_3_clusters.predict(Reviews_vec)"
   ]
  },
  {
   "cell_type": "code",
   "execution_count": 16,
   "metadata": {},
   "outputs": [
    {
     "name": "stdout",
     "output_type": "stream",
     "text": [
      "1: food,great,service,place,meal,delicious,don,restaurant,definitely,best,nice,little,wait,worth,night,just,amazing,good,like,recommend\n",
      "2: good,food,chicken,place,just,really,like,came,service,great,got,time,try,hot,love,come,sauce,fresh,ordered,nice\n",
      "3: sushi,pizza,et,excellent,est,recommend,service,le,highly,good,rolls,best,try,indian,great,place,nous,bar,tried,delicious\n"
     ]
    }
   ],
   "source": [
    "cluster_top_features = list()\n",
    "for i in range(km_3_clusters.n_clusters):\n",
    "    cluster_top_features.append(np.argsort(km_3_clusters.cluster_centers_[i])[::-1][:20])\n",
    "for num, centroid in enumerate(cluster_top_features):\n",
    "    print ('%d: %s' % (num+1, \",\".join(words[i] for i in centroid)))"
   ]
  },
  {
   "cell_type": "markdown",
   "metadata": {},
   "source": [
    "It seems that three clusters can get the positive, negative and in-between types."
   ]
  },
  {
   "cell_type": "markdown",
   "metadata": {},
   "source": [
    "Randomly to find samples from 3 clusters with rating scores and reviews to get a sense."
   ]
  },
  {
   "cell_type": "code",
   "execution_count": 17,
   "metadata": {},
   "outputs": [
    {
     "name": "stdout",
     "output_type": "stream",
     "text": [
      "The cluster is 1.\n",
      "The star is: 1 stars.\n",
      "The review is:\n",
      "Very small portion for the price. Food tasted funny.  Won't come back again, won't recommend to anyone..\n",
      "\n",
      "The cluster is 2.\n",
      "The star is: 3 stars.\n",
      "The review is:\n",
      "I saw the raving reviews and am staying right across the street from this food joint, so, I had to stop by. The setup is pretty much made for a quick food grab. The staff was kind and the service was quick. I ordered a chicken combo that comes with chicken, fries, and salad. I also got some rice. The seasoning on the fries and rice really helped bring the quality of the meal up because I really wasn't shocked by this meal. I was expecting amazing chicken and was let down. It was alright, but definitely not what some of these reviews make it out to be. The salad had this weird mustard flavored dressing that I was not fond of..\n",
      "\n",
      "The cluster is 3.\n",
      "The star is: 3 stars.\n",
      "The review is:\n",
      "I have been to this place since it was called Aka Teppan. It is a great place to eat if you are looking for some good food. The problem is that this place is really small. Usually, there is a wait. \n",
      "\n",
      "In terms of the menu, this place has more items that Aka Teppan. The food is similar, but they also serve a couple of different things. For example, there is a wider range of appetizers, and desserts. I haven't tried the desserts, but the fries and most of the appetizers are great. \n",
      "\n",
      "I wasn't a fan of their drinks. It just felt like soda water/sprite with some flavouring or food colouring. Nothing to write home about. \n",
      "\n",
      "Service is very average. It can be really slow sometimes with all the people that are there. I find that a little bit strange with the size of the place. \n",
      "\n",
      "Overall, I would go back. I still have to try the desserts there..\n",
      "\n"
     ]
    }
   ],
   "source": [
    "for i in range(km_3_clusters.n_clusters):\n",
    "    sub_cluster = np.arange(0, cluster_train_3.shape[0])[cluster_train_3 == i]\n",
    "    sample = np.random.choice(sub_cluster, 1)\n",
    "    print(\"The cluster is %d.\" % (i+1))\n",
    "    print(\"The star is: %s stars.\" % df['stars'].iloc[sample[0]])\n",
    "    print(\"The review is:\\n%s.\\n\" % df['text'].iloc[sample[0]])"
   ]
  },
  {
   "cell_type": "markdown",
   "metadata": {},
   "source": [
    "It seems much better than 2 clusters. Then to test the model in test data and entire dataset."
   ]
  },
  {
   "cell_type": "code",
   "execution_count": 18,
   "metadata": {},
   "outputs": [
    {
     "name": "stdout",
     "output_type": "stream",
     "text": [
      "The cluster is 1.\n",
      "The star is: 1 stars.\n",
      "The review is:\n",
      "It's my first time writing review on Yelp. But I am so disgusted by the dish I had for take out so I have to speak out. It's just a bowl of brown thick goo with a little ribs, bell pepper and onion pieces. The ribs and veggie tastes weird and a little bit bitter. And my throat felt itchy after tasting it. What my bf had is also terrible. Definitely one of the most horrible food I had for my entire life!.\n",
      "\n",
      "The cluster is 2.\n",
      "The star is: 4 stars.\n",
      "The review is:\n",
      "Tasty, authentic Mexican street food that gives appropriate portions relative to the prices..\n",
      "\n",
      "The cluster is 3.\n",
      "The star is: 5 stars.\n",
      "The review is:\n",
      "Meilleur poulet portugais à Montréal. Les frites sont délicieuses. A deux, on commande le demi poulet avec extra sauce piquante à côté. On peut acheter leurs épices piri piri pour cuisiner chez soi: j'en mets sur le pop corn c'est vraiment bon !.\n",
      "\n"
     ]
    }
   ],
   "source": [
    "#in test data\n",
    "for i in range(km_3_clusters.n_clusters):\n",
    "    sub_cluster = np.arange(0, cluster_test_3.shape[0])[cluster_test_3 == i]\n",
    "    \n",
    "    sample = np.random.choice(sub_cluster, 1)\n",
    "    print(\"The cluster is %d.\" % (i+1))\n",
    "    print(\"The star is: %s stars.\" % df['stars'].iloc[sample[0]])\n",
    "    print(\"The review is:\\n%s.\\n\" % df['text'].iloc[sample[0]])"
   ]
  },
  {
   "cell_type": "code",
   "execution_count": 19,
   "metadata": {},
   "outputs": [
    {
     "name": "stdout",
     "output_type": "stream",
     "text": [
      "The cluster is 1.\n",
      "The star is: 1 stars.\n",
      "The review is:\n",
      "My parents are never one to complain, but their experience at this restaurant was so negative that they asked me to post this review on their behalf since they don't have Yelp accounts. The abridged version: My parents arrived around 8:30pm and left at 10:30pm last night having not received any of the food they ordered despite asking three times about the status of their order.\n",
      "\n",
      "Last night, they waited about half an hour to be seated and over an hour for their food, which they never received. They noticed 2-3 tables who were seated and ordered after them receive their food. Finally, after ONE HOUR at least, they asked their server about the food and the server apologized and informed them that the \"kitchen was experiencing problems\". They questioned the server about why tables who were seated and ordered after them had received their food already and were given the same excuse about kitchen issues. They ordered meals off the menu with no special exceptions or anything complicated. My parents asked the servers THREE TIMES about their order and each time, they were told that the server would check. All three times, no one returned to inform them of the status. My parents arrived around 8:30pm and finally left at 10:30pm hungry and upset without having been served any food. Our family eats out very often and this is by far one of the most unprofessional and disappointing experiences they've ever had. They spoke to some diners beside them who were also unhappy about their experience with the wait times and even cancelled their dessert order..\n",
      "\n",
      "The cluster is 2.\n",
      "The star is: 3 stars.\n",
      "The review is:\n",
      "After Flaming Kitchen took over Aka Tenppan it has gotten much worse in comparison. Keeping the concept of Aka Tenppan where dishes are served on a sizzling plate their menu has expanded to include more desserts and drinks. \n",
      "\n",
      "We came on a weekend for dinner and there wasn't too much of a wait. We ordered a few snacks to share including the deep fried squid balls and shake shake fries where you can choose 1 flavouring of your choice to sprinkle over your fries and shake well to evenly coat it. \n",
      "\n",
      "For the main event, I ordered the Black Curry Pork Cutlet Udon Soup. I found the curry wasn't that flavourful and the cutlet got soggy in the soup when I got to it. My friends all got the other sizzling plates and the portions have gotten smaller since the change of management. \n",
      "\n",
      "This place is good for the novelty but I probably won't be returning..\n",
      "\n",
      "The cluster is 3.\n",
      "The star is: 4 stars.\n",
      "The review is:\n",
      "Très bon poulet BBQ à la Portuguaise. Assurez-vous de prendre avec sauce piquante ai vous aimez un peu de piquant, vous pouvez aussi en acheter extra. Les frites maisons sont super, ainsi que la vinagrette de la salade maison! La meilleure valeur si vous êtes deux c'est de prendre le demi poulet en combo avec frites et salade, versus deux repas individuels. Le chorizo grillé est très bon aussi.\n",
      "\n"
     ]
    }
   ],
   "source": [
    "# in entire dataset\n",
    "c_n=[]\n",
    "star=[]\n",
    "con=[]\n",
    "sub=[]\n",
    "for i in range(km_3_clusters.n_clusters):\n",
    "    sub_cluster = np.arange(0, cluster_3.shape[0])[cluster_3 == i]\n",
    "    sample = np.random.choice(sub_cluster, 1)\n",
    "    sub.append(sample)\n",
    "    print(\"The cluster is %d.\" % (i+1))\n",
    "    print(\"The star is: %s stars.\" % df['stars'].iloc[sample[0]])\n",
    "    print(\"The review is:\\n%s.\\n\" % df['text'].iloc[sample[0]])\n",
    "\n",
    "    "
   ]
  },
  {
   "cell_type": "markdown",
   "metadata": {},
   "source": [
    "much better to associate reviews with cluster than past rating system!"
   ]
  },
  {
   "cell_type": "code",
   "execution_count": null,
   "metadata": {},
   "outputs": [],
   "source": [
    "df['new_cluster']=[(cluster+1) for cluster in cluster_3]  #df['new_cluster']=list((cluster+1) for cluster in three_cluster_pred)"
   ]
  },
  {
   "cell_type": "code",
   "execution_count": null,
   "metadata": {},
   "outputs": [],
   "source": [
    "df.to_csv('2017_restaurant_new_reviews.csv')"
   ]
  }
 ],
 "metadata": {
  "anaconda-cloud": {},
  "kernelspec": {
   "display_name": "Python 3",
   "language": "python",
   "name": "python3"
  },
  "language_info": {
   "codemirror_mode": {
    "name": "ipython",
    "version": 3
   },
   "file_extension": ".py",
   "mimetype": "text/x-python",
   "name": "python",
   "nbconvert_exporter": "python",
   "pygments_lexer": "ipython3",
   "version": "3.6.5"
  }
 },
 "nbformat": 4,
 "nbformat_minor": 1
}
