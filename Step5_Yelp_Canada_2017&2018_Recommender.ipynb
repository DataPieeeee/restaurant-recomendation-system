{
 "cells": [
  {
   "cell_type": "markdown",
   "metadata": {},
   "source": [
    "# Build the Restaurant Recommender\n",
    "Summary: \n",
    "- With current rating system, I can actually make use of it to build recommendation system. \n",
    "- Here I build item-item colaborative filtering recommender system, NMF_recommender system and SVD_recommender system.\n",
    "- I compare the performance of recommender system by checking the common labels shared by recommendered restaurants and visited restaurants.\n",
    "- It turns out that the item-item colaborative filtering recommender system and SVD_recommender system have better performance. SVD_recommender system shows faster computation speed. Therefore, SVD_recommender system wins the case here.\n",
    "- The reason can be concluded as:\n",
    "    - colaborative filtering need to calculate pair-wise distance so it is slower than matrix factorization models.\n",
    "    - SVD_recommender with restaurants labels solves the puzzle of choosing latent factor. Therefore, SVD_recommender system outperforms NMF_recommender system\n"
   ]
  },
  {
   "cell_type": "code",
   "execution_count": 34,
   "metadata": {},
   "outputs": [],
   "source": [
    "import pandas as pd\n",
    "import numpy as np\n",
    "import matplotlib.pyplot as plt\n",
    "% matplotlib inline\n",
    "plt.style.use(\"ggplot\")"
   ]
  },
  {
   "cell_type": "code",
   "execution_count": 2,
   "metadata": {},
   "outputs": [],
   "source": [
    "df = pd.read_csv('2017_restaurant_reviews.csv')"
   ]
  },
  {
   "cell_type": "code",
   "execution_count": 3,
   "metadata": {},
   "outputs": [
    {
     "data": {
      "text/html": [
       "<div>\n",
       "<style scoped>\n",
       "    .dataframe tbody tr th:only-of-type {\n",
       "        vertical-align: middle;\n",
       "    }\n",
       "\n",
       "    .dataframe tbody tr th {\n",
       "        vertical-align: top;\n",
       "    }\n",
       "\n",
       "    .dataframe thead th {\n",
       "        text-align: right;\n",
       "    }\n",
       "</style>\n",
       "<table border=\"1\" class=\"dataframe\">\n",
       "  <thead>\n",
       "    <tr style=\"text-align: right;\">\n",
       "      <th></th>\n",
       "      <th>business_id</th>\n",
       "      <th>name</th>\n",
       "      <th>categories</th>\n",
       "      <th>avg_stars</th>\n",
       "      <th>cool</th>\n",
       "      <th>date</th>\n",
       "      <th>funny</th>\n",
       "      <th>review_id</th>\n",
       "      <th>stars</th>\n",
       "      <th>text</th>\n",
       "      <th>useful</th>\n",
       "      <th>user_id</th>\n",
       "    </tr>\n",
       "  </thead>\n",
       "  <tbody>\n",
       "    <tr>\n",
       "      <th>2</th>\n",
       "      <td>--1UhMGODdWsrMastO9DZw</td>\n",
       "      <td>The Spicy Amigos</td>\n",
       "      <td>Restaurants, Mexican</td>\n",
       "      <td>4.0</td>\n",
       "      <td>0</td>\n",
       "      <td>2017-12-12</td>\n",
       "      <td>0</td>\n",
       "      <td>e1HiHHD7CzY5NKZG7hvhTw</td>\n",
       "      <td>5</td>\n",
       "      <td>Absolutely delicious! And great service as wel...</td>\n",
       "      <td>0</td>\n",
       "      <td>Sew1Nht6Q0sGTIZeNvRfLw</td>\n",
       "    </tr>\n",
       "    <tr>\n",
       "      <th>3</th>\n",
       "      <td>--1UhMGODdWsrMastO9DZw</td>\n",
       "      <td>The Spicy Amigos</td>\n",
       "      <td>Restaurants, Mexican</td>\n",
       "      <td>4.0</td>\n",
       "      <td>0</td>\n",
       "      <td>2017-08-09</td>\n",
       "      <td>0</td>\n",
       "      <td>oKm8UTv-QSC0oCbniqwxjg</td>\n",
       "      <td>4</td>\n",
       "      <td>Tasty, authentic Mexican street food that give...</td>\n",
       "      <td>0</td>\n",
       "      <td>NoQCmYKyMPs4D01Wa6dZew</td>\n",
       "    </tr>\n",
       "    <tr>\n",
       "      <th>5</th>\n",
       "      <td>--1UhMGODdWsrMastO9DZw</td>\n",
       "      <td>The Spicy Amigos</td>\n",
       "      <td>Restaurants, Mexican</td>\n",
       "      <td>4.0</td>\n",
       "      <td>1</td>\n",
       "      <td>2017-05-10</td>\n",
       "      <td>0</td>\n",
       "      <td>9CLEOpUCqRkIR02sx-JsMQ</td>\n",
       "      <td>5</td>\n",
       "      <td>A little hole in the wall for some really deli...</td>\n",
       "      <td>0</td>\n",
       "      <td>atyCaAjUYatIFDOGKy00SA</td>\n",
       "    </tr>\n",
       "  </tbody>\n",
       "</table>\n",
       "</div>"
      ],
      "text/plain": [
       "              business_id              name            categories  avg_stars  \\\n",
       "2  --1UhMGODdWsrMastO9DZw  The Spicy Amigos  Restaurants, Mexican        4.0   \n",
       "3  --1UhMGODdWsrMastO9DZw  The Spicy Amigos  Restaurants, Mexican        4.0   \n",
       "5  --1UhMGODdWsrMastO9DZw  The Spicy Amigos  Restaurants, Mexican        4.0   \n",
       "\n",
       "   cool        date  funny               review_id  stars  \\\n",
       "2     0  2017-12-12      0  e1HiHHD7CzY5NKZG7hvhTw      5   \n",
       "3     0  2017-08-09      0  oKm8UTv-QSC0oCbniqwxjg      4   \n",
       "5     1  2017-05-10      0  9CLEOpUCqRkIR02sx-JsMQ      5   \n",
       "\n",
       "                                                text  useful  \\\n",
       "2  Absolutely delicious! And great service as wel...       0   \n",
       "3  Tasty, authentic Mexican street food that give...       0   \n",
       "5  A little hole in the wall for some really deli...       0   \n",
       "\n",
       "                  user_id  \n",
       "2  Sew1Nht6Q0sGTIZeNvRfLw  \n",
       "3  NoQCmYKyMPs4D01Wa6dZew  \n",
       "5  atyCaAjUYatIFDOGKy00SA  "
      ]
     },
     "execution_count": 3,
     "metadata": {},
     "output_type": "execute_result"
    }
   ],
   "source": [
    "df.head(3)"
   ]
  },
  {
   "cell_type": "markdown",
   "metadata": {},
   "source": [
    "## Clean data and get rating data "
   ]
  },
  {
   "cell_type": "markdown",
   "metadata": {},
   "source": [
    "#### 1. Select relevant columns in the original dataframe"
   ]
  },
  {
   "cell_type": "code",
   "execution_count": 4,
   "metadata": {},
   "outputs": [
    {
     "data": {
      "text/html": [
       "<div>\n",
       "<style scoped>\n",
       "    .dataframe tbody tr th:only-of-type {\n",
       "        vertical-align: middle;\n",
       "    }\n",
       "\n",
       "    .dataframe tbody tr th {\n",
       "        vertical-align: top;\n",
       "    }\n",
       "\n",
       "    .dataframe thead th {\n",
       "        text-align: right;\n",
       "    }\n",
       "</style>\n",
       "<table border=\"1\" class=\"dataframe\">\n",
       "  <thead>\n",
       "    <tr style=\"text-align: right;\">\n",
       "      <th></th>\n",
       "      <th>business_id</th>\n",
       "      <th>user_id</th>\n",
       "      <th>stars</th>\n",
       "    </tr>\n",
       "  </thead>\n",
       "  <tbody>\n",
       "    <tr>\n",
       "      <th>2</th>\n",
       "      <td>--1UhMGODdWsrMastO9DZw</td>\n",
       "      <td>Sew1Nht6Q0sGTIZeNvRfLw</td>\n",
       "      <td>5</td>\n",
       "    </tr>\n",
       "    <tr>\n",
       "      <th>3</th>\n",
       "      <td>--1UhMGODdWsrMastO9DZw</td>\n",
       "      <td>NoQCmYKyMPs4D01Wa6dZew</td>\n",
       "      <td>4</td>\n",
       "    </tr>\n",
       "    <tr>\n",
       "      <th>5</th>\n",
       "      <td>--1UhMGODdWsrMastO9DZw</td>\n",
       "      <td>atyCaAjUYatIFDOGKy00SA</td>\n",
       "      <td>5</td>\n",
       "    </tr>\n",
       "  </tbody>\n",
       "</table>\n",
       "</div>"
      ],
      "text/plain": [
       "              business_id                 user_id  stars\n",
       "2  --1UhMGODdWsrMastO9DZw  Sew1Nht6Q0sGTIZeNvRfLw      5\n",
       "3  --1UhMGODdWsrMastO9DZw  NoQCmYKyMPs4D01Wa6dZew      4\n",
       "5  --1UhMGODdWsrMastO9DZw  atyCaAjUYatIFDOGKy00SA      5"
      ]
     },
     "execution_count": 4,
     "metadata": {},
     "output_type": "execute_result"
    }
   ],
   "source": [
    "recommender_df = df[['business_id', 'user_id', 'stars']]\n",
    "recommender_df.head(3)"
   ]
  },
  {
   "cell_type": "markdown",
   "metadata": {},
   "source": [
    "There are many users that haven't given many reviews, I will exclude these users from the item-item similarity recommender."
   ]
  },
  {
   "cell_type": "code",
   "execution_count": 5,
   "metadata": {},
   "outputs": [
    {
     "name": "stdout",
     "output_type": "stream",
     "text": [
      "                        business_id  stars\n",
      "user_id                                   \n",
      "--2PnhMMH7EYoY3wywOvgQ            1      1\n",
      "--6kLBBsm0GPM9vIB2YBDw            1      1\n",
      "--7gjElmOrthETJ8XqzMBw            1      1\n",
      "--8NUFYnpU_Zu09TgcLevw            1      1\n",
      "--BumyUHiO_7YsHurb9Hkw           43     43\n",
      "--C93xIlmjtgQfSOIpcQSA            1      1\n",
      "--DKDJlRHfsvufdGSk_Sdw            1      1\n",
      "--NIc98RMssgy0mSZL3vpA            9      9\n",
      "--Qh8yKWAvIP4V4K8ZPfHA           33     33\n",
      "--WhK4MJx0fKvg64LqwStg            1      1\n",
      "--YhjyV-ce1nFLYxP49C5A           34     34\n",
      "--_i0TDbSrV8HN19XlSEFw            2      2\n",
      "--b8fKG7GFGSGfl_BzTnPw            1      1\n",
      "--cj94VBt0CHYM2UfQBglg            1      1\n",
      "--neBDssyZlHqAWgrHtUBQ            2      2\n",
      "--t6W1JHbStaCp5RO05thA            1      1\n",
      "-018WmPPk8qlp3TEiqqMVw            1      1\n",
      "-03y31IzykunU9azzgLsoQ            1      1\n",
      "-06T53TLMkg_xGl3flhDNw            1      1\n",
      "-0OE9Pn8vSK-WjJeRtHDtw            1      1\n",
      "-0OSHsV_0VZz4E09FLgQtQ            1      1\n",
      "-0Z6b2zZhdXV2pKX4jcCEQ            1      1\n",
      "-0kOvwKyRPhMtkj41zMLNw            1      1\n",
      "-0rIBp-WO2vjT002yb-OGA            2      2\n",
      "-0uxNDq75gvHQG_PF54Xqw            1      1\n",
      "-0zNhSy8h7PDE4tsv0nRMQ            1      1\n",
      "-0zUpn_6kTWXHWzB85u7yA            8      8\n",
      "-17V1bykHQQbMQb1ArXU2g            2      2\n",
      "-1A5R29wkTHmiLAwrlGE0Q            1      1\n",
      "-1A6IYfwlgaaZ2NWFMieLQ            1      1\n",
      "...                             ...    ...\n",
      "zxXQgpt0hHK3OWYPf97ykw            3      3\n",
      "zxoVuq_Xd1khUdosVsiY6w            1      1\n",
      "zxsGLpHvzbVqNDm4svFQ5g            1      1\n",
      "zy-bRNv9Wp3fmNM4TD9kIw           11     11\n",
      "zy2ZwrYjSAGv6AMF039iMw            1      1\n",
      "zy6jvDYCMpkfmN34nKK7bQ            1      1\n",
      "zyDe59WFvIypdOxhKSDsRw            2      2\n",
      "zyYWUdaodH0h1jCZAvFRPg            5      5\n",
      "zyZIwX6OZVg5nEg5S9igqg            1      1\n",
      "zybT4EH-J2WOU4OlrLuzpQ            1      1\n",
      "zyg4-MFtfPWmwucVazSjfw           50     50\n",
      "zygFiuvfUwY7b619itlBQA            1      1\n",
      "zyiVxl6qWg9RVThstlOBuw           12     12\n",
      "zyihxqgcQAfmCmosIi7fvQ            1      1\n",
      "zyoRYfLhwUh35MxNm6oD8A            1      1\n",
      "zyvYVFRSLqChH8kb0V7i9A            1      1\n",
      "zyzoF7KjvOHmRJ1OO5JtLQ            5      5\n",
      "zz3Cp7DPGCE1Tg9Q8Y2fMg            1      1\n",
      "zz5W9nZG706QdTCGTnLufA            2      2\n",
      "zzKsgIF472IyDpJxmHDIpw            5      5\n",
      "zzPtxnDCp_jQcKNF5vMB3Q            1      1\n",
      "zzTKylg4uoI4VdwR1Ky2LQ            1      1\n",
      "zzVGOFsIjStuFsy_kyJnIg            1      1\n",
      "zzWlTfNssZPlQo4_cKujGw            1      1\n",
      "zzhJKQjEU8IvKVVkmo3yxQ            1      1\n",
      "zzmhLxcZ4XZQyz95c_KbOA            2      2\n",
      "zzo--VpSQh8PpsGVeMC1dQ           16     16\n",
      "zzsmdXHUFBYuKUtPbXWjRA            2      2\n",
      "zztkCqqgR6VntYbqio4UTQ            2      2\n",
      "zzyMMeUZzKAy7KQhM7lU2w            2      2\n",
      "\n",
      "[72286 rows x 2 columns]\n"
     ]
    }
   ],
   "source": [
    "print(recommender_df.groupby('user_id').count())"
   ]
  },
  {
   "cell_type": "code",
   "execution_count": 6,
   "metadata": {},
   "outputs": [
    {
     "data": {
      "text/plain": [
       "user_id\n",
       "--2PnhMMH7EYoY3wywOvgQ     1\n",
       "--6kLBBsm0GPM9vIB2YBDw     1\n",
       "--7gjElmOrthETJ8XqzMBw     1\n",
       "--8NUFYnpU_Zu09TgcLevw     1\n",
       "--BumyUHiO_7YsHurb9Hkw    43\n",
       "Name: stars, dtype: int64"
      ]
     },
     "execution_count": 6,
     "metadata": {},
     "output_type": "execute_result"
    }
   ],
   "source": [
    "reviews_count_df = recommender_df.groupby('user_id')['stars'].count()\n",
    "reviews_count_df.head(5)"
   ]
  },
  {
   "cell_type": "code",
   "execution_count": 7,
   "metadata": {},
   "outputs": [
    {
     "name": "stdout",
     "output_type": "stream",
     "text": [
      "Max reviews: 227, Min reviews: 1\n",
      "Median reviews: 1.0, Mean reviews: 2.75\n",
      "25% reviews: 1,  75% reviews: 2\n",
      "Number of unique business: 13181\n"
     ]
    }
   ],
   "source": [
    "print('Max reviews: %s, Min reviews: %s' % (max(reviews_count_df), min(reviews_count_df)))\n",
    "print('Median reviews: %s, Mean reviews: %s' % (np.median(reviews_count_df), round(np.mean(reviews_count_df),2)))\n",
    "print('25%% reviews: %d,  75%% reviews: %d' % (np.percentile(reviews_count_df, 25), np.percentile(reviews_count_df, 75)))\n",
    "print('Number of unique business: %d' % (len(set(recommender_df['business_id']))))"
   ]
  },
  {
   "cell_type": "code",
   "execution_count": 8,
   "metadata": {},
   "outputs": [
    {
     "data": {
      "text/html": [
       "<div>\n",
       "<style scoped>\n",
       "    .dataframe tbody tr th:only-of-type {\n",
       "        vertical-align: middle;\n",
       "    }\n",
       "\n",
       "    .dataframe tbody tr th {\n",
       "        vertical-align: top;\n",
       "    }\n",
       "\n",
       "    .dataframe thead th {\n",
       "        text-align: right;\n",
       "    }\n",
       "</style>\n",
       "<table border=\"1\" class=\"dataframe\">\n",
       "  <thead>\n",
       "    <tr style=\"text-align: right;\">\n",
       "      <th></th>\n",
       "      <th>business_id</th>\n",
       "      <th>user_id</th>\n",
       "      <th>stars</th>\n",
       "    </tr>\n",
       "  </thead>\n",
       "  <tbody>\n",
       "    <tr>\n",
       "      <th>21</th>\n",
       "      <td>--1UhMGODdWsrMastO9DZw</td>\n",
       "      <td>TzU30D-CjtPP3XumggK0Mg</td>\n",
       "      <td>4</td>\n",
       "    </tr>\n",
       "    <tr>\n",
       "      <th>22</th>\n",
       "      <td>--1UhMGODdWsrMastO9DZw</td>\n",
       "      <td>ZgAzKwganIXImRAMcvdK_A</td>\n",
       "      <td>4</td>\n",
       "    </tr>\n",
       "    <tr>\n",
       "      <th>23</th>\n",
       "      <td>--1UhMGODdWsrMastO9DZw</td>\n",
       "      <td>m-p-7WuB85UjsLDaxJXCXA</td>\n",
       "      <td>5</td>\n",
       "    </tr>\n",
       "    <tr>\n",
       "      <th>41</th>\n",
       "      <td>--DaPTJW3-tB1vP-PfdTEg</td>\n",
       "      <td>2HjBjUrqjjVfopPfghgpqw</td>\n",
       "      <td>3</td>\n",
       "    </tr>\n",
       "    <tr>\n",
       "      <th>85</th>\n",
       "      <td>--SrzpvFLwP_YFwB_Cetow</td>\n",
       "      <td>6eCgSb66TE1LeiWPPBPnTg</td>\n",
       "      <td>4</td>\n",
       "    </tr>\n",
       "  </tbody>\n",
       "</table>\n",
       "</div>"
      ],
      "text/plain": [
       "               business_id                 user_id  stars\n",
       "21  --1UhMGODdWsrMastO9DZw  TzU30D-CjtPP3XumggK0Mg      4\n",
       "22  --1UhMGODdWsrMastO9DZw  ZgAzKwganIXImRAMcvdK_A      4\n",
       "23  --1UhMGODdWsrMastO9DZw  m-p-7WuB85UjsLDaxJXCXA      5\n",
       "41  --DaPTJW3-tB1vP-PfdTEg  2HjBjUrqjjVfopPfghgpqw      3\n",
       "85  --SrzpvFLwP_YFwB_Cetow  6eCgSb66TE1LeiWPPBPnTg      4"
      ]
     },
     "execution_count": 8,
     "metadata": {},
     "output_type": "execute_result"
    }
   ],
   "source": [
    "active_user = list(reviews_count_df[reviews_count_df >= 10].index)  #过滤出review>10的user_id\n",
    "mask = [user in active_user for user in recommender_df['user_id']]\n",
    "active_user_df = recommender_df[mask]\n",
    "active_user_df.head(5)"
   ]
  },
  {
   "cell_type": "code",
   "execution_count": 32,
   "metadata": {},
   "outputs": [
    {
     "name": "stdout",
     "output_type": "stream",
     "text": [
      "The total number of active users in Canada in 2017 and 2018 is 3190.\n"
     ]
    }
   ],
   "source": [
    "print('The total number of active users in Canada in 2017 and 2018 is %d.' % \\\n",
    "      (len(active_user_df.groupby('user_id')['stars'].count())))"
   ]
  },
  {
   "cell_type": "code",
   "execution_count": 33,
   "metadata": {},
   "outputs": [
    {
     "name": "stdout",
     "output_type": "stream",
     "text": [
      "The total records number for active users in Canada in 2017 and2018 is 74895.\n"
     ]
    }
   ],
   "source": [
    "print('The total records number for active users in Canada in 2017 and2018 is %d.' % \\\n",
    "      (len(active_user_df)))"
   ]
  },
  {
   "cell_type": "markdown",
   "metadata": {},
   "source": [
    "#### 2. Create utility matrix from records"
   ]
  },
  {
   "cell_type": "code",
   "execution_count": 11,
   "metadata": {},
   "outputs": [
    {
     "data": {
      "text/plain": [
       "<3190x10717 sparse matrix of type '<class 'numpy.float64'>'\n",
       "\twith 0 stored elements in LInked List format>"
      ]
     },
     "execution_count": 11,
     "metadata": {},
     "output_type": "execute_result"
    }
   ],
   "source": [
    "from scipy import sparse\n",
    "highest_user_id = len(set(active_user_df['user_id']))\n",
    "highest_movie_id = len(set(active_user_df['business_id']))\n",
    "ratings_mat = sparse.lil_matrix((highest_user_id, highest_movie_id))\n",
    "ratings_mat"
   ]
  },
  {
   "cell_type": "markdown",
   "metadata": {},
   "source": [
    "Fill the rate matrix based on table"
   ]
  },
  {
   "cell_type": "code",
   "execution_count": 12,
   "metadata": {},
   "outputs": [
    {
     "data": {
      "text/plain": [
       "<3190x10717 sparse matrix of type '<class 'numpy.float64'>'\n",
       "\twith 74894 stored elements in LInked List format>"
      ]
     },
     "execution_count": 12,
     "metadata": {},
     "output_type": "execute_result"
    }
   ],
   "source": [
    "user_id = list(set(active_user_df['user_id']))\n",
    "business_id = list(set(active_user_df['business_id']))\n",
    "for _, row in active_user_df.iterrows():\n",
    "    ratings_mat[user_id.index(row.user_id), business_id.index(row.business_id)] = row.stars  #fill the stars in ratings_mat\n",
    "ratings_mat"
   ]
  },
  {
   "cell_type": "markdown",
   "metadata": {},
   "source": [
    "## Item - Item Collaborative Filter Recommender"
   ]
  },
  {
   "cell_type": "code",
   "execution_count": 13,
   "metadata": {},
   "outputs": [],
   "source": [
    "from sklearn.metrics.pairwise import cosine_similarity\n",
    "from time import time\n",
    "class ItemItemRecommender(object):\n",
    "\n",
    "    def __init__(self, neighborhood_size):\n",
    "        self.neighborhood_size = neighborhood_size\n",
    "\n",
    "    def fit(self, ratings_mat):\n",
    "        self.ratings_mat = ratings_mat\n",
    "        self.n_users = ratings_mat.shape[0]\n",
    "        self.n_items = ratings_mat.shape[1]\n",
    "        self.item_sim_mat = cosine_similarity(self.ratings_mat.T)\n",
    "        self._set_neighborhoods()\n",
    "\n",
    "    def _set_neighborhoods(self):\n",
    "        least_to_most_sim_indexes = np.argsort(self.item_sim_mat, 1)\n",
    "        self.neighborhoods = least_to_most_sim_indexes[:, -self.neighborhood_size:]\n",
    "\n",
    "    def pred_one_user(self, user_id, report_run_time=False):\n",
    "        start_time = time()\n",
    "        items_rated_by_this_user = self.ratings_mat[user_id].nonzero()[1]\n",
    "        # Just initializing so I have somewhere to put rating preds\n",
    "        out = np.zeros(self.n_items)\n",
    "        for item_to_rate in range(self.n_items):\n",
    "            relevant_items = np.intersect1d(self.neighborhoods[item_to_rate],\n",
    "                                            items_rated_by_this_user,\n",
    "                                            assume_unique=True)  # assume_unique speeds up intersection op\n",
    "            out[item_to_rate] = self.ratings_mat[user_id, relevant_items] * \\\n",
    "                self.item_sim_mat[item_to_rate, relevant_items] / \\\n",
    "                self.item_sim_mat[item_to_rate, relevant_items].sum()\n",
    "        if report_run_time:\n",
    "            print(\"Execution time: %f seconds\" % (time()-start_time))\n",
    "        cleaned_out = np.nan_to_num(out)\n",
    "        return cleaned_out\n",
    "\n",
    "    def pred_all_users(self, report_run_time=False):\n",
    "        start_time = time()\n",
    "        all_ratings = [\n",
    "            self.pred_one_user(user_id) for user_id in range(self.n_users)]\n",
    "        if report_run_time:\n",
    "            print(\"Execution time: %f seconds\" % (time()-start_time))\n",
    "        return np.array(all_ratings)\n",
    "\n",
    "    def top_n_recs(self, user_id, n):\n",
    "        pred_ratings = self.pred_one_user(user_id)\n",
    "        item_index_sorted_by_pred_rating = list(np.argsort(pred_ratings))\n",
    "        items_rated_by_this_user = self.ratings_mat[user_id].nonzero()[1]\n",
    "        unrated_items_by_pred_rating = [item for item in item_index_sorted_by_pred_rating\n",
    "                                        if item not in items_rated_by_this_user]\n",
    "        return unrated_items_by_pred_rating[-n:], items_rated_by_this_user"
   ]
  },
  {
   "cell_type": "code",
   "execution_count": 14,
   "metadata": {},
   "outputs": [],
   "source": [
    "#neighborhood_size\n",
    "my_rec_engine = ItemItemRecommender(neighborhood_size=80)\n",
    "my_rec_engine.fit(ratings_mat)"
   ]
  },
  {
   "cell_type": "markdown",
   "metadata": {},
   "source": [
    "Let me try the recommder system with a lucky user."
   ]
  },
  {
   "cell_type": "code",
   "execution_count": 15,
   "metadata": {},
   "outputs": [
    {
     "name": "stderr",
     "output_type": "stream",
     "text": [
      "/Users/suhang/anaconda3/lib/python3.6/site-packages/ipykernel_launcher.py:28: RuntimeWarning: invalid value encountered in true_divide\n"
     ]
    }
   ],
   "source": [
    "lucky_user = np.random.choice(active_user_df['user_id'], 1)[0]\n",
    "lucky_user_index = user_id.index(lucky_user)\n",
    "lucky_user_recommend, items_rated_by_this_user = my_rec_engine.top_n_recs(user_id=lucky_user_index, n = 10)"
   ]
  },
  {
   "cell_type": "code",
   "execution_count": 16,
   "metadata": {},
   "outputs": [
    {
     "name": "stdout",
     "output_type": "stream",
     "text": [
      "The top ten recommendation for user dmN6SfMI-pQyT-ouOmEkjQ are: \n",
      "East Africa Restaurant, Knox, Diablos, Gia Ba, Blu restaurante, Jellyfish Crudo + Charbon, Sabor Latino, Restaurant My Canh, Panda Thai, Gyu-Kaku Japanese BBQ\n"
     ]
    }
   ],
   "source": [
    "print(\"The top ten recommendation for user %s are: \" % (lucky_user))\n",
    "print('%s' % (', '.join(list(set(df['name'][df['business_id'] == business_id[i]]))[0] \\\n",
    "                       for i in lucky_user_recommend)))"
   ]
  },
  {
   "cell_type": "markdown",
   "metadata": {},
   "source": [
    "##### 输出示例用户的推荐结果"
   ]
  },
  {
   "cell_type": "code",
   "execution_count": 49,
   "metadata": {},
   "outputs": [
    {
     "name": "stdout",
     "output_type": "stream",
     "text": [
      "['XbiKsujS_qxU3xsr0xUqmQ', 'CjbfWpCRLbA-L_eS_ztd6Q', 'JrXC_MDp38BWwLn2SFdNsA', 'CxDOIDnH8gp9KXzpBHJYXw', 'U1vl4SQzO3wTAWlYVnSjnw', 'wffnrXJoLppOlvNOZKU70A', 'tU94-C1zpBsfGFvpsJJr2w', 'qKpkRCPk4ycbllTfFcRbNw', 'O3pSxv1SyHpY4qi4Q16KzA', 'Plqi4pG84PA_vBM8OfDPDg', 'Ao-6FYE29-I8WwPg67806A', 'jpIGlAym6z88W2xzHiK5_A', 'PGeiszoVusiv0wTHVdWklA', 'U5YQX_vMl_xQy8EQDqlNQQ', 'XrYTMhY9YJvzX2pMepIz7A', 'orh0HRUNCWuQMt9Iia_osg', 'CQ67NJigSe5-uBDX3b_CUw', 'jwctwzboGhQmtC50Juxa9A', 'TibBhm-fbksozIDFD8wjPQ', 'ic-tyi1jElL_umxZVh8KNA', 'uz5-sq6wHrXScrIWb8r1Mg', 'LB5ViGU59ww2XRCx803t0w', '8Dvr-U6jCZTVGD52LwC2qA', 'eZeBuiVZWT7u3SktO7mv9w', 'Z09rco1enQXNCd9H0u7kvg', 'g-y4Me4bqDz8jwFzX_e17w', 'O3q-nwYZykMmacxjru01Zg', 'Zd3wzNdevk15CwMIJdbjZw', '3aYeG-x5A44GIgmBHrwyAA', 'pn_flI3EBNugBEYFp9okxQ', 'Kj9cFO70zZOQorN0mgeLWA', 'Nq6e5N8bjgD9B46O4va_zA', 'yphnJ8zYbJF7Y3QbtMj91g', 'iRQ_YKpCBdaCwvc2X8_3NQ', 'hFvLG_m26hYMx1UGQSpaEg', 'aX6_Pf3njB-H3FrqgnNJ2g', '0Zswwlz4NzUJoG-skyWzIw', 'vs8aSP9ArwqAlb0LeCnFeQ']\n"
     ]
    }
   ],
   "source": [
    "# 过滤出review>100的user_id\n",
    "active_user2 = list(reviews_count_df[reviews_count_df >= 100].index)  \n",
    "mask2 = [user in active_user2 for user in recommender_df['user_id']]\n",
    "active_user_df2 = recommender_df[mask2]\n",
    "active_user2_ls = list(active_user_df2['user_id'].unique())\n",
    "print(active_user2_ls)"
   ]
  },
  {
   "cell_type": "code",
   "execution_count": 51,
   "metadata": {
    "scrolled": false
   },
   "outputs": [
    {
     "name": "stderr",
     "output_type": "stream",
     "text": [
      "/Users/suhang/anaconda3/lib/python3.6/site-packages/ipykernel_launcher.py:28: RuntimeWarning: invalid value encountered in true_divide\n"
     ]
    },
    {
     "name": "stdout",
     "output_type": "stream",
     "text": [
      "The top ten recommendation for user XbiKsujS_qxU3xsr0xUqmQ are: \n",
      "Hot Spot Chinese Cuisine, Restaurant Chase, Five Spice Kitchen, Cibo Wine Bar, Ghazale Restaurant, Crack Me Up, The Empanada Company, Field Trip Cafe, ChuChai, Annabelle Pasta Bar\n",
      "\n",
      "\n",
      "The top ten recommendation for user CjbfWpCRLbA-L_eS_ztd6Q are: \n",
      "Moti Mahal , Kawa Sushi, Zucca Trattoria, Grandeur Palace, OMG Restaurant & Lounge, Mira Mira, Pho Dau Bo, Curry Love, Home Of The Brave, Maluca Wine Bar & Restaurant\n",
      "\n",
      "\n",
      "The top ten recommendation for user JrXC_MDp38BWwLn2SFdNsA are: \n",
      "Bolan Thai Cuisine, Saigon Bangkok Restaurant, Sorrel, Porchetta & Co, Paradis BBQ, John's Fish & Chips, Dbarkadz Filipino Cuisine, Diana's Oyster Bar and Grill, Crepe TO, Eggspectation\n",
      "\n",
      "\n",
      "The top ten recommendation for user CxDOIDnH8gp9KXzpBHJYXw are: \n",
      "Laloux, Negroni, Pray Tell, The Monkey Bar, Kitchen Galerie, The Lunch Box, Positano Restaurant, Martino's Pizza & Asian Fusion Kitchen, Bus Terminal Diner, Cuchulainn's Irish Pub\n",
      "\n",
      "\n",
      "The top ten recommendation for user U1vl4SQzO3wTAWlYVnSjnw are: \n",
      "8 Sushi, Banh Xeo Minh, Positano Restaurant, Omma, Subway, Hoche Café, Kam Shing, Yoshi Sushi, Le Red Tiger, Terrasse sur l'Auberge\n",
      "\n",
      "\n",
      "The top ten recommendation for user wffnrXJoLppOlvNOZKU70A are: \n",
      "Trinity Square Cafe, Le Taj, La Fonderie, Boulangerie Spicee, KimGalbi, Les îles en ville, Négasaké, Mochica, Quesada Burritos & Tacos, Duc de Lorraine\n",
      "\n",
      "\n",
      "The top ten recommendation for user tU94-C1zpBsfGFvpsJJr2w are: \n",
      "Kenzo Ramen, Bistro Guru, Mr Tonkatsu, Balzac's Coffee, Nolbu, Pelican Pier Seafood Bar, 7 Pizzeria Enoteca, Pomarosa Coffee Shop & Kitchen, Mr Flamingo, Carvalho Coffee\n",
      "\n",
      "\n",
      "The top ten recommendation for user qKpkRCPk4ycbllTfFcRbNw are: \n",
      "Boxermans, Comptoir 21, Laïka, Comptoir Rhubarbe, Paul Patates, Izu Sushi, Parthenon, Trilogie, The Crepe Kitchen, Chaska Indian Street Food Obsession\n",
      "\n",
      "\n",
      "The top ten recommendation for user O3pSxv1SyHpY4qi4Q16KzA are: \n",
      "Cafe Belong, Mr Jerk, Ali Baba's Middle Eastern Cuisine, Hastings Snack Bar, Chunky Chicken, Caribbean Taste, Jangwon, Lone Star Texas Grill, Brewsters Brewing Company & Restaurant, For The Win Board Game Cafe\n",
      "\n",
      "\n",
      "The top ten recommendation for user Plqi4pG84PA_vBM8OfDPDg are: \n",
      "KOS Cafe and Restaurant, Pizzaiolo, Boralia, Thai Smile, Krystos Modern Greek Cuisine, CASA manila Restaurant, Mandarin Restaurant - Toronto, South St. Burger, Big Ragu, Trattoria Timone\n",
      "\n",
      "\n",
      "The top ten recommendation for user Ao-6FYE29-I8WwPg67806A are: \n",
      "Smilez Jamaican Restaurant, The Beaconsfield, Royal Sushi, Opus Restaurant, Mother India, A&W, Sashimi Island, Les Deux Gamins, Spoon & Fork Plus, La Parmigiana Italian Eatery\n",
      "\n",
      "\n",
      "The top ten recommendation for user jpIGlAym6z88W2xzHiK5_A are: \n",
      "Tim Hortons, Milestones Restaurants, Imperial Buffet, Austin's Bar & Grill, Silver Spoon, Jimmy's A&A, Bella's Inasal, St. Louis Bar & Grill, A&W, Volos Pizza\n",
      "\n",
      "\n",
      "The top ten recommendation for user PGeiszoVusiv0wTHVdWklA are: \n",
      "Sugar Marmalade, Cheers Chicken & Beers, Extreme Pita, Nodo Restaurant, Petra Shawarma, Lite Bite, Maluca Wine Bar & Restaurant, Notre Burger Gourmet, Adega Restaurante, Tamam's Shawarma\n",
      "\n",
      "\n",
      "The top ten recommendation for user U5YQX_vMl_xQy8EQDqlNQQ are: \n",
      "Tenon Vegetarian Cuisine, Loch & Quay, Mi'hito Sushi Laboratory, The Carousel Café, A&W, Lalibela Ethiopian Restaurant, Chez Delmo, Second Cup, Le Filet, Koji Japanese Restaurant\n",
      "\n",
      "\n",
      "The top ten recommendation for user XrYTMhY9YJvzX2pMepIz7A are: \n",
      "Ricky's All Day Grill, Mary Brown's, Overdraught Irish Pub, Abbey Arms Restaurant, Dom Carlos, Royal Jasmine, Tabriz Persian Cookhouse, Yolanda's Spuntino Casa, Pan On the Danforth, R&D Restaurant\n",
      "\n",
      "\n",
      "The top ten recommendation for user orh0HRUNCWuQMt9Iia_osg are: \n",
      "The Real McCoy Burgers & Pizza, C'est si Bon, Stock In Trade, Popeyes Louisiana Kitchen, Hey Lucy, M&J's Eastside Deli, Crumbs Patties, The One That Got Away, Banh Mi Boys, Kovalsky Restaurant\n",
      "\n",
      "\n",
      "The top ten recommendation for user CQ67NJigSe5-uBDX3b_CUw are: \n",
      "Cocktail Hawaii, M. Burrito, L'Académie, Serrano Bar-B-Q, Al-Baghdadi, The Shmooz, Casa Vinho, Mom And Pops, Ô Claf, Au Coin Berbere\n",
      "\n",
      "\n",
      "The top ten recommendation for user jwctwzboGhQmtC50Juxa9A are: \n",
      "The Bottom Line, Liyuan Spicy Pot, Amano, The Olde Stone Cottage Pub & Patio, Sunset Grill, Crepe TO, Good Luck Chinese Restaurant, Kibo Sushi House, Liberty village, Fairview Seafood Chinese Cuisine, Azumi Sushi\n",
      "\n",
      "\n",
      "The top ten recommendation for user TibBhm-fbksozIDFD8wjPQ are: \n",
      "Freshslice Pizza, Taco Monkland, PROP, Barcola Bistro, Ajuker Chicken, Kibo Sushi House, NEO COFFEE BAR, Com Tam Pho 168, Zen Japanese Restaurant, Little Pig Hot Pot\n",
      "\n",
      "\n",
      "The top ten recommendation for user ic-tyi1jElL_umxZVh8KNA are: \n",
      "Michel's Baguette, Maluca Wine Bar & Restaurant, El Charro, Pita Boss, Wild Wing, L'Avenue Bistro, Vargas, Modus Ristorante, Villa Madina, Petite Thuet\n",
      "\n",
      "\n",
      "The top ten recommendation for user uz5-sq6wHrXScrIWb8r1Mg are: \n",
      "Kub Khao Thai Eatery, Resto-Pub 100 Génies, Lee Restaurant, Lisbon By Night Restaurant, Mad Crush Wine Bar, Sansotei Ramen, The Big Carrot Organic Juice Bar, Mother Goose, Pizza Village, Notre Burger Gourmet\n",
      "\n",
      "\n",
      "The top ten recommendation for user LB5ViGU59ww2XRCx803t0w are: \n",
      "Tara Inn, Poke Guys, Shisha&Co, Asteria Souvlaki Place, Sumac Kebab Kitchen, Ravi Soup, Call a Chicken, Wow! Wing House, One Restaurant, Pavao Meat's & Deli\n",
      "\n",
      "\n",
      "The top ten recommendation for user 8Dvr-U6jCZTVGD52LwC2qA are: \n",
      "Boston Pizza, Clubhouse Sandwich Shop, Bobby Chao's Chinese Cuisine & Dim Sum, Poor Romeo, Jacques' Bistro Du Parc, Schmaltz Appetizing, Jang Kang, Pho Xua, 2 Bros Cuisine, Hero Certified Pizza\n",
      "\n",
      "\n",
      "The top ten recommendation for user eZeBuiVZWT7u3SktO7mv9w are: \n",
      "Huh Ga Ne, Maha's, Carbon Bar & Grill, Mississauga Marketplace Fish & Chips, Super Choy Restaurant, Lim Ga Ne, Restaurant Makkah, Mac-A-Tak, Vargas, Thai On Yonge\n",
      "\n",
      "\n",
      "The top ten recommendation for user Z09rco1enQXNCd9H0u7kvg are: \n",
      "Extreme Pita, Tim Hortons, Cheers Chicken & Beers, No Bull Burgers, Wild Wings Markham - Angus Glen, Bodira Cafe and Fine Foods, Bâton Rouge Steakhouse & Bar, The Roncesvalles Polish Festival, Schmaltz Appetizing, Asian Legend\n",
      "\n",
      "\n",
      "The top ten recommendation for user g-y4Me4bqDz8jwFzX_e17w are: \n",
      "Lawrence, Natural Sushi Japanese Restaurant, Caffe Demetre, Jal Gua Cafe, Cabañas, Nova Era Bakery, Federick, Typhoon Lounge, Île Flottante, Campo\n",
      "\n",
      "\n",
      "The top ten recommendation for user O3q-nwYZykMmacxjru01Zg are: \n",
      "Imanishi Japanese Kitchen, Pizza Hut, Clubhouse Sandwich Shop, Pomarosa Coffee Shop & Kitchen, Figs Breakfast & Lunch, Swiss Chalet Rotisserie & Grill, Aroma Bakery, Greenhouse Juice, Alo Restaurant, Notre Burger Gourmet\n",
      "\n",
      "\n",
      "The top ten recommendation for user Zd3wzNdevk15CwMIJdbjZw are: \n",
      "Mill Street Brew Pub, Noble Seafood, Uchi, Caribbean Wave, Uncle John's Candy Shack, Hakka Garden Chinese Restaurant, Burger Legend, Dbarkadz Filipino Cuisine, The Hogtown Vegan, Terre Rouge\n",
      "\n",
      "\n",
      "The top ten recommendation for user 3aYeG-x5A44GIgmBHrwyAA are: \n",
      "Fung Shing, Rôtisserie St-Hubert, Restaurant Les Deux Fours, Etoiles De Ville Emard (Les), Chasse Galerie, Deli Green Stop, Amir, Soupesoup, Brasserie Capri, Porto Mar\n",
      "\n",
      "\n",
      "The top ten recommendation for user pn_flI3EBNugBEYFp9okxQ are: \n",
      "Public Park Coffee, Restaurant Gandhi, North Shore Pie, Brock Sandwich, Naomi, Alo Restaurant, Satay Sate, Tianjin Dumplings Restaurant, McEwan, Ethiopian House Restaurant\n",
      "\n",
      "\n",
      "The top ten recommendation for user Kj9cFO70zZOQorN0mgeLWA are: \n",
      "McDonald's, Sunset Grill, Freshii, Kagayaki, Country Style Hungarian Restaurant, Boston Pizza, Bar Mercurio, Pizza Rustica, Ludger, N'awlins Jazz Bar & Dining\n",
      "\n",
      "\n",
      "The top ten recommendation for user Nq6e5N8bjgD9B46O4va_zA are: \n",
      "Pizza Hut, Le Bistro du Magasin Général du Vieux Montréal, Sabai Sabai Kitchen and Bar, Sang-Ho Seafood Restaurant, Swiss Chalet Rotisserie & Grill, Florentia, Namsan Korean Cuisine, PROP, Thai Smile, Baguette Cali\n",
      "\n",
      "\n",
      "The top ten recommendation for user yphnJ8zYbJF7Y3QbtMj91g are: \n",
      "Vegan Rapide, L'Oeufrier, Volta Espresso, Thai Imagination, Ristorante Corneli, Bistro l'Entrepont, Gazebo, Sizzling Skillet, Chez Fred, Le Rouge Gorge\n",
      "\n",
      "\n",
      "The top ten recommendation for user iRQ_YKpCBdaCwvc2X8_3NQ are: \n",
      "Kingston Chinese Restaurant, Mr. Jerk, Maluca Wine Bar & Restaurant, Salmon Lovers, Thai Express, The Green Wood, Pho Mi 88, Chaplus, Hacienda las Américas, Espace Pépin Maison\n",
      "\n",
      "\n"
     ]
    },
    {
     "name": "stdout",
     "output_type": "stream",
     "text": [
      "The top ten recommendation for user hFvLG_m26hYMx1UGQSpaEg are: \n",
      "Sushi Zone, Comptoir 21, Feast of Dilli, Rougamo & Noodles, Jack Astor's Bar & Grill, McDonald's, The Birchcliff, The Red Room, Kalendar, AGO Bistro\n",
      "\n",
      "\n",
      "The top ten recommendation for user aX6_Pf3njB-H3FrqgnNJ2g are: \n",
      "Hey Lucy, Outrigger, Rikkochez, Gio Rana's Really Really Nice Restaurant, Queen Sheba, Taste of Jaffna, Tender Trap Restaurant, Le Petit Bistro, Carisma, Haroo\n",
      "\n",
      "\n",
      "The top ten recommendation for user 0Zswwlz4NzUJoG-skyWzIw are: \n",
      "River Tai, Zen Japanese Restaurant, Panda Express, Fat Pasha, Wuhan Noodle 1950, Fast Fresh Foods, Super Taste Noodle House, Jimmy's Coffee, Poke Eats, GAB\n",
      "\n",
      "\n",
      "The top ten recommendation for user vs8aSP9ArwqAlb0LeCnFeQ are: \n",
      "Chicken Squared, Ami Sushi, Lemongrass Restaurant, Paintlounge, Pizza Land, Made In China Hot Pot, Koji Japanese Restaurant, Snakes & Lattes Midtown, Something Sweet 4 U, D-Spot Dessert Cafe\n",
      "\n",
      "\n",
      "[{'user_id': 'XbiKsujS_qxU3xsr0xUqmQ', 'recommendation': 'Hot Spot Chinese Cuisine, Restaurant Chase, Five Spice Kitchen, Cibo Wine Bar, Ghazale Restaurant, Crack Me Up, The Empanada Company, Field Trip Cafe, ChuChai, Annabelle Pasta Bar'}, {'user_id': 'CjbfWpCRLbA-L_eS_ztd6Q', 'recommendation': 'Moti Mahal , Kawa Sushi, Zucca Trattoria, Grandeur Palace, OMG Restaurant & Lounge, Mira Mira, Pho Dau Bo, Curry Love, Home Of The Brave, Maluca Wine Bar & Restaurant'}, {'user_id': 'JrXC_MDp38BWwLn2SFdNsA', 'recommendation': \"Bolan Thai Cuisine, Saigon Bangkok Restaurant, Sorrel, Porchetta & Co, Paradis BBQ, John's Fish & Chips, Dbarkadz Filipino Cuisine, Diana's Oyster Bar and Grill, Crepe TO, Eggspectation\"}, {'user_id': 'CxDOIDnH8gp9KXzpBHJYXw', 'recommendation': \"Laloux, Negroni, Pray Tell, The Monkey Bar, Kitchen Galerie, The Lunch Box, Positano Restaurant, Martino's Pizza & Asian Fusion Kitchen, Bus Terminal Diner, Cuchulainn's Irish Pub\"}, {'user_id': 'U1vl4SQzO3wTAWlYVnSjnw', 'recommendation': \"8 Sushi, Banh Xeo Minh, Positano Restaurant, Omma, Subway, Hoche Café, Kam Shing, Yoshi Sushi, Le Red Tiger, Terrasse sur l'Auberge\"}, {'user_id': 'wffnrXJoLppOlvNOZKU70A', 'recommendation': 'Trinity Square Cafe, Le Taj, La Fonderie, Boulangerie Spicee, KimGalbi, Les îles en ville, Négasaké, Mochica, Quesada Burritos & Tacos, Duc de Lorraine'}, {'user_id': 'tU94-C1zpBsfGFvpsJJr2w', 'recommendation': \"Kenzo Ramen, Bistro Guru, Mr Tonkatsu, Balzac's Coffee, Nolbu, Pelican Pier Seafood Bar, 7 Pizzeria Enoteca, Pomarosa Coffee Shop & Kitchen, Mr Flamingo, Carvalho Coffee\"}, {'user_id': 'qKpkRCPk4ycbllTfFcRbNw', 'recommendation': 'Boxermans, Comptoir 21, Laïka, Comptoir Rhubarbe, Paul Patates, Izu Sushi, Parthenon, Trilogie, The Crepe Kitchen, Chaska Indian Street Food Obsession'}, {'user_id': 'O3pSxv1SyHpY4qi4Q16KzA', 'recommendation': \"Cafe Belong, Mr Jerk, Ali Baba's Middle Eastern Cuisine, Hastings Snack Bar, Chunky Chicken, Caribbean Taste, Jangwon, Lone Star Texas Grill, Brewsters Brewing Company & Restaurant, For The Win Board Game Cafe\"}, {'user_id': 'Plqi4pG84PA_vBM8OfDPDg', 'recommendation': 'KOS Cafe and Restaurant, Pizzaiolo, Boralia, Thai Smile, Krystos Modern Greek Cuisine, CASA manila Restaurant, Mandarin Restaurant - Toronto, South St. Burger, Big Ragu, Trattoria Timone'}, {'user_id': 'Ao-6FYE29-I8WwPg67806A', 'recommendation': 'Smilez Jamaican Restaurant, The Beaconsfield, Royal Sushi, Opus Restaurant, Mother India, A&W, Sashimi Island, Les Deux Gamins, Spoon & Fork Plus, La Parmigiana Italian Eatery'}, {'user_id': 'jpIGlAym6z88W2xzHiK5_A', 'recommendation': \"Tim Hortons, Milestones Restaurants, Imperial Buffet, Austin's Bar & Grill, Silver Spoon, Jimmy's A&A, Bella's Inasal, St. Louis Bar & Grill, A&W, Volos Pizza\"}, {'user_id': 'PGeiszoVusiv0wTHVdWklA', 'recommendation': \"Sugar Marmalade, Cheers Chicken & Beers, Extreme Pita, Nodo Restaurant, Petra Shawarma, Lite Bite, Maluca Wine Bar & Restaurant, Notre Burger Gourmet, Adega Restaurante, Tamam's Shawarma\"}, {'user_id': 'U5YQX_vMl_xQy8EQDqlNQQ', 'recommendation': \"Tenon Vegetarian Cuisine, Loch & Quay, Mi'hito Sushi Laboratory, The Carousel Café, A&W, Lalibela Ethiopian Restaurant, Chez Delmo, Second Cup, Le Filet, Koji Japanese Restaurant\"}, {'user_id': 'XrYTMhY9YJvzX2pMepIz7A', 'recommendation': \"Ricky's All Day Grill, Mary Brown's, Overdraught Irish Pub, Abbey Arms Restaurant, Dom Carlos, Royal Jasmine, Tabriz Persian Cookhouse, Yolanda's Spuntino Casa, Pan On the Danforth, R&D Restaurant\"}, {'user_id': 'orh0HRUNCWuQMt9Iia_osg', 'recommendation': \"The Real McCoy Burgers & Pizza, C'est si Bon, Stock In Trade, Popeyes Louisiana Kitchen, Hey Lucy, M&J's Eastside Deli, Crumbs Patties, The One That Got Away, Banh Mi Boys, Kovalsky Restaurant\"}, {'user_id': 'CQ67NJigSe5-uBDX3b_CUw', 'recommendation': \"Cocktail Hawaii, M. Burrito, L'Académie, Serrano Bar-B-Q, Al-Baghdadi, The Shmooz, Casa Vinho, Mom And Pops, Ô Claf, Au Coin Berbere\"}, {'user_id': 'jwctwzboGhQmtC50Juxa9A', 'recommendation': 'The Bottom Line, Liyuan Spicy Pot, Amano, The Olde Stone Cottage Pub & Patio, Sunset Grill, Crepe TO, Good Luck Chinese Restaurant, Kibo Sushi House, Liberty village, Fairview Seafood Chinese Cuisine, Azumi Sushi'}, {'user_id': 'TibBhm-fbksozIDFD8wjPQ', 'recommendation': 'Freshslice Pizza, Taco Monkland, PROP, Barcola Bistro, Ajuker Chicken, Kibo Sushi House, NEO COFFEE BAR, Com Tam Pho 168, Zen Japanese Restaurant, Little Pig Hot Pot'}, {'user_id': 'ic-tyi1jElL_umxZVh8KNA', 'recommendation': \"Michel's Baguette, Maluca Wine Bar & Restaurant, El Charro, Pita Boss, Wild Wing, L'Avenue Bistro, Vargas, Modus Ristorante, Villa Madina, Petite Thuet\"}, {'user_id': 'uz5-sq6wHrXScrIWb8r1Mg', 'recommendation': 'Kub Khao Thai Eatery, Resto-Pub 100 Génies, Lee Restaurant, Lisbon By Night Restaurant, Mad Crush Wine Bar, Sansotei Ramen, The Big Carrot Organic Juice Bar, Mother Goose, Pizza Village, Notre Burger Gourmet'}, {'user_id': 'LB5ViGU59ww2XRCx803t0w', 'recommendation': \"Tara Inn, Poke Guys, Shisha&Co, Asteria Souvlaki Place, Sumac Kebab Kitchen, Ravi Soup, Call a Chicken, Wow! Wing House, One Restaurant, Pavao Meat's & Deli\"}, {'user_id': '8Dvr-U6jCZTVGD52LwC2qA', 'recommendation': \"Boston Pizza, Clubhouse Sandwich Shop, Bobby Chao's Chinese Cuisine & Dim Sum, Poor Romeo, Jacques' Bistro Du Parc, Schmaltz Appetizing, Jang Kang, Pho Xua, 2 Bros Cuisine, Hero Certified Pizza\"}, {'user_id': 'eZeBuiVZWT7u3SktO7mv9w', 'recommendation': \"Huh Ga Ne, Maha's, Carbon Bar & Grill, Mississauga Marketplace Fish & Chips, Super Choy Restaurant, Lim Ga Ne, Restaurant Makkah, Mac-A-Tak, Vargas, Thai On Yonge\"}, {'user_id': 'Z09rco1enQXNCd9H0u7kvg', 'recommendation': 'Extreme Pita, Tim Hortons, Cheers Chicken & Beers, No Bull Burgers, Wild Wings Markham - Angus Glen, Bodira Cafe and Fine Foods, Bâton Rouge Steakhouse & Bar, The Roncesvalles Polish Festival, Schmaltz Appetizing, Asian Legend'}, {'user_id': 'g-y4Me4bqDz8jwFzX_e17w', 'recommendation': 'Lawrence, Natural Sushi Japanese Restaurant, Caffe Demetre, Jal Gua Cafe, Cabañas, Nova Era Bakery, Federick, Typhoon Lounge, Île Flottante, Campo'}, {'user_id': 'O3q-nwYZykMmacxjru01Zg', 'recommendation': 'Imanishi Japanese Kitchen, Pizza Hut, Clubhouse Sandwich Shop, Pomarosa Coffee Shop & Kitchen, Figs Breakfast & Lunch, Swiss Chalet Rotisserie & Grill, Aroma Bakery, Greenhouse Juice, Alo Restaurant, Notre Burger Gourmet'}, {'user_id': 'Zd3wzNdevk15CwMIJdbjZw', 'recommendation': \"Mill Street Brew Pub, Noble Seafood, Uchi, Caribbean Wave, Uncle John's Candy Shack, Hakka Garden Chinese Restaurant, Burger Legend, Dbarkadz Filipino Cuisine, The Hogtown Vegan, Terre Rouge\"}, {'user_id': '3aYeG-x5A44GIgmBHrwyAA', 'recommendation': 'Fung Shing, Rôtisserie St-Hubert, Restaurant Les Deux Fours, Etoiles De Ville Emard (Les), Chasse Galerie, Deli Green Stop, Amir, Soupesoup, Brasserie Capri, Porto Mar'}, {'user_id': 'pn_flI3EBNugBEYFp9okxQ', 'recommendation': 'Public Park Coffee, Restaurant Gandhi, North Shore Pie, Brock Sandwich, Naomi, Alo Restaurant, Satay Sate, Tianjin Dumplings Restaurant, McEwan, Ethiopian House Restaurant'}, {'user_id': 'Kj9cFO70zZOQorN0mgeLWA', 'recommendation': \"McDonald's, Sunset Grill, Freshii, Kagayaki, Country Style Hungarian Restaurant, Boston Pizza, Bar Mercurio, Pizza Rustica, Ludger, N'awlins Jazz Bar & Dining\"}, {'user_id': 'Nq6e5N8bjgD9B46O4va_zA', 'recommendation': 'Pizza Hut, Le Bistro du Magasin Général du Vieux Montréal, Sabai Sabai Kitchen and Bar, Sang-Ho Seafood Restaurant, Swiss Chalet Rotisserie & Grill, Florentia, Namsan Korean Cuisine, PROP, Thai Smile, Baguette Cali'}, {'user_id': 'yphnJ8zYbJF7Y3QbtMj91g', 'recommendation': \"Vegan Rapide, L'Oeufrier, Volta Espresso, Thai Imagination, Ristorante Corneli, Bistro l'Entrepont, Gazebo, Sizzling Skillet, Chez Fred, Le Rouge Gorge\"}, {'user_id': 'iRQ_YKpCBdaCwvc2X8_3NQ', 'recommendation': 'Kingston Chinese Restaurant, Mr. Jerk, Maluca Wine Bar & Restaurant, Salmon Lovers, Thai Express, The Green Wood, Pho Mi 88, Chaplus, Hacienda las Américas, Espace Pépin Maison'}, {'user_id': 'hFvLG_m26hYMx1UGQSpaEg', 'recommendation': \"Sushi Zone, Comptoir 21, Feast of Dilli, Rougamo & Noodles, Jack Astor's Bar & Grill, McDonald's, The Birchcliff, The Red Room, Kalendar, AGO Bistro\"}, {'user_id': 'aX6_Pf3njB-H3FrqgnNJ2g', 'recommendation': \"Hey Lucy, Outrigger, Rikkochez, Gio Rana's Really Really Nice Restaurant, Queen Sheba, Taste of Jaffna, Tender Trap Restaurant, Le Petit Bistro, Carisma, Haroo\"}, {'user_id': '0Zswwlz4NzUJoG-skyWzIw', 'recommendation': \"River Tai, Zen Japanese Restaurant, Panda Express, Fat Pasha, Wuhan Noodle 1950, Fast Fresh Foods, Super Taste Noodle House, Jimmy's Coffee, Poke Eats, GAB\"}, {'user_id': 'vs8aSP9ArwqAlb0LeCnFeQ', 'recommendation': 'Chicken Squared, Ami Sushi, Lemongrass Restaurant, Paintlounge, Pizza Land, Made In China Hot Pot, Koji Japanese Restaurant, Snakes & Lattes Midtown, Something Sweet 4 U, D-Spot Dessert Cafe'}]\n"
     ]
    }
   ],
   "source": [
    "# lucky_user2 = np.random.choice(active_user_df2['user_id'], 1)[0]\n",
    "# lucky_user2\n",
    "cfr_ls = []\n",
    "rec_engine2 = ItemItemRecommender(neighborhood_size=80)\n",
    "rec_engine2.fit(ratings_mat)\n",
    "for user in active_user2_ls:\n",
    "    current_lucky_user = user\n",
    "    current_lucky_user_index = user_id.index(current_lucky_user)\n",
    "    lucky_user_recommend2, items_rated_by_this_user2 = rec_engine2.top_n_recs(user_id=current_lucky_user_index, n = 10)\n",
    "    cfr_dic = {}\n",
    "    cfr_dic['user_id'] = current_lucky_user\n",
    "    rec_result = ', '.join(list(set(df['name'][df['business_id'] == business_id[i]]))[0] for i in lucky_user_recommend2)\n",
    "    cfr_dic['recommendation'] = rec_result\n",
    "    cfr_ls.append(cfr_dic)\n",
    "    print(\"The top ten recommendation for user %s are: \" % (current_lucky_user))\n",
    "    print('%s' % rec_result)\n",
    "    print('\\n')\n",
    "print(cfr_ls)"
   ]
  },
  {
   "cell_type": "code",
   "execution_count": 53,
   "metadata": {},
   "outputs": [
    {
     "data": {
      "text/html": [
       "<div>\n",
       "<style scoped>\n",
       "    .dataframe tbody tr th:only-of-type {\n",
       "        vertical-align: middle;\n",
       "    }\n",
       "\n",
       "    .dataframe tbody tr th {\n",
       "        vertical-align: top;\n",
       "    }\n",
       "\n",
       "    .dataframe thead th {\n",
       "        text-align: right;\n",
       "    }\n",
       "</style>\n",
       "<table border=\"1\" class=\"dataframe\">\n",
       "  <thead>\n",
       "    <tr style=\"text-align: right;\">\n",
       "      <th></th>\n",
       "      <th>user_id</th>\n",
       "      <th>recommendation</th>\n",
       "    </tr>\n",
       "  </thead>\n",
       "  <tbody>\n",
       "    <tr>\n",
       "      <th>0</th>\n",
       "      <td>XbiKsujS_qxU3xsr0xUqmQ</td>\n",
       "      <td>Hot Spot Chinese Cuisine, Restaurant Chase, Fi...</td>\n",
       "    </tr>\n",
       "    <tr>\n",
       "      <th>1</th>\n",
       "      <td>CjbfWpCRLbA-L_eS_ztd6Q</td>\n",
       "      <td>Moti Mahal , Kawa Sushi, Zucca Trattoria, Gran...</td>\n",
       "    </tr>\n",
       "    <tr>\n",
       "      <th>2</th>\n",
       "      <td>JrXC_MDp38BWwLn2SFdNsA</td>\n",
       "      <td>Bolan Thai Cuisine, Saigon Bangkok Restaurant,...</td>\n",
       "    </tr>\n",
       "    <tr>\n",
       "      <th>3</th>\n",
       "      <td>CxDOIDnH8gp9KXzpBHJYXw</td>\n",
       "      <td>Laloux, Negroni, Pray Tell, The Monkey Bar, Ki...</td>\n",
       "    </tr>\n",
       "    <tr>\n",
       "      <th>4</th>\n",
       "      <td>U1vl4SQzO3wTAWlYVnSjnw</td>\n",
       "      <td>8 Sushi, Banh Xeo Minh, Positano Restaurant, O...</td>\n",
       "    </tr>\n",
       "  </tbody>\n",
       "</table>\n",
       "</div>"
      ],
      "text/plain": [
       "                  user_id                                     recommendation\n",
       "0  XbiKsujS_qxU3xsr0xUqmQ  Hot Spot Chinese Cuisine, Restaurant Chase, Fi...\n",
       "1  CjbfWpCRLbA-L_eS_ztd6Q  Moti Mahal , Kawa Sushi, Zucca Trattoria, Gran...\n",
       "2  JrXC_MDp38BWwLn2SFdNsA  Bolan Thai Cuisine, Saigon Bangkok Restaurant,...\n",
       "3  CxDOIDnH8gp9KXzpBHJYXw  Laloux, Negroni, Pray Tell, The Monkey Bar, Ki...\n",
       "4  U1vl4SQzO3wTAWlYVnSjnw  8 Sushi, Banh Xeo Minh, Positano Restaurant, O..."
      ]
     },
     "execution_count": 53,
     "metadata": {},
     "output_type": "execute_result"
    }
   ],
   "source": [
    "df_cfr = pd.DataFrame(cfr_ls)\n",
    "df_cfr = df_cfr[['user_id','recommendation']]\n",
    "df_cfr.head()"
   ]
  },
  {
   "cell_type": "code",
   "execution_count": 54,
   "metadata": {},
   "outputs": [],
   "source": [
    "df_cfr.to_csv('Item-Item_CFR_Example.csv')"
   ]
  },
  {
   "cell_type": "markdown",
   "metadata": {},
   "source": [
    "**Test，验证**"
   ]
  },
  {
   "cell_type": "code",
   "execution_count": 17,
   "metadata": {},
   "outputs": [
    {
     "name": "stdout",
     "output_type": "stream",
     "text": [
      "Categories from user rated restaurants: \n",
      "american,arabian,bakeries,barbeque,bars,breakfast,british,brunch,burgers,cafes,canadian,caterers,chips,cocktail,coffee,comfort,diners,eastern,event,falafel,fish,food,free,french,gluten,hawaiian,italian,japanese,korean,lebanese,live,lounges,mediterranean,middle,new,nightlife,noodles,pizza,planning,poke,poutineries,pubs,ramen,raw,restaurants,salad,sandwiches,seafood,services,soup,steakhouses,sushi,tea,traditional,vegan,vegetarian,wine\n"
     ]
    }
   ],
   "source": [
    "from sklearn.feature_extraction.text import TfidfVectorizer\n",
    "original_rated_restaurants = [list(set(df['name'][df['business_id'] == business_id[i]]))[0] for i in items_rated_by_this_user]\n",
    "mask = [name in original_rated_restaurants for name in df['name']]\n",
    "original_category = df['categories'][mask]\n",
    "vectorizer = TfidfVectorizer(analyzer = 'word', stop_words = 'english', \n",
    "                             lowercase = True)\n",
    "original_category_vec = vectorizer.fit_transform(original_category).toarray()\n",
    "original_word = vectorizer.get_feature_names()\n",
    "print('Categories from user rated restaurants: \\n%s' % (','.join(i for i in original_word)))"
   ]
  },
  {
   "cell_type": "code",
   "execution_count": 18,
   "metadata": {},
   "outputs": [
    {
     "name": "stdout",
     "output_type": "stream",
     "text": [
      "Categories from recommend restaurants: \n",
      "african,american,asian,bakeries,barbeque,bars,chinese,comfort,european,food,french,fusion,grocery,international,italian,japanese,latin,lounges,modern,nightlife,pan,pubs,restaurants,sandwiches,seafood,southern,sports,steakhouses,taiwanese,thai,traditional,vietnamese\n"
     ]
    }
   ],
   "source": [
    "recommend_res = [list(set(df['name'][df['business_id'] == business_id[i]]))[0] \\\n",
    "                 for i in lucky_user_recommend]\n",
    "mask = [name in recommend_res for name in df['name']]\n",
    "recommend_category = df['categories'][mask]\n",
    "vectorizer = TfidfVectorizer(analyzer = 'word', stop_words = 'english', \n",
    "                             lowercase = True)\n",
    "recommend_category_vec = vectorizer.fit_transform(recommend_category).toarray()\n",
    "recommend_word = vectorizer.get_feature_names()\n",
    "print('Categories from recommend restaurants: \\n%s' % (','.join(i for i in recommend_word)))"
   ]
  },
  {
   "cell_type": "code",
   "execution_count": 19,
   "metadata": {},
   "outputs": [
    {
     "name": "stdout",
     "output_type": "stream",
     "text": [
      "Common labels are: \n",
      "american, bakeries, barbeque, bars, comfort, food, french, italian, japanese, lounges, nightlife, pubs, restaurants, sandwiches, seafood, steakhouses, traditional\n"
     ]
    }
   ],
   "source": [
    "#Check the common labels\n",
    "print(\"Common labels are: \\n%s\" % (', '.join(word for word in recommend_word if word in original_word)))#original_word = vectorizer.get_feature_names()"
   ]
  },
  {
   "cell_type": "markdown",
   "metadata": {},
   "source": [
    "## Matrix Factorization recommender (NMF)"
   ]
  },
  {
   "cell_type": "code",
   "execution_count": 20,
   "metadata": {},
   "outputs": [],
   "source": [
    "from sklearn.decomposition import NMF\n",
    "class NMF_Recommender(object):\n",
    "\n",
    "    def __init__(self, n_components):\n",
    "        self.n_components = n_components\n",
    "\n",
    "    def fit(self, ratings_mat):\n",
    "        self.ratings_mat = ratings_mat\n",
    "        self.n_users = ratings_mat.shape[0]\n",
    "        self.n_items = ratings_mat.shape[1]\n",
    "        nmf = NMF(n_components = 200)\n",
    "        nmf.fit(ratings_mat)\n",
    "        self.W = nmf.transform(ratings_mat)\n",
    "        self.H = nmf.components_\n",
    "        self.error = nmf.reconstruction_err_\n",
    "        self.ratings_mat_fitted = self.W.dot(self.H)\n",
    "\n",
    "    def get_error(self):\n",
    "        return self.error\n",
    "        \n",
    "    def pred_one_user(self, user_id, report_run_time=False):\n",
    "        start_time = time()\n",
    "        cleaned_out = self.ratings_mat_fitted[user_id,:]\n",
    "        if report_run_time:\n",
    "            print(\"Execution time: %f seconds\" % (time()-start_time))\n",
    "        return cleaned_out\n",
    "\n",
    "    def pred_all_users(self, report_run_time=False):\n",
    "        start_time = time()\n",
    "        all_ratings = [\n",
    "            self.pred_one_user(user_id) for user_id in range(self.n_users)]\n",
    "        if report_run_time:\n",
    "            print(\"Execution time: %f seconds\" % (time()-start_time))\n",
    "        return np.array(all_ratings)\n",
    "\n",
    "    def top_n_recs(self, user_id, n):\n",
    "        pred_ratings = self.pred_one_user(user_id)\n",
    "        item_index_sorted_by_pred_rating = list(np.argsort(pred_ratings))\n",
    "        items_rated_by_this_user = self.ratings_mat[user_id].nonzero()[1]\n",
    "        unrated_items_by_pred_rating = [item for item in item_index_sorted_by_pred_rating\n",
    "                                        if item not in items_rated_by_this_user]\n",
    "        return unrated_items_by_pred_rating[-n:], items_rated_by_this_user"
   ]
  },
  {
   "cell_type": "code",
   "execution_count": 21,
   "metadata": {},
   "outputs": [
    {
     "name": "stdout",
     "output_type": "stream",
     "text": [
      "The top ten recommendation for user dmN6SfMI-pQyT-ouOmEkjQ are: \n",
      "KINTON RAMEN, Notre-Boeuf-de-Grâce, Otto Yakitori Izakaya, Europea, Escondite, Satay Brothers, Restaurant LOV, Au Pied de Cochon, C'ChoColat, Deville Dinerbar\n"
     ]
    }
   ],
   "source": [
    "# get recommendations for the same lucky user\n",
    "my_rec_engine = NMF_Recommender(n_components=200)\n",
    "my_rec_engine.fit(ratings_mat)\n",
    "lucky_user_recommend, items_rated_by_this_user = my_rec_engine.top_n_recs(user_id=lucky_user_index, n = 10)\n",
    "print(\"The top ten recommendation for user %s are: \" % (lucky_user))\n",
    "print('%s' % (', '.join(list(set(df['name'][df['business_id'] == business_id[i]]))[0] \\\n",
    "                       for i in lucky_user_recommend)))"
   ]
  },
  {
   "cell_type": "code",
   "execution_count": 22,
   "metadata": {},
   "outputs": [
    {
     "name": "stdout",
     "output_type": "stream",
     "text": [
      "The users original rated resturants are :\n",
      " Big in Japan,Olive & Gourmando,Wienstein & Gavino's,Brit & Chips,Burger Bar Crescent,Le Majestique,Opiano,Moleskine,Mandy's,GaNaDaRa,Lola Rosa,Tommy,Le Poké Bar,Garage Beirut,Rosewood,Ramen Misoya,Biirū,Universel,Kantapia,Big In Japan,Holder Restaurant Bar,La Banquise,Sir Winston Churchill Pub,Shawarmaz,Les 400 Coups,Boustan,Le Warehouse\n"
     ]
    }
   ],
   "source": [
    "print(\"The users original rated resturants are :\\n %s\" % (','.join(list(set(df['name'][df['business_id'] == business_id[i]]))[0] \\\n",
    "                       for i in items_rated_by_this_user)))"
   ]
  },
  {
   "cell_type": "markdown",
   "metadata": {},
   "source": [
    "##### NMF 示例用户推荐结果"
   ]
  },
  {
   "cell_type": "code",
   "execution_count": 57,
   "metadata": {},
   "outputs": [
    {
     "name": "stdout",
     "output_type": "stream",
     "text": [
      "['XbiKsujS_qxU3xsr0xUqmQ', 'CjbfWpCRLbA-L_eS_ztd6Q', 'JrXC_MDp38BWwLn2SFdNsA', 'CxDOIDnH8gp9KXzpBHJYXw', 'U1vl4SQzO3wTAWlYVnSjnw', 'wffnrXJoLppOlvNOZKU70A', 'tU94-C1zpBsfGFvpsJJr2w', 'qKpkRCPk4ycbllTfFcRbNw', 'O3pSxv1SyHpY4qi4Q16KzA', 'Plqi4pG84PA_vBM8OfDPDg', 'Ao-6FYE29-I8WwPg67806A', 'jpIGlAym6z88W2xzHiK5_A', 'PGeiszoVusiv0wTHVdWklA', 'U5YQX_vMl_xQy8EQDqlNQQ', 'XrYTMhY9YJvzX2pMepIz7A', 'orh0HRUNCWuQMt9Iia_osg', 'CQ67NJigSe5-uBDX3b_CUw', 'jwctwzboGhQmtC50Juxa9A', 'TibBhm-fbksozIDFD8wjPQ', 'ic-tyi1jElL_umxZVh8KNA', 'uz5-sq6wHrXScrIWb8r1Mg', 'LB5ViGU59ww2XRCx803t0w', '8Dvr-U6jCZTVGD52LwC2qA', 'eZeBuiVZWT7u3SktO7mv9w', 'Z09rco1enQXNCd9H0u7kvg', 'g-y4Me4bqDz8jwFzX_e17w', 'O3q-nwYZykMmacxjru01Zg', 'Zd3wzNdevk15CwMIJdbjZw', '3aYeG-x5A44GIgmBHrwyAA', 'pn_flI3EBNugBEYFp9okxQ', 'Kj9cFO70zZOQorN0mgeLWA', 'Nq6e5N8bjgD9B46O4va_zA', 'yphnJ8zYbJF7Y3QbtMj91g', 'iRQ_YKpCBdaCwvc2X8_3NQ', 'hFvLG_m26hYMx1UGQSpaEg', 'aX6_Pf3njB-H3FrqgnNJ2g', '0Zswwlz4NzUJoG-skyWzIw', 'vs8aSP9ArwqAlb0LeCnFeQ']\n"
     ]
    }
   ],
   "source": [
    "print(active_user2_ls)"
   ]
  },
  {
   "cell_type": "code",
   "execution_count": 58,
   "metadata": {},
   "outputs": [
    {
     "name": "stdout",
     "output_type": "stream",
     "text": [
      "[{'user_id': 'XbiKsujS_qxU3xsr0xUqmQ', 'recommendation': 'Portland Variety, Ginger & Onion Cuisine, Gonoe Sushi, Odd Seoul, Sharetea, Valens Restaurant, Napoli Centrale, Home Of The Brave, Hair of the Dog, Tosto Quickfire Pizza Pasta'}, {'user_id': 'CjbfWpCRLbA-L_eS_ztd6Q', 'recommendation': \"Little Piggy's, Walkers Wine Bar & Grill, Copacabana Brazilian Steak House, Pasha Authentic Turkish Cuisine, A-Game Cafe, Sud Forno, Trattoria Nervosa, Sansotei, Dragon Pearl Buffet, Azyun Restaurant\"}, {'user_id': 'JrXC_MDp38BWwLn2SFdNsA', 'recommendation': \"Diana's Oyster Bar And Grill, Millie Cafe, Urban Herbivore, Kaka All You Can Eat, Philthy Philly's, Sushi Legend, New City Restaurant, Daldongnae, The Oxley, Second Cup\"}, {'user_id': 'CxDOIDnH8gp9KXzpBHJYXw', 'recommendation': \"Legend Pot, The Keg Steakhouse + Bar - Mansion, DM Chicken, Azyun Restaurant, Maple Yip Seafood Restaurant, J'adore Hot Pot, Honest Weight, Congee Town, GuangZhou Tai Ping Sha Chinese Restaurant, Green Tea Restaurant\"}, {'user_id': 'U1vl4SQzO3wTAWlYVnSjnw', 'recommendation': 'GaNaDaRa, Didar, Sushi Shop, Opiano, Serrano Bar-B-Q, Ô Claf, Cinko, Bocadillo, Five Guys, Maison Christian Faure'}, {'user_id': 'wffnrXJoLppOlvNOZKU70A', 'recommendation': 'Souriana, Cafe Aunja, Takumi, Le Festin du Capitaine, Industria Pizzeria + Bar, Duc de Lorraine, The Keg Steakhouse + Bar - Place Ville Marie, Bâton Rouge, Pizzéria N° 900 Peel, Burger Bar Crescent'}, {'user_id': 'tU94-C1zpBsfGFvpsJJr2w', 'recommendation': 'Boogies Burgers, Social Eatery, Greek Stop, Little Sheep Mongolian Hot Pot, Daldongnae, Colette Grand Cafe, Browns Socialhouse Erin Mills, JOEY Sherway, Cheers Chicken & Beers, Azyun Restaurant'}, {'user_id': 'qKpkRCPk4ycbllTfFcRbNw', 'recommendation': 'Tejano, Café Martin, Eva B, Le Lab, Bâton Rouge, Monopole, Arriba Burrito, Le Majestique, Cantinho de Lisboa, Les Deux Gamins'}, {'user_id': 'O3pSxv1SyHpY4qi4Q16KzA', 'recommendation': \"Bar Hop, The Captain's Boil, R&D Restaurant, The Senator, Lao Thai Restaurant, Rorschach Brewing Company, The Wren, Bellwoods Brewery, 3030, Indie Ale House\"}, {'user_id': 'Plqi4pG84PA_vBM8OfDPDg', 'recommendation': \"Onnki Donburi, TORCH Pressed Sushi, The Good Fork, Beast, Bloomer's, The Shore Club - Toronto, Chabrol Restaurant, The Keg Steakhouse + Bar - York Street, The Wren, Barberian's Steak House\"}, {'user_id': 'Ao-6FYE29-I8WwPg67806A', 'recommendation': 'TYC - The Yellow Chilli - By Sanjeev Kapoor, Top Choice Restaurant, Go Topoki, Holy Chuck, Stock In Trade, Maezo - Modern Indian Cuisine, Daldongnae, KINTON RAMEN, Li Dynasty Indian Hakka Chinese Cuisine, Saryo Cafe'}, {'user_id': 'jpIGlAym6z88W2xzHiK5_A', 'recommendation': \"Punjabi Sweet House & Restaurant, Thomsons Restaurant, La Chaumiere Restaurant, LOCAL Public Eatery, Moxie's Grill & Bar, The Guild, Suzette Brittany Bistro, Aida's Mediterranean Bistro, Briggs Kitchen + Bar, Cibo\"}, {'user_id': 'PGeiszoVusiv0wTHVdWklA', 'recommendation': \"Masseria, Korean Village Restaurant, Luna Cafe, Farmhouse Tavern, Uncle Mikey's, Odd Seoul, Porchetta & Co, Northern Belle, Branca, Forget Me Not Cafe\"}, {'user_id': 'U5YQX_vMl_xQy8EQDqlNQQ', 'recommendation': \"Stoney's Bread Company, Sushi 2 Go, The WORKS Gourmet Burger Bistro, Hey Lucy, Kovalsky Restaurant, Scaddabush Italian Kitchen & Bar, Huevos Gourmet, Luca Pizza, 17 Steakhouse and Bar, Sansotei Ramen\"}, {'user_id': 'XrYTMhY9YJvzX2pMepIz7A', 'recommendation': \"Banh Mi Ba Le, Nando's, Electric Mud BBQ, Revitasize, Cups Bingsu Café, Birch Bistro, Baklawa King, Zavida Coffee Roasters, Mr ChiMaek, Azyun Restaurant\"}, {'user_id': 'orh0HRUNCWuQMt9Iia_osg', 'recommendation': \"Remezzo Italian Bistro, Cafe de Causette, Original Congee, Green Tea Restaurant, Lac Vien Vietnamese Restaurant, Szechuan Legend, Kenny's Noodle, Kaka All You Can Eat, Tasty BBQ Seafood Restaurant, Sam's Congee Delight\"}, {'user_id': 'CQ67NJigSe5-uBDX3b_CUw', 'recommendation': 'Xe Lua Restaurant, The Royal Chinese Restaurant, Nami Restaurant, Tofu Village - House of Soon Tofu, Ten23, Chatime - Dundas, Raijin Ramen, Naniwa-Taro, Sansotei, Riddle Room'}, {'user_id': 'jwctwzboGhQmtC50Juxa9A', 'recommendation': \"iQ Food, Mother's Dumplings, Toast Delight, MINE Sushi, New City Restaurant, Flaming Kitchen, CoCo Fresh Tea & Juice Richmond Hill, Satay Sate, Kaka All You Can Eat, Azyun Restaurant\"}, {'user_id': 'TibBhm-fbksozIDFD8wjPQ', 'recommendation': \"Actinolite Restaurant, Bapbo Korean Restaurant, Hemingway's Restaurant, Tosto Quickfire Pizza Pasta, Fresh on Spadina, Vietnam Lovely Noodle, Chez Tousignant, Boar, Té, Rasa\"}, {'user_id': 'ic-tyi1jElL_umxZVh8KNA', 'recommendation': \"Gohyang Restaurant, Five Guys, Milestones Restaurants, Maurya East Indian Roti, Woody's Burger Bar and Grill, Bua Thai Cusine, The Pie Commission, 850 Degrees Pizzeria, Simon Sushi, K&B Sushi\"}, {'user_id': 'uz5-sq6wHrXScrIWb8r1Mg', 'recommendation': 'Si Lom Thai Bistro, Vietnam Lovely Noodle, Tiger BBQ, Azyun Restaurant, Morals Village, Papa Spicy, Saryo Cafe, Bannock, Go Topoki, Sukho Thai'}, {'user_id': 'LB5ViGU59ww2XRCx803t0w', 'recommendation': 'Kiku, Get & Go Buritto, Pizza Pizza, Sultan of Samosas, Coffee Culture, Burrito Boyz, Subway, Chung Moi, Honey B Hives Restaurant, Kandahar Kabab'}, {'user_id': '8Dvr-U6jCZTVGD52LwC2qA', 'recommendation': 'Sushi Shop, Gonoe Sushi, Saryo Cafe, Lohas Cafe, Tapagria Spanish Tapas, Mr Tonkatsu, Light Cafe, Matsuya Korean House, STACK, Naniwa-Taro'}, {'user_id': 'eZeBuiVZWT7u3SktO7mv9w', 'recommendation': \"Ai Sushi, Gyugyuya, PaPa Chang's, Light Cafe, Oriental Rice Noodle, Azyun Restaurant, New City Restaurant, Versus Coffee, BlackGold Cafe, Cho Sun Ok\"}, {'user_id': 'Z09rco1enQXNCd9H0u7kvg', 'recommendation': \"Golden Bubbles, Sultan of Samosas, Allwyn's Bakery, Swiss Chalet Rotisserie & Grill, McDonald's, Sunny Up All Day Breakfast, Kaka All You Can Eat, Eggsmart, Samosa King - Embassy Restaurant, Azyun Restaurant\"}, {'user_id': 'g-y4Me4bqDz8jwFzX_e17w', 'recommendation': 'Bâton Rouge, Over Easy Restaurant, 4 Origines, Banh Mi Boys, Brit & Chips, Boustan, Brit & Chips, Hinnawi Bros Begal & Café, Gus, Chatime'}, {'user_id': 'O3q-nwYZykMmacxjru01Zg', 'recommendation': \"Smoque N' Bones, Izakaya Ju, Kaka All You Can Eat, Tendou Matcha & Dessert, Poke Eats, O.Noir, Nando's Flame Grilled Chicken, Azyun Restaurant, Woodstone Eatery, Barsa Taberna\"}, {'user_id': 'Zd3wzNdevk15CwMIJdbjZw', 'recommendation': 'The Porch Toronto, Craft Beer Market, Goat Coffee Co, Live Organic Food Bar, Veda Healthy IndianTakeout, Sake Bar Kushi, Levetto, The Big Carrot, Urban Herbivore, Té'}, {'user_id': '3aYeG-x5A44GIgmBHrwyAA', 'recommendation': 'Les Affamés, Fromagerie Qui Lait Cru, Darling, Flyjin, Le Butterblume, Barbounya, HarBin Dumpling, Chez Claudette, Saint-Houblon, Bristol Chai'}, {'user_id': 'pn_flI3EBNugBEYFp9okxQ', 'recommendation': \"Moxie's Grill & Bar, Chick Fiesta, Mayur Fine Indian Cuisine, Christina's On the Danforth, Lamanna's Bakery, East Tea Can, Nakamori, Aoyama Sushi Restaurant, Jerusalem Restaurant, Hamish Kitchen Restaurant\"}, {'user_id': 'Kj9cFO70zZOQorN0mgeLWA', 'recommendation': \"L'Oeufrier, SuWu, Kintaro Izakaya, Grey Gardens, Annette Food Market, The Citizen, Mitzi's Café, Le Majestique, El Catrin Destileria, Her Father's Cider Bar & Kitchen\"}, {'user_id': 'Nq6e5N8bjgD9B46O4va_zA', 'recommendation': 'Labothéry, The Pie Commission, St-Viateur Bagel & Café, Wonton Chai Noodle, Lime Asian Cuisine, Menya Fuji, Sugar Marmalade, Myungdong Kalguksu, Jules Bistro, Bosk'}, {'user_id': 'yphnJ8zYbJF7Y3QbtMj91g', 'recommendation': \"La Graine Brûlée, Maison Christian Faure, Café Melbourne, Pizzeria Dei Compari, Centrale Bergham, C'ChoColat, Les Impertinentes, Moishe's Steakhouse, Cookie Stéfanie, Ottavio\"}, {'user_id': 'iRQ_YKpCBdaCwvc2X8_3NQ', 'recommendation': \"Indian Grill, Banjara Indian Cuisine, Pinky's Ca Phe, Rose and Sons Swan, Anatolia Restaurant, Mother's Dumplings, Restaurant La Banane, Mitzie's Jerk, Bacchus Roti Shop, La Chilaca Taqueria\"}, {'user_id': 'hFvLG_m26hYMx1UGQSpaEg', 'recommendation': \"Pho Hoa 89, Morals Village Hot pot, Pita & Grill, Pho Vuho, Mamma Martino's Pasta and Pizzeria Restaurant, Oyster Boy, L.A. Boil Seafood, Nations Fresh Foods, Basil Box, Kenzo Ramen\"}, {'user_id': 'aX6_Pf3njB-H3FrqgnNJ2g', 'recommendation': '3030, Sky Dragon Chinese Restaurant, Sansotei, Kenzo Ramen, Thai Fantasy, Yummy BBQ, Hot Star Large Fried Chicken, Phoenix Cafe, Saryo Cafe, Luckee'}, {'user_id': '0Zswwlz4NzUJoG-skyWzIw', 'recommendation': 'Fat Bastard Burrito, Eat Jackpot, Earls Kitchen + Bar, Sakawa Coffee & Japanese Restaurant, Wonton Chai Noodle, Mekong River, Shangrila Tibetan & Asian Cuisine, Tabülè Middle Eastern Cuisine, Saryo Cafe, Le Sélect Bistro'}, {'user_id': 'vs8aSP9ArwqAlb0LeCnFeQ', 'recommendation': \"Union Chicken, Black Cat Espresso Bar, Chinese Dumpling House, Mr.Tonkatsu, HotBlack Coffee, Tabule Restaurant, Raijin Ramen, Nando's Flame Grilled Chicken, Eat Jackpot, Korean Village Restaurant\"}]\n"
     ]
    }
   ],
   "source": [
    "nmf_ls = []\n",
    "rec_engine_nmf = NMF_Recommender(n_components=200)\n",
    "rec_engine_nmf.fit(ratings_mat)\n",
    "for user in active_user2_ls:\n",
    "    current_lucky_user = user\n",
    "    current_lucky_user_index = user_id.index(current_lucky_user)\n",
    "    lucky_user_recommend_nmf, items_rated_by_this_user_nmf = rec_engine_nmf.top_n_recs(user_id=current_lucky_user_index, n = 10)\n",
    "    nmf_dic = {}\n",
    "    nmf_dic['user_id'] = current_lucky_user\n",
    "    rec_result = ', '.join(list(set(df['name'][df['business_id'] == business_id[i]]))[0] for i in lucky_user_recommend_nmf)\n",
    "    nmf_dic['recommendation'] = rec_result\n",
    "    nmf_ls.append(nmf_dic)\n",
    "print(nmf_ls)"
   ]
  },
  {
   "cell_type": "code",
   "execution_count": 59,
   "metadata": {},
   "outputs": [
    {
     "data": {
      "text/html": [
       "<div>\n",
       "<style scoped>\n",
       "    .dataframe tbody tr th:only-of-type {\n",
       "        vertical-align: middle;\n",
       "    }\n",
       "\n",
       "    .dataframe tbody tr th {\n",
       "        vertical-align: top;\n",
       "    }\n",
       "\n",
       "    .dataframe thead th {\n",
       "        text-align: right;\n",
       "    }\n",
       "</style>\n",
       "<table border=\"1\" class=\"dataframe\">\n",
       "  <thead>\n",
       "    <tr style=\"text-align: right;\">\n",
       "      <th></th>\n",
       "      <th>user_id</th>\n",
       "      <th>recommendation</th>\n",
       "    </tr>\n",
       "  </thead>\n",
       "  <tbody>\n",
       "    <tr>\n",
       "      <th>0</th>\n",
       "      <td>XbiKsujS_qxU3xsr0xUqmQ</td>\n",
       "      <td>Portland Variety, Ginger &amp; Onion Cuisine, Gono...</td>\n",
       "    </tr>\n",
       "    <tr>\n",
       "      <th>1</th>\n",
       "      <td>CjbfWpCRLbA-L_eS_ztd6Q</td>\n",
       "      <td>Little Piggy's, Walkers Wine Bar &amp; Grill, Copa...</td>\n",
       "    </tr>\n",
       "    <tr>\n",
       "      <th>2</th>\n",
       "      <td>JrXC_MDp38BWwLn2SFdNsA</td>\n",
       "      <td>Diana's Oyster Bar And Grill, Millie Cafe, Urb...</td>\n",
       "    </tr>\n",
       "    <tr>\n",
       "      <th>3</th>\n",
       "      <td>CxDOIDnH8gp9KXzpBHJYXw</td>\n",
       "      <td>Legend Pot, The Keg Steakhouse + Bar - Mansion...</td>\n",
       "    </tr>\n",
       "    <tr>\n",
       "      <th>4</th>\n",
       "      <td>U1vl4SQzO3wTAWlYVnSjnw</td>\n",
       "      <td>GaNaDaRa, Didar, Sushi Shop, Opiano, Serrano B...</td>\n",
       "    </tr>\n",
       "  </tbody>\n",
       "</table>\n",
       "</div>"
      ],
      "text/plain": [
       "                  user_id                                     recommendation\n",
       "0  XbiKsujS_qxU3xsr0xUqmQ  Portland Variety, Ginger & Onion Cuisine, Gono...\n",
       "1  CjbfWpCRLbA-L_eS_ztd6Q  Little Piggy's, Walkers Wine Bar & Grill, Copa...\n",
       "2  JrXC_MDp38BWwLn2SFdNsA  Diana's Oyster Bar And Grill, Millie Cafe, Urb...\n",
       "3  CxDOIDnH8gp9KXzpBHJYXw  Legend Pot, The Keg Steakhouse + Bar - Mansion...\n",
       "4  U1vl4SQzO3wTAWlYVnSjnw  GaNaDaRa, Didar, Sushi Shop, Opiano, Serrano B..."
      ]
     },
     "execution_count": 59,
     "metadata": {},
     "output_type": "execute_result"
    }
   ],
   "source": [
    "df_nmf = pd.DataFrame(nmf_ls)\n",
    "df_nmf = df_nmf[['user_id','recommendation']]\n",
    "df_nmf.head()"
   ]
  },
  {
   "cell_type": "code",
   "execution_count": 60,
   "metadata": {},
   "outputs": [],
   "source": [
    "df_nmf.to_csv('NMF_Recommendation_Example.csv')"
   ]
  },
  {
   "cell_type": "markdown",
   "metadata": {},
   "source": [
    "**Test**"
   ]
  },
  {
   "cell_type": "code",
   "execution_count": 23,
   "metadata": {},
   "outputs": [
    {
     "name": "stdout",
     "output_type": "stream",
     "text": [
      "Categories from user rated restaurants: \n",
      "american,arabian,bakeries,barbeque,bars,breakfast,british,brunch,burgers,cafes,canadian,caterers,chips,cocktail,coffee,comfort,diners,eastern,event,falafel,fish,food,free,french,gluten,hawaiian,italian,japanese,korean,lebanese,live,lounges,mediterranean,middle,new,nightlife,noodles,pizza,planning,poke,poutineries,pubs,ramen,raw,restaurants,salad,sandwiches,seafood,services,soup,steakhouses,sushi,tea,traditional,vegan,vegetarian,wine\n"
     ]
    }
   ],
   "source": [
    "original_rated_restaurants = [list(set(df['name'][df['business_id'] == business_id[i]]))[0] for i in items_rated_by_this_user]\n",
    "mask = [name in original_rated_restaurants for name in df['name']]\n",
    "original_category = df['categories'][mask]\n",
    "vectorizer = TfidfVectorizer(analyzer = 'word', stop_words = 'english', \n",
    "                             lowercase = True\n",
    "                            )\n",
    "original_category_vec = vectorizer.fit_transform(original_category).toarray()\n",
    "original_word = vectorizer.get_feature_names()\n",
    "print('Categories from user rated restaurants: \\n%s' % (','.join(i for i in original_word)))"
   ]
  },
  {
   "cell_type": "code",
   "execution_count": 24,
   "metadata": {},
   "outputs": [
    {
     "name": "stdout",
     "output_type": "stream",
     "text": [
      "Categories from recommend restaurants: \n",
      "american,asian,bars,breakfast,brunch,burgers,canadian,chocolatiers,creperies,desserts,diners,fast,food,french,fusion,indonesian,japanese,malaysian,mexican,new,nightlife,noodles,polish,pubs,ramen,restaurants,sandwiches,shops,singaporean,soup,specialty,stands,traditional,trucks,vegan,vegetarian\n"
     ]
    }
   ],
   "source": [
    "recommend_res = [list(set(df['name'][df['business_id'] == business_id[i]]))[0] \\\n",
    "                 for i in lucky_user_recommend]\n",
    "mask = [name in recommend_res for name in df['name']]\n",
    "recommend_category = df['categories'][mask]\n",
    "vectorizer = TfidfVectorizer(analyzer = 'word', stop_words = 'english', \n",
    "                             lowercase = True\n",
    "                            )\n",
    "recommend_category_vec = vectorizer.fit_transform(recommend_category).toarray()\n",
    "recommend_word = vectorizer.get_feature_names()\n",
    "print('Categories from recommend restaurants: \\n%s' % (','.join(i for i in recommend_word)))"
   ]
  },
  {
   "cell_type": "code",
   "execution_count": 25,
   "metadata": {},
   "outputs": [
    {
     "name": "stdout",
     "output_type": "stream",
     "text": [
      "Common labels are: \n",
      "american, bars, breakfast, brunch, burgers, canadian, diners, food, french, japanese, new, nightlife, noodles, pubs, ramen, restaurants, sandwiches, soup, traditional, vegan, vegetarian\n"
     ]
    }
   ],
   "source": [
    "#Check the common labels\n",
    "print(\"Common labels are: \\n%s\" % (', '.join(word for word in recommend_word if word in original_word)))"
   ]
  },
  {
   "cell_type": "markdown",
   "metadata": {},
   "source": [
    "#### Common labels from Item - Item Collaborative Filter are: \n",
    "- american, asian, bakeries, barbeque, bars, breakfast, brunch, cafes, canadian, chicken, chinese, coffee, creperies, desserts, fast, food, fusion, japanese, juice, new, nightlife, restaurants, salad, seafood, shop, smoothies, specialty, tea, thai, traditional, wings"
   ]
  },
  {
   "cell_type": "markdown",
   "metadata": {},
   "source": [
    "#### Common labels are from SVD are: \n",
    "- american, asian, bars, breakfast, brunch, cafes, canadian, chinese, creperies, desserts, fast, food, fusion, japanese, korean, new, nightlife, noodles, restaurants, sandwiches, soup, sushi, taiwanese, tea, traditional"
   ]
  },
  {
   "cell_type": "markdown",
   "metadata": {},
   "source": [
    "Based on user's previous rating, the NMF recommder shows better performance.(这个性能指什么?)"
   ]
  },
  {
   "cell_type": "markdown",
   "metadata": {},
   "source": [
    "## Matrix Factorization recommender (SVD) with restaurants' labels."
   ]
  },
  {
   "cell_type": "markdown",
   "metadata": {},
   "source": [
    "Each business has its own labels. Suppose we have a table of business_id against category labels. Each element in the table represents the style score of resturants to labels. Additionally, we can build another table of user_id against category labels. Each element in the table stands for the preference/taste of clients to each label. By multipling two tables, we can get the utility table. The two sub-table can have negative number as preference can be divided into like or dislike."
   ]
  },
  {
   "cell_type": "code",
   "execution_count": 26,
   "metadata": {},
   "outputs": [
    {
     "name": "stdout",
     "output_type": "stream",
     "text": [
      "The total number of restaurant labels is 441\n"
     ]
    }
   ],
   "source": [
    "#get the number of labels \n",
    "mask = [business in business_id for business in df['business_id']]\n",
    "category = df['categories'][mask]\n",
    "from sklearn.feature_extraction.text import TfidfVectorizer\n",
    "vectorizer = TfidfVectorizer(analyzer = 'word', stop_words = 'english', \n",
    "                             lowercase = True\n",
    "                            )\n",
    "category_vec = vectorizer.fit_transform(category).toarray()\n",
    "words = vectorizer.get_feature_names()\n",
    "#This is the number of unique categories\n",
    "print('The total number of restaurant labels is %d' % (len(words))) "
   ]
  },
  {
   "cell_type": "code",
   "execution_count": 27,
   "metadata": {},
   "outputs": [],
   "source": [
    "from sklearn.decomposition import TruncatedSVD\n",
    "class SVD_Recommender(object):\n",
    "\n",
    "    def __init__(self):\n",
    "        self.n_components = 361 #the number of labels\n",
    "\n",
    "    def fit(self, ratings_mat):\n",
    "        self.ratings_mat = ratings_mat\n",
    "        self.n_users = ratings_mat.shape[0]\n",
    "        self.n_items = ratings_mat.shape[1]\n",
    "        svd = TruncatedSVD(n_components=self.n_components, n_iter=7, random_state=1)\n",
    "        svd.fit(ratings_mat)\n",
    "        self.V = svd.components_\n",
    "        self.U = svd.transform(ratings_mat)\n",
    "        self.ratings_mat_fitted = self.U.dot(self.V)\n",
    "\n",
    "    def get_error(self):\n",
    "        return ((self.ratings_mat_fitted - self.ratings_mat)**2).mean(axis=None)\n",
    "        \n",
    "    def pred_one_user(self, user_id, report_run_time=False):\n",
    "        start_time = time()\n",
    "        cleaned_out = self.ratings_mat_fitted[user_id,:]\n",
    "        if report_run_time:\n",
    "            print(\"Execution time: %f seconds\" % (time()-start_time))\n",
    "        return cleaned_out\n",
    "\n",
    "    def pred_all_users(self, report_run_time=False):\n",
    "        start_time = time()\n",
    "        all_ratings = [\n",
    "            self.pred_one_user(user_id) for user_id in range(self.n_users)]\n",
    "        if report_run_time:\n",
    "            print(\"Execution time: %f seconds\" % (time()-start_time))\n",
    "        return np.array(all_ratings)\n",
    "\n",
    "    def top_n_recs(self, user_id, n):\n",
    "        pred_ratings = self.pred_one_user(user_id)\n",
    "        item_index_sorted_by_pred_rating = list(np.argsort(pred_ratings))\n",
    "        items_rated_by_this_user = self.ratings_mat[user_id].nonzero()[1]\n",
    "        unrated_items_by_pred_rating = [item for item in item_index_sorted_by_pred_rating\n",
    "                                        if item not in items_rated_by_this_user]\n",
    "        return unrated_items_by_pred_rating[-n:], items_rated_by_this_user"
   ]
  },
  {
   "cell_type": "code",
   "execution_count": 28,
   "metadata": {},
   "outputs": [
    {
     "name": "stdout",
     "output_type": "stream",
     "text": [
      "The top ten recommendation for user dmN6SfMI-pQyT-ouOmEkjQ are: \n",
      "Kumamoto, Brasserie 701, La Graine Brûlée, La Habanera, Pizzéria N° 900 Peel, Aux Vivres Plateau, KINKA IZAKAYA MONTREAL, Joe's Panini, Escondite, KINTON RAMEN\n"
     ]
    }
   ],
   "source": [
    "# get recommendations for the same lucky user\n",
    "my_rec_engine = SVD_Recommender()\n",
    "my_rec_engine.fit(ratings_mat)\n",
    "lucky_user_recommend, items_rated_by_this_user = my_rec_engine.top_n_recs(user_id=lucky_user_index, n = 10)\n",
    "print(\"The top ten recommendation for user %s are: \" % (lucky_user))\n",
    "print('%s' % (', '.join(list(set(df['name'][df['business_id'] == business_id[i]]))[0] \\\n",
    "                       for i in lucky_user_recommend)))"
   ]
  },
  {
   "cell_type": "markdown",
   "metadata": {},
   "source": [
    "##### SVD 示例输出"
   ]
  },
  {
   "cell_type": "code",
   "execution_count": 63,
   "metadata": {},
   "outputs": [
    {
     "name": "stdout",
     "output_type": "stream",
     "text": [
      "[{'user_id': 'XbiKsujS_qxU3xsr0xUqmQ', 'recommendation': \"Odd Seoul, Sansotei Ramen, Otto's Berlin Döner, Canis, Crown Prince Fine Dining & Banquet, BarChef, Gong Cha Tea, Tosto Quickfire Pizza Pasta, The Dumpling King, Sakawa Coffee & Japanese Restaurant\"}, {'user_id': 'CjbfWpCRLbA-L_eS_ztd6Q', 'recommendation': \"Copacabana Brazilian Steak House, Wow Sushi, Pie Squared, Banh Mi Boys, Pho Ngoc Yen Restaurant, Ajisen Ramen, Double D's, Congee Queen, The Keg Steakhouse + Bar - Estate Drive, Pomegranate Restaurant\"}, {'user_id': 'JrXC_MDp38BWwLn2SFdNsA', 'recommendation': \"Lime Asian Kitchen, LOCAL Public Eatery, Main St Greek, Peter's Fine Dining Steak and Seafood, Kenzo Ramen, Me Va Me Kitchen Express, Pi Co, Second Cup, The Oxley, Nichiban Sushi4U\"}, {'user_id': 'CxDOIDnH8gp9KXzpBHJYXw', 'recommendation': \"Bulldog Coffee, Hexagon, GuangZhou Tai Ping Sha Chinese Restaurant, Panagio's All Day Grill, Northwestern Chinese Cuisine, Pho'Q, JaBistro, The Wickson Social, Hai Tang Cafe, Basil Box\"}, {'user_id': 'U1vl4SQzO3wTAWlYVnSjnw', 'recommendation': \"L'Oeufrier, Dunn's Famous, Adamo, Café Pacefika, Serrano Bar-B-Q, Satay Brothers, Bon Vivant, Kamehameha, Cadet, Didar\"}, {'user_id': 'wffnrXJoLppOlvNOZKU70A', 'recommendation': 'Chef on Call, Le Quartier Général, Avesta Resto Café, Dessert Cafe Momo, Pizzéria N° 900 Peel, Duc de Lorraine, Industria Pizzeria + Bar, Bâton Rouge, Ramen Misoya, Souriana'}, {'user_id': 'tU94-C1zpBsfGFvpsJJr2w', 'recommendation': \"Saryo Cafe, Millie Creperie, Bubble Republic Tea House, Magic Noodle, Enoteca Sociale, Song Cook's, Lohas Cafe, El Habanero & Churrobar, Mii Sandwich, Wonton Chai Noodle\"}, {'user_id': 'qKpkRCPk4ycbllTfFcRbNw', 'recommendation': \"Restaurant Rosélys, Saiko Bistrot Izakaya, Cantinho de Lisboa, St-Viateur Bagel & Café, L'Usine de Spaghetti, Chez Ennio, Pitarifique, Didar, Curry Mahal, Monopole\"}, {'user_id': 'O3pSxv1SyHpY4qi4Q16KzA', 'recommendation': 'Joe Beef, The Senator, R&D Restaurant, The Oxley, Yutaka, Sukho Thai, Indie Ale House, Hunters Landing Bar Grill Hub Restaurant, Lao Thai Restaurant, Union Social Eatery'}, {'user_id': 'Plqi4pG84PA_vBM8OfDPDg', 'recommendation': \"Bar Reyna, Kyoto House Japanese Restaurant, Mymy Chicken, Dagu Rice Noodle, Patois Toronto, The Good Fork, Bubble Republic on Bay, Square Fish, Barberian's Steak House, Terroni\"}, {'user_id': 'Ao-6FYE29-I8WwPg67806A', 'recommendation': 'Dim Sum King Seafood Restaurant, Té, The Drake Hotel, Roll & Roll by JC Mart, The Keg Steakhouse + Bar - Mansion, The Dumpling King, Kwan Dim Sum Express, Banjara Indian Cuisine, Northwestern Chinese Cuisine, Kiro Sushi'}, {'user_id': 'jpIGlAym6z88W2xzHiK5_A', 'recommendation': \"Seasons of Bowness Park, Tipperary's Pub, Los Chilitos, Crunchy House, Rau Bistro Vietnamese Street Food, The Palomino, Boogies Burgers, Shiki Menya, Buttermilk Fine Waffles, Añejo Restaurant\"}, {'user_id': 'PGeiszoVusiv0wTHVdWklA', 'recommendation': 'Odd Seoul, Grandeur Palace, Baretto Caffe, Weslodge, Pizzeria Defina, Farmhouse Tavern, Northern Belle, Barrio Coreano, Porchetta & Co, Cafe CanCan'}, {'user_id': 'U5YQX_vMl_xQy8EQDqlNQQ', 'recommendation': 'Odd Seoul, Hey Lucy, Scaddabush Italian Kitchen & Bar, Kovalsky Restaurant, Oriental Rice Noodle, The WORKS Gourmet Burger Bistro, Thompson Diner, 17 Steakhouse and Bar, Luca Pizza, Sansotei Ramen'}, {'user_id': 'XrYTMhY9YJvzX2pMepIz7A', 'recommendation': 'Nichiban Sushi4U, Sikgaek, Crepe TO, Bake Code  - North York, Maple Yip Seafood Restaurant, KINKA IZAKAYA BLOOR, Matsuda Japanese Cuisine, Starbucks Reserve, The Six Cafe and Restaurant, Dumpling House Restaurant'}, {'user_id': 'orh0HRUNCWuQMt9Iia_osg', 'recommendation': \"Tom's Dairy Freeze, Nando's, Green Tea Restaurant, Les Châteaux Restaurant, Biff's Bistro, The Cold Pressery, Original Congee, Cafe Alice, Nichiban Sushi4U, Matcha Tea & Dessert\"}, {'user_id': 'CQ67NJigSe5-uBDX3b_CUw', 'recommendation': \"Nando's Flame Grilled Chicken, Early Bird Coffee & Kitchen, La Chilaca Taqueria, Komeya Cafe, Fred's Not Here, Nami Restaurant, Mezes, Shiso Tree Cafe, Raijin Ramen, Completo\"}, {'user_id': 'jwctwzboGhQmtC50Juxa9A', 'recommendation': \"Enoteca Sociale, Resto Boemo, Thai Country Kitchen, Roll N Bowl, Bong Lua Vietnamese Restaurant, Mother's Dumplings, Chinese Dumpling House, Ding Tai Fung, Café Boulud, Playa Cabana\"}, {'user_id': 'TibBhm-fbksozIDFD8wjPQ', 'recommendation': \"Owl of Minerva, Drake One Fifty, Starving Artist, Junked Food Co, Mi'Hito Sushi Laboratory, Carousel Bakery, Urban Herbivore, Deer Garden Signatures, Terroni, STK Toronto\"}, {'user_id': 'ic-tyi1jElL_umxZVh8KNA', 'recommendation': \"Craft Beer Market, Hacienda las Américas, Charlotte's Homemade Goodies, Woody's Burger Bar and Grill, Bua Thai Cusine, Cocina Economica, Platform Espresso Bar, Soul Cafe, Simon Sushi, K&B Sushi\"}, {'user_id': 'uz5-sq6wHrXScrIWb8r1Mg', 'recommendation': 'Simit & Chai, Flaming Kitchen, Morals Village, Le Sélect Bistro, KINTON RAMEN QUEEN, Weslodge, Sugar Marmalade, Mr.Tonkatsu, Los Chicos Brasa, Yutaka'}, {'user_id': 'LB5ViGU59ww2XRCx803t0w', 'recommendation': 'Burrito Boyz, Wonton Chai Noodle, Le Sélect Bistro, El Habanero & Churrobar, Ni Ji Sushi, The Lucky 20 Bakery + Cafe, Kazu, Get & Go Buritto, Soul Cafe, Kandahar Kabab'}, {'user_id': '8Dvr-U6jCZTVGD52LwC2qA', 'recommendation': 'Avani Asian Indian bistro, Yuzu No Hana, Tofu Village - House of Soon Tofu, Swatow Restaurant, Tapas At Embrujo, Initium, Gyugyuya, Congee Queen, Rol San, Bar Sybanne'}, {'user_id': 'eZeBuiVZWT7u3SktO7mv9w', 'recommendation': 'STK Toronto, Moji Japanese Eatery, Sukho Thai, Early Bird Coffee & Kitchen, Bellwoods Brewery, Lohas Cafe, Lim Ga Ne, James Cheese Back Ribs, Sunrise House, The Alley'}, {'user_id': 'Z09rco1enQXNCd9H0u7kvg', 'recommendation': \"Jatujak, Zen Japanese Restaurant, Chako, La Societe - Toronto, Sultan of Samosas, Little House HK cafe, Doomie's Toronto, CoCo Fresh Tea & Juice Richmond Hill, Soul Cafe, Xin Jiang Restaurant\"}, {'user_id': 'g-y4Me4bqDz8jwFzX_e17w', 'recommendation': 'Sandwicherie Sue, Brit & Chips, Over Easy Restaurant, Moleskine, Mon Ami - Korean BBQ, Universel, Gus, Hinnawi Bros Begal & Café, Brit & Chips, Chatime'}, {'user_id': 'O3q-nwYZykMmacxjru01Zg', 'recommendation': \"DaiLo, Fushimi, Karine's, SPiN - Toronto, Han Ba Tang, Flaming Kitchen, The Oxley, Mira, Japango, Barsa Taberna\"}, {'user_id': 'Zd3wzNdevk15CwMIJdbjZw', 'recommendation': \"Little Piggy's, Urban Herbivore, Planta Burger, St Clair Banh Cuon Pho Ga, Lee Chen Asian Bistro, Sake Bar Kushi, Phoenix Cafe, Brickworks Cider House, Bar Verde, Gal's Sushi\"}, {'user_id': '3aYeG-x5A44GIgmBHrwyAA', 'recommendation': 'Le Super Qualité, Flyjin, Cinko, Fromagerie Qui Lait Cru, Les Affamés, Chez Bong, HarBin Dumpling, Bristol Chai, Barbounya, Saint-Houblon'}, {'user_id': 'pn_flI3EBNugBEYFp9okxQ', 'recommendation': \"Gyu-Kaku Japanese BBQ, Jerusalem Restaurant, The Wickson Social, Wei's Taiwanese Food, Kiku, Shangrila Tibetan & Asian Cuisine, KINTON RAMEN, Kintako Japanese Restaurant, Hamish Kitchen Restaurant, Plentea\"}, {'user_id': 'Kj9cFO70zZOQorN0mgeLWA', 'recommendation': \"Francesca Italian Bakery & Delicatessen, Hair of the Dog, Romados, Le Majestique, Soul Cafe, St James's Gate Toronto, illstyl3 Sammies, Campagnolo, Hibiki Japanese Cuisine, Chine Hot Pot & Noodles\"}, {'user_id': 'Nq6e5N8bjgD9B46O4va_zA', 'recommendation': 'True True, KINKA IZAKAYA NORTH  YORK, Norling, The Craft Brasserie & Grille, Baretto Caffe, Ritz Caribbean Foods, Boralia, Potman Hotpot, Granite Brewery & Restaurant, Liberty Village Rotisserie Grill'}, {'user_id': 'yphnJ8zYbJF7Y3QbtMj91g', 'recommendation': \"O Steak, Les Impertinentes, Pushap, L'Afghan Grillade, Poulet Bronzé, Pizzeria Dei Compari, Café Melbourne, Centrale Bergham, Cookie Stéfanie, Ottavio\"}, {'user_id': 'iRQ_YKpCBdaCwvc2X8_3NQ', 'recommendation': \"Touhenboku Ramen Restaurant, Anatolia Restaurant, Hong Shing Chinese Restaurant, Egg Bae, Forget Me Not Cafe, Nuit Social, Bacchus Roti Shop, Mitzie's Jerk, Crown Prince Fine Dining & Banquet, La Capital Tacos\"}, {'user_id': 'hFvLG_m26hYMx1UGQSpaEg', 'recommendation': 'Mon Ami - Sainte-Catherine, Arirang, Hakka Ren, Pho Vuho, Fune Japanese Restaurant, Oyster Boy, Sikgaek, Pita & Grill, Basil Box, Nations Fresh Foods'}, {'user_id': 'aX6_Pf3njB-H3FrqgnNJ2g', 'recommendation': \"Hot Star Large Fried Chicken, Doner King, Snug Harbour, Doug McNish's Public Kitchen, Kenzo Ramen, Watan Kabob, Nichiban Sushi4U, Kimchi Korea House, HCafe Japanese Cafe, Congee Queen\"}, {'user_id': '0Zswwlz4NzUJoG-skyWzIw', 'recommendation': \"Monga Fried Chicken, Hot Star Large Fried Chicken, Royal House, What A Bagel - Spadina, Sneaky Dee's, Le Sélect Bistro, Nando's Flame Grilled Chicken, Sakawa Coffee & Japanese Restaurant, Wonton Chai Noodle, Tabülè Middle Eastern Cuisine\"}, {'user_id': 'vs8aSP9ArwqAlb0LeCnFeQ', 'recommendation': 'Sichuan Garden Restaurant, KaKa All You Can Eat, Chipotle Mexican Grill, Satay Sate, Omg Oh My Gyro, August 8, Seoul Restaurant, Congee Queen, The Dirty Bird Chicken + Waffles, Dumpling House Restaurant'}]\n"
     ]
    }
   ],
   "source": [
    "svd_ls = []\n",
    "rec_engine_svd = SVD_Recommender()\n",
    "rec_engine_svd.fit(ratings_mat)\n",
    "for user in active_user2_ls:\n",
    "    current_lucky_user = user\n",
    "    current_lucky_user_index = user_id.index(current_lucky_user)\n",
    "    lucky_user_recommend_svd, items_rated_by_this_user_svd = rec_engine_svd.top_n_recs(user_id=current_lucky_user_index, n = 10)\n",
    "    svd_dic = {}\n",
    "    svd_dic['user_id'] = current_lucky_user\n",
    "    rec_result = ', '.join(list(set(df['name'][df['business_id'] == business_id[i]]))[0] for i in lucky_user_recommend_svd)\n",
    "    svd_dic['recommendation'] = rec_result\n",
    "    svd_ls.append(svd_dic)\n",
    "print(svd_ls)"
   ]
  },
  {
   "cell_type": "code",
   "execution_count": 64,
   "metadata": {},
   "outputs": [
    {
     "data": {
      "text/html": [
       "<div>\n",
       "<style scoped>\n",
       "    .dataframe tbody tr th:only-of-type {\n",
       "        vertical-align: middle;\n",
       "    }\n",
       "\n",
       "    .dataframe tbody tr th {\n",
       "        vertical-align: top;\n",
       "    }\n",
       "\n",
       "    .dataframe thead th {\n",
       "        text-align: right;\n",
       "    }\n",
       "</style>\n",
       "<table border=\"1\" class=\"dataframe\">\n",
       "  <thead>\n",
       "    <tr style=\"text-align: right;\">\n",
       "      <th></th>\n",
       "      <th>user_id</th>\n",
       "      <th>recommendation</th>\n",
       "    </tr>\n",
       "  </thead>\n",
       "  <tbody>\n",
       "    <tr>\n",
       "      <th>0</th>\n",
       "      <td>XbiKsujS_qxU3xsr0xUqmQ</td>\n",
       "      <td>Odd Seoul, Sansotei Ramen, Otto's Berlin Döner...</td>\n",
       "    </tr>\n",
       "    <tr>\n",
       "      <th>1</th>\n",
       "      <td>CjbfWpCRLbA-L_eS_ztd6Q</td>\n",
       "      <td>Copacabana Brazilian Steak House, Wow Sushi, P...</td>\n",
       "    </tr>\n",
       "    <tr>\n",
       "      <th>2</th>\n",
       "      <td>JrXC_MDp38BWwLn2SFdNsA</td>\n",
       "      <td>Lime Asian Kitchen, LOCAL Public Eatery, Main ...</td>\n",
       "    </tr>\n",
       "    <tr>\n",
       "      <th>3</th>\n",
       "      <td>CxDOIDnH8gp9KXzpBHJYXw</td>\n",
       "      <td>Bulldog Coffee, Hexagon, GuangZhou Tai Ping Sh...</td>\n",
       "    </tr>\n",
       "    <tr>\n",
       "      <th>4</th>\n",
       "      <td>U1vl4SQzO3wTAWlYVnSjnw</td>\n",
       "      <td>L'Oeufrier, Dunn's Famous, Adamo, Café Pacefik...</td>\n",
       "    </tr>\n",
       "  </tbody>\n",
       "</table>\n",
       "</div>"
      ],
      "text/plain": [
       "                  user_id                                     recommendation\n",
       "0  XbiKsujS_qxU3xsr0xUqmQ  Odd Seoul, Sansotei Ramen, Otto's Berlin Döner...\n",
       "1  CjbfWpCRLbA-L_eS_ztd6Q  Copacabana Brazilian Steak House, Wow Sushi, P...\n",
       "2  JrXC_MDp38BWwLn2SFdNsA  Lime Asian Kitchen, LOCAL Public Eatery, Main ...\n",
       "3  CxDOIDnH8gp9KXzpBHJYXw  Bulldog Coffee, Hexagon, GuangZhou Tai Ping Sh...\n",
       "4  U1vl4SQzO3wTAWlYVnSjnw  L'Oeufrier, Dunn's Famous, Adamo, Café Pacefik..."
      ]
     },
     "execution_count": 64,
     "metadata": {},
     "output_type": "execute_result"
    }
   ],
   "source": [
    "df_svd = pd.DataFrame(svd_ls)\n",
    "df_svd = df_svd[['user_id','recommendation']]\n",
    "df_svd.head()"
   ]
  },
  {
   "cell_type": "code",
   "execution_count": 65,
   "metadata": {},
   "outputs": [],
   "source": [
    "df_svd.to_csv('SVD_Recommendation_Example.csv')"
   ]
  },
  {
   "cell_type": "markdown",
   "metadata": {},
   "source": [
    "**Test**"
   ]
  },
  {
   "cell_type": "markdown",
   "metadata": {},
   "source": [
    "Let me check whether the recommendation make sense. I can check through whether the category labels are consistent between original returants and recommend restaurants."
   ]
  },
  {
   "cell_type": "code",
   "execution_count": 29,
   "metadata": {},
   "outputs": [
    {
     "name": "stdout",
     "output_type": "stream",
     "text": [
      "Categories from user rated restaurants: \n",
      "american,arabian,bakeries,barbeque,bars,breakfast,british,brunch,burgers,cafes,canadian,caterers,chips,cocktail,coffee,comfort,diners,eastern,event,falafel,fish,food,free,french,gluten,hawaiian,italian,japanese,korean,lebanese,live,lounges,mediterranean,middle,new,nightlife,noodles,pizza,planning,poke,poutineries,pubs,ramen,raw,restaurants,salad,sandwiches,seafood,services,soup,steakhouses,sushi,tea,traditional,vegan,vegetarian,wine\n"
     ]
    }
   ],
   "source": [
    "original_rated_restaurants = [list(set(df['name'][df['business_id'] == business_id[i]]))[0] for i in items_rated_by_this_user]\n",
    "mask = [name in original_rated_restaurants for name in df['name']]\n",
    "original_category = df['categories'][mask]\n",
    "vectorizer = TfidfVectorizer(analyzer = 'word', stop_words = 'english', \n",
    "                             lowercase = True\n",
    "                            )\n",
    "original_category_vec = vectorizer.fit_transform(original_category).toarray()\n",
    "original_word = vectorizer.get_feature_names()\n",
    "print('Categories from user rated restaurants: \\n%s' % (','.join(i for i in original_word)))"
   ]
  },
  {
   "cell_type": "code",
   "execution_count": 30,
   "metadata": {},
   "outputs": [
    {
     "name": "stdout",
     "output_type": "stream",
     "text": [
      "Categories from recommend restaurants: \n",
      "american,bars,brasseries,breakfast,brunch,cafes,coffee,cuban,food,french,japanese,juice,latin,lounges,mexican,nightlife,noodles,pizza,plates,pubs,ramen,restaurants,sandwiches,small,smoothies,soup,tapas,tea,trucks,vegan,vegetarian\n"
     ]
    }
   ],
   "source": [
    "recommend_res = [list(set(df['name'][df['business_id'] == business_id[i]]))[0] \\\n",
    "                 for i in lucky_user_recommend]\n",
    "mask = [name in recommend_res for name in df['name']]\n",
    "recommend_category = df['categories'][mask]\n",
    "vectorizer = TfidfVectorizer(analyzer = 'word', stop_words = 'english', \n",
    "                             lowercase = True\n",
    "                            )\n",
    "recommend_category_vec = vectorizer.fit_transform(recommend_category).toarray()\n",
    "recommend_word = vectorizer.get_feature_names()\n",
    "print('Categories from recommend restaurants: \\n%s' % (','.join(i for i in recommend_word)))"
   ]
  },
  {
   "cell_type": "code",
   "execution_count": 31,
   "metadata": {},
   "outputs": [
    {
     "name": "stdout",
     "output_type": "stream",
     "text": [
      "Common labels are: \n",
      "american, bars, breakfast, brunch, cafes, coffee, food, french, japanese, lounges, nightlife, noodles, pizza, pubs, ramen, restaurants, sandwiches, soup, tea, vegan, vegetarian\n"
     ]
    }
   ],
   "source": [
    "#Check the common labels\n",
    "print(\"Common labels are: \\n%s\" % (', '.join(word for word in recommend_word if word in original_word)))"
   ]
  },
  {
   "cell_type": "code",
   "execution_count": null,
   "metadata": {},
   "outputs": [],
   "source": []
  }
 ],
 "metadata": {
  "anaconda-cloud": {},
  "kernelspec": {
   "display_name": "Python 3",
   "language": "python",
   "name": "python3"
  },
  "language_info": {
   "codemirror_mode": {
    "name": "ipython",
    "version": 3
   },
   "file_extension": ".py",
   "mimetype": "text/x-python",
   "name": "python",
   "nbconvert_exporter": "python",
   "pygments_lexer": "ipython3",
   "version": "3.6.3"
  }
 },
 "nbformat": 4,
 "nbformat_minor": 1
}
