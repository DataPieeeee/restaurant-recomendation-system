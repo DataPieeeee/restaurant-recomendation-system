{
 "cells": [
  {
   "cell_type": "markdown",
   "metadata": {},
   "source": [
    "# Build the Restaurant Recommender\n",
    "Summary: \n",
    "- With current rating system, I can actually make use of it to build recommendation system. \n",
    "- Here I build item-item colaborative filtering recommender system, NMF_recommender system and SVD_recommender system.\n",
    "- I compare the performance of recommender system by checking the common labels shared by recommendered restaurants and visited restaurants.\n",
    "- It turns out that the item-item colaborative filtering recommender system and SVD_recommender system have better performance. SVD_recommender system shows faster computation speed. Therefore, SVD_recommender system wins the case here.\n",
    "- The reason can be concluded as:\n",
    "    - colaborative filtering need to calculate pair-wise distance so it is slower than matrix factorization models.\n",
    "    - SVD_recommender with restaurants labels solves the puzzle of choosing latent factor. Therefore, SVD_recommender system outperforms NMF_recommender system\n"
   ]
  },
  {
   "cell_type": "code",
   "execution_count": 1,
   "metadata": {},
   "outputs": [],
   "source": [
    "import pandas as pd\n",
    "import numpy as np\n",
    "import matplotlib.pyplot as plt\n",
    "% matplotlib inline\n",
    "plt.style.use(\"ggplot\")"
   ]
  },
  {
   "cell_type": "code",
   "execution_count": 2,
   "metadata": {},
   "outputs": [],
   "source": [
    "df = pd.read_csv('2017_restaurant_reviews.csv')"
   ]
  },
  {
   "cell_type": "code",
   "execution_count": 3,
   "metadata": {},
   "outputs": [
    {
     "data": {
      "text/html": [
       "<div>\n",
       "<style scoped>\n",
       "    .dataframe tbody tr th:only-of-type {\n",
       "        vertical-align: middle;\n",
       "    }\n",
       "\n",
       "    .dataframe tbody tr th {\n",
       "        vertical-align: top;\n",
       "    }\n",
       "\n",
       "    .dataframe thead th {\n",
       "        text-align: right;\n",
       "    }\n",
       "</style>\n",
       "<table border=\"1\" class=\"dataframe\">\n",
       "  <thead>\n",
       "    <tr style=\"text-align: right;\">\n",
       "      <th></th>\n",
       "      <th>business_id</th>\n",
       "      <th>name</th>\n",
       "      <th>categories</th>\n",
       "      <th>avg_stars</th>\n",
       "      <th>cool</th>\n",
       "      <th>date</th>\n",
       "      <th>funny</th>\n",
       "      <th>review_id</th>\n",
       "      <th>stars</th>\n",
       "      <th>text</th>\n",
       "      <th>useful</th>\n",
       "      <th>user_id</th>\n",
       "    </tr>\n",
       "  </thead>\n",
       "  <tbody>\n",
       "    <tr>\n",
       "      <th>2</th>\n",
       "      <td>--1UhMGODdWsrMastO9DZw</td>\n",
       "      <td>The Spicy Amigos</td>\n",
       "      <td>Restaurants, Mexican</td>\n",
       "      <td>4.0</td>\n",
       "      <td>0</td>\n",
       "      <td>2017-12-12</td>\n",
       "      <td>0</td>\n",
       "      <td>e1HiHHD7CzY5NKZG7hvhTw</td>\n",
       "      <td>5</td>\n",
       "      <td>Absolutely delicious! And great service as wel...</td>\n",
       "      <td>0</td>\n",
       "      <td>Sew1Nht6Q0sGTIZeNvRfLw</td>\n",
       "    </tr>\n",
       "    <tr>\n",
       "      <th>3</th>\n",
       "      <td>--1UhMGODdWsrMastO9DZw</td>\n",
       "      <td>The Spicy Amigos</td>\n",
       "      <td>Restaurants, Mexican</td>\n",
       "      <td>4.0</td>\n",
       "      <td>0</td>\n",
       "      <td>2017-08-09</td>\n",
       "      <td>0</td>\n",
       "      <td>oKm8UTv-QSC0oCbniqwxjg</td>\n",
       "      <td>4</td>\n",
       "      <td>Tasty, authentic Mexican street food that give...</td>\n",
       "      <td>0</td>\n",
       "      <td>NoQCmYKyMPs4D01Wa6dZew</td>\n",
       "    </tr>\n",
       "    <tr>\n",
       "      <th>5</th>\n",
       "      <td>--1UhMGODdWsrMastO9DZw</td>\n",
       "      <td>The Spicy Amigos</td>\n",
       "      <td>Restaurants, Mexican</td>\n",
       "      <td>4.0</td>\n",
       "      <td>1</td>\n",
       "      <td>2017-05-10</td>\n",
       "      <td>0</td>\n",
       "      <td>9CLEOpUCqRkIR02sx-JsMQ</td>\n",
       "      <td>5</td>\n",
       "      <td>A little hole in the wall for some really deli...</td>\n",
       "      <td>0</td>\n",
       "      <td>atyCaAjUYatIFDOGKy00SA</td>\n",
       "    </tr>\n",
       "  </tbody>\n",
       "</table>\n",
       "</div>"
      ],
      "text/plain": [
       "              business_id              name            categories  avg_stars  \\\n",
       "2  --1UhMGODdWsrMastO9DZw  The Spicy Amigos  Restaurants, Mexican        4.0   \n",
       "3  --1UhMGODdWsrMastO9DZw  The Spicy Amigos  Restaurants, Mexican        4.0   \n",
       "5  --1UhMGODdWsrMastO9DZw  The Spicy Amigos  Restaurants, Mexican        4.0   \n",
       "\n",
       "   cool        date  funny               review_id  stars  \\\n",
       "2     0  2017-12-12      0  e1HiHHD7CzY5NKZG7hvhTw      5   \n",
       "3     0  2017-08-09      0  oKm8UTv-QSC0oCbniqwxjg      4   \n",
       "5     1  2017-05-10      0  9CLEOpUCqRkIR02sx-JsMQ      5   \n",
       "\n",
       "                                                text  useful  \\\n",
       "2  Absolutely delicious! And great service as wel...       0   \n",
       "3  Tasty, authentic Mexican street food that give...       0   \n",
       "5  A little hole in the wall for some really deli...       0   \n",
       "\n",
       "                  user_id  \n",
       "2  Sew1Nht6Q0sGTIZeNvRfLw  \n",
       "3  NoQCmYKyMPs4D01Wa6dZew  \n",
       "5  atyCaAjUYatIFDOGKy00SA  "
      ]
     },
     "execution_count": 3,
     "metadata": {},
     "output_type": "execute_result"
    }
   ],
   "source": [
    "df.head(3)"
   ]
  },
  {
   "cell_type": "markdown",
   "metadata": {},
   "source": [
    "## Clean data and get rating data "
   ]
  },
  {
   "cell_type": "markdown",
   "metadata": {},
   "source": [
    "#### 1. Select relevant columns in the original dataframe"
   ]
  },
  {
   "cell_type": "code",
   "execution_count": 4,
   "metadata": {},
   "outputs": [
    {
     "data": {
      "text/html": [
       "<div>\n",
       "<style scoped>\n",
       "    .dataframe tbody tr th:only-of-type {\n",
       "        vertical-align: middle;\n",
       "    }\n",
       "\n",
       "    .dataframe tbody tr th {\n",
       "        vertical-align: top;\n",
       "    }\n",
       "\n",
       "    .dataframe thead th {\n",
       "        text-align: right;\n",
       "    }\n",
       "</style>\n",
       "<table border=\"1\" class=\"dataframe\">\n",
       "  <thead>\n",
       "    <tr style=\"text-align: right;\">\n",
       "      <th></th>\n",
       "      <th>business_id</th>\n",
       "      <th>user_id</th>\n",
       "      <th>stars</th>\n",
       "    </tr>\n",
       "  </thead>\n",
       "  <tbody>\n",
       "    <tr>\n",
       "      <th>2</th>\n",
       "      <td>--1UhMGODdWsrMastO9DZw</td>\n",
       "      <td>Sew1Nht6Q0sGTIZeNvRfLw</td>\n",
       "      <td>5</td>\n",
       "    </tr>\n",
       "    <tr>\n",
       "      <th>3</th>\n",
       "      <td>--1UhMGODdWsrMastO9DZw</td>\n",
       "      <td>NoQCmYKyMPs4D01Wa6dZew</td>\n",
       "      <td>4</td>\n",
       "    </tr>\n",
       "    <tr>\n",
       "      <th>5</th>\n",
       "      <td>--1UhMGODdWsrMastO9DZw</td>\n",
       "      <td>atyCaAjUYatIFDOGKy00SA</td>\n",
       "      <td>5</td>\n",
       "    </tr>\n",
       "  </tbody>\n",
       "</table>\n",
       "</div>"
      ],
      "text/plain": [
       "              business_id                 user_id  stars\n",
       "2  --1UhMGODdWsrMastO9DZw  Sew1Nht6Q0sGTIZeNvRfLw      5\n",
       "3  --1UhMGODdWsrMastO9DZw  NoQCmYKyMPs4D01Wa6dZew      4\n",
       "5  --1UhMGODdWsrMastO9DZw  atyCaAjUYatIFDOGKy00SA      5"
      ]
     },
     "execution_count": 4,
     "metadata": {},
     "output_type": "execute_result"
    }
   ],
   "source": [
    "recommender_df = df[['business_id', 'user_id', 'stars']]\n",
    "recommender_df.head(3)"
   ]
  },
  {
   "cell_type": "markdown",
   "metadata": {},
   "source": [
    "There are many users that haven't given many reviews, I will exclude these users from the item-item similarity recommender."
   ]
  },
  {
   "cell_type": "code",
   "execution_count": 5,
   "metadata": {},
   "outputs": [
    {
     "name": "stdout",
     "output_type": "stream",
     "text": [
      "                        business_id  stars\n",
      "user_id                                   \n",
      "--2PnhMMH7EYoY3wywOvgQ            1      1\n",
      "--6kLBBsm0GPM9vIB2YBDw            1      1\n",
      "--7gjElmOrthETJ8XqzMBw            1      1\n",
      "--8NUFYnpU_Zu09TgcLevw            1      1\n",
      "--BumyUHiO_7YsHurb9Hkw           43     43\n",
      "--C93xIlmjtgQfSOIpcQSA            1      1\n",
      "--DKDJlRHfsvufdGSk_Sdw            1      1\n",
      "--NIc98RMssgy0mSZL3vpA            9      9\n",
      "--Qh8yKWAvIP4V4K8ZPfHA           33     33\n",
      "--WhK4MJx0fKvg64LqwStg            1      1\n",
      "--YhjyV-ce1nFLYxP49C5A           34     34\n",
      "--_i0TDbSrV8HN19XlSEFw            2      2\n",
      "--b8fKG7GFGSGfl_BzTnPw            1      1\n",
      "--cj94VBt0CHYM2UfQBglg            1      1\n",
      "--neBDssyZlHqAWgrHtUBQ            2      2\n",
      "--t6W1JHbStaCp5RO05thA            1      1\n",
      "-018WmPPk8qlp3TEiqqMVw            1      1\n",
      "-03y31IzykunU9azzgLsoQ            1      1\n",
      "-06T53TLMkg_xGl3flhDNw            1      1\n",
      "-0OE9Pn8vSK-WjJeRtHDtw            1      1\n",
      "-0OSHsV_0VZz4E09FLgQtQ            1      1\n",
      "-0Z6b2zZhdXV2pKX4jcCEQ            1      1\n",
      "-0kOvwKyRPhMtkj41zMLNw            1      1\n",
      "-0rIBp-WO2vjT002yb-OGA            2      2\n",
      "-0uxNDq75gvHQG_PF54Xqw            1      1\n",
      "-0zNhSy8h7PDE4tsv0nRMQ            1      1\n",
      "-0zUpn_6kTWXHWzB85u7yA            8      8\n",
      "-17V1bykHQQbMQb1ArXU2g            2      2\n",
      "-1A5R29wkTHmiLAwrlGE0Q            1      1\n",
      "-1A6IYfwlgaaZ2NWFMieLQ            1      1\n",
      "...                             ...    ...\n",
      "zxXQgpt0hHK3OWYPf97ykw            3      3\n",
      "zxoVuq_Xd1khUdosVsiY6w            1      1\n",
      "zxsGLpHvzbVqNDm4svFQ5g            1      1\n",
      "zy-bRNv9Wp3fmNM4TD9kIw           11     11\n",
      "zy2ZwrYjSAGv6AMF039iMw            1      1\n",
      "zy6jvDYCMpkfmN34nKK7bQ            1      1\n",
      "zyDe59WFvIypdOxhKSDsRw            2      2\n",
      "zyYWUdaodH0h1jCZAvFRPg            5      5\n",
      "zyZIwX6OZVg5nEg5S9igqg            1      1\n",
      "zybT4EH-J2WOU4OlrLuzpQ            1      1\n",
      "zyg4-MFtfPWmwucVazSjfw           50     50\n",
      "zygFiuvfUwY7b619itlBQA            1      1\n",
      "zyiVxl6qWg9RVThstlOBuw           12     12\n",
      "zyihxqgcQAfmCmosIi7fvQ            1      1\n",
      "zyoRYfLhwUh35MxNm6oD8A            1      1\n",
      "zyvYVFRSLqChH8kb0V7i9A            1      1\n",
      "zyzoF7KjvOHmRJ1OO5JtLQ            5      5\n",
      "zz3Cp7DPGCE1Tg9Q8Y2fMg            1      1\n",
      "zz5W9nZG706QdTCGTnLufA            2      2\n",
      "zzKsgIF472IyDpJxmHDIpw            5      5\n",
      "zzPtxnDCp_jQcKNF5vMB3Q            1      1\n",
      "zzTKylg4uoI4VdwR1Ky2LQ            1      1\n",
      "zzVGOFsIjStuFsy_kyJnIg            1      1\n",
      "zzWlTfNssZPlQo4_cKujGw            1      1\n",
      "zzhJKQjEU8IvKVVkmo3yxQ            1      1\n",
      "zzmhLxcZ4XZQyz95c_KbOA            2      2\n",
      "zzo--VpSQh8PpsGVeMC1dQ           16     16\n",
      "zzsmdXHUFBYuKUtPbXWjRA            2      2\n",
      "zztkCqqgR6VntYbqio4UTQ            2      2\n",
      "zzyMMeUZzKAy7KQhM7lU2w            2      2\n",
      "\n",
      "[72286 rows x 2 columns]\n"
     ]
    }
   ],
   "source": [
    "print(recommender_df.groupby('user_id').count())"
   ]
  },
  {
   "cell_type": "code",
   "execution_count": 6,
   "metadata": {},
   "outputs": [
    {
     "data": {
      "text/plain": [
       "user_id\n",
       "--2PnhMMH7EYoY3wywOvgQ     1\n",
       "--6kLBBsm0GPM9vIB2YBDw     1\n",
       "--7gjElmOrthETJ8XqzMBw     1\n",
       "--8NUFYnpU_Zu09TgcLevw     1\n",
       "--BumyUHiO_7YsHurb9Hkw    43\n",
       "Name: stars, dtype: int64"
      ]
     },
     "execution_count": 6,
     "metadata": {},
     "output_type": "execute_result"
    }
   ],
   "source": [
    "reviews_count_df = recommender_df.groupby('user_id')['stars'].count()\n",
    "reviews_count_df.head(5)"
   ]
  },
  {
   "cell_type": "code",
   "execution_count": 7,
   "metadata": {},
   "outputs": [
    {
     "name": "stdout",
     "output_type": "stream",
     "text": [
      "Max reviews: 227, Min reviews: 1\n",
      "Median reviews: 1.0, Mean reviews: 2.75\n",
      "25% reviews: 1,  75% reviews: 2\n",
      "Number of unique business: 13181\n"
     ]
    }
   ],
   "source": [
    "print('Max reviews: %s, Min reviews: %s' % (max(reviews_count_df), min(reviews_count_df)))\n",
    "print('Median reviews: %s, Mean reviews: %s' % (np.median(reviews_count_df), round(np.mean(reviews_count_df),2)))\n",
    "print('25%% reviews: %d,  75%% reviews: %d' % (np.percentile(reviews_count_df, 25), np.percentile(reviews_count_df, 75)))\n",
    "print('Number of unique business: %d' % (len(set(recommender_df['business_id']))))"
   ]
  },
  {
   "cell_type": "code",
   "execution_count": 8,
   "metadata": {},
   "outputs": [
    {
     "data": {
      "text/html": [
       "<div>\n",
       "<style scoped>\n",
       "    .dataframe tbody tr th:only-of-type {\n",
       "        vertical-align: middle;\n",
       "    }\n",
       "\n",
       "    .dataframe tbody tr th {\n",
       "        vertical-align: top;\n",
       "    }\n",
       "\n",
       "    .dataframe thead th {\n",
       "        text-align: right;\n",
       "    }\n",
       "</style>\n",
       "<table border=\"1\" class=\"dataframe\">\n",
       "  <thead>\n",
       "    <tr style=\"text-align: right;\">\n",
       "      <th></th>\n",
       "      <th>business_id</th>\n",
       "      <th>user_id</th>\n",
       "      <th>stars</th>\n",
       "    </tr>\n",
       "  </thead>\n",
       "  <tbody>\n",
       "    <tr>\n",
       "      <th>21</th>\n",
       "      <td>--1UhMGODdWsrMastO9DZw</td>\n",
       "      <td>TzU30D-CjtPP3XumggK0Mg</td>\n",
       "      <td>4</td>\n",
       "    </tr>\n",
       "    <tr>\n",
       "      <th>22</th>\n",
       "      <td>--1UhMGODdWsrMastO9DZw</td>\n",
       "      <td>ZgAzKwganIXImRAMcvdK_A</td>\n",
       "      <td>4</td>\n",
       "    </tr>\n",
       "    <tr>\n",
       "      <th>23</th>\n",
       "      <td>--1UhMGODdWsrMastO9DZw</td>\n",
       "      <td>m-p-7WuB85UjsLDaxJXCXA</td>\n",
       "      <td>5</td>\n",
       "    </tr>\n",
       "    <tr>\n",
       "      <th>41</th>\n",
       "      <td>--DaPTJW3-tB1vP-PfdTEg</td>\n",
       "      <td>2HjBjUrqjjVfopPfghgpqw</td>\n",
       "      <td>3</td>\n",
       "    </tr>\n",
       "    <tr>\n",
       "      <th>85</th>\n",
       "      <td>--SrzpvFLwP_YFwB_Cetow</td>\n",
       "      <td>6eCgSb66TE1LeiWPPBPnTg</td>\n",
       "      <td>4</td>\n",
       "    </tr>\n",
       "  </tbody>\n",
       "</table>\n",
       "</div>"
      ],
      "text/plain": [
       "               business_id                 user_id  stars\n",
       "21  --1UhMGODdWsrMastO9DZw  TzU30D-CjtPP3XumggK0Mg      4\n",
       "22  --1UhMGODdWsrMastO9DZw  ZgAzKwganIXImRAMcvdK_A      4\n",
       "23  --1UhMGODdWsrMastO9DZw  m-p-7WuB85UjsLDaxJXCXA      5\n",
       "41  --DaPTJW3-tB1vP-PfdTEg  2HjBjUrqjjVfopPfghgpqw      3\n",
       "85  --SrzpvFLwP_YFwB_Cetow  6eCgSb66TE1LeiWPPBPnTg      4"
      ]
     },
     "execution_count": 8,
     "metadata": {},
     "output_type": "execute_result"
    }
   ],
   "source": [
    "active_user = list(reviews_count_df[reviews_count_df >= 10].index)  #过滤出review>10的user_id\n",
    "mask = [user in active_user for user in recommender_df['user_id']]\n",
    "active_user_df = recommender_df[mask]\n",
    "active_user_df.head(5)"
   ]
  },
  {
   "cell_type": "code",
   "execution_count": 32,
   "metadata": {},
   "outputs": [
    {
     "name": "stdout",
     "output_type": "stream",
     "text": [
      "The total number of active users in Canada in 2017 and 2018 is 3190.\n"
     ]
    }
   ],
   "source": [
    "print('The total number of active users in Canada in 2017 and 2018 is %d.' % \\\n",
    "      (len(active_user_df.groupby('user_id')['stars'].count())))"
   ]
  },
  {
   "cell_type": "code",
   "execution_count": 33,
   "metadata": {},
   "outputs": [
    {
     "name": "stdout",
     "output_type": "stream",
     "text": [
      "The total records number for active users in Canada in 2017 and2018 is 74895.\n"
     ]
    }
   ],
   "source": [
    "print('The total records number for active users in Canada in 2017 and2018 is %d.' % \\\n",
    "      (len(active_user_df)))"
   ]
  },
  {
   "cell_type": "markdown",
   "metadata": {},
   "source": [
    "#### 2. Create utility matrix from records"
   ]
  },
  {
   "cell_type": "code",
   "execution_count": 11,
   "metadata": {},
   "outputs": [
    {
     "data": {
      "text/plain": [
       "<3190x10717 sparse matrix of type '<class 'numpy.float64'>'\n",
       "\twith 0 stored elements in LInked List format>"
      ]
     },
     "execution_count": 11,
     "metadata": {},
     "output_type": "execute_result"
    }
   ],
   "source": [
    "from scipy import sparse\n",
    "highest_user_id = len(set(active_user_df['user_id']))\n",
    "highest_movie_id = len(set(active_user_df['business_id']))\n",
    "ratings_mat = sparse.lil_matrix((highest_user_id, highest_movie_id))\n",
    "ratings_mat"
   ]
  },
  {
   "cell_type": "markdown",
   "metadata": {},
   "source": [
    "Fill the rate matrix based on table"
   ]
  },
  {
   "cell_type": "code",
   "execution_count": 12,
   "metadata": {},
   "outputs": [
    {
     "data": {
      "text/plain": [
       "<3190x10717 sparse matrix of type '<class 'numpy.float64'>'\n",
       "\twith 74894 stored elements in LInked List format>"
      ]
     },
     "execution_count": 12,
     "metadata": {},
     "output_type": "execute_result"
    }
   ],
   "source": [
    "user_id = list(set(active_user_df['user_id']))\n",
    "business_id = list(set(active_user_df['business_id']))\n",
    "for _, row in active_user_df.iterrows():\n",
    "    ratings_mat[user_id.index(row.user_id), business_id.index(row.business_id)] = row.stars  #fill the stars in ratings_mat\n",
    "ratings_mat"
   ]
  },
  {
   "cell_type": "markdown",
   "metadata": {},
   "source": [
    "## Item - Item Collaborative Filter Recommender"
   ]
  },
  {
   "cell_type": "code",
   "execution_count": 13,
   "metadata": {},
   "outputs": [],
   "source": [
    "from sklearn.metrics.pairwise import cosine_similarity\n",
    "from time import time\n",
    "class ItemItemRecommender(object):\n",
    "\n",
    "    def __init__(self, neighborhood_size):\n",
    "        self.neighborhood_size = neighborhood_size\n",
    "\n",
    "    def fit(self, ratings_mat):\n",
    "        self.ratings_mat = ratings_mat\n",
    "        self.n_users = ratings_mat.shape[0]\n",
    "        self.n_items = ratings_mat.shape[1]\n",
    "        self.item_sim_mat = cosine_similarity(self.ratings_mat.T)\n",
    "        self._set_neighborhoods()\n",
    "\n",
    "    def _set_neighborhoods(self):\n",
    "        least_to_most_sim_indexes = np.argsort(self.item_sim_mat, 1)\n",
    "        self.neighborhoods = least_to_most_sim_indexes[:, -self.neighborhood_size:]\n",
    "\n",
    "    def pred_one_user(self, user_id, report_run_time=False):\n",
    "        start_time = time()\n",
    "        items_rated_by_this_user = self.ratings_mat[user_id].nonzero()[1]\n",
    "        # Just initializing so I have somewhere to put rating preds\n",
    "        out = np.zeros(self.n_items)\n",
    "        for item_to_rate in range(self.n_items):\n",
    "            relevant_items = np.intersect1d(self.neighborhoods[item_to_rate],\n",
    "                                            items_rated_by_this_user,\n",
    "                                            assume_unique=True)  # assume_unique speeds up intersection op\n",
    "            out[item_to_rate] = self.ratings_mat[user_id, relevant_items] * \\\n",
    "                self.item_sim_mat[item_to_rate, relevant_items] / \\\n",
    "                self.item_sim_mat[item_to_rate, relevant_items].sum()\n",
    "        if report_run_time:\n",
    "            print(\"Execution time: %f seconds\" % (time()-start_time))\n",
    "        cleaned_out = np.nan_to_num(out)\n",
    "        return cleaned_out\n",
    "\n",
    "    def pred_all_users(self, report_run_time=False):\n",
    "        start_time = time()\n",
    "        all_ratings = [\n",
    "            self.pred_one_user(user_id) for user_id in range(self.n_users)]\n",
    "        if report_run_time:\n",
    "            print(\"Execution time: %f seconds\" % (time()-start_time))\n",
    "        return np.array(all_ratings)\n",
    "\n",
    "    def top_n_recs(self, user_id, n):\n",
    "        pred_ratings = self.pred_one_user(user_id)\n",
    "        item_index_sorted_by_pred_rating = list(np.argsort(pred_ratings))\n",
    "        items_rated_by_this_user = self.ratings_mat[user_id].nonzero()[1]\n",
    "        unrated_items_by_pred_rating = [item for item in item_index_sorted_by_pred_rating\n",
    "                                        if item not in items_rated_by_this_user]\n",
    "        return unrated_items_by_pred_rating[-n:], items_rated_by_this_user"
   ]
  },
  {
   "cell_type": "code",
   "execution_count": 14,
   "metadata": {},
   "outputs": [],
   "source": [
    "#neighborhood_size\n",
    "my_rec_engine = ItemItemRecommender(neighborhood_size=80)\n",
    "my_rec_engine.fit(ratings_mat)"
   ]
  },
  {
   "cell_type": "markdown",
   "metadata": {},
   "source": [
    "Let me try the recommder system with a lucky user."
   ]
  },
  {
   "cell_type": "code",
   "execution_count": 15,
   "metadata": {},
   "outputs": [
    {
     "name": "stderr",
     "output_type": "stream",
     "text": [
      "/Users/suhang/anaconda3/lib/python3.6/site-packages/ipykernel_launcher.py:28: RuntimeWarning: invalid value encountered in true_divide\n"
     ]
    }
   ],
   "source": [
    "lucky_user = np.random.choice(active_user_df['user_id'], 1)[0]\n",
    "lucky_user_index = user_id.index(lucky_user)\n",
    "lucky_user_recommend, items_rated_by_this_user = my_rec_engine.top_n_recs(user_id=lucky_user_index, n = 10)"
   ]
  },
  {
   "cell_type": "code",
   "execution_count": 16,
   "metadata": {},
   "outputs": [
    {
     "name": "stdout",
     "output_type": "stream",
     "text": [
      "The top ten recommendation for user dmN6SfMI-pQyT-ouOmEkjQ are: \n",
      "East Africa Restaurant, Knox, Diablos, Gia Ba, Blu restaurante, Jellyfish Crudo + Charbon, Sabor Latino, Restaurant My Canh, Panda Thai, Gyu-Kaku Japanese BBQ\n"
     ]
    }
   ],
   "source": [
    "print(\"The top ten recommendation for user %s are: \" % (lucky_user))\n",
    "print('%s' % (', '.join(list(set(df['name'][df['business_id'] == business_id[i]]))[0] \\\n",
    "                       for i in lucky_user_recommend)))"
   ]
  },
  {
   "cell_type": "code",
   "execution_count": 17,
   "metadata": {},
   "outputs": [
    {
     "name": "stdout",
     "output_type": "stream",
     "text": [
      "Categories from user rated restaurants: \n",
      "american,arabian,bakeries,barbeque,bars,breakfast,british,brunch,burgers,cafes,canadian,caterers,chips,cocktail,coffee,comfort,diners,eastern,event,falafel,fish,food,free,french,gluten,hawaiian,italian,japanese,korean,lebanese,live,lounges,mediterranean,middle,new,nightlife,noodles,pizza,planning,poke,poutineries,pubs,ramen,raw,restaurants,salad,sandwiches,seafood,services,soup,steakhouses,sushi,tea,traditional,vegan,vegetarian,wine\n"
     ]
    }
   ],
   "source": [
    "from sklearn.feature_extraction.text import TfidfVectorizer\n",
    "original_rated_restaurants = [list(set(df['name'][df['business_id'] == business_id[i]]))[0] for i in items_rated_by_this_user]\n",
    "mask = [name in original_rated_restaurants for name in df['name']]\n",
    "original_category = df['categories'][mask]\n",
    "vectorizer = TfidfVectorizer(analyzer = 'word', stop_words = 'english', \n",
    "                             lowercase = True)\n",
    "original_category_vec = vectorizer.fit_transform(original_category).toarray()\n",
    "original_word = vectorizer.get_feature_names()\n",
    "print('Categories from user rated restaurants: \\n%s' % (','.join(i for i in original_word)))"
   ]
  },
  {
   "cell_type": "code",
   "execution_count": 18,
   "metadata": {},
   "outputs": [
    {
     "name": "stdout",
     "output_type": "stream",
     "text": [
      "Categories from recommend restaurants: \n",
      "african,american,asian,bakeries,barbeque,bars,chinese,comfort,european,food,french,fusion,grocery,international,italian,japanese,latin,lounges,modern,nightlife,pan,pubs,restaurants,sandwiches,seafood,southern,sports,steakhouses,taiwanese,thai,traditional,vietnamese\n"
     ]
    }
   ],
   "source": [
    "recommend_res = [list(set(df['name'][df['business_id'] == business_id[i]]))[0] \\\n",
    "                 for i in lucky_user_recommend]\n",
    "mask = [name in recommend_res for name in df['name']]\n",
    "recommend_category = df['categories'][mask]\n",
    "vectorizer = TfidfVectorizer(analyzer = 'word', stop_words = 'english', \n",
    "                             lowercase = True)\n",
    "recommend_category_vec = vectorizer.fit_transform(recommend_category).toarray()\n",
    "recommend_word = vectorizer.get_feature_names()\n",
    "print('Categories from recommend restaurants: \\n%s' % (','.join(i for i in recommend_word)))"
   ]
  },
  {
   "cell_type": "code",
   "execution_count": 19,
   "metadata": {},
   "outputs": [
    {
     "name": "stdout",
     "output_type": "stream",
     "text": [
      "Common labels are: \n",
      "american, bakeries, barbeque, bars, comfort, food, french, italian, japanese, lounges, nightlife, pubs, restaurants, sandwiches, seafood, steakhouses, traditional\n"
     ]
    }
   ],
   "source": [
    "#Check the common labels\n",
    "print(\"Common labels are: \\n%s\" % (', '.join(word for word in recommend_word if word in original_word)))#original_word = vectorizer.get_feature_names()"
   ]
  },
  {
   "cell_type": "markdown",
   "metadata": {},
   "source": [
    "## Matrix Factorization recommender (NMF)"
   ]
  },
  {
   "cell_type": "code",
   "execution_count": 20,
   "metadata": {},
   "outputs": [],
   "source": [
    "from sklearn.decomposition import NMF\n",
    "class NMF_Recommender(object):\n",
    "\n",
    "    def __init__(self, n_components):\n",
    "        self.n_components = n_components\n",
    "\n",
    "    def fit(self, ratings_mat):\n",
    "        self.ratings_mat = ratings_mat\n",
    "        self.n_users = ratings_mat.shape[0]\n",
    "        self.n_items = ratings_mat.shape[1]\n",
    "        nmf = NMF(n_components = 200)\n",
    "        nmf.fit(ratings_mat)\n",
    "        self.W = nmf.transform(ratings_mat)\n",
    "        self.H = nmf.components_\n",
    "        self.error = nmf.reconstruction_err_\n",
    "        self.ratings_mat_fitted = self.W.dot(self.H)\n",
    "\n",
    "    def get_error(self):\n",
    "        return self.error\n",
    "        \n",
    "    def pred_one_user(self, user_id, report_run_time=False):\n",
    "        start_time = time()\n",
    "        cleaned_out = self.ratings_mat_fitted[user_id,:]\n",
    "        if report_run_time:\n",
    "            print(\"Execution time: %f seconds\" % (time()-start_time))\n",
    "        return cleaned_out\n",
    "\n",
    "    def pred_all_users(self, report_run_time=False):\n",
    "        start_time = time()\n",
    "        all_ratings = [\n",
    "            self.pred_one_user(user_id) for user_id in range(self.n_users)]\n",
    "        if report_run_time:\n",
    "            print(\"Execution time: %f seconds\" % (time()-start_time))\n",
    "        return np.array(all_ratings)\n",
    "\n",
    "    def top_n_recs(self, user_id, n):\n",
    "        pred_ratings = self.pred_one_user(user_id)\n",
    "        item_index_sorted_by_pred_rating = list(np.argsort(pred_ratings))\n",
    "        items_rated_by_this_user = self.ratings_mat[user_id].nonzero()[1]\n",
    "        unrated_items_by_pred_rating = [item for item in item_index_sorted_by_pred_rating\n",
    "                                        if item not in items_rated_by_this_user]\n",
    "        return unrated_items_by_pred_rating[-n:], items_rated_by_this_user"
   ]
  },
  {
   "cell_type": "code",
   "execution_count": 21,
   "metadata": {},
   "outputs": [
    {
     "name": "stdout",
     "output_type": "stream",
     "text": [
      "The top ten recommendation for user dmN6SfMI-pQyT-ouOmEkjQ are: \n",
      "KINTON RAMEN, Notre-Boeuf-de-Grâce, Otto Yakitori Izakaya, Europea, Escondite, Satay Brothers, Restaurant LOV, Au Pied de Cochon, C'ChoColat, Deville Dinerbar\n"
     ]
    }
   ],
   "source": [
    "# get recommendations for the same lucky user\n",
    "my_rec_engine = NMF_Recommender(n_components=200)\n",
    "my_rec_engine.fit(ratings_mat)\n",
    "lucky_user_recommend, items_rated_by_this_user = my_rec_engine.top_n_recs(user_id=lucky_user_index, n = 10)\n",
    "print(\"The top ten recommendation for user %s are: \" % (lucky_user))\n",
    "print('%s' % (', '.join(list(set(df['name'][df['business_id'] == business_id[i]]))[0] \\\n",
    "                       for i in lucky_user_recommend)))"
   ]
  },
  {
   "cell_type": "code",
   "execution_count": 22,
   "metadata": {},
   "outputs": [
    {
     "name": "stdout",
     "output_type": "stream",
     "text": [
      "The users original rated resturants are :\n",
      " Big in Japan,Olive & Gourmando,Wienstein & Gavino's,Brit & Chips,Burger Bar Crescent,Le Majestique,Opiano,Moleskine,Mandy's,GaNaDaRa,Lola Rosa,Tommy,Le Poké Bar,Garage Beirut,Rosewood,Ramen Misoya,Biirū,Universel,Kantapia,Big In Japan,Holder Restaurant Bar,La Banquise,Sir Winston Churchill Pub,Shawarmaz,Les 400 Coups,Boustan,Le Warehouse\n"
     ]
    }
   ],
   "source": [
    "print(\"The users original rated resturants are :\\n %s\" % (','.join(list(set(df['name'][df['business_id'] == business_id[i]]))[0] \\\n",
    "                       for i in items_rated_by_this_user)))"
   ]
  },
  {
   "cell_type": "code",
   "execution_count": 23,
   "metadata": {},
   "outputs": [
    {
     "name": "stdout",
     "output_type": "stream",
     "text": [
      "Categories from user rated restaurants: \n",
      "american,arabian,bakeries,barbeque,bars,breakfast,british,brunch,burgers,cafes,canadian,caterers,chips,cocktail,coffee,comfort,diners,eastern,event,falafel,fish,food,free,french,gluten,hawaiian,italian,japanese,korean,lebanese,live,lounges,mediterranean,middle,new,nightlife,noodles,pizza,planning,poke,poutineries,pubs,ramen,raw,restaurants,salad,sandwiches,seafood,services,soup,steakhouses,sushi,tea,traditional,vegan,vegetarian,wine\n"
     ]
    }
   ],
   "source": [
    "original_rated_restaurants = [list(set(df['name'][df['business_id'] == business_id[i]]))[0] for i in items_rated_by_this_user]\n",
    "mask = [name in original_rated_restaurants for name in df['name']]\n",
    "original_category = df['categories'][mask]\n",
    "vectorizer = TfidfVectorizer(analyzer = 'word', stop_words = 'english', \n",
    "                             lowercase = True\n",
    "                            )\n",
    "original_category_vec = vectorizer.fit_transform(original_category).toarray()\n",
    "original_word = vectorizer.get_feature_names()\n",
    "print('Categories from user rated restaurants: \\n%s' % (','.join(i for i in original_word)))"
   ]
  },
  {
   "cell_type": "code",
   "execution_count": 24,
   "metadata": {},
   "outputs": [
    {
     "name": "stdout",
     "output_type": "stream",
     "text": [
      "Categories from recommend restaurants: \n",
      "american,asian,bars,breakfast,brunch,burgers,canadian,chocolatiers,creperies,desserts,diners,fast,food,french,fusion,indonesian,japanese,malaysian,mexican,new,nightlife,noodles,polish,pubs,ramen,restaurants,sandwiches,shops,singaporean,soup,specialty,stands,traditional,trucks,vegan,vegetarian\n"
     ]
    }
   ],
   "source": [
    "recommend_res = [list(set(df['name'][df['business_id'] == business_id[i]]))[0] \\\n",
    "                 for i in lucky_user_recommend]\n",
    "mask = [name in recommend_res for name in df['name']]\n",
    "recommend_category = df['categories'][mask]\n",
    "vectorizer = TfidfVectorizer(analyzer = 'word', stop_words = 'english', \n",
    "                             lowercase = True\n",
    "                            )\n",
    "recommend_category_vec = vectorizer.fit_transform(recommend_category).toarray()\n",
    "recommend_word = vectorizer.get_feature_names()\n",
    "print('Categories from recommend restaurants: \\n%s' % (','.join(i for i in recommend_word)))"
   ]
  },
  {
   "cell_type": "code",
   "execution_count": 25,
   "metadata": {},
   "outputs": [
    {
     "name": "stdout",
     "output_type": "stream",
     "text": [
      "Common labels are: \n",
      "american, bars, breakfast, brunch, burgers, canadian, diners, food, french, japanese, new, nightlife, noodles, pubs, ramen, restaurants, sandwiches, soup, traditional, vegan, vegetarian\n"
     ]
    }
   ],
   "source": [
    "#Check the common labels\n",
    "print(\"Common labels are: \\n%s\" % (', '.join(word for word in recommend_word if word in original_word)))"
   ]
  },
  {
   "cell_type": "markdown",
   "metadata": {},
   "source": [
    "#### Common labels from Item - Item Collaborative Filter are: \n",
    "- american, asian, bakeries, barbeque, bars, breakfast, brunch, cafes, canadian, chicken, chinese, coffee, creperies, desserts, fast, food, fusion, japanese, juice, new, nightlife, restaurants, salad, seafood, shop, smoothies, specialty, tea, thai, traditional, wings"
   ]
  },
  {
   "cell_type": "markdown",
   "metadata": {},
   "source": [
    "#### Common labels are from SVD are: \n",
    "- american, asian, bars, breakfast, brunch, cafes, canadian, chinese, creperies, desserts, fast, food, fusion, japanese, korean, new, nightlife, noodles, restaurants, sandwiches, soup, sushi, taiwanese, tea, traditional"
   ]
  },
  {
   "cell_type": "markdown",
   "metadata": {},
   "source": [
    "Based on user's previous rating, the NMF recommder shows better performance.(这个性能指什么?)"
   ]
  },
  {
   "cell_type": "markdown",
   "metadata": {},
   "source": [
    "## Matrix Factorization recommender (SVD) with restaurants' labels."
   ]
  },
  {
   "cell_type": "markdown",
   "metadata": {},
   "source": [
    "Each business has its own labels. Suppose we have a table of business_id against category labels. Each element in the table represents the style score of resturants to labels. Additionally, we can build another table of user_id against category labels. Each element in the table stands for the preference/taste of clients to each label. By multipling two tables, we can get the utility table. The two sub-table can have negative number as preference can be divided into like or dislike."
   ]
  },
  {
   "cell_type": "code",
   "execution_count": 26,
   "metadata": {},
   "outputs": [
    {
     "name": "stdout",
     "output_type": "stream",
     "text": [
      "The total number of restaurant labels is 441\n"
     ]
    }
   ],
   "source": [
    "#get the number of labels \n",
    "mask = [business in business_id for business in df['business_id']]\n",
    "category = df['categories'][mask]\n",
    "from sklearn.feature_extraction.text import TfidfVectorizer\n",
    "vectorizer = TfidfVectorizer(analyzer = 'word', stop_words = 'english', \n",
    "                             lowercase = True\n",
    "                            )\n",
    "category_vec = vectorizer.fit_transform(category).toarray()\n",
    "words = vectorizer.get_feature_names()\n",
    "#This is the number of unique categories\n",
    "print('The total number of restaurant labels is %d' % (len(words))) "
   ]
  },
  {
   "cell_type": "code",
   "execution_count": 27,
   "metadata": {},
   "outputs": [],
   "source": [
    "from sklearn.decomposition import TruncatedSVD\n",
    "class SVD_Recommender(object):\n",
    "\n",
    "    def __init__(self):\n",
    "        self.n_components = 361 #the number of labels\n",
    "\n",
    "    def fit(self, ratings_mat):\n",
    "        self.ratings_mat = ratings_mat\n",
    "        self.n_users = ratings_mat.shape[0]\n",
    "        self.n_items = ratings_mat.shape[1]\n",
    "        svd = TruncatedSVD(n_components=self.n_components, n_iter=7, random_state=1)\n",
    "        svd.fit(ratings_mat)\n",
    "        self.V = svd.components_\n",
    "        self.U = svd.transform(ratings_mat)\n",
    "        self.ratings_mat_fitted = self.U.dot(self.V)\n",
    "\n",
    "    def get_error(self):\n",
    "        return ((self.ratings_mat_fitted - self.ratings_mat)**2).mean(axis=None)\n",
    "        \n",
    "    def pred_one_user(self, user_id, report_run_time=False):\n",
    "        start_time = time()\n",
    "        cleaned_out = self.ratings_mat_fitted[user_id,:]\n",
    "        if report_run_time:\n",
    "            print(\"Execution time: %f seconds\" % (time()-start_time))\n",
    "        return cleaned_out\n",
    "\n",
    "    def pred_all_users(self, report_run_time=False):\n",
    "        start_time = time()\n",
    "        all_ratings = [\n",
    "            self.pred_one_user(user_id) for user_id in range(self.n_users)]\n",
    "        if report_run_time:\n",
    "            print(\"Execution time: %f seconds\" % (time()-start_time))\n",
    "        return np.array(all_ratings)\n",
    "\n",
    "    def top_n_recs(self, user_id, n):\n",
    "        pred_ratings = self.pred_one_user(user_id)\n",
    "        item_index_sorted_by_pred_rating = list(np.argsort(pred_ratings))\n",
    "        items_rated_by_this_user = self.ratings_mat[user_id].nonzero()[1]\n",
    "        unrated_items_by_pred_rating = [item for item in item_index_sorted_by_pred_rating\n",
    "                                        if item not in items_rated_by_this_user]\n",
    "        return unrated_items_by_pred_rating[-n:], items_rated_by_this_user"
   ]
  },
  {
   "cell_type": "code",
   "execution_count": 28,
   "metadata": {},
   "outputs": [
    {
     "name": "stdout",
     "output_type": "stream",
     "text": [
      "The top ten recommendation for user dmN6SfMI-pQyT-ouOmEkjQ are: \n",
      "Kumamoto, Brasserie 701, La Graine Brûlée, La Habanera, Pizzéria N° 900 Peel, Aux Vivres Plateau, KINKA IZAKAYA MONTREAL, Joe's Panini, Escondite, KINTON RAMEN\n"
     ]
    }
   ],
   "source": [
    "# get recommendations for the same lucky user\n",
    "my_rec_engine = SVD_Recommender()\n",
    "my_rec_engine.fit(ratings_mat)\n",
    "lucky_user_recommend, items_rated_by_this_user = my_rec_engine.top_n_recs(user_id=lucky_user_index, n = 10)\n",
    "print(\"The top ten recommendation for user %s are: \" % (lucky_user))\n",
    "print('%s' % (', '.join(list(set(df['name'][df['business_id'] == business_id[i]]))[0] \\\n",
    "                       for i in lucky_user_recommend)))"
   ]
  },
  {
   "cell_type": "markdown",
   "metadata": {},
   "source": [
    "Let me check whether the recommendation make sense. I can check through whether the category labels are consistent between original returants and recommend restaurants."
   ]
  },
  {
   "cell_type": "code",
   "execution_count": 29,
   "metadata": {},
   "outputs": [
    {
     "name": "stdout",
     "output_type": "stream",
     "text": [
      "Categories from user rated restaurants: \n",
      "american,arabian,bakeries,barbeque,bars,breakfast,british,brunch,burgers,cafes,canadian,caterers,chips,cocktail,coffee,comfort,diners,eastern,event,falafel,fish,food,free,french,gluten,hawaiian,italian,japanese,korean,lebanese,live,lounges,mediterranean,middle,new,nightlife,noodles,pizza,planning,poke,poutineries,pubs,ramen,raw,restaurants,salad,sandwiches,seafood,services,soup,steakhouses,sushi,tea,traditional,vegan,vegetarian,wine\n"
     ]
    }
   ],
   "source": [
    "original_rated_restaurants = [list(set(df['name'][df['business_id'] == business_id[i]]))[0] for i in items_rated_by_this_user]\n",
    "mask = [name in original_rated_restaurants for name in df['name']]\n",
    "original_category = df['categories'][mask]\n",
    "vectorizer = TfidfVectorizer(analyzer = 'word', stop_words = 'english', \n",
    "                             lowercase = True\n",
    "                            )\n",
    "original_category_vec = vectorizer.fit_transform(original_category).toarray()\n",
    "original_word = vectorizer.get_feature_names()\n",
    "print('Categories from user rated restaurants: \\n%s' % (','.join(i for i in original_word)))"
   ]
  },
  {
   "cell_type": "code",
   "execution_count": 30,
   "metadata": {},
   "outputs": [
    {
     "name": "stdout",
     "output_type": "stream",
     "text": [
      "Categories from recommend restaurants: \n",
      "american,bars,brasseries,breakfast,brunch,cafes,coffee,cuban,food,french,japanese,juice,latin,lounges,mexican,nightlife,noodles,pizza,plates,pubs,ramen,restaurants,sandwiches,small,smoothies,soup,tapas,tea,trucks,vegan,vegetarian\n"
     ]
    }
   ],
   "source": [
    "recommend_res = [list(set(df['name'][df['business_id'] == business_id[i]]))[0] \\\n",
    "                 for i in lucky_user_recommend]\n",
    "mask = [name in recommend_res for name in df['name']]\n",
    "recommend_category = df['categories'][mask]\n",
    "vectorizer = TfidfVectorizer(analyzer = 'word', stop_words = 'english', \n",
    "                             lowercase = True\n",
    "                            )\n",
    "recommend_category_vec = vectorizer.fit_transform(recommend_category).toarray()\n",
    "recommend_word = vectorizer.get_feature_names()\n",
    "print('Categories from recommend restaurants: \\n%s' % (','.join(i for i in recommend_word)))"
   ]
  },
  {
   "cell_type": "code",
   "execution_count": 31,
   "metadata": {},
   "outputs": [
    {
     "name": "stdout",
     "output_type": "stream",
     "text": [
      "Common labels are: \n",
      "american, bars, breakfast, brunch, cafes, coffee, food, french, japanese, lounges, nightlife, noodles, pizza, pubs, ramen, restaurants, sandwiches, soup, tea, vegan, vegetarian\n"
     ]
    }
   ],
   "source": [
    "#Check the common labels\n",
    "print(\"Common labels are: \\n%s\" % (', '.join(word for word in recommend_word if word in original_word)))"
   ]
  },
  {
   "cell_type": "code",
   "execution_count": null,
   "metadata": {},
   "outputs": [],
   "source": []
  }
 ],
 "metadata": {
  "anaconda-cloud": {},
  "kernelspec": {
   "display_name": "Python 3",
   "language": "python",
   "name": "python3"
  },
  "language_info": {
   "codemirror_mode": {
    "name": "ipython",
    "version": 3
   },
   "file_extension": ".py",
   "mimetype": "text/x-python",
   "name": "python",
   "nbconvert_exporter": "python",
   "pygments_lexer": "ipython3",
   "version": "3.6.3"
  }
 },
 "nbformat": 4,
 "nbformat_minor": 1
}
