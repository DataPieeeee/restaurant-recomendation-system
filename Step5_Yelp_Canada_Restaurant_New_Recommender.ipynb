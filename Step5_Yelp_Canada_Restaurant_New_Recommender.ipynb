{
 "cells": [
  {
   "cell_type": "markdown",
   "metadata": {},
   "source": [
    "# Yelp Data Challenge - Restaurant Recommender\n",
    "Summary: \n",
    "- Recommend restaurants to existing users.\n",
    "- Approach: Item - Item Collaborative Filter, Matrix Factorization-NMF, Matrix Factorization-SVD\n",
    "- Compare the performance\n",
    "    - Select one user randomly based on their userID\n",
    "    - Provide them with top ten recommendations\n",
    "    - Compare the common categories from user rated restaurants and recommended restaurants\n",
    "\n"
   ]
  },
  {
   "cell_type": "code",
   "execution_count": 2,
   "metadata": {},
   "outputs": [],
   "source": [
    "import pandas as pd\n",
    "import numpy as np\n",
    "import matplotlib.pyplot as plt\n",
    "% matplotlib inline\n",
    "plt.style.use(\"ggplot\")"
   ]
  },
  {
   "cell_type": "code",
   "execution_count": 3,
   "metadata": {},
   "outputs": [],
   "source": [
    "# df = pd.read_csv('2017_restaurant_reviews.csv')\n",
    "df = pd.read_csv('2017_restaurant_new_reviews.csv')"
   ]
  },
  {
   "cell_type": "code",
   "execution_count": 3,
   "metadata": {},
   "outputs": [
    {
     "data": {
      "text/html": [
       "<div>\n",
       "<style scoped>\n",
       "    .dataframe tbody tr th:only-of-type {\n",
       "        vertical-align: middle;\n",
       "    }\n",
       "\n",
       "    .dataframe tbody tr th {\n",
       "        vertical-align: top;\n",
       "    }\n",
       "\n",
       "    .dataframe thead th {\n",
       "        text-align: right;\n",
       "    }\n",
       "</style>\n",
       "<table border=\"1\" class=\"dataframe\">\n",
       "  <thead>\n",
       "    <tr style=\"text-align: right;\">\n",
       "      <th></th>\n",
       "      <th>business_id</th>\n",
       "      <th>name</th>\n",
       "      <th>categories</th>\n",
       "      <th>avg_stars</th>\n",
       "      <th>cool</th>\n",
       "      <th>date</th>\n",
       "      <th>funny</th>\n",
       "      <th>review_id</th>\n",
       "      <th>stars</th>\n",
       "      <th>text</th>\n",
       "      <th>useful</th>\n",
       "      <th>user_id</th>\n",
       "    </tr>\n",
       "  </thead>\n",
       "  <tbody>\n",
       "    <tr>\n",
       "      <th>2</th>\n",
       "      <td>--1UhMGODdWsrMastO9DZw</td>\n",
       "      <td>The Spicy Amigos</td>\n",
       "      <td>Restaurants, Mexican</td>\n",
       "      <td>4.0</td>\n",
       "      <td>0</td>\n",
       "      <td>2017-12-12</td>\n",
       "      <td>0</td>\n",
       "      <td>e1HiHHD7CzY5NKZG7hvhTw</td>\n",
       "      <td>5</td>\n",
       "      <td>Absolutely delicious! And great service as wel...</td>\n",
       "      <td>0</td>\n",
       "      <td>Sew1Nht6Q0sGTIZeNvRfLw</td>\n",
       "    </tr>\n",
       "    <tr>\n",
       "      <th>3</th>\n",
       "      <td>--1UhMGODdWsrMastO9DZw</td>\n",
       "      <td>The Spicy Amigos</td>\n",
       "      <td>Restaurants, Mexican</td>\n",
       "      <td>4.0</td>\n",
       "      <td>0</td>\n",
       "      <td>2017-08-09</td>\n",
       "      <td>0</td>\n",
       "      <td>oKm8UTv-QSC0oCbniqwxjg</td>\n",
       "      <td>4</td>\n",
       "      <td>Tasty, authentic Mexican street food that give...</td>\n",
       "      <td>0</td>\n",
       "      <td>NoQCmYKyMPs4D01Wa6dZew</td>\n",
       "    </tr>\n",
       "    <tr>\n",
       "      <th>5</th>\n",
       "      <td>--1UhMGODdWsrMastO9DZw</td>\n",
       "      <td>The Spicy Amigos</td>\n",
       "      <td>Restaurants, Mexican</td>\n",
       "      <td>4.0</td>\n",
       "      <td>1</td>\n",
       "      <td>2017-05-10</td>\n",
       "      <td>0</td>\n",
       "      <td>9CLEOpUCqRkIR02sx-JsMQ</td>\n",
       "      <td>5</td>\n",
       "      <td>A little hole in the wall for some really deli...</td>\n",
       "      <td>0</td>\n",
       "      <td>atyCaAjUYatIFDOGKy00SA</td>\n",
       "    </tr>\n",
       "  </tbody>\n",
       "</table>\n",
       "</div>"
      ],
      "text/plain": [
       "              business_id              name            categories  avg_stars  \\\n",
       "2  --1UhMGODdWsrMastO9DZw  The Spicy Amigos  Restaurants, Mexican        4.0   \n",
       "3  --1UhMGODdWsrMastO9DZw  The Spicy Amigos  Restaurants, Mexican        4.0   \n",
       "5  --1UhMGODdWsrMastO9DZw  The Spicy Amigos  Restaurants, Mexican        4.0   \n",
       "\n",
       "   cool        date  funny               review_id  stars  \\\n",
       "2     0  2017-12-12      0  e1HiHHD7CzY5NKZG7hvhTw      5   \n",
       "3     0  2017-08-09      0  oKm8UTv-QSC0oCbniqwxjg      4   \n",
       "5     1  2017-05-10      0  9CLEOpUCqRkIR02sx-JsMQ      5   \n",
       "\n",
       "                                                text  useful  \\\n",
       "2  Absolutely delicious! And great service as wel...       0   \n",
       "3  Tasty, authentic Mexican street food that give...       0   \n",
       "5  A little hole in the wall for some really deli...       0   \n",
       "\n",
       "                  user_id  \n",
       "2  Sew1Nht6Q0sGTIZeNvRfLw  \n",
       "3  NoQCmYKyMPs4D01Wa6dZew  \n",
       "5  atyCaAjUYatIFDOGKy00SA  "
      ]
     },
     "execution_count": 3,
     "metadata": {},
     "output_type": "execute_result"
    }
   ],
   "source": [
    "df.head(3)"
   ]
  },
  {
   "cell_type": "markdown",
   "metadata": {},
   "source": [
    "## Clean data and get rating data "
   ]
  },
  {
   "cell_type": "markdown",
   "metadata": {},
   "source": [
    "#### 1. Select relevant columns in the original dataframe"
   ]
  },
  {
   "cell_type": "code",
   "execution_count": 5,
   "metadata": {},
   "outputs": [
    {
     "data": {
      "text/html": [
       "<div>\n",
       "<style scoped>\n",
       "    .dataframe tbody tr th:only-of-type {\n",
       "        vertical-align: middle;\n",
       "    }\n",
       "\n",
       "    .dataframe tbody tr th {\n",
       "        vertical-align: top;\n",
       "    }\n",
       "\n",
       "    .dataframe thead th {\n",
       "        text-align: right;\n",
       "    }\n",
       "</style>\n",
       "<table border=\"1\" class=\"dataframe\">\n",
       "  <thead>\n",
       "    <tr style=\"text-align: right;\">\n",
       "      <th></th>\n",
       "      <th>business_id</th>\n",
       "      <th>user_id</th>\n",
       "      <th>new_cluster</th>\n",
       "    </tr>\n",
       "  </thead>\n",
       "  <tbody>\n",
       "    <tr>\n",
       "      <th>0</th>\n",
       "      <td>--1UhMGODdWsrMastO9DZw</td>\n",
       "      <td>Sew1Nht6Q0sGTIZeNvRfLw</td>\n",
       "      <td>1</td>\n",
       "    </tr>\n",
       "    <tr>\n",
       "      <th>1</th>\n",
       "      <td>--1UhMGODdWsrMastO9DZw</td>\n",
       "      <td>NoQCmYKyMPs4D01Wa6dZew</td>\n",
       "      <td>1</td>\n",
       "    </tr>\n",
       "    <tr>\n",
       "      <th>2</th>\n",
       "      <td>--1UhMGODdWsrMastO9DZw</td>\n",
       "      <td>atyCaAjUYatIFDOGKy00SA</td>\n",
       "      <td>2</td>\n",
       "    </tr>\n",
       "  </tbody>\n",
       "</table>\n",
       "</div>"
      ],
      "text/plain": [
       "              business_id                 user_id  new_cluster\n",
       "0  --1UhMGODdWsrMastO9DZw  Sew1Nht6Q0sGTIZeNvRfLw            1\n",
       "1  --1UhMGODdWsrMastO9DZw  NoQCmYKyMPs4D01Wa6dZew            1\n",
       "2  --1UhMGODdWsrMastO9DZw  atyCaAjUYatIFDOGKy00SA            2"
      ]
     },
     "execution_count": 5,
     "metadata": {},
     "output_type": "execute_result"
    }
   ],
   "source": [
    "recommender_df = df[['business_id', 'user_id', 'new_cluster']]\n",
    "recommender_df.head(3)"
   ]
  },
  {
   "cell_type": "markdown",
   "metadata": {},
   "source": [
    "There are many users that haven't given many reviews, I will exclude these users from the item-item similarity recommender."
   ]
  },
  {
   "cell_type": "code",
   "execution_count": 83,
   "metadata": {},
   "outputs": [
    {
     "name": "stdout",
     "output_type": "stream",
     "text": [
      "                        business_id  new_cluster\n",
      "user_id                                         \n",
      "--2PnhMMH7EYoY3wywOvgQ            1            1\n",
      "--6kLBBsm0GPM9vIB2YBDw            1            1\n",
      "--7gjElmOrthETJ8XqzMBw            1            1\n",
      "--8NUFYnpU_Zu09TgcLevw            1            1\n",
      "--BumyUHiO_7YsHurb9Hkw           43           43\n",
      "--C93xIlmjtgQfSOIpcQSA            1            1\n",
      "--DKDJlRHfsvufdGSk_Sdw            1            1\n",
      "--NIc98RMssgy0mSZL3vpA            9            9\n",
      "--Qh8yKWAvIP4V4K8ZPfHA           33           33\n",
      "--WhK4MJx0fKvg64LqwStg            1            1\n",
      "--YhjyV-ce1nFLYxP49C5A           34           34\n",
      "--_i0TDbSrV8HN19XlSEFw            2            2\n",
      "--b8fKG7GFGSGfl_BzTnPw            1            1\n",
      "--cj94VBt0CHYM2UfQBglg            1            1\n",
      "--neBDssyZlHqAWgrHtUBQ            2            2\n",
      "--t6W1JHbStaCp5RO05thA            1            1\n",
      "-018WmPPk8qlp3TEiqqMVw            1            1\n",
      "-03y31IzykunU9azzgLsoQ            1            1\n",
      "-06T53TLMkg_xGl3flhDNw            1            1\n",
      "-0OE9Pn8vSK-WjJeRtHDtw            1            1\n",
      "-0OSHsV_0VZz4E09FLgQtQ            1            1\n",
      "-0Z6b2zZhdXV2pKX4jcCEQ            1            1\n",
      "-0kOvwKyRPhMtkj41zMLNw            1            1\n",
      "-0rIBp-WO2vjT002yb-OGA            2            2\n",
      "-0uxNDq75gvHQG_PF54Xqw            1            1\n",
      "-0zNhSy8h7PDE4tsv0nRMQ            1            1\n",
      "-0zUpn_6kTWXHWzB85u7yA            8            8\n",
      "-17V1bykHQQbMQb1ArXU2g            2            2\n",
      "-1A5R29wkTHmiLAwrlGE0Q            1            1\n",
      "-1A6IYfwlgaaZ2NWFMieLQ            1            1\n",
      "...                             ...          ...\n",
      "zxXQgpt0hHK3OWYPf97ykw            3            3\n",
      "zxoVuq_Xd1khUdosVsiY6w            1            1\n",
      "zxsGLpHvzbVqNDm4svFQ5g            1            1\n",
      "zy-bRNv9Wp3fmNM4TD9kIw           11           11\n",
      "zy2ZwrYjSAGv6AMF039iMw            1            1\n",
      "zy6jvDYCMpkfmN34nKK7bQ            1            1\n",
      "zyDe59WFvIypdOxhKSDsRw            2            2\n",
      "zyYWUdaodH0h1jCZAvFRPg            5            5\n",
      "zyZIwX6OZVg5nEg5S9igqg            1            1\n",
      "zybT4EH-J2WOU4OlrLuzpQ            1            1\n",
      "zyg4-MFtfPWmwucVazSjfw           50           50\n",
      "zygFiuvfUwY7b619itlBQA            1            1\n",
      "zyiVxl6qWg9RVThstlOBuw           12           12\n",
      "zyihxqgcQAfmCmosIi7fvQ            1            1\n",
      "zyoRYfLhwUh35MxNm6oD8A            1            1\n",
      "zyvYVFRSLqChH8kb0V7i9A            1            1\n",
      "zyzoF7KjvOHmRJ1OO5JtLQ            5            5\n",
      "zz3Cp7DPGCE1Tg9Q8Y2fMg            1            1\n",
      "zz5W9nZG706QdTCGTnLufA            2            2\n",
      "zzKsgIF472IyDpJxmHDIpw            5            5\n",
      "zzPtxnDCp_jQcKNF5vMB3Q            1            1\n",
      "zzTKylg4uoI4VdwR1Ky2LQ            1            1\n",
      "zzVGOFsIjStuFsy_kyJnIg            1            1\n",
      "zzWlTfNssZPlQo4_cKujGw            1            1\n",
      "zzhJKQjEU8IvKVVkmo3yxQ            1            1\n",
      "zzmhLxcZ4XZQyz95c_KbOA            2            2\n",
      "zzo--VpSQh8PpsGVeMC1dQ           16           16\n",
      "zzsmdXHUFBYuKUtPbXWjRA            2            2\n",
      "zztkCqqgR6VntYbqio4UTQ            2            2\n",
      "zzyMMeUZzKAy7KQhM7lU2w            2            2\n",
      "\n",
      "[72286 rows x 2 columns]\n"
     ]
    }
   ],
   "source": [
    "print(recommender_df.groupby('user_id').count())  #分组聚合出不同user_id的个数"
   ]
  },
  {
   "cell_type": "code",
   "execution_count": 6,
   "metadata": {},
   "outputs": [
    {
     "data": {
      "text/plain": [
       "user_id\n",
       "--2PnhMMH7EYoY3wywOvgQ     1\n",
       "--6kLBBsm0GPM9vIB2YBDw     1\n",
       "--7gjElmOrthETJ8XqzMBw     1\n",
       "--8NUFYnpU_Zu09TgcLevw     1\n",
       "--BumyUHiO_7YsHurb9Hkw    43\n",
       "Name: new_cluster, dtype: int64"
      ]
     },
     "execution_count": 6,
     "metadata": {},
     "output_type": "execute_result"
    }
   ],
   "source": [
    "reviews_count_df = recommender_df.groupby('user_id')['new_cluster'].count()\n",
    "reviews_count_df.head(5)"
   ]
  },
  {
   "cell_type": "code",
   "execution_count": 7,
   "metadata": {},
   "outputs": [
    {
     "name": "stdout",
     "output_type": "stream",
     "text": [
      "Max reviews: 227, Min reviews: 1\n",
      "Median reviews: 1.0, Mean reviews: 2.75\n",
      "25% reviews: 1,  75% reviews: 2\n",
      "Number of unique business: 13181\n"
     ]
    }
   ],
   "source": [
    "print('Max reviews: %s, Min reviews: %s' % (max(reviews_count_df), min(reviews_count_df)))\n",
    "print('Median reviews: %s, Mean reviews: %s' % (np.median(reviews_count_df), round(np.mean(reviews_count_df),2)))\n",
    "print('25%% reviews: %d,  75%% reviews: %d' % (np.percentile(reviews_count_df, 25), np.percentile(reviews_count_df, 75)))\n",
    "print('Number of unique business: %d' % (len(set(recommender_df['business_id']))))"
   ]
  },
  {
   "cell_type": "code",
   "execution_count": 8,
   "metadata": {},
   "outputs": [
    {
     "data": {
      "text/html": [
       "<div>\n",
       "<style scoped>\n",
       "    .dataframe tbody tr th:only-of-type {\n",
       "        vertical-align: middle;\n",
       "    }\n",
       "\n",
       "    .dataframe tbody tr th {\n",
       "        vertical-align: top;\n",
       "    }\n",
       "\n",
       "    .dataframe thead th {\n",
       "        text-align: right;\n",
       "    }\n",
       "</style>\n",
       "<table border=\"1\" class=\"dataframe\">\n",
       "  <thead>\n",
       "    <tr style=\"text-align: right;\">\n",
       "      <th></th>\n",
       "      <th>business_id</th>\n",
       "      <th>user_id</th>\n",
       "      <th>new_cluster</th>\n",
       "    </tr>\n",
       "  </thead>\n",
       "  <tbody>\n",
       "    <tr>\n",
       "      <th>11</th>\n",
       "      <td>--1UhMGODdWsrMastO9DZw</td>\n",
       "      <td>TzU30D-CjtPP3XumggK0Mg</td>\n",
       "      <td>3</td>\n",
       "    </tr>\n",
       "    <tr>\n",
       "      <th>12</th>\n",
       "      <td>--1UhMGODdWsrMastO9DZw</td>\n",
       "      <td>ZgAzKwganIXImRAMcvdK_A</td>\n",
       "      <td>1</td>\n",
       "    </tr>\n",
       "    <tr>\n",
       "      <th>13</th>\n",
       "      <td>--1UhMGODdWsrMastO9DZw</td>\n",
       "      <td>m-p-7WuB85UjsLDaxJXCXA</td>\n",
       "      <td>1</td>\n",
       "    </tr>\n",
       "    <tr>\n",
       "      <th>18</th>\n",
       "      <td>--DaPTJW3-tB1vP-PfdTEg</td>\n",
       "      <td>2HjBjUrqjjVfopPfghgpqw</td>\n",
       "      <td>2</td>\n",
       "    </tr>\n",
       "    <tr>\n",
       "      <th>30</th>\n",
       "      <td>--SrzpvFLwP_YFwB_Cetow</td>\n",
       "      <td>6eCgSb66TE1LeiWPPBPnTg</td>\n",
       "      <td>3</td>\n",
       "    </tr>\n",
       "  </tbody>\n",
       "</table>\n",
       "</div>"
      ],
      "text/plain": [
       "               business_id                 user_id  new_cluster\n",
       "11  --1UhMGODdWsrMastO9DZw  TzU30D-CjtPP3XumggK0Mg            3\n",
       "12  --1UhMGODdWsrMastO9DZw  ZgAzKwganIXImRAMcvdK_A            1\n",
       "13  --1UhMGODdWsrMastO9DZw  m-p-7WuB85UjsLDaxJXCXA            1\n",
       "18  --DaPTJW3-tB1vP-PfdTEg  2HjBjUrqjjVfopPfghgpqw            2\n",
       "30  --SrzpvFLwP_YFwB_Cetow  6eCgSb66TE1LeiWPPBPnTg            3"
      ]
     },
     "execution_count": 8,
     "metadata": {},
     "output_type": "execute_result"
    }
   ],
   "source": [
    "active_user = list(reviews_count_df[reviews_count_df >= 10].index)  #filt the index of user_id in reviews_count_df whose the counts of review>10\n",
    "mask = [user in active_user for user in recommender_df['user_id']]\n",
    "active_user_df = recommender_df[mask]\n",
    "active_user_df.head(5)"
   ]
  },
  {
   "cell_type": "code",
   "execution_count": 96,
   "metadata": {},
   "outputs": [
    {
     "name": "stdout",
     "output_type": "stream",
     "text": [
      "The total number of active users in Canada in 2017 and 2018 is 3190.\n"
     ]
    }
   ],
   "source": [
    "print('The total number of active users in Canada in 2017 and 2018 is %d.' % \\\n",
    "      (len(active_user_df.groupby('user_id')['new_cluster'].count())))"
   ]
  },
  {
   "cell_type": "code",
   "execution_count": 97,
   "metadata": {},
   "outputs": [
    {
     "name": "stdout",
     "output_type": "stream",
     "text": [
      "The total records number for active users in Canada in 2017 and 2018 is 74895.\n"
     ]
    }
   ],
   "source": [
    "print('The total records number for active users in Canada in 2017 and 2018 is %d.' % \\\n",
    "      (len(active_user_df)))"
   ]
  },
  {
   "cell_type": "markdown",
   "metadata": {},
   "source": [
    "#### 2. Create utility matrix from records"
   ]
  },
  {
   "cell_type": "code",
   "execution_count": 11,
   "metadata": {},
   "outputs": [
    {
     "data": {
      "text/plain": [
       "<3190x10717 sparse matrix of type '<class 'numpy.float64'>'\n",
       "\twith 0 stored elements in LInked List format>"
      ]
     },
     "execution_count": 11,
     "metadata": {},
     "output_type": "execute_result"
    }
   ],
   "source": [
    "from scipy import sparse\n",
    "highest_user_id = len(set(active_user_df['user_id']))\n",
    "highest_movie_id = len(set(active_user_df['business_id']))\n",
    "ratings_mat = sparse.lil_matrix((highest_user_id, highest_movie_id))\n",
    "ratings_mat"
   ]
  },
  {
   "cell_type": "markdown",
   "metadata": {},
   "source": [
    "Fill the rate matrix based on table"
   ]
  },
  {
   "cell_type": "code",
   "execution_count": 12,
   "metadata": {},
   "outputs": [
    {
     "data": {
      "text/plain": [
       "<3190x10717 sparse matrix of type '<class 'numpy.float64'>'\n",
       "\twith 74894 stored elements in LInked List format>"
      ]
     },
     "execution_count": 12,
     "metadata": {},
     "output_type": "execute_result"
    }
   ],
   "source": [
    "user_id = list(set(active_user_df['user_id']))\n",
    "business_id = list(set(active_user_df['business_id']))\n",
    "for _, row in active_user_df.iterrows():\n",
    "    ratings_mat[user_id.index(row.user_id), business_id.index(row.business_id)] = row.new_cluster  #fill the new_clusterin ratings_mat based on the active_user_df\n",
    "ratings_mat"
   ]
  },
  {
   "cell_type": "markdown",
   "metadata": {},
   "source": [
    "## Item - Item Collaborative Filter Recommender"
   ]
  },
  {
   "cell_type": "code",
   "execution_count": 64,
   "metadata": {},
   "outputs": [],
   "source": [
    "from sklearn.metrics.pairwise import cosine_similarity\n",
    "from time import time\n",
    "class ItemItemRecommender(object):\n",
    "\n",
    "    def __init__(self, neighborhood_size):\n",
    "        self.neighborhood_size = neighborhood_size\n",
    "\n",
    "    def fit(self, ratings_mat):\n",
    "        self.ratings_mat = ratings_mat\n",
    "        self.n_users = ratings_mat.shape[0]\n",
    "        self.n_items = ratings_mat.shape[1]\n",
    "        self.item_sim_mat = cosine_similarity(self.ratings_mat.T)  ##########\n",
    "        self._set_neighborhoods()\n",
    "\n",
    "    def _set_neighborhoods(self):\n",
    "        least_to_most_sim_indexes = np.argsort(self.item_sim_mat, 1)\n",
    "        self.neighborhoods = least_to_most_sim_indexes[:, -self.neighborhood_size:]\n",
    "\n",
    "    def pred_one_user(self, user_id, report_run_time=False):\n",
    "        start_time = time()\n",
    "        items_rated_by_this_user = self.ratings_mat[user_id].nonzero()[1]\n",
    "        # Just initializing so I have somewhere to put rating preds\n",
    "        out = np.zeros(self.n_items)\n",
    "        for item_to_rate in range(self.n_items):\n",
    "            relevant_items = np.intersect1d(self.neighborhoods[item_to_rate],\n",
    "                                            items_rated_by_this_user,  ##### = self.ratings_mat[user_id].nonzero()[1]\n",
    "                                            assume_unique=True)  #########   assume_unique speeds up intersection op\n",
    "            out[item_to_rate] = self.ratings_mat[user_id, relevant_items] * \\\n",
    "                self.item_sim_mat[item_to_rate, relevant_items] / \\\n",
    "                self.item_sim_mat[item_to_rate, relevant_items].sum()\n",
    "        if report_run_time:\n",
    "            print(\"Execution time: %f seconds\" % (time()-start_time))\n",
    "        cleaned_out = np.nan_to_num(out)\n",
    "        return cleaned_out\n",
    "\n",
    "    def pred_all_users(self, report_run_time=False):\n",
    "        start_time = time()\n",
    "        all_ratings = [\n",
    "            self.pred_one_user(user_id) for user_id in range(self.n_users)]  #ratings_mat.shape[0]\n",
    "        if report_run_time:\n",
    "            print(\"Execution time: %f seconds\" % (time()-start_time))\n",
    "        return np.array(all_ratings)\n",
    "\n",
    "    def top_n_recs(self, user_id, n):\n",
    "        pred_ratings = self.pred_one_user(user_id)\n",
    "        item_index_sorted_by_pred_rating = list(np.argsort(pred_ratings))\n",
    "        items_rated_by_this_user = self.ratings_mat[user_id].nonzero()[1]\n",
    "        unrated_items_by_pred_rating = [item for item in item_index_sorted_by_pred_rating\n",
    "                                        if item not in items_rated_by_this_user]\n",
    "        return unrated_items_by_pred_rating[-n:], items_rated_by_this_user"
   ]
  },
  {
   "cell_type": "code",
   "execution_count": 65,
   "metadata": {},
   "outputs": [],
   "source": [
    "#neighborhood_size\n",
    "my_rec_engine = ItemItemRecommender(neighborhood_size=80)\n",
    "my_rec_engine.fit(ratings_mat)   ###rating_mat"
   ]
  },
  {
   "cell_type": "code",
   "execution_count": 17,
   "metadata": {},
   "outputs": [
    {
     "name": "stderr",
     "output_type": "stream",
     "text": [
      "D:\\ProgramData\\Anaconda3\\lib\\site-packages\\ipykernel_launcher.py:28: RuntimeWarning: invalid value encountered in true_divide\n"
     ]
    },
    {
     "data": {
      "text/plain": [
       "array([[1., 0., 0., ..., 0., 0., 0.],\n",
       "       [4., 0., 0., ..., 0., 0., 5.],\n",
       "       [5., 0., 5., ..., 0., 2., 4.],\n",
       "       ...,\n",
       "       [0., 0., 0., ..., 0., 0., 0.],\n",
       "       [3., 0., 0., ..., 0., 4., 4.],\n",
       "       [0., 0., 0., ..., 0., 3., 0.]])"
      ]
     },
     "execution_count": 17,
     "metadata": {},
     "output_type": "execute_result"
    }
   ],
   "source": [
    "#my_rec_engine.pred_all_users()"
   ]
  },
  {
   "cell_type": "code",
   "execution_count": 66,
   "metadata": {},
   "outputs": [
    {
     "name": "stderr",
     "output_type": "stream",
     "text": [
      "D:\\ProgramData\\Anaconda3\\lib\\site-packages\\ipykernel_launcher.py:28: RuntimeWarning: invalid value encountered in true_divide\n"
     ]
    }
   ],
   "source": [
    "lucky_user = np.random.choice(active_user_df['user_id'], 1)[0]\n",
    "lucky_user_index = user_id.index(lucky_user)\n",
    "lucky_user_recommend, items_rated_by_this_user = my_rec_engine.top_n_recs(user_id=lucky_user_index, n = 10)"
   ]
  },
  {
   "cell_type": "code",
   "execution_count": 67,
   "metadata": {},
   "outputs": [
    {
     "name": "stdout",
     "output_type": "stream",
     "text": [
      "The top ten recommendation for user -3s52C4zL_DHRK0ULG6qtg are: \n",
      "Au Petit Extra, Le Roi du Wonton, Firegrill Steakhouse & Bar, Novita Italian Cuisine, ConforTable, Chez Léo, 1915 Lan Zhou Ramen, Gus, Dumpling House, Wuhan Noodle 1950\n"
     ]
    }
   ],
   "source": [
    "print(\"The top ten recommendation for user %s are: \" % (lucky_user))\n",
    "print('%s' % (', '.join(list(set(df['name'][df['business_id'] == business_id[i]]))[0] \\\n",
    "                       for i in lucky_user_recommend)))"
   ]
  },
  {
   "cell_type": "code",
   "execution_count": 68,
   "metadata": {},
   "outputs": [
    {
     "name": "stdout",
     "output_type": "stream",
     "text": [
      "Categories from user rated restaurants: \n",
      "american,bars,brazilian,breakfast,brunch,buffets,burgers,cafes,canadian,food,french,grocery,hawaiian,juice,mexican,new,pizza,portuguese,restaurants,salad,sandwiches,seafood,smoothies,steakhouses,traditional,trucks,vegan,vegetarian\n"
     ]
    }
   ],
   "source": [
    "from sklearn.feature_extraction.text import TfidfVectorizer\n",
    "original_rated_restaurants = [list(set(df['name'][df['business_id'] == business_id[i]]))[0] for i in items_rated_by_this_user]\n",
    "mask = [name in original_rated_restaurants for name in df['name']]\n",
    "original_category = df['categories'][mask]\n",
    "vectorizer = TfidfVectorizer(analyzer = 'word', stop_words = 'english', \n",
    "                             lowercase = True)\n",
    "original_category_vec = vectorizer.fit_transform(original_category).toarray()\n",
    "original_word = vectorizer.get_feature_names()\n",
    "print('Categories from user rated restaurants: \\n%s' % (','.join(i for i in original_word)))"
   ]
  },
  {
   "cell_type": "code",
   "execution_count": 69,
   "metadata": {},
   "outputs": [
    {
     "name": "stdout",
     "output_type": "stream",
     "text": [
      "Categories from recommend restaurants: \n",
      "barbeque,bars,breakfast,brunch,burgers,canadian,chinese,cocktail,comfort,dim,flavor,food,french,italian,japanese,local,new,nightlife,noodles,poutineries,ramen,restaurants,salad,seafood,southern,steakhouses,sum,taiwanese\n"
     ]
    }
   ],
   "source": [
    "recommend_res = [list(set(df['name'][df['business_id'] == business_id[i]]))[0] \\\n",
    "                 for i in lucky_user_recommend]\n",
    "mask = [name in recommend_res for name in df['name']]\n",
    "recommend_category = df['categories'][mask]\n",
    "vectorizer = TfidfVectorizer(analyzer = 'word', stop_words = 'english', \n",
    "                             lowercase = True)\n",
    "recommend_category_vec = vectorizer.fit_transform(recommend_category).toarray()\n",
    "recommend_word = vectorizer.get_feature_names()\n",
    "print('Categories from recommend restaurants: \\n%s' % (','.join(i for i in recommend_word)))"
   ]
  },
  {
   "cell_type": "code",
   "execution_count": 70,
   "metadata": {},
   "outputs": [
    {
     "name": "stdout",
     "output_type": "stream",
     "text": [
      "Common labels are: \n",
      "bars, breakfast, brunch, burgers, canadian, food, french, new, restaurants, salad, seafood, steakhouses\n",
      "12\n"
     ]
    }
   ],
   "source": [
    "#Check the common labels\n",
    "s=', '.join(word for word in recommend_word if word in original_word)\n",
    "print(\"Common labels are: \\n%s\" % (s))\n",
    "print(len(s.split(',')))    #original_word = vectorizer.get_feature_names()"
   ]
  },
  {
   "cell_type": "code",
   "execution_count": 84,
   "metadata": {},
   "outputs": [
    {
     "name": "stdout",
     "output_type": "stream",
     "text": [
      "['XbiKsujS_qxU3xsr0xUqmQ', 'CjbfWpCRLbA-L_eS_ztd6Q', 'JrXC_MDp38BWwLn2SFdNsA', 'CxDOIDnH8gp9KXzpBHJYXw', 'U1vl4SQzO3wTAWlYVnSjnw', 'wffnrXJoLppOlvNOZKU70A', 'tU94-C1zpBsfGFvpsJJr2w', 'qKpkRCPk4ycbllTfFcRbNw', 'O3pSxv1SyHpY4qi4Q16KzA', 'Plqi4pG84PA_vBM8OfDPDg', 'Ao-6FYE29-I8WwPg67806A', 'jpIGlAym6z88W2xzHiK5_A', 'PGeiszoVusiv0wTHVdWklA', 'U5YQX_vMl_xQy8EQDqlNQQ', 'XrYTMhY9YJvzX2pMepIz7A', 'orh0HRUNCWuQMt9Iia_osg', 'CQ67NJigSe5-uBDX3b_CUw', 'jwctwzboGhQmtC50Juxa9A', 'TibBhm-fbksozIDFD8wjPQ', 'ic-tyi1jElL_umxZVh8KNA', 'uz5-sq6wHrXScrIWb8r1Mg', 'LB5ViGU59ww2XRCx803t0w', '8Dvr-U6jCZTVGD52LwC2qA', 'eZeBuiVZWT7u3SktO7mv9w', 'Z09rco1enQXNCd9H0u7kvg', 'g-y4Me4bqDz8jwFzX_e17w', 'O3q-nwYZykMmacxjru01Zg', 'Zd3wzNdevk15CwMIJdbjZw', '3aYeG-x5A44GIgmBHrwyAA', 'pn_flI3EBNugBEYFp9okxQ', 'Kj9cFO70zZOQorN0mgeLWA', 'Nq6e5N8bjgD9B46O4va_zA', 'yphnJ8zYbJF7Y3QbtMj91g', 'iRQ_YKpCBdaCwvc2X8_3NQ', 'hFvLG_m26hYMx1UGQSpaEg', 'aX6_Pf3njB-H3FrqgnNJ2g', '0Zswwlz4NzUJoG-skyWzIw', 'vs8aSP9ArwqAlb0LeCnFeQ']\n"
     ]
    }
   ],
   "source": [
    "# 过滤出review>100的user_id\n",
    "active_user2 = list(reviews_count_df[reviews_count_df >= 100].index)  \n",
    "mask2 = [user in active_user2 for user in recommender_df['user_id']]\n",
    "active_user_df2 = recommender_df[mask2]\n",
    "active_user2_ls = list(active_user_df2['user_id'].unique())\n",
    "print(active_user2_ls)"
   ]
  },
  {
   "cell_type": "code",
   "execution_count": 85,
   "metadata": {},
   "outputs": [
    {
     "name": "stderr",
     "output_type": "stream",
     "text": [
      "D:\\ProgramData\\Anaconda3\\lib\\site-packages\\ipykernel_launcher.py:28: RuntimeWarning: invalid value encountered in true_divide\n"
     ]
    },
    {
     "name": "stdout",
     "output_type": "stream",
     "text": [
      "The top ten recommendation for user XbiKsujS_qxU3xsr0xUqmQ are: \n",
      "Frite Alors, Sachi Sushi, Canyon Creek, Hai Tang Cafe, B'saha Restaurant, McEwan, Wow Sushi, Blossom Pure Organic, North Stars Bar & Grill, Kaiju\n",
      "\n",
      "\n",
      "The top ten recommendation for user CjbfWpCRLbA-L_eS_ztd6Q are: \n",
      "Silk Road Restaurant, Aish Tanoor, Cardinal Rule, Bikkuri Japanese Restaurant, Mezzetta Restaurant & Tapas Bar, Lykn Chicken, Doner Kebab House, Sushi Osaka, Ryoji Ramen & Izakaya, Narula's\n",
      "\n",
      "\n",
      "The top ten recommendation for user JrXC_MDp38BWwLn2SFdNsA are: \n",
      "Drupati's Roti & Doubles, McDonald's, Red Soul Japanese Restaurant, Wow Sushi, Jerusalem Shawarma, Freshii, Bâton Rouge Steakhouse & Bar, Mashu Mashu Mediterranean Grill, Basha - Marché Jean Talon, Shanghai Chinese Restaurant\n",
      "\n",
      "\n",
      "The top ten recommendation for user CxDOIDnH8gp9KXzpBHJYXw are: \n",
      "Lili.Co, Da Ke Yi Snacks, Kramer's Bar & Grill, Zakkushi, Potato Noodle Soup of Bai, China Cottage, Soupesoup, Kim Kim Indian Hakka Chinese Restaurant, Beef Noodle Restaurant, Kong Kee Barbeque\n",
      "\n",
      "\n",
      "The top ten recommendation for user U1vl4SQzO3wTAWlYVnSjnw are: \n",
      "La Bella Italiana, Bastix Souvenirs, TrueTrue, Swiss Chalet Rotisserie & Grill, Big Bite Burrito, Wraps On The Go, Sometime Restaurant, Restaurant Lyla, A&W, Thai Island\n",
      "\n",
      "\n",
      "The top ten recommendation for user wffnrXJoLppOlvNOZKU70A are: \n",
      "Hakka Legend Asian Cuisine, Bulakenyos, Patchmon's Thai Desserts & More, Restaurant Bercy, Chandni Chowk Restaurant, Dayali, Café Myriade, Pizza Shab, Goodfood, Kesté\n",
      "\n",
      "\n",
      "The top ten recommendation for user tU94-C1zpBsfGFvpsJJr2w are: \n",
      "Subway, Elegance Chinese Cuisine & Banquet, Ruby's Mediterranean Cuisine, Chung King Garden Restaurant, New Da Fu Seafood Cuisine 新大福海鮮酒樓, Mother Goose, Excellent Bbq House, Queen Victoria Pub, Yogi's Noodle, Folco's Ristorante\n",
      "\n",
      "\n",
      "The top ten recommendation for user qKpkRCPk4ycbllTfFcRbNw are: \n",
      "Chef's Table MTL, Ichi Sushi, Pho Viet, Goodfood, Green Bamboo Restaurant, Keung Kee, Café Cantina, Anton & James, GAB, Kit Kat Italian Bar & Grill\n",
      "\n",
      "\n",
      "The top ten recommendation for user O3pSxv1SyHpY4qi4Q16KzA are: \n",
      "Clockwork Coffee, Hunter's Pizza, Big Pita, Asian Bowl, Alexandros Take-Out, H2 Kitchen, Lac Vien Vietnamese Restaurant, Ajisen Ramen, Popeyes Louisiana Kitchen, El Patio\n",
      "\n",
      "\n",
      "The top ten recommendation for user Plqi4pG84PA_vBM8OfDPDg are: \n",
      "Naan & Kabob, Sunset Grill, Remarkable Bean, Wah Too, Spring Rolls, Axis Gallery & Grill, Sultan Shawarma & Falafel, Le Richmond - Marché Italien, Tim Hortons, Pies Plus Cafe\n",
      "\n",
      "\n",
      "The top ten recommendation for user Ao-6FYE29-I8WwPg67806A are: \n",
      "Aris Place, Zakkushi, St James Town Steak & Chops, Pizza Nova, Sushi Shop - Riocan Yonge Eglinton Centre, Omni Eatery, Congee Me, The Feathers Pub, Café Cantina, Le Viet Sandwich\n",
      "\n",
      "\n",
      "The top ten recommendation for user jpIGlAym6z88W2xzHiK5_A are: \n",
      "The Living Room Restaurant, Churrasqueira Martins, Pure Contemporary Vietnamese Kitchen + Bar, 168 Sushi Japan Buffet, Pita Grill, Roma Catering, Blowers & Grafton, KFC, Stromboli Inn, Beckham's Pub & Pizza\n",
      "\n",
      "\n",
      "The top ten recommendation for user PGeiszoVusiv0wTHVdWklA are: \n",
      "Clarkson Mediterranean Bistro, iQ Food, Sardab Restaurant, lbs. Restaurant, Altona Kebob, Oh Bar, Mandarin - Markham East, La Prep, Kingsmen Pub & Grill, Churrasqueira DO Sardinha\n",
      "\n",
      "\n",
      "The top ten recommendation for user U5YQX_vMl_xQy8EQDqlNQQ are: \n",
      "Wendy's, Tacorrito, Michel's Bakery Cafe, Mii Sandwich Co, Corrado's, Spice Thai Cafe, Chaplus, Sassafraz, The Rex Hotel Jazz & Blues Bar, Loga's Corner\n",
      "\n",
      "\n",
      "The top ten recommendation for user XrYTMhY9YJvzX2pMepIz7A are: \n",
      "Teriyaki Experience, Annapurnas Mithai Shoppee, Afghan Kebob Cuisine, Kwality Grand Indian Buffet, Jack Astor's Bar & Grill, Tealicious Tea House, Kairali - Taste of Kerala, Simon's Wok, Chatime, Diana's Oyster Bar and Grill\n",
      "\n",
      "\n",
      "The top ten recommendation for user orh0HRUNCWuQMt9Iia_osg are: \n",
      "Montana's BBQ & Bar, iQ Food, Tagpuan, Shater Abbas Express, Etoile des Indes, Salad Thai Restaurant, Junction Local, Pinkerton Snack Bar, Taste & Spicy, Starbucks\n",
      "\n",
      "\n",
      "The top ten recommendation for user CQ67NJigSe5-uBDX3b_CUw are: \n",
      "Genki Sushi, Loaded Pierogi, Queen Star Restaurant, Markham Ribfest and Music Festival, Harvey's, Pizza Hut, TO Food Fest, McDonalds, Swiss Chalet Rotisserie & Grill, Arkady Bistro Café\n",
      "\n",
      "\n",
      "The top ten recommendation for user jwctwzboGhQmtC50Juxa9A are: \n",
      "The Jerk Spot, Panera Bread, Chengdu Guokui, McDonalds, Hanabi Sushi, Hey Lucy, Valerios Tropical Bake Shop, Major Milliken Pub & Eatery, Kincious noodle house, Hakka Wok\n",
      "\n",
      "\n",
      "The top ten recommendation for user TibBhm-fbksozIDFD8wjPQ are: \n",
      "Sushi 4 U, New Sun BBQ, Naan & Kabob, Zakkushi, Breakwall BBQ, Popeyes Louisiana Kitchen, No Bull Burgers, Calabria Bakery, Karahi Boys, British Style Fish & Chips\n",
      "\n",
      "\n",
      "The top ten recommendation for user ic-tyi1jElL_umxZVh8KNA are: \n",
      "Bubby's Bagels, Betty's, Federick Chinese Restaurant Hakka Indian Cuisine, Hakka No. 1 Restaurant, Panago Pizza, Rockin' Pizza N Chicken, L'Orchidée de Chine, Cantanhede O Bairradino, Yummy Ramen, Nakayoshi Izakaya\n",
      "\n",
      "\n",
      "The top ten recommendation for user uz5-sq6wHrXScrIWb8r1Mg are: \n",
      "Pickle Barrel, Sharon Garden, Latin World, Que Ling Vietnamese Cuisine, Wok-A-Way Chinese Food & Wings, Il Covo, Little Pig Hot Pot, Dora Keogh Irish Pub, McDonald's, Simone's Caribbean Restaurant\n",
      "\n",
      "\n",
      "The top ten recommendation for user LB5ViGU59ww2XRCx803t0w are: \n",
      "iQ Food, Zavida Coffee Roasters, Blu restaurante, Fresh on Crawford, Blowfish Restaurant & Sake Bar, Katsuya, Pizza Pizza, Pour Boy, East Thirty-Six, Kamasutra Indian Restaurant & Wine Bar\n",
      "\n",
      "\n",
      "The top ten recommendation for user 8Dvr-U6jCZTVGD52LwC2qA are: \n",
      "Qualitea, Kalendar, Yeh!, Naan & Kabob, Sunset Grill, Booster's On Main, Umami Poke, Canteen, Nicey's Eatery, Pain Perdu\n",
      "\n",
      "\n",
      "The top ten recommendation for user eZeBuiVZWT7u3SktO7mv9w are: \n",
      "Mr Roc's Crawfish, Cowboys Casino, Stadt Cafe, Migarock, Mamma's Pizza, La Luna Rossa Ristorante, Kenny's Noodle, Pho House, Ukrainian Fine Food, Chick Fiesta\n",
      "\n",
      "\n",
      "The top ten recommendation for user Z09rco1enQXNCd9H0u7kvg are: \n",
      "Basha - Marché Jean Talon, Sushi Style, Mezzetta Restaurant & Tapas Bar, Panpan Noodle Bar, Aroma Espresso Bar, Ramen Isshin, Bamiyan Kabob, Sashimi Island, La Luna Rossa Ristorante, Canton Kitchen\n",
      "\n",
      "\n",
      "The top ten recommendation for user g-y4Me4bqDz8jwFzX_e17w are: \n",
      "Caribbean Queen Roti Hut, California Sandwiches, Maybes Restaurant, Mean Bao, Shalom Ethopian Restaurant, B's Banh Mi, Calii Love, Hakka Legend Asian Cuisine, Bodega Restaurant, New Ho King\n",
      "\n",
      "\n",
      "The top ten recommendation for user O3q-nwYZykMmacxjru01Zg are: \n",
      "Yummy Yummy Dumplings, Tim Hortons, Daal Roti, The Host, Pizza Nova, Jamie Express, The Kolkata Club, Mystik Takeout & Catering, Thai One On, Coffee Culture\n",
      "\n",
      "\n",
      "The top ten recommendation for user Zd3wzNdevk15CwMIJdbjZw are: \n",
      "The 3 Brewers, Ascari Enoteca, Toranj, Bassline Music Bar, Old Barber House, Farol Churrasqueira, South St Burger, King Pizza, Mother's Deli & Bakery, Mr. Greek\n",
      "\n",
      "\n",
      "The top ten recommendation for user 3aYeG-x5A44GIgmBHrwyAA are: \n",
      "Monsieur Smith, Bagatelle, Le Ryad, HarBin Dumpling, La Demande Générale, Rôtisserie St-Hubert, Neos, Houston Avenue Bar & Grill, Ta Chido, Au Pain Perdu\n",
      "\n",
      "\n",
      "The top ten recommendation for user pn_flI3EBNugBEYFp9okxQ are: \n",
      "Nando's, Mymy Chicken, Jarry Smoked Meat, The Thirsty Duck, Daisuki Sushi, Freshii, Stanfield Grill House, Melting Pot Café, Moxie's Grill & Bar, Milestones Restaurants\n",
      "\n",
      "\n",
      "The top ten recommendation for user Kj9cFO70zZOQorN0mgeLWA are: \n",
      "Lisbon By Night Restaurant, Hung Fok BBQ Gourmet, DT Bistro-Patisserie, Gate 403 Bar & Grill, Day & Night Angus Steak Raw Bar, Lung Tung Bbq Food, Hibiscus, Tim Hortons, Cora, Enoteca Monza\n",
      "\n",
      "\n",
      "The top ten recommendation for user Nq6e5N8bjgD9B46O4va_zA are: \n",
      "Asaka Sushi, MAI MAI Restaurant, Lalibela Ethiopian Restaurant, Costa Verde BBQ Chicken, Antikka - cafe & records, Mucho Burrito, Tennessee, Hunan Style Restaurant, Mars Food, Ruyi Garden Chinese Restaurant\n",
      "\n",
      "\n",
      "The top ten recommendation for user yphnJ8zYbJF7Y3QbtMj91g are: \n",
      "Blink Restaurant & Bar, Restaurant Lyla, Foo Food, Sushi Toki, Mr Souvlaki, Chicha Restaurant, Hua Xing BBQ House, Sunset Grill, Café Santropol, House of Wong\n",
      "\n",
      "\n",
      "The top ten recommendation for user iRQ_YKpCBdaCwvc2X8_3NQ are: \n",
      "Mr Sub, The Olive Restaurant, Papa John's Pizza, Buffalo Wild Wings, Paramount Fine Foods, Burrito Boyz, Holt Renfrew, Xe Lua Restaurant, Watts Restaurant, Holy Chicken\n",
      "\n",
      "\n"
     ]
    },
    {
     "name": "stdout",
     "output_type": "stream",
     "text": [
      "The top ten recommendation for user hFvLG_m26hYMx1UGQSpaEg are: \n",
      "Pizza Hut, Mean Bao, Dine on 3, Martino's Pizza & Asian Fusion Kitchen, Shawarma Box, Las Delicias, The Wilcox Gastropub, Subway, The Captain's Boil, KINTON RAMEN\n",
      "\n",
      "\n",
      "The top ten recommendation for user aX6_Pf3njB-H3FrqgnNJ2g are: \n",
      "Big Smoke Burger, Pizza Nova, Ryus Noodle Bar, Sweet Mahal, Canton Rice Noodle, Dagu Rice Noodle, The Birchcliff, Keating Channel Pub & Grill, Cafe de Causette, Starbucks\n",
      "\n",
      "\n",
      "The top ten recommendation for user 0Zswwlz4NzUJoG-skyWzIw are: \n",
      "Sweet Esc, Pies Plus Cafe, Starbucks Reserve, The Halal Guys, Hemispheres Restaurant & Bistro, Niche Coffee and Tea, N9 Cafe, Jessie's, Canton Kitchen, Foodie North\n",
      "\n",
      "\n",
      "The top ten recommendation for user vs8aSP9ArwqAlb0LeCnFeQ are: \n",
      "La Cubana, Live Organic Food Bar - Liberty Village, Blu restaurante, Presse Café, Pie Squared, Mr. Chestnut, Pita & Grill, Toranj, Astoria Shish Kebob House, Little Sheep Mongolian Hot Pot\n",
      "\n",
      "\n",
      "[{'user_id': 'XbiKsujS_qxU3xsr0xUqmQ', 'recommendation': \"Frite Alors, Sachi Sushi, Canyon Creek, Hai Tang Cafe, B'saha Restaurant, McEwan, Wow Sushi, Blossom Pure Organic, North Stars Bar & Grill, Kaiju\"}, {'user_id': 'CjbfWpCRLbA-L_eS_ztd6Q', 'recommendation': \"Silk Road Restaurant, Aish Tanoor, Cardinal Rule, Bikkuri Japanese Restaurant, Mezzetta Restaurant & Tapas Bar, Lykn Chicken, Doner Kebab House, Sushi Osaka, Ryoji Ramen & Izakaya, Narula's\"}, {'user_id': 'JrXC_MDp38BWwLn2SFdNsA', 'recommendation': \"Drupati's Roti & Doubles, McDonald's, Red Soul Japanese Restaurant, Wow Sushi, Jerusalem Shawarma, Freshii, Bâton Rouge Steakhouse & Bar, Mashu Mashu Mediterranean Grill, Basha - Marché Jean Talon, Shanghai Chinese Restaurant\"}, {'user_id': 'CxDOIDnH8gp9KXzpBHJYXw', 'recommendation': \"Lili.Co, Da Ke Yi Snacks, Kramer's Bar & Grill, Zakkushi, Potato Noodle Soup of Bai, China Cottage, Soupesoup, Kim Kim Indian Hakka Chinese Restaurant, Beef Noodle Restaurant, Kong Kee Barbeque\"}, {'user_id': 'U1vl4SQzO3wTAWlYVnSjnw', 'recommendation': 'La Bella Italiana, Bastix Souvenirs, TrueTrue, Swiss Chalet Rotisserie & Grill, Big Bite Burrito, Wraps On The Go, Sometime Restaurant, Restaurant Lyla, A&W, Thai Island'}, {'user_id': 'wffnrXJoLppOlvNOZKU70A', 'recommendation': \"Hakka Legend Asian Cuisine, Bulakenyos, Patchmon's Thai Desserts & More, Restaurant Bercy, Chandni Chowk Restaurant, Dayali, Café Myriade, Pizza Shab, Goodfood, Kesté\"}, {'user_id': 'tU94-C1zpBsfGFvpsJJr2w', 'recommendation': \"Subway, Elegance Chinese Cuisine & Banquet, Ruby's Mediterranean Cuisine, Chung King Garden Restaurant, New Da Fu Seafood Cuisine 新大福海鮮酒樓, Mother Goose, Excellent Bbq House, Queen Victoria Pub, Yogi's Noodle, Folco's Ristorante\"}, {'user_id': 'qKpkRCPk4ycbllTfFcRbNw', 'recommendation': \"Chef's Table MTL, Ichi Sushi, Pho Viet, Goodfood, Green Bamboo Restaurant, Keung Kee, Café Cantina, Anton & James, GAB, Kit Kat Italian Bar & Grill\"}, {'user_id': 'O3pSxv1SyHpY4qi4Q16KzA', 'recommendation': \"Clockwork Coffee, Hunter's Pizza, Big Pita, Asian Bowl, Alexandros Take-Out, H2 Kitchen, Lac Vien Vietnamese Restaurant, Ajisen Ramen, Popeyes Louisiana Kitchen, El Patio\"}, {'user_id': 'Plqi4pG84PA_vBM8OfDPDg', 'recommendation': 'Naan & Kabob, Sunset Grill, Remarkable Bean, Wah Too, Spring Rolls, Axis Gallery & Grill, Sultan Shawarma & Falafel, Le Richmond - Marché Italien, Tim Hortons, Pies Plus Cafe'}, {'user_id': 'Ao-6FYE29-I8WwPg67806A', 'recommendation': 'Aris Place, Zakkushi, St James Town Steak & Chops, Pizza Nova, Sushi Shop - Riocan Yonge Eglinton Centre, Omni Eatery, Congee Me, The Feathers Pub, Café Cantina, Le Viet Sandwich'}, {'user_id': 'jpIGlAym6z88W2xzHiK5_A', 'recommendation': \"The Living Room Restaurant, Churrasqueira Martins, Pure Contemporary Vietnamese Kitchen + Bar, 168 Sushi Japan Buffet, Pita Grill, Roma Catering, Blowers & Grafton, KFC, Stromboli Inn, Beckham's Pub & Pizza\"}, {'user_id': 'PGeiszoVusiv0wTHVdWklA', 'recommendation': 'Clarkson Mediterranean Bistro, iQ Food, Sardab Restaurant, lbs. Restaurant, Altona Kebob, Oh Bar, Mandarin - Markham East, La Prep, Kingsmen Pub & Grill, Churrasqueira DO Sardinha'}, {'user_id': 'U5YQX_vMl_xQy8EQDqlNQQ', 'recommendation': \"Wendy's, Tacorrito, Michel's Bakery Cafe, Mii Sandwich Co, Corrado's, Spice Thai Cafe, Chaplus, Sassafraz, The Rex Hotel Jazz & Blues Bar, Loga's Corner\"}, {'user_id': 'XrYTMhY9YJvzX2pMepIz7A', 'recommendation': \"Teriyaki Experience, Annapurnas Mithai Shoppee, Afghan Kebob Cuisine, Kwality Grand Indian Buffet, Jack Astor's Bar & Grill, Tealicious Tea House, Kairali - Taste of Kerala, Simon's Wok, Chatime, Diana's Oyster Bar and Grill\"}, {'user_id': 'orh0HRUNCWuQMt9Iia_osg', 'recommendation': \"Montana's BBQ & Bar, iQ Food, Tagpuan, Shater Abbas Express, Etoile des Indes, Salad Thai Restaurant, Junction Local, Pinkerton Snack Bar, Taste & Spicy, Starbucks\"}, {'user_id': 'CQ67NJigSe5-uBDX3b_CUw', 'recommendation': \"Genki Sushi, Loaded Pierogi, Queen Star Restaurant, Markham Ribfest and Music Festival, Harvey's, Pizza Hut, TO Food Fest, McDonalds, Swiss Chalet Rotisserie & Grill, Arkady Bistro Café\"}, {'user_id': 'jwctwzboGhQmtC50Juxa9A', 'recommendation': 'The Jerk Spot, Panera Bread, Chengdu Guokui, McDonalds, Hanabi Sushi, Hey Lucy, Valerios Tropical Bake Shop, Major Milliken Pub & Eatery, Kincious noodle house, Hakka Wok'}, {'user_id': 'TibBhm-fbksozIDFD8wjPQ', 'recommendation': 'Sushi 4 U, New Sun BBQ, Naan & Kabob, Zakkushi, Breakwall BBQ, Popeyes Louisiana Kitchen, No Bull Burgers, Calabria Bakery, Karahi Boys, British Style Fish & Chips'}, {'user_id': 'ic-tyi1jElL_umxZVh8KNA', 'recommendation': \"Bubby's Bagels, Betty's, Federick Chinese Restaurant Hakka Indian Cuisine, Hakka No. 1 Restaurant, Panago Pizza, Rockin' Pizza N Chicken, L'Orchidée de Chine, Cantanhede O Bairradino, Yummy Ramen, Nakayoshi Izakaya\"}, {'user_id': 'uz5-sq6wHrXScrIWb8r1Mg', 'recommendation': \"Pickle Barrel, Sharon Garden, Latin World, Que Ling Vietnamese Cuisine, Wok-A-Way Chinese Food & Wings, Il Covo, Little Pig Hot Pot, Dora Keogh Irish Pub, McDonald's, Simone's Caribbean Restaurant\"}, {'user_id': 'LB5ViGU59ww2XRCx803t0w', 'recommendation': 'iQ Food, Zavida Coffee Roasters, Blu restaurante, Fresh on Crawford, Blowfish Restaurant & Sake Bar, Katsuya, Pizza Pizza, Pour Boy, East Thirty-Six, Kamasutra Indian Restaurant & Wine Bar'}, {'user_id': '8Dvr-U6jCZTVGD52LwC2qA', 'recommendation': \"Qualitea, Kalendar, Yeh!, Naan & Kabob, Sunset Grill, Booster's On Main, Umami Poke, Canteen, Nicey's Eatery, Pain Perdu\"}, {'user_id': 'eZeBuiVZWT7u3SktO7mv9w', 'recommendation': \"Mr Roc's Crawfish, Cowboys Casino, Stadt Cafe, Migarock, Mamma's Pizza, La Luna Rossa Ristorante, Kenny's Noodle, Pho House, Ukrainian Fine Food, Chick Fiesta\"}, {'user_id': 'Z09rco1enQXNCd9H0u7kvg', 'recommendation': 'Basha - Marché Jean Talon, Sushi Style, Mezzetta Restaurant & Tapas Bar, Panpan Noodle Bar, Aroma Espresso Bar, Ramen Isshin, Bamiyan Kabob, Sashimi Island, La Luna Rossa Ristorante, Canton Kitchen'}, {'user_id': 'g-y4Me4bqDz8jwFzX_e17w', 'recommendation': \"Caribbean Queen Roti Hut, California Sandwiches, Maybes Restaurant, Mean Bao, Shalom Ethopian Restaurant, B's Banh Mi, Calii Love, Hakka Legend Asian Cuisine, Bodega Restaurant, New Ho King\"}, {'user_id': 'O3q-nwYZykMmacxjru01Zg', 'recommendation': 'Yummy Yummy Dumplings, Tim Hortons, Daal Roti, The Host, Pizza Nova, Jamie Express, The Kolkata Club, Mystik Takeout & Catering, Thai One On, Coffee Culture'}, {'user_id': 'Zd3wzNdevk15CwMIJdbjZw', 'recommendation': \"The 3 Brewers, Ascari Enoteca, Toranj, Bassline Music Bar, Old Barber House, Farol Churrasqueira, South St Burger, King Pizza, Mother's Deli & Bakery, Mr. Greek\"}, {'user_id': '3aYeG-x5A44GIgmBHrwyAA', 'recommendation': 'Monsieur Smith, Bagatelle, Le Ryad, HarBin Dumpling, La Demande Générale, Rôtisserie St-Hubert, Neos, Houston Avenue Bar & Grill, Ta Chido, Au Pain Perdu'}, {'user_id': 'pn_flI3EBNugBEYFp9okxQ', 'recommendation': \"Nando's, Mymy Chicken, Jarry Smoked Meat, The Thirsty Duck, Daisuki Sushi, Freshii, Stanfield Grill House, Melting Pot Café, Moxie's Grill & Bar, Milestones Restaurants\"}, {'user_id': 'Kj9cFO70zZOQorN0mgeLWA', 'recommendation': 'Lisbon By Night Restaurant, Hung Fok BBQ Gourmet, DT Bistro-Patisserie, Gate 403 Bar & Grill, Day & Night Angus Steak Raw Bar, Lung Tung Bbq Food, Hibiscus, Tim Hortons, Cora, Enoteca Monza'}, {'user_id': 'Nq6e5N8bjgD9B46O4va_zA', 'recommendation': 'Asaka Sushi, MAI MAI Restaurant, Lalibela Ethiopian Restaurant, Costa Verde BBQ Chicken, Antikka - cafe & records, Mucho Burrito, Tennessee, Hunan Style Restaurant, Mars Food, Ruyi Garden Chinese Restaurant'}, {'user_id': 'yphnJ8zYbJF7Y3QbtMj91g', 'recommendation': 'Blink Restaurant & Bar, Restaurant Lyla, Foo Food, Sushi Toki, Mr Souvlaki, Chicha Restaurant, Hua Xing BBQ House, Sunset Grill, Café Santropol, House of Wong'}, {'user_id': 'iRQ_YKpCBdaCwvc2X8_3NQ', 'recommendation': \"Mr Sub, The Olive Restaurant, Papa John's Pizza, Buffalo Wild Wings, Paramount Fine Foods, Burrito Boyz, Holt Renfrew, Xe Lua Restaurant, Watts Restaurant, Holy Chicken\"}, {'user_id': 'hFvLG_m26hYMx1UGQSpaEg', 'recommendation': \"Pizza Hut, Mean Bao, Dine on 3, Martino's Pizza & Asian Fusion Kitchen, Shawarma Box, Las Delicias, The Wilcox Gastropub, Subway, The Captain's Boil, KINTON RAMEN\"}, {'user_id': 'aX6_Pf3njB-H3FrqgnNJ2g', 'recommendation': 'Big Smoke Burger, Pizza Nova, Ryus Noodle Bar, Sweet Mahal, Canton Rice Noodle, Dagu Rice Noodle, The Birchcliff, Keating Channel Pub & Grill, Cafe de Causette, Starbucks'}, {'user_id': '0Zswwlz4NzUJoG-skyWzIw', 'recommendation': \"Sweet Esc, Pies Plus Cafe, Starbucks Reserve, The Halal Guys, Hemispheres Restaurant & Bistro, Niche Coffee and Tea, N9 Cafe, Jessie's, Canton Kitchen, Foodie North\"}, {'user_id': 'vs8aSP9ArwqAlb0LeCnFeQ', 'recommendation': 'La Cubana, Live Organic Food Bar - Liberty Village, Blu restaurante, Presse Café, Pie Squared, Mr. Chestnut, Pita & Grill, Toranj, Astoria Shish Kebob House, Little Sheep Mongolian Hot Pot'}]\n"
     ]
    }
   ],
   "source": [
    "cfr_ls = []\n",
    "rec_engine2 = ItemItemRecommender(neighborhood_size=80)\n",
    "rec_engine2.fit(ratings_mat)\n",
    "for user in active_user2_ls:\n",
    "    current_lucky_user = user\n",
    "    current_lucky_user_index = user_id.index(current_lucky_user)\n",
    "    lucky_user_recommend2, items_rated_by_this_user2 = rec_engine2.top_n_recs(user_id=current_lucky_user_index, n = 10)\n",
    "    cfr_dic = {}\n",
    "    cfr_dic['user_id'] = current_lucky_user\n",
    "    rec_result = ', '.join(list(set(df['name'][df['business_id'] == business_id[i]]))[0] for i in lucky_user_recommend2)\n",
    "    cfr_dic['recommendation'] = rec_result\n",
    "    cfr_ls.append(cfr_dic)\n",
    "    print(\"The top ten recommendation for user %s are: \" % (current_lucky_user))\n",
    "    print('%s' % rec_result)\n",
    "    print('\\n')\n",
    "print(cfr_ls)"
   ]
  },
  {
   "cell_type": "code",
   "execution_count": 86,
   "metadata": {},
   "outputs": [
    {
     "data": {
      "text/html": [
       "<div>\n",
       "<style scoped>\n",
       "    .dataframe tbody tr th:only-of-type {\n",
       "        vertical-align: middle;\n",
       "    }\n",
       "\n",
       "    .dataframe tbody tr th {\n",
       "        vertical-align: top;\n",
       "    }\n",
       "\n",
       "    .dataframe thead th {\n",
       "        text-align: right;\n",
       "    }\n",
       "</style>\n",
       "<table border=\"1\" class=\"dataframe\">\n",
       "  <thead>\n",
       "    <tr style=\"text-align: right;\">\n",
       "      <th></th>\n",
       "      <th>user_id</th>\n",
       "      <th>recommendation</th>\n",
       "    </tr>\n",
       "  </thead>\n",
       "  <tbody>\n",
       "    <tr>\n",
       "      <th>0</th>\n",
       "      <td>XbiKsujS_qxU3xsr0xUqmQ</td>\n",
       "      <td>Frite Alors, Sachi Sushi, Canyon Creek, Hai Ta...</td>\n",
       "    </tr>\n",
       "    <tr>\n",
       "      <th>1</th>\n",
       "      <td>CjbfWpCRLbA-L_eS_ztd6Q</td>\n",
       "      <td>Silk Road Restaurant, Aish Tanoor, Cardinal Ru...</td>\n",
       "    </tr>\n",
       "    <tr>\n",
       "      <th>2</th>\n",
       "      <td>JrXC_MDp38BWwLn2SFdNsA</td>\n",
       "      <td>Drupati's Roti &amp; Doubles, McDonald's, Red Soul...</td>\n",
       "    </tr>\n",
       "    <tr>\n",
       "      <th>3</th>\n",
       "      <td>CxDOIDnH8gp9KXzpBHJYXw</td>\n",
       "      <td>Lili.Co, Da Ke Yi Snacks, Kramer's Bar &amp; Grill...</td>\n",
       "    </tr>\n",
       "    <tr>\n",
       "      <th>4</th>\n",
       "      <td>U1vl4SQzO3wTAWlYVnSjnw</td>\n",
       "      <td>La Bella Italiana, Bastix Souvenirs, TrueTrue,...</td>\n",
       "    </tr>\n",
       "  </tbody>\n",
       "</table>\n",
       "</div>"
      ],
      "text/plain": [
       "                  user_id                                     recommendation\n",
       "0  XbiKsujS_qxU3xsr0xUqmQ  Frite Alors, Sachi Sushi, Canyon Creek, Hai Ta...\n",
       "1  CjbfWpCRLbA-L_eS_ztd6Q  Silk Road Restaurant, Aish Tanoor, Cardinal Ru...\n",
       "2  JrXC_MDp38BWwLn2SFdNsA  Drupati's Roti & Doubles, McDonald's, Red Soul...\n",
       "3  CxDOIDnH8gp9KXzpBHJYXw  Lili.Co, Da Ke Yi Snacks, Kramer's Bar & Grill...\n",
       "4  U1vl4SQzO3wTAWlYVnSjnw  La Bella Italiana, Bastix Souvenirs, TrueTrue,..."
      ]
     },
     "execution_count": 86,
     "metadata": {},
     "output_type": "execute_result"
    }
   ],
   "source": [
    "df_cfr = pd.DataFrame(cfr_ls)\n",
    "df_cfr = df_cfr[['user_id','recommendation']]\n",
    "df_cfr.head()"
   ]
  },
  {
   "cell_type": "code",
   "execution_count": 87,
   "metadata": {},
   "outputs": [],
   "source": [
    "df_cfr.to_csv('New_Item-Item_CFR_Example.csv')"
   ]
  },
  {
   "cell_type": "code",
   "execution_count": 88,
   "metadata": {},
   "outputs": [],
   "source": [
    "df_cfr=pd.read_csv('New_Item-Item_CFR_Example.csv')"
   ]
  },
  {
   "cell_type": "code",
   "execution_count": 89,
   "metadata": {},
   "outputs": [
    {
     "data": {
      "text/html": [
       "<div>\n",
       "<style scoped>\n",
       "    .dataframe tbody tr th:only-of-type {\n",
       "        vertical-align: middle;\n",
       "    }\n",
       "\n",
       "    .dataframe tbody tr th {\n",
       "        vertical-align: top;\n",
       "    }\n",
       "\n",
       "    .dataframe thead th {\n",
       "        text-align: right;\n",
       "    }\n",
       "</style>\n",
       "<table border=\"1\" class=\"dataframe\">\n",
       "  <thead>\n",
       "    <tr style=\"text-align: right;\">\n",
       "      <th></th>\n",
       "      <th>Unnamed: 0</th>\n",
       "      <th>user_id</th>\n",
       "      <th>recommendation</th>\n",
       "    </tr>\n",
       "  </thead>\n",
       "  <tbody>\n",
       "    <tr>\n",
       "      <th>0</th>\n",
       "      <td>0</td>\n",
       "      <td>XbiKsujS_qxU3xsr0xUqmQ</td>\n",
       "      <td>Frite Alors, Sachi Sushi, Canyon Creek, Hai Ta...</td>\n",
       "    </tr>\n",
       "    <tr>\n",
       "      <th>1</th>\n",
       "      <td>1</td>\n",
       "      <td>CjbfWpCRLbA-L_eS_ztd6Q</td>\n",
       "      <td>Silk Road Restaurant, Aish Tanoor, Cardinal Ru...</td>\n",
       "    </tr>\n",
       "    <tr>\n",
       "      <th>2</th>\n",
       "      <td>2</td>\n",
       "      <td>JrXC_MDp38BWwLn2SFdNsA</td>\n",
       "      <td>Drupati's Roti &amp; Doubles, McDonald's, Red Soul...</td>\n",
       "    </tr>\n",
       "    <tr>\n",
       "      <th>3</th>\n",
       "      <td>3</td>\n",
       "      <td>CxDOIDnH8gp9KXzpBHJYXw</td>\n",
       "      <td>Lili.Co, Da Ke Yi Snacks, Kramer's Bar &amp; Grill...</td>\n",
       "    </tr>\n",
       "    <tr>\n",
       "      <th>4</th>\n",
       "      <td>4</td>\n",
       "      <td>U1vl4SQzO3wTAWlYVnSjnw</td>\n",
       "      <td>La Bella Italiana, Bastix Souvenirs, TrueTrue,...</td>\n",
       "    </tr>\n",
       "  </tbody>\n",
       "</table>\n",
       "</div>"
      ],
      "text/plain": [
       "   Unnamed: 0                 user_id  \\\n",
       "0           0  XbiKsujS_qxU3xsr0xUqmQ   \n",
       "1           1  CjbfWpCRLbA-L_eS_ztd6Q   \n",
       "2           2  JrXC_MDp38BWwLn2SFdNsA   \n",
       "3           3  CxDOIDnH8gp9KXzpBHJYXw   \n",
       "4           4  U1vl4SQzO3wTAWlYVnSjnw   \n",
       "\n",
       "                                      recommendation  \n",
       "0  Frite Alors, Sachi Sushi, Canyon Creek, Hai Ta...  \n",
       "1  Silk Road Restaurant, Aish Tanoor, Cardinal Ru...  \n",
       "2  Drupati's Roti & Doubles, McDonald's, Red Soul...  \n",
       "3  Lili.Co, Da Ke Yi Snacks, Kramer's Bar & Grill...  \n",
       "4  La Bella Italiana, Bastix Souvenirs, TrueTrue,...  "
      ]
     },
     "execution_count": 89,
     "metadata": {},
     "output_type": "execute_result"
    }
   ],
   "source": [
    "df_cfr.head()"
   ]
  },
  {
   "cell_type": "markdown",
   "metadata": {},
   "source": [
    "## Matrix Factorization recommender (NMF)"
   ]
  },
  {
   "cell_type": "code",
   "execution_count": 71,
   "metadata": {},
   "outputs": [],
   "source": [
    "from sklearn.decomposition import NMF\n",
    "class NMF_Recommender(object):\n",
    "\n",
    "    def __init__(self, n_components):\n",
    "        self.n_components = n_components\n",
    "\n",
    "    def fit(self, ratings_mat):\n",
    "        self.ratings_mat = ratings_mat\n",
    "        self.n_users = ratings_mat.shape[0]\n",
    "        self.n_items = ratings_mat.shape[1]\n",
    "        nmf = NMF(n_components = 200)\n",
    "        nmf.fit(ratings_mat)\n",
    "        self.W = nmf.transform(ratings_mat)\n",
    "        self.H = nmf.components_\n",
    "        self.error = nmf.reconstruction_err_\n",
    "        self.ratings_mat_fitted = self.W.dot(self.H)\n",
    "\n",
    "    def get_error(self):\n",
    "        return self.error\n",
    "        \n",
    "    def pred_one_user(self, user_id, report_run_time=False):\n",
    "        start_time = time()\n",
    "        cleaned_out = self.ratings_mat_fitted[user_id,:]\n",
    "        if report_run_time:\n",
    "            print(\"Execution time: %f seconds\" % (time()-start_time))\n",
    "        return cleaned_out\n",
    "\n",
    "    def pred_all_users(self, report_run_time=False):\n",
    "        start_time = time()\n",
    "        all_ratings = [\n",
    "            self.pred_one_user(user_id) for user_id in range(self.n_users)]\n",
    "        if report_run_time:\n",
    "            print(\"Execution time: %f seconds\" % (time()-start_time))\n",
    "        return np.array(all_ratings)\n",
    "\n",
    "    def top_n_recs(self, user_id, n):\n",
    "        pred_ratings = self.pred_one_user(user_id)\n",
    "        item_index_sorted_by_pred_rating = list(np.argsort(pred_ratings))\n",
    "        items_rated_by_this_user = self.ratings_mat[user_id].nonzero()[1]\n",
    "        unrated_items_by_pred_rating = [item for item in item_index_sorted_by_pred_rating\n",
    "                                        if item not in items_rated_by_this_user]\n",
    "        return unrated_items_by_pred_rating[-n:], items_rated_by_this_user"
   ]
  },
  {
   "cell_type": "code",
   "execution_count": 72,
   "metadata": {},
   "outputs": [
    {
     "name": "stdout",
     "output_type": "stream",
     "text": [
      "The top ten recommendation for user -3s52C4zL_DHRK0ULG6qtg are: \n",
      "Les Street Monkeys, Hooters, Sushi Crystal, Mad Hatter Pub, Chand Palace, Restaurant LOV, Bombay Mahal, Kampaï Garden, Kumamoto, Le Poké Bar\n"
     ]
    }
   ],
   "source": [
    "# get recommendations for the same lucky user\n",
    "my_rec_engine = NMF_Recommender(n_components=200)\n",
    "my_rec_engine.fit(ratings_mat)\n",
    "lucky_user_recommend, items_rated_by_this_user = my_rec_engine.top_n_recs(user_id=lucky_user_index, n = 10)  #items_rated_by_this_user-original\n",
    "print(\"The top ten recommendation for user %s are: \" % (lucky_user))\n",
    "print('%s' % (', '.join(list(set(df['name'][df['business_id'] == business_id[i]]))[0] \\\n",
    "                       for i in lucky_user_recommend)))"
   ]
  },
  {
   "cell_type": "code",
   "execution_count": 73,
   "metadata": {},
   "outputs": [
    {
     "name": "stdout",
     "output_type": "stream",
     "text": [
      "The users original rated resturants are :\n",
      " M4 Burritos Peel,La Castile Steak House & Seafood Restaurant,Café Vasco Da Gama,Venice,Burger Bar Crescent,Luna Cafe,Chop'd & Co,Pizzéria N° 900 Peel,Robin des Bois,Cantinho de Lisboa,Rodízio Brasil\n"
     ]
    }
   ],
   "source": [
    "print(\"The users original rated resturants are :\\n %s\" % (','.join(list(set(df['name'][df['business_id'] == business_id[i]]))[0] \\\n",
    "                       for i in items_rated_by_this_user)))"
   ]
  },
  {
   "cell_type": "code",
   "execution_count": 74,
   "metadata": {},
   "outputs": [
    {
     "name": "stdout",
     "output_type": "stream",
     "text": [
      "Categories from user rated restaurants: \n",
      "american,bars,brazilian,breakfast,brunch,buffets,burgers,cafes,canadian,food,french,grocery,hawaiian,juice,mexican,new,pizza,portuguese,restaurants,salad,sandwiches,seafood,smoothies,steakhouses,traditional,trucks,vegan,vegetarian\n"
     ]
    }
   ],
   "source": [
    "original_rated_restaurants = [list(set(df['name'][df['business_id'] == business_id[i]]))[0] for i in items_rated_by_this_user]\n",
    "mask = [name in original_rated_restaurants for name in df['name']]\n",
    "original_category = df['categories'][mask]\n",
    "vectorizer = TfidfVectorizer(analyzer = 'word', stop_words = 'english', \n",
    "                             lowercase = True)\n",
    "original_category_vec = vectorizer.fit_transform(original_category).toarray()\n",
    "original_word = vectorizer.get_feature_names()\n",
    "print('Categories from user rated restaurants: \\n%s' % (','.join(i for i in original_word)))"
   ]
  },
  {
   "cell_type": "code",
   "execution_count": 75,
   "metadata": {},
   "outputs": [
    {
     "name": "stdout",
     "output_type": "stream",
     "text": [
      "Categories from recommend restaurants: \n",
      "american,bar,barbeque,bars,beer,buffets,cambodian,chicken,food,hawaiian,indian,japanese,live,lounges,nightlife,noodles,poke,pubs,ramen,raw,restaurants,seafood,sports,sushi,traditional,vegan,vegetarian,wings\n"
     ]
    }
   ],
   "source": [
    "recommend_res = [list(set(df['name'][df['business_id'] == business_id[i]]))[0] \\\n",
    "                 for i in lucky_user_recommend]\n",
    "mask = [name in recommend_res for name in df['name']]\n",
    "recommend_category = df['categories'][mask]\n",
    "vectorizer = TfidfVectorizer(analyzer = 'word', stop_words = 'english', \n",
    "                             lowercase = True\n",
    "                            )\n",
    "recommend_category_vec = vectorizer.fit_transform(recommend_category).toarray()\n",
    "recommend_word = vectorizer.get_feature_names()\n",
    "print('Categories from recommend restaurants: \\n%s' % (','.join(i for i in recommend_word)))"
   ]
  },
  {
   "cell_type": "code",
   "execution_count": 76,
   "metadata": {},
   "outputs": [
    {
     "name": "stdout",
     "output_type": "stream",
     "text": [
      "Common labels are: \n",
      "american, bars, buffets, food, hawaiian, restaurants, seafood, traditional, vegan, vegetarian\n",
      "10\n"
     ]
    }
   ],
   "source": [
    "#Check the common labels\n",
    "s=', '.join(word for word in recommend_word if word in original_word)\n",
    "print(\"Common labels are: \\n%s\" % (s))\n",
    "print(len(s.split(',')))"
   ]
  },
  {
   "cell_type": "code",
   "execution_count": 90,
   "metadata": {},
   "outputs": [
    {
     "name": "stdout",
     "output_type": "stream",
     "text": [
      "[{'user_id': 'XbiKsujS_qxU3xsr0xUqmQ', 'recommendation': \"The Poke Box, James Cheese Back Ribs, Mi'hito Sushi Laboratory, Home Of The Brave, Bar Verde, Hawthorne Food and Drink, Piano Piano, Provo FoodBar, Jack Astor's Bar & Grill, Portland Variety\"}, {'user_id': 'CjbfWpCRLbA-L_eS_ztd6Q', 'recommendation': 'Eggette Hut, Ten23, August 8, Sang-Ho Seafood Restaurant, Xe Lua Restaurant, Sansotei, Tasty BBQ Seafood Restaurant, Azyun Restaurant, Golden Horse Restaurant, House of Gourmet'}, {'user_id': 'JrXC_MDp38BWwLn2SFdNsA', 'recommendation': 'Maison Du Japon, Daldongnae, Spicy Mafia, Fabbrica, New City Restaurant, Chris Jerk Caribbean Bistro, Wonton Chai Noodle, The Oxley, KINTON RAMEN, Good Taste Casserole Rice'}, {'user_id': 'CxDOIDnH8gp9KXzpBHJYXw', 'recommendation': 'Miss Lin Cafe, Amano, Spicy Mafia, Cafe Alice, Mon Ami - Korean BBQ, Hanabusa Cafe, Wow Sushi, Potman Hotpot, Restaurant Ethan, Good Taste Casserole Rice'}, {'user_id': 'U1vl4SQzO3wTAWlYVnSjnw', 'recommendation': 'Restaurant Beijing, Mon Shing Restaurant, Un Bol de Nouilles, Cartel, Didar, Bombay Tandoori, Serrano Bar-B-Q, Madras Curry House, Pizzéria N° 900 Peel, Student Tasty Biryani'}, {'user_id': 'wffnrXJoLppOlvNOZKU70A', 'recommendation': \"Lattuca Barbecue, Marmite Su'l Feu, Pizzéria N° 900 Peel, Ramen Misoya, La Panthère Verte, Singh's, Boustan, Bouillon Bilk, Darbar, Student Tasty Biryani\"}, {'user_id': 'tU94-C1zpBsfGFvpsJJr2w', 'recommendation': \"Speducci Mercatto, Chipotle Mexican Grill, Cucina Locale, Casa Deluz Banquet Hall, Galleria Supermarket, Tendou Matcha & Dessert, Kim Bo Vietnamese & Thai Restaurant, New Korea Restaurant, Harvey's Restaurants, Swiss Chalet\"}, {'user_id': 'qKpkRCPk4ycbllTfFcRbNw', 'recommendation': \"Copper Branch, Le Square, Dunn's Famous, Pizzeria Moretti, Cantinho de Lisboa, Bouillon Bilk, La Panthère Verte, Lola Rosa, Curry Mahal, St-Viateur Bagel & Café\"}, {'user_id': 'O3pSxv1SyHpY4qi4Q16KzA', 'recommendation': \"Mother's Dumplings, Banjara Indian Cuisine, Hooters, Little India Restaurant, Fring's, Reds Midtown Tavern, Indie Ale House, Fusaro's Kitchen, Hunters Landing Bar Grill Hub Restaurant, LOCAL Public Eatery\"}, {'user_id': 'Plqi4pG84PA_vBM8OfDPDg', 'recommendation': 'Good Taste Casserole Rice, Carters Landing, KINTON RAMEN, Phoenix Restaurant, Film Cafe by Eative, 7 West Cafe, FAT Lamb Kouzina, Hakata Shoryuken, Snakes & Lattes College, TORCH Pressed Sushi'}, {'user_id': 'Ao-6FYE29-I8WwPg67806A', 'recommendation': 'Terre Rouge, Chris Jerk Caribbean Bistro, Glorious Chinese Cuisine, Daldongnae, Kwan Dim Sum Express, Pitalicious, Saryo Cafe, Kiku, Me Va Me Kitchen Express, Li Dynasty Indian Hakka Chinese Cuisine'}, {'user_id': 'jpIGlAym6z88W2xzHiK5_A', 'recommendation': \"Shibuya Izakaya, Ruth's Chris Steak House, 4th Spot Kitchen & Bar, Los Chilitos, Suzette Brittany Bistro, Cibo, Native Tongues Taqueria, Buttermilk Fine Waffles, Briggs Kitchen + Bar, Sun's BBQ Restaurant\"}, {'user_id': 'PGeiszoVusiv0wTHVdWklA', 'recommendation': \"Bar Cru, Campagnolo, Sala Modern Thai Kitchen & Bar, Brothers, Northern Belle, Forget Me Not Cafe, Pinky's Ca Phe, Alo Restaurant, Cafe CanCan, Uncle Mikey's\"}, {'user_id': 'U5YQX_vMl_xQy8EQDqlNQQ', 'recommendation': \"The Burger's Priest, A'mei Kitchen, K&B Sushi, Yummy Ramen, Ruth's Chris Steak House, Pho Vuho, Sloppy Joe's Bar & Grill, Noodle Wok, One2 Snacks, Pita Grill\"}, {'user_id': 'XrYTMhY9YJvzX2pMepIz7A', 'recommendation': 'Yuzu No Hana, August 8, College Falafel, Wow Sushi, Pho Vuho, Go Topoki, Lee Chen Asian Bistro, Flaming Kitchen, Azyun Restaurant, Gyugyuya'}, {'user_id': 'orh0HRUNCWuQMt9Iia_osg', 'recommendation': \"Go Topoki, La Sani Grill, Golden Swiss Eat N run, Lac Vien Vietnamese Restaurant, Mamajoun Armenian Pizzeria, Global Imperial Cuisine, Super Taste Chinese Cuisine, Mika Sushi, Remezzo Italian Bistro, Kenny's Noodle\"}, {'user_id': 'CQ67NJigSe5-uBDX3b_CUw', 'recommendation': 'Quesada Burritos & Tacos, Egglicious, Ghazale, Green Mango Boys, Shanghai 360, Royale Fine Dining Banquet, St. Louis Bar & Grill, Thai Express, Lee Chen Asian Bistro, Sansotei'}, {'user_id': 'jwctwzboGhQmtC50Juxa9A', 'recommendation': \"Lohas Cafe, J'adore Hot Pot, Hanabusa Cafe, Toast Delight, Tendou Matcha & Dessert, Green Grotto Tea Room, Snow Time, Saryo Cafe, Good Taste Casserole Rice, Azyun Restaurant\"}, {'user_id': 'TibBhm-fbksozIDFD8wjPQ', 'recommendation': 'The Good Fork, Té, Boar, La Palma, Constantine, Urban Herbivore, Nutbar, Hemispheres Restaurant & Bistro, Bi Bim Bap, Sansotei'}, {'user_id': 'ic-tyi1jElL_umxZVh8KNA', 'recommendation': 'Little India Restaurant, Holy Chuck, The Old Spaghetti Factory, Apache Burgers, 850 Degrees Pizzeria, Kabul Express, Simon Sushi, The Pie Commission, Tich Modern Indian Cuisine, K&B Sushi'}, {'user_id': 'uz5-sq6wHrXScrIWb8r1Mg', 'recommendation': \"Green Grotto, Lime Asian Kitchen, Coquine Restaurant, Rodney's Oyster House, Alanoor Afghan Kabob, James Cheese Back Ribs, Tokyo Grill, Sugar Marmalade, TORCH Pressed Sushi, Saryo Cafe\"}, {'user_id': 'LB5ViGU59ww2XRCx803t0w', 'recommendation': 'Anestis Taverna, Mezes, Pitalicious, 309 Dhaba Indian Excellence, Laziza, Get & Go Buritto, Golden Shanghai Restaurant, One Restaurant, Lucky Chinese Restaurant, Kim Kim Indian Hakka Chinese Restaurant'}, {'user_id': '8Dvr-U6jCZTVGD52LwC2qA', 'recommendation': 'BlackGold Cafe, TOCA, Good Taste Casserole Rice, Kid Lee, MY Restaurant, Lee Chen Asian Bistro, Scotthill Carribean Cuisine, Bikkuri Japanese Restaurant, Eggette Hut, Saryo Cafe'}, {'user_id': 'eZeBuiVZWT7u3SktO7mv9w', 'recommendation': 'Platform Espresso Bar, Good Taste Casserole Rice, Hakata Shoryuken, Lohas Cafe, Sansotei, TORCH Pressed Sushi, Sonoya Japanese Noodle House, 4C Broast Chicken, Beef Noodle Restaurant, Azyun Restaurant'}, {'user_id': 'Z09rco1enQXNCd9H0u7kvg', 'recommendation': \"Swiss Chalet Rotisserie & Grill, Kandahar Kabab, The Dirty Bird Chicken + Waffles, Osmow's, Eggette Hut, Sonoya Japanese Noodle House, El Habanero & Churrobar, Azyun Restaurant, Mona's Roti-Caribbean Food, AllStar Wings & Ribs\"}, {'user_id': 'g-y4Me4bqDz8jwFzX_e17w', 'recommendation': 'Sorocco, Hinnawi Bros Begal & Café, Soleil de Saigon, Ave Seoul, Pub Burgundy Lion, Grillades Da Silva, Banh Mi Boys, A&W, Rosetta, Les 3 Brasseurs'}, {'user_id': 'O3q-nwYZykMmacxjru01Zg', 'recommendation': \"The Captain's Boil, Museum Tavern, Coquine Restaurant, Chris Jerk Caribbean Bistro, Pearl Harbourfront Chinese Cuisine, Barrio Coreano, Buca Yorkville, Touhenboku Ramen Restaurant, TOCA, Woodstone Eatery\"}, {'user_id': 'Zd3wzNdevk15CwMIJdbjZw', 'recommendation': 'The Senator, Fresh On Bloor, Hakka Wow, Lalibela Ethiopian Restaurant, Tabülè Middle Eastern Cuisine, Lee Chen Asian Bistro, Double Sushi, 7 West Cafe, Planta Burger, Grasshopper Restaurant'}, {'user_id': '3aYeG-x5A44GIgmBHrwyAA', 'recommendation': 'Copper Branch, Chez Claudette, Bristol Chai, Darling, Café Cherrier, Les Enfants Terribles, Cinko, Saint-Houblon, La Graine Brûlée, Le Butterblume'}, {'user_id': 'pn_flI3EBNugBEYFp9okxQ', 'recommendation': \"Chung King Garden Restaurant, Jerusalem Restaurant, KABOOM Chicken, Lamanna's Bakery, Oaza Shawarma Plus, Cactus Sandwiches & BBQ chicken, Mayur Fine Indian Cuisine, Pho 88, Wei's Taiwanese Food, Chris Jerk Caribbean Bistro\"}, {'user_id': 'Kj9cFO70zZOQorN0mgeLWA', 'recommendation': \"Beerbistro, Maple Leaf Tavern, Brothers, Grey Gardens, Chubby's Jamaican Kitchen, Descendant Detroit Style Pizza, Lee Chen Asian Bistro, AF1 Caribbean Canteen, Provo FoodBar, Cafe Hollywood\"}, {'user_id': 'Nq6e5N8bjgD9B46O4va_zA', 'recommendation': 'Beijing Restaurant, Clubhouse Sandwich Shop, The Lakeview, August 8, Thai Room Liberty Village, Han Ba Tang, Good Taste Casserole Rice, Lamesa Filipino Kitchen, Wvrst, KoJa Restaurant'}, {'user_id': 'yphnJ8zYbJF7Y3QbtMj91g', 'recommendation': \"O Steak, Centrale Bergham, L'Afghan Grillade, Orange Julep, Pushap, L'Avenue, Poulet Bronzé, Le Petit Dep, Ottavio, Cookie Stéfanie\"}, {'user_id': 'iRQ_YKpCBdaCwvc2X8_3NQ', 'recommendation': \"Steve's Family Restaurant, Silk Road Kabob House, Reyna, What A Bagel - Spadina, Reds Wine Tavern, Jz's Pizza, Mana'ish Global Flatbread Cafe, Carisma, Long Time No See, Khau Gully\"}, {'user_id': 'hFvLG_m26hYMx1UGQSpaEg', 'recommendation': \"C'ChoColat, Bangkok Garden Restaurant, Pita & Grill, Bliss Dessert Cafe and Bistro, Asian Bowl, Yummy Yummy Dumplings, Magic Noodle, Arirang, Basil Box, L.A. Boil Seafood\"}, {'user_id': 'aX6_Pf3njB-H3FrqgnNJ2g', 'recommendation': \"Kenzo Ramen, Destiny, Gyubee Japanese BBQ - Downtown, Neighbor Wang, DM Chicken, Sky Dragon Chinese Restaurant, Long Time No See, Osmow's, Sansotei, Saryo Cafe\"}, {'user_id': '0Zswwlz4NzUJoG-skyWzIw', 'recommendation': 'Mojito Cubano, Fat Bastard Burrito, Mii Sandwich, Chako, Shangrila Tibetan & Asian Cuisine, Himalayan Kitchen, Arirang, R&D Restaurant, Mekong River, Pho Hoa 89'}, {'user_id': 'vs8aSP9ArwqAlb0LeCnFeQ', 'recommendation': \"Allwyn's Bakery, Curry & Co, Golden Rice Noodle, Gushi Japanese Street Food, Crazy Don, Yupdduk, Bob's Bulgogi, Phoenix Noodle House, Cheers Chicken & Beers, Dakgogi\"}]\n"
     ]
    }
   ],
   "source": [
    "nmf_ls = []\n",
    "rec_engine_nmf = NMF_Recommender(n_components=200)\n",
    "rec_engine_nmf.fit(ratings_mat)\n",
    "for user in active_user2_ls:\n",
    "    current_lucky_user = user\n",
    "    current_lucky_user_index = user_id.index(current_lucky_user)\n",
    "    lucky_user_recommend_nmf, items_rated_by_this_user_nmf = rec_engine_nmf.top_n_recs(user_id=current_lucky_user_index, n = 10)\n",
    "    nmf_dic = {}\n",
    "    nmf_dic['user_id'] = current_lucky_user\n",
    "    rec_result = ', '.join(list(set(df['name'][df['business_id'] == business_id[i]]))[0] for i in lucky_user_recommend_nmf)\n",
    "    nmf_dic['recommendation'] = rec_result\n",
    "    nmf_ls.append(nmf_dic)\n",
    "print(nmf_ls)"
   ]
  },
  {
   "cell_type": "code",
   "execution_count": 91,
   "metadata": {},
   "outputs": [
    {
     "data": {
      "text/html": [
       "<div>\n",
       "<style scoped>\n",
       "    .dataframe tbody tr th:only-of-type {\n",
       "        vertical-align: middle;\n",
       "    }\n",
       "\n",
       "    .dataframe tbody tr th {\n",
       "        vertical-align: top;\n",
       "    }\n",
       "\n",
       "    .dataframe thead th {\n",
       "        text-align: right;\n",
       "    }\n",
       "</style>\n",
       "<table border=\"1\" class=\"dataframe\">\n",
       "  <thead>\n",
       "    <tr style=\"text-align: right;\">\n",
       "      <th></th>\n",
       "      <th>user_id</th>\n",
       "      <th>recommendation</th>\n",
       "    </tr>\n",
       "  </thead>\n",
       "  <tbody>\n",
       "    <tr>\n",
       "      <th>0</th>\n",
       "      <td>XbiKsujS_qxU3xsr0xUqmQ</td>\n",
       "      <td>The Poke Box, James Cheese Back Ribs, Mi'hito ...</td>\n",
       "    </tr>\n",
       "    <tr>\n",
       "      <th>1</th>\n",
       "      <td>CjbfWpCRLbA-L_eS_ztd6Q</td>\n",
       "      <td>Eggette Hut, Ten23, August 8, Sang-Ho Seafood ...</td>\n",
       "    </tr>\n",
       "    <tr>\n",
       "      <th>2</th>\n",
       "      <td>JrXC_MDp38BWwLn2SFdNsA</td>\n",
       "      <td>Maison Du Japon, Daldongnae, Spicy Mafia, Fabb...</td>\n",
       "    </tr>\n",
       "    <tr>\n",
       "      <th>3</th>\n",
       "      <td>CxDOIDnH8gp9KXzpBHJYXw</td>\n",
       "      <td>Miss Lin Cafe, Amano, Spicy Mafia, Cafe Alice,...</td>\n",
       "    </tr>\n",
       "    <tr>\n",
       "      <th>4</th>\n",
       "      <td>U1vl4SQzO3wTAWlYVnSjnw</td>\n",
       "      <td>Restaurant Beijing, Mon Shing Restaurant, Un B...</td>\n",
       "    </tr>\n",
       "  </tbody>\n",
       "</table>\n",
       "</div>"
      ],
      "text/plain": [
       "                  user_id                                     recommendation\n",
       "0  XbiKsujS_qxU3xsr0xUqmQ  The Poke Box, James Cheese Back Ribs, Mi'hito ...\n",
       "1  CjbfWpCRLbA-L_eS_ztd6Q  Eggette Hut, Ten23, August 8, Sang-Ho Seafood ...\n",
       "2  JrXC_MDp38BWwLn2SFdNsA  Maison Du Japon, Daldongnae, Spicy Mafia, Fabb...\n",
       "3  CxDOIDnH8gp9KXzpBHJYXw  Miss Lin Cafe, Amano, Spicy Mafia, Cafe Alice,...\n",
       "4  U1vl4SQzO3wTAWlYVnSjnw  Restaurant Beijing, Mon Shing Restaurant, Un B..."
      ]
     },
     "execution_count": 91,
     "metadata": {},
     "output_type": "execute_result"
    }
   ],
   "source": [
    "df_nmf = pd.DataFrame(nmf_ls)\n",
    "df_nmf = df_nmf[['user_id','recommendation']]\n",
    "df_nmf.head()"
   ]
  },
  {
   "cell_type": "code",
   "execution_count": 92,
   "metadata": {},
   "outputs": [
    {
     "data": {
      "text/html": [
       "<div>\n",
       "<style scoped>\n",
       "    .dataframe tbody tr th:only-of-type {\n",
       "        vertical-align: middle;\n",
       "    }\n",
       "\n",
       "    .dataframe tbody tr th {\n",
       "        vertical-align: top;\n",
       "    }\n",
       "\n",
       "    .dataframe thead th {\n",
       "        text-align: right;\n",
       "    }\n",
       "</style>\n",
       "<table border=\"1\" class=\"dataframe\">\n",
       "  <thead>\n",
       "    <tr style=\"text-align: right;\">\n",
       "      <th></th>\n",
       "      <th>Unnamed: 0</th>\n",
       "      <th>user_id</th>\n",
       "      <th>recommendation</th>\n",
       "    </tr>\n",
       "  </thead>\n",
       "  <tbody>\n",
       "    <tr>\n",
       "      <th>0</th>\n",
       "      <td>0</td>\n",
       "      <td>XbiKsujS_qxU3xsr0xUqmQ</td>\n",
       "      <td>The Poke Box, James Cheese Back Ribs, Mi'hito ...</td>\n",
       "    </tr>\n",
       "    <tr>\n",
       "      <th>1</th>\n",
       "      <td>1</td>\n",
       "      <td>CjbfWpCRLbA-L_eS_ztd6Q</td>\n",
       "      <td>Eggette Hut, Ten23, August 8, Sang-Ho Seafood ...</td>\n",
       "    </tr>\n",
       "    <tr>\n",
       "      <th>2</th>\n",
       "      <td>2</td>\n",
       "      <td>JrXC_MDp38BWwLn2SFdNsA</td>\n",
       "      <td>Maison Du Japon, Daldongnae, Spicy Mafia, Fabb...</td>\n",
       "    </tr>\n",
       "    <tr>\n",
       "      <th>3</th>\n",
       "      <td>3</td>\n",
       "      <td>CxDOIDnH8gp9KXzpBHJYXw</td>\n",
       "      <td>Miss Lin Cafe, Amano, Spicy Mafia, Cafe Alice,...</td>\n",
       "    </tr>\n",
       "    <tr>\n",
       "      <th>4</th>\n",
       "      <td>4</td>\n",
       "      <td>U1vl4SQzO3wTAWlYVnSjnw</td>\n",
       "      <td>Restaurant Beijing, Mon Shing Restaurant, Un B...</td>\n",
       "    </tr>\n",
       "  </tbody>\n",
       "</table>\n",
       "</div>"
      ],
      "text/plain": [
       "   Unnamed: 0                 user_id  \\\n",
       "0           0  XbiKsujS_qxU3xsr0xUqmQ   \n",
       "1           1  CjbfWpCRLbA-L_eS_ztd6Q   \n",
       "2           2  JrXC_MDp38BWwLn2SFdNsA   \n",
       "3           3  CxDOIDnH8gp9KXzpBHJYXw   \n",
       "4           4  U1vl4SQzO3wTAWlYVnSjnw   \n",
       "\n",
       "                                      recommendation  \n",
       "0  The Poke Box, James Cheese Back Ribs, Mi'hito ...  \n",
       "1  Eggette Hut, Ten23, August 8, Sang-Ho Seafood ...  \n",
       "2  Maison Du Japon, Daldongnae, Spicy Mafia, Fabb...  \n",
       "3  Miss Lin Cafe, Amano, Spicy Mafia, Cafe Alice,...  \n",
       "4  Restaurant Beijing, Mon Shing Restaurant, Un B...  "
      ]
     },
     "execution_count": 92,
     "metadata": {},
     "output_type": "execute_result"
    }
   ],
   "source": [
    "df_nmf.to_csv('New_NMF_Recommendation_Example.csv')\n",
    "df_nmf=pd.read_csv('New_NMF_Recommendation_Example.csv')\n",
    "df_nmf.head()"
   ]
  },
  {
   "cell_type": "markdown",
   "metadata": {},
   "source": [
    "## Matrix Factorization recommender (SVD) with restaurants' labels."
   ]
  },
  {
   "cell_type": "code",
   "execution_count": 77,
   "metadata": {},
   "outputs": [
    {
     "name": "stdout",
     "output_type": "stream",
     "text": [
      "The total number of restaurant labels is 441\n"
     ]
    }
   ],
   "source": [
    "#get the number of labels \n",
    "mask = [business in business_id for business in df['business_id']]\n",
    "category = df['categories'][mask]\n",
    "from sklearn.feature_extraction.text import TfidfVectorizer\n",
    "vectorizer = TfidfVectorizer(analyzer = 'word', stop_words = 'english', \n",
    "                             lowercase = True\n",
    "                            )\n",
    "category_vec = vectorizer.fit_transform(category).toarray()\n",
    "words = vectorizer.get_feature_names()\n",
    "#This is the number of unique categories\n",
    "print('The total number of restaurant labels is %d' % (len(words))) "
   ]
  },
  {
   "cell_type": "code",
   "execution_count": 78,
   "metadata": {},
   "outputs": [],
   "source": [
    "from sklearn.decomposition import TruncatedSVD\n",
    "class SVD_Recommender(object):\n",
    "\n",
    "    def __init__(self):\n",
    "        self.n_components = 361 #the number of labels##############################\n",
    "\n",
    "    def fit(self, ratings_mat):\n",
    "        self.ratings_mat = ratings_mat\n",
    "        self.n_users = ratings_mat.shape[0]\n",
    "        self.n_items = ratings_mat.shape[1]\n",
    "        svd = TruncatedSVD(n_components=self.n_components, n_iter=7, random_state=1)  #####################\n",
    "        svd.fit(ratings_mat)\n",
    "        self.V = svd.components_\n",
    "        self.U = svd.transform(ratings_mat)\n",
    "        self.ratings_mat_fitted = self.U.dot(self.V)\n",
    "\n",
    "    def get_error(self):\n",
    "        return ((self.ratings_mat_fitted - self.ratings_mat)**2).mean(axis=None)\n",
    "        \n",
    "    def pred_one_user(self, user_id, report_run_time=False):\n",
    "        start_time = time()\n",
    "        cleaned_out = self.ratings_mat_fitted[user_id,:]\n",
    "        if report_run_time:\n",
    "            print(\"Execution time: %f seconds\" % (time()-start_time))\n",
    "        return cleaned_out\n",
    "\n",
    "    def pred_all_users(self, report_run_time=False):\n",
    "        start_time = time()\n",
    "        all_ratings = [\n",
    "            self.pred_one_user(user_id) for user_id in range(self.n_users)]\n",
    "        if report_run_time:\n",
    "            print(\"Execution time: %f seconds\" % (time()-start_time))\n",
    "        return np.array(all_ratings)\n",
    "\n",
    "    def top_n_recs(self, user_id, n):\n",
    "        pred_ratings = self.pred_one_user(user_id)\n",
    "        item_index_sorted_by_pred_rating = list(np.argsort(pred_ratings))\n",
    "        items_rated_by_this_user = self.ratings_mat[user_id].nonzero()[1]\n",
    "        unrated_items_by_pred_rating = [item for item in item_index_sorted_by_pred_rating\n",
    "                                        if item not in items_rated_by_this_user]\n",
    "        return unrated_items_by_pred_rating[-n:], items_rated_by_this_user"
   ]
  },
  {
   "cell_type": "code",
   "execution_count": 79,
   "metadata": {},
   "outputs": [
    {
     "name": "stdout",
     "output_type": "stream",
     "text": [
      "The top ten recommendation for user -3s52C4zL_DHRK0ULG6qtg are: \n",
      "Marathon Souvlaki, Arthurs Nosh Bar, Maison Christian Faure, Escondite, Restaurant LOV, Brigade Pizzeria Napolitaine, Seasoned Dreams, The Bier Markt, Pamika Brasserie, Mad Hatter Pub\n"
     ]
    }
   ],
   "source": [
    "# get recommendations for the same lucky user\n",
    "my_rec_engine = SVD_Recommender()\n",
    "my_rec_engine.fit(ratings_mat)\n",
    "lucky_user_recommend, items_rated_by_this_user = my_rec_engine.top_n_recs(user_id=lucky_user_index, n = 10)\n",
    "print(\"The top ten recommendation for user %s are: \" % (lucky_user))\n",
    "print('%s' % (', '.join(list(set(df['name'][df['business_id'] == business_id[i]]))[0] \\\n",
    "                       for i in lucky_user_recommend)))"
   ]
  },
  {
   "cell_type": "code",
   "execution_count": 80,
   "metadata": {},
   "outputs": [
    {
     "name": "stdout",
     "output_type": "stream",
     "text": [
      "Categories from user rated restaurants: \n",
      "american,bars,brazilian,breakfast,brunch,buffets,burgers,cafes,canadian,food,french,grocery,hawaiian,juice,mexican,new,pizza,portuguese,restaurants,salad,sandwiches,seafood,smoothies,steakhouses,traditional,trucks,vegan,vegetarian\n"
     ]
    }
   ],
   "source": [
    "original_rated_restaurants = [list(set(df['name'][df['business_id'] == business_id[i]]))[0] for i in items_rated_by_this_user]\n",
    "mask = [name in original_rated_restaurants for name in df['name']]\n",
    "original_category = df['categories'][mask]\n",
    "vectorizer = TfidfVectorizer(analyzer = 'word', stop_words = 'english', \n",
    "                             lowercase = True)\n",
    "original_category_vec = vectorizer.fit_transform(original_category).toarray()\n",
    "original_word = vectorizer.get_feature_names()\n",
    "print('Categories from user rated restaurants: \\n%s' % (','.join(i for i in original_word)))"
   ]
  },
  {
   "cell_type": "code",
   "execution_count": 81,
   "metadata": {},
   "outputs": [
    {
     "name": "stdout",
     "output_type": "stream",
     "text": [
      "Categories from recommend restaurants: \n",
      "american,arts,bakeries,bars,beer,belgian,breakfast,brunch,cafes,cake,canadian,caribbean,caterers,coffee,desserts,entertainment,european,event,food,french,gastropubs,german,greek,mediterranean,mexican,modern,music,new,nightlife,patisserie,pizza,planning,pubs,restaurants,salad,sandwiches,services,shop,spaces,spirits,sports,tea,thai,traditional,vegan,vegetarian,venues,wine\n"
     ]
    }
   ],
   "source": [
    "recommend_res = [list(set(df['name'][df['business_id'] == business_id[i]]))[0] \\\n",
    "                 for i in lucky_user_recommend]\n",
    "mask = [name in recommend_res for name in df['name']]\n",
    "recommend_category = df['categories'][mask]\n",
    "vectorizer = TfidfVectorizer(analyzer = 'word', stop_words = 'english', \n",
    "                             lowercase = True)\n",
    "recommend_category_vec = vectorizer.fit_transform(recommend_category).toarray()\n",
    "recommend_word = vectorizer.get_feature_names()\n",
    "print('Categories from recommend restaurants: \\n%s' % (','.join(i for i in recommend_word)))"
   ]
  },
  {
   "cell_type": "code",
   "execution_count": 82,
   "metadata": {},
   "outputs": [
    {
     "name": "stdout",
     "output_type": "stream",
     "text": [
      "Common labels are: \n",
      "american, bars, breakfast, brunch, cafes, canadian, food, french, mexican, new, pizza, restaurants, salad, sandwiches, traditional, vegan, vegetarian\n",
      "17\n"
     ]
    }
   ],
   "source": [
    "#Check the common labels\n",
    "s=', '.join(word for word in recommend_word if word in original_word)\n",
    "print(\"Common labels are: \\n%s\" % (s))\n",
    "print(len(s.split(',')))"
   ]
  },
  {
   "cell_type": "markdown",
   "metadata": {},
   "source": [
    "#### Common labels from NMF are: \n",
    "- american, bars, buffets, food, hawaiian, restaurants, seafood, traditional, vegan, vegetarian\n",
    "- 10"
   ]
  },
  {
   "cell_type": "markdown",
   "metadata": {},
   "source": [
    "#### Common labels from Item - Item Collaborative Filter are: \n",
    "- bars, breakfast, brunch, burgers, canadian, food, french, new, restaurants, salad, seafood, steakhouses\n",
    "- 12"
   ]
  },
  {
   "cell_type": "code",
   "execution_count": 93,
   "metadata": {},
   "outputs": [
    {
     "name": "stdout",
     "output_type": "stream",
     "text": [
      "[{'user_id': 'XbiKsujS_qxU3xsr0xUqmQ', 'recommendation': \"Saffron Spice Kitchen, Jack Astor's Bar & Grill, Cups Bingsu Café, Omescape - Markham, The Shore Club - Toronto, Le Viet Asian Cuisine, Thai Room Liberty Village, Barque Smokehouse, Sukho Thai, Bombay Street Food\"}, {'user_id': 'CjbfWpCRLbA-L_eS_ztd6Q', 'recommendation': \"Raijin Ramen, Lhasa Kitchen, Sky Dragon Chinese Restaurant, Coquine Restaurant, Hakka Wow, Bake Code  - North York, Isabella's Boutique Restaurant, Eddie's Wok N Roll, Ajisen Ramen, J-Town By The Sea\"}, {'user_id': 'JrXC_MDp38BWwLn2SFdNsA', 'recommendation': \"New Northern Dumplings, Pho'Q, Osaka Sushi Japanese Korean Restaurant, Main St Greek, The Oxley, Samosa King - Embassy Restaurant, KINTON RAMEN, Kid Lee, GuangZhou Tai Ping Sha Chinese Restaurant, Happy Congee\"}, {'user_id': 'CxDOIDnH8gp9KXzpBHJYXw', 'recommendation': \"Congee Queen, Ga Bin Korean Restaurant, Sukho Thai, Albert's Real Jamaican Foods, Seor Ak San, Phayathai, GuangZhou Tai Ping Sha Chinese Restaurant, Basil Box, Colette Grand Cafe, Hai Tang Cafe\"}, {'user_id': 'U1vl4SQzO3wTAWlYVnSjnw', 'recommendation': \"Café Pacefika, Tsukuyomi, Pizzéria N° 900 Peel, Mandy's, Student Tasty Biryani, Kamehameha, Badao, Serrano Bar-B-Q, Didar, GaNaDaRa\"}, {'user_id': 'wffnrXJoLppOlvNOZKU70A', 'recommendation': \"Noodle Factory, Chand Palace, Chef on Call, Marché 27, La Panthère Verte, Bouillon Bilk, Avesta Resto Café, Singh's, Student Tasty Biryani, Ramen Misoya\"}, {'user_id': 'tU94-C1zpBsfGFvpsJJr2w', 'recommendation': \"Beiruti Grand Café, Andiamo Pasta Plus, 168 Sushi Japan Buffet, Chinese Dumpling House, Sikgaek, El Habanero & Churrobar, Loga's Corner, TAO Canteen, Happy Congee, New Da Fu Seafood Cuisine 新大福海鮮酒樓\"}, {'user_id': 'qKpkRCPk4ycbllTfFcRbNw', 'recommendation': 'Chicha Donburi, Bouillon Bilk, Le Square, Curry Mahal, Ramen-Ya, Copper Branch, Cantinho de Lisboa, La Panthère Verte, Lola Rosa, St-Viateur Bagel & Café'}, {'user_id': 'O3pSxv1SyHpY4qi4Q16KzA', 'recommendation': 'Mi Taco Taqueria, Naan & Kabob, Ritz Caribbean Foods, Union Social Eatery, Lao Thai Restaurant, The Senator, Hong Shing Chinese Restaurant, Hunters Landing Bar Grill Hub Restaurant, Lee Chen Asian Bistro, LOCAL Public Eatery'}, {'user_id': 'Plqi4pG84PA_vBM8OfDPDg', 'recommendation': 'Bar Reyna, Diyijia, Pho Com 99, Little House HK cafe, Kung Fu Noodle, Electric Mud BBQ, 7 West Cafe, Taverna Mercatto, Square Fish, Sonoya Japanese Noodle House'}, {'user_id': 'Ao-6FYE29-I8WwPg67806A', 'recommendation': 'Green Grotto Tea Room, Federick, JOEY Eaton Centre, Food Kingdom, Beast, Scarborough Buffet, Kwan Dim Sum Express, Tak Fu Seafood Restaurant, Me Va Me Kitchen Express, Li Dynasty Indian Hakka Chinese Cuisine'}, {'user_id': 'jpIGlAym6z88W2xzHiK5_A', 'recommendation': \"Shibuya Izakaya, Lucky Place Restaurant, Ruth's Chris Steak House, Crunchy House, Buttermilk Fine Waffles, Suzette Brittany Bistro, Shiki Menya, Briggs Kitchen + Bar, Los Chilitos, Sun's BBQ Restaurant\"}, {'user_id': 'PGeiszoVusiv0wTHVdWklA', 'recommendation': \"Lai Wah Heen, DOMA, Odd Seoul, Kid Lee, Poutini's House of Poutine, Campagnolo, Northern Belle, Forget Me Not Cafe, Uncle Mikey's, Porchetta & Co\"}, {'user_id': 'U5YQX_vMl_xQy8EQDqlNQQ', 'recommendation': \"Burrito Boyz, Mymy Chicken, Huevos Gourmet, Mii Sandwich, Border MX Mexican Grill and Cantina, Restaurant La Banane, Kura Sushi, The Burger's Priest, Pho Vuho, Sansotei Ramen\"}, {'user_id': 'XrYTMhY9YJvzX2pMepIz7A', 'recommendation': \"Sassafraz, Bapbo Korean Restaurant, The Six Cafe and Restaurant, Mom's Kitchen, Nguyen Huong Food, School Restaurant, Starbucks Reserve, Crazy Don, KINKA IZAKAYA BLOOR, Metro Square Cafe Restaurant\"}, {'user_id': 'orh0HRUNCWuQMt9Iia_osg', 'recommendation': 'Super Taste Chinese Cuisine, Nichiban Sushi4U, Kingyo, Fisherman Villa, The Red, New Generation Sushi, Matsuda Japanese Cuisine, Les Châteaux Restaurant, Nks Banquet Hall, Mika Sushi'}, {'user_id': 'CQ67NJigSe5-uBDX3b_CUw', 'recommendation': \"The Shore Club - Toronto, Osaka Sushi Japanese Korean Restaurant, Alo Restaurant, The Captain's Boil, Tofu Village - House of Soon Tofu, RH Courtyard Cafe, Hamaru Sushi, Fresh on Eglinton, Shiso Tree Cafe, Owl of Minerva\"}, {'user_id': 'jwctwzboGhQmtC50Juxa9A', 'recommendation': \"JXY Dumpling Restaurant, El Catrin Destileria, Oliver & Bonacini Café Grill, Playa Cabana, KABOOM Chicken, Captain's Catch, Kiku, Bobbie Sue's Mac & Cheese, August 8, The Fry\"}, {'user_id': 'TibBhm-fbksozIDFD8wjPQ', 'recommendation': \"168 Sushi Japan Buffet, Ricarda's, Leela's Roti & Doubles, Green Grotto, Fred's Not Here, Blue Ocean Cafe, Diana's Oyster Bar And Grill, Jangwon, Square Fish, Pho Rua Vang Golden Turtle\"}, {'user_id': 'ic-tyi1jElL_umxZVh8KNA', 'recommendation': 'Boralia, Basil Box, Kushimaru, Holy Chuck, Simon Sushi, Cocina Economica, Kabul Express, Gyu-Kaku Japanese BBQ, Tich Modern Indian Cuisine, K&B Sushi'}, {'user_id': 'uz5-sq6wHrXScrIWb8r1Mg', 'recommendation': 'Flaming Kitchen, Kothur Indian Cuisine, NextDoor, Thai Fantasy, Valens Restaurant, Osaka Sushi Japanese Korean Restaurant, Mr.Tonkatsu, Le Viet Asian Cuisine, Lohas Cafe, Yutaka'}, {'user_id': 'LB5ViGU59ww2XRCx803t0w', 'recommendation': \"309 Dhaba Indian Excellence, Leela's Roti & Doubles, Lucky Chinese Restaurant, Good Taste Casserole Rice, Potman Hotpot, Ajisen Ramen, Barque Smokehouse, Chine Hot Pot & Noodles, Kitchen M, Kim Kim Indian Hakka Chinese Restaurant\"}, {'user_id': '8Dvr-U6jCZTVGD52LwC2qA', 'recommendation': 'Lime Asian Kitchen, Samosa King - Embassy Restaurant, Amsterdam BrewHouse, Fancy Chinese Cuisine, Scotthill Carribean Cuisine, Tabule Middle Eastern Cuisine, 39 Spices, Bikkuri Japanese Restaurant, Messini Authentic Gyros, Millie Cafe'}, {'user_id': 'eZeBuiVZWT7u3SktO7mv9w', 'recommendation': 'The Alley, Kandahar Kabab, Fanzone Wings & Ribs, Bellwoods Brewery, Oliver & Bonacini Café Grill, Mega Street Food Complex, Sonoya Japanese Noodle House, Roll N Bowl, Patois Toronto, Tasty BBQ Seafood Restaurant'}, {'user_id': 'Z09rco1enQXNCd9H0u7kvg', 'recommendation': \"JOEY Eaton Centre, Ricarda's, ZenQ, Destiny, Zen Japanese Restaurant, Little House HK cafe, Korean Grill House, Phoenix Restaurant, Jeon Ju Hyang, Mona's Roti-Caribbean Food\"}, {'user_id': 'g-y4Me4bqDz8jwFzX_e17w', 'recommendation': 'Ave Seoul, Marché 27, Mon Ami - Korean BBQ, Grillades Da Silva, Sushi Momo, Sen Vang, A&W, Hinnawi Bros Begal & Café, Rosetta, Les 3 Brasseurs'}, {'user_id': 'O3q-nwYZykMmacxjru01Zg', 'recommendation': 'Shangrila Tibetan & Asian Cuisine, The Host, Sugar Marmalade, Phoenix Cafe, Tofu Village - House of Soon Tofu, Asian Bowl, House of Gourmet, George, Main St Greek, Eggette Hut'}, {'user_id': 'Zd3wzNdevk15CwMIJdbjZw', 'recommendation': 'Urban Herbivore, Swades Indian Cuisine, Pho Rua Vang Golden Turtle, Thai Room, Indie Ale House, Hot Star Large Fried Chicken, L.A. Boil Seafood, Planta Burger, Morals Village, The Senator'}, {'user_id': '3aYeG-x5A44GIgmBHrwyAA', 'recommendation': 'Brasserie Harricana, Café Cherrier, La Graine Brûlée, Darling, HarBin Dumpling, Le Poké Bar, Copper Branch, Bristol Chai, Cinko, Saint-Houblon'}, {'user_id': 'pn_flI3EBNugBEYFp9okxQ', 'recommendation': \"Potbelly Sandwich Shop, Qin Tang Taste, Wonton Chai Noodle, Cactus Sandwiches & BBQ chicken, Chung King Garden Restaurant, Kintako Japanese Restaurant, Pho 88, YOi Japanese Eatery, Mayur Fine Indian Cuisine, Wei's Taiwanese Food\"}, {'user_id': 'Kj9cFO70zZOQorN0mgeLWA', 'recommendation': \"August 8, Kwan Dim Sum Express, STK Toronto, Caplansky's Delicatessen, Hot House Restaurant & Bar, Tacos El Asador, Ital Vital, Ho Ho Barbeque, Hunters Landing Bar Grill Hub Restaurant, Hibiki Japanese Cuisine\"}, {'user_id': 'Nq6e5N8bjgD9B46O4va_zA', 'recommendation': 'Dim Sum King Seafood Restaurant, Cafe Princess, The Fry, Under The Table Restaurant, Myoungdong Chammat Kalguksu, Oliver & Bonacini Café Grill, Poke Guys, Markham, Si Lom Thai Bistro, KINKA IZAKAYA NORTH  YORK, Green Tea Restaurant'}, {'user_id': 'yphnJ8zYbJF7Y3QbtMj91g', 'recommendation': \"Soupesoup, Centrale Bergham, O Steak, L'Afghan Grillade, Maison Christian Faure, Cocktail Antabli, Le Petit Dep, Ottavio, Poulet Bronzé, Cookie Stéfanie\"}, {'user_id': 'iRQ_YKpCBdaCwvc2X8_3NQ', 'recommendation': 'Pho Linh, Sunny Morning, Korean Grill House, Carisma, Fresh Off The Boat, Cherry Street Bar-B-Que, Federick Restaurant, Bar Fancy, Long Time No See, Khau Gully'}, {'user_id': 'hFvLG_m26hYMx1UGQSpaEg', 'recommendation': 'Oyster Boy, Skyview Fusion Cuisine, H2 Kitchen, Yun, Bangkok Garden Restaurant, Pita & Grill, Asian Bowl, Arirang, Basil Box, L.A. Boil Seafood'}, {'user_id': 'aX6_Pf3njB-H3FrqgnNJ2g', 'recommendation': 'Long Time No See, 416 Snack Bar, MY Restaurant, Mr.Tonkatsu, Han Ba Tang, Sassafraz, 369 Shanghai Dim Sum, Nichiban Sushi4U, Tai Ping Hsiang, HCafe Japanese Cafe'}, {'user_id': '0Zswwlz4NzUJoG-skyWzIw', 'recommendation': 'Wonton Chai Noodle, The Elm Tree Restaurant, Chako, Kiku, Bannock, Le Sélect Bistro, Wilbur Mexicana, Shangrila Tibetan & Asian Cuisine, Pho Hoa 89, Mekong River'}, {'user_id': 'vs8aSP9ArwqAlb0LeCnFeQ', 'recommendation': \"Sichuan Garden Restaurant, Eggette Hut, DonDon Izakaya, Scaddabush Italian Kitchen & Bar, Kanpai Snack Bar, Liberty Noodle, Congee Queen, Bob's Bulgogi, Seoul Restaurant, James Cheese Back Ribs\"}]\n"
     ]
    }
   ],
   "source": [
    "svd_ls = []\n",
    "rec_engine_svd = SVD_Recommender()\n",
    "rec_engine_svd.fit(ratings_mat)\n",
    "for user in active_user2_ls:\n",
    "    current_lucky_user = user\n",
    "    current_lucky_user_index = user_id.index(current_lucky_user)\n",
    "    lucky_user_recommend_svd, items_rated_by_this_user_svd = rec_engine_svd.top_n_recs(user_id=current_lucky_user_index, n = 10)\n",
    "    svd_dic = {}\n",
    "    svd_dic['user_id'] = current_lucky_user\n",
    "    rec_result = ', '.join(list(set(df['name'][df['business_id'] == business_id[i]]))[0] for i in lucky_user_recommend_svd)\n",
    "    svd_dic['recommendation'] = rec_result\n",
    "    svd_ls.append(svd_dic)\n",
    "print(svd_ls)"
   ]
  },
  {
   "cell_type": "code",
   "execution_count": 94,
   "metadata": {},
   "outputs": [
    {
     "data": {
      "text/html": [
       "<div>\n",
       "<style scoped>\n",
       "    .dataframe tbody tr th:only-of-type {\n",
       "        vertical-align: middle;\n",
       "    }\n",
       "\n",
       "    .dataframe tbody tr th {\n",
       "        vertical-align: top;\n",
       "    }\n",
       "\n",
       "    .dataframe thead th {\n",
       "        text-align: right;\n",
       "    }\n",
       "</style>\n",
       "<table border=\"1\" class=\"dataframe\">\n",
       "  <thead>\n",
       "    <tr style=\"text-align: right;\">\n",
       "      <th></th>\n",
       "      <th>user_id</th>\n",
       "      <th>recommendation</th>\n",
       "    </tr>\n",
       "  </thead>\n",
       "  <tbody>\n",
       "    <tr>\n",
       "      <th>0</th>\n",
       "      <td>XbiKsujS_qxU3xsr0xUqmQ</td>\n",
       "      <td>Saffron Spice Kitchen, Jack Astor's Bar &amp; Gril...</td>\n",
       "    </tr>\n",
       "    <tr>\n",
       "      <th>1</th>\n",
       "      <td>CjbfWpCRLbA-L_eS_ztd6Q</td>\n",
       "      <td>Raijin Ramen, Lhasa Kitchen, Sky Dragon Chines...</td>\n",
       "    </tr>\n",
       "    <tr>\n",
       "      <th>2</th>\n",
       "      <td>JrXC_MDp38BWwLn2SFdNsA</td>\n",
       "      <td>New Northern Dumplings, Pho'Q, Osaka Sushi Jap...</td>\n",
       "    </tr>\n",
       "    <tr>\n",
       "      <th>3</th>\n",
       "      <td>CxDOIDnH8gp9KXzpBHJYXw</td>\n",
       "      <td>Congee Queen, Ga Bin Korean Restaurant, Sukho ...</td>\n",
       "    </tr>\n",
       "    <tr>\n",
       "      <th>4</th>\n",
       "      <td>U1vl4SQzO3wTAWlYVnSjnw</td>\n",
       "      <td>Café Pacefika, Tsukuyomi, Pizzéria N° 900 Peel...</td>\n",
       "    </tr>\n",
       "  </tbody>\n",
       "</table>\n",
       "</div>"
      ],
      "text/plain": [
       "                  user_id                                     recommendation\n",
       "0  XbiKsujS_qxU3xsr0xUqmQ  Saffron Spice Kitchen, Jack Astor's Bar & Gril...\n",
       "1  CjbfWpCRLbA-L_eS_ztd6Q  Raijin Ramen, Lhasa Kitchen, Sky Dragon Chines...\n",
       "2  JrXC_MDp38BWwLn2SFdNsA  New Northern Dumplings, Pho'Q, Osaka Sushi Jap...\n",
       "3  CxDOIDnH8gp9KXzpBHJYXw  Congee Queen, Ga Bin Korean Restaurant, Sukho ...\n",
       "4  U1vl4SQzO3wTAWlYVnSjnw  Café Pacefika, Tsukuyomi, Pizzéria N° 900 Peel..."
      ]
     },
     "execution_count": 94,
     "metadata": {},
     "output_type": "execute_result"
    }
   ],
   "source": [
    "df_svd = pd.DataFrame(svd_ls)\n",
    "df_svd = df_svd[['user_id','recommendation']]\n",
    "df_svd.head()"
   ]
  },
  {
   "cell_type": "code",
   "execution_count": 95,
   "metadata": {},
   "outputs": [
    {
     "data": {
      "text/html": [
       "<div>\n",
       "<style scoped>\n",
       "    .dataframe tbody tr th:only-of-type {\n",
       "        vertical-align: middle;\n",
       "    }\n",
       "\n",
       "    .dataframe tbody tr th {\n",
       "        vertical-align: top;\n",
       "    }\n",
       "\n",
       "    .dataframe thead th {\n",
       "        text-align: right;\n",
       "    }\n",
       "</style>\n",
       "<table border=\"1\" class=\"dataframe\">\n",
       "  <thead>\n",
       "    <tr style=\"text-align: right;\">\n",
       "      <th></th>\n",
       "      <th>Unnamed: 0</th>\n",
       "      <th>user_id</th>\n",
       "      <th>recommendation</th>\n",
       "    </tr>\n",
       "  </thead>\n",
       "  <tbody>\n",
       "    <tr>\n",
       "      <th>0</th>\n",
       "      <td>0</td>\n",
       "      <td>XbiKsujS_qxU3xsr0xUqmQ</td>\n",
       "      <td>Saffron Spice Kitchen, Jack Astor's Bar &amp; Gril...</td>\n",
       "    </tr>\n",
       "    <tr>\n",
       "      <th>1</th>\n",
       "      <td>1</td>\n",
       "      <td>CjbfWpCRLbA-L_eS_ztd6Q</td>\n",
       "      <td>Raijin Ramen, Lhasa Kitchen, Sky Dragon Chines...</td>\n",
       "    </tr>\n",
       "    <tr>\n",
       "      <th>2</th>\n",
       "      <td>2</td>\n",
       "      <td>JrXC_MDp38BWwLn2SFdNsA</td>\n",
       "      <td>New Northern Dumplings, Pho'Q, Osaka Sushi Jap...</td>\n",
       "    </tr>\n",
       "    <tr>\n",
       "      <th>3</th>\n",
       "      <td>3</td>\n",
       "      <td>CxDOIDnH8gp9KXzpBHJYXw</td>\n",
       "      <td>Congee Queen, Ga Bin Korean Restaurant, Sukho ...</td>\n",
       "    </tr>\n",
       "    <tr>\n",
       "      <th>4</th>\n",
       "      <td>4</td>\n",
       "      <td>U1vl4SQzO3wTAWlYVnSjnw</td>\n",
       "      <td>Café Pacefika, Tsukuyomi, Pizzéria N° 900 Peel...</td>\n",
       "    </tr>\n",
       "  </tbody>\n",
       "</table>\n",
       "</div>"
      ],
      "text/plain": [
       "   Unnamed: 0                 user_id  \\\n",
       "0           0  XbiKsujS_qxU3xsr0xUqmQ   \n",
       "1           1  CjbfWpCRLbA-L_eS_ztd6Q   \n",
       "2           2  JrXC_MDp38BWwLn2SFdNsA   \n",
       "3           3  CxDOIDnH8gp9KXzpBHJYXw   \n",
       "4           4  U1vl4SQzO3wTAWlYVnSjnw   \n",
       "\n",
       "                                      recommendation  \n",
       "0  Saffron Spice Kitchen, Jack Astor's Bar & Gril...  \n",
       "1  Raijin Ramen, Lhasa Kitchen, Sky Dragon Chines...  \n",
       "2  New Northern Dumplings, Pho'Q, Osaka Sushi Jap...  \n",
       "3  Congee Queen, Ga Bin Korean Restaurant, Sukho ...  \n",
       "4  Café Pacefika, Tsukuyomi, Pizzéria N° 900 Peel...  "
      ]
     },
     "execution_count": 95,
     "metadata": {},
     "output_type": "execute_result"
    }
   ],
   "source": [
    "df_svd.to_csv('New_SVD_Recommendation_Example.csv')\n",
    "df_svd=pd.read_csv('New_SVD_Recommendation_Example.csv')\n",
    "df_svd.head()"
   ]
  },
  {
   "cell_type": "code",
   "execution_count": null,
   "metadata": {},
   "outputs": [],
   "source": []
  }
 ],
 "metadata": {
  "anaconda-cloud": {},
  "kernelspec": {
   "display_name": "Python 3",
   "language": "python",
   "name": "python3"
  },
  "language_info": {
   "codemirror_mode": {
    "name": "ipython",
    "version": 3
   },
   "file_extension": ".py",
   "mimetype": "text/x-python",
   "name": "python",
   "nbconvert_exporter": "python",
   "pygments_lexer": "ipython3",
   "version": "3.7.0"
  }
 },
 "nbformat": 4,
 "nbformat_minor": 1
}
