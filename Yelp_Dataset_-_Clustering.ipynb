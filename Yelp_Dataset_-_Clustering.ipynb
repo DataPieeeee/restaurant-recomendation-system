{
 "cells": [
  {
   "cell_type": "markdown",
   "metadata": {},
   "source": [
    "# Yelp Data Challenge - Clustering Analysis\n",
    "Summary: \n",
    "- From Setiment analysis, I come to the conclusion that rating score is unreasonable in 4-5 stars cases and 1-2 stars cases. I suggest to replace 1-5 rating system with like/dislike or below_average/average/above_average systems. Here I want to determine which one is better through clustering analysis.\n",
    "- The clutsering method is K-means. It turns out that three clusters (below_average/average/above_average) has better performance than two clusters (like/dislike).\n"
   ]
  },
  {
   "cell_type": "code",
   "execution_count": 13,
   "metadata": {},
   "outputs": [],
   "source": [
    "import pandas as pd\n",
    "import numpy as np\n",
    "import matplotlib.pyplot as plt\n",
    "%matplotlib inline\n",
    "plt.style.use(\"ggplot\")"
   ]
  },
  {
   "cell_type": "code",
   "execution_count": 14,
   "metadata": {},
   "outputs": [
    {
     "data": {
      "text/html": [
       "<div>\n",
       "<style scoped>\n",
       "    .dataframe tbody tr th:only-of-type {\n",
       "        vertical-align: middle;\n",
       "    }\n",
       "\n",
       "    .dataframe tbody tr th {\n",
       "        vertical-align: top;\n",
       "    }\n",
       "\n",
       "    .dataframe thead th {\n",
       "        text-align: right;\n",
       "    }\n",
       "</style>\n",
       "<table border=\"1\" class=\"dataframe\">\n",
       "  <thead>\n",
       "    <tr style=\"text-align: right;\">\n",
       "      <th></th>\n",
       "      <th>business_id</th>\n",
       "      <th>name</th>\n",
       "      <th>categories</th>\n",
       "      <th>avg_stars</th>\n",
       "      <th>cool</th>\n",
       "      <th>date</th>\n",
       "      <th>funny</th>\n",
       "      <th>review_id</th>\n",
       "      <th>stars</th>\n",
       "      <th>text</th>\n",
       "      <th>useful</th>\n",
       "      <th>user_id</th>\n",
       "    </tr>\n",
       "  </thead>\n",
       "  <tbody>\n",
       "    <tr>\n",
       "      <th>2</th>\n",
       "      <td>--1UhMGODdWsrMastO9DZw</td>\n",
       "      <td>The Spicy Amigos</td>\n",
       "      <td>Restaurants, Mexican</td>\n",
       "      <td>4.0</td>\n",
       "      <td>0</td>\n",
       "      <td>2017-12-12</td>\n",
       "      <td>0</td>\n",
       "      <td>e1HiHHD7CzY5NKZG7hvhTw</td>\n",
       "      <td>5</td>\n",
       "      <td>Absolutely delicious! And great service as wel...</td>\n",
       "      <td>0</td>\n",
       "      <td>Sew1Nht6Q0sGTIZeNvRfLw</td>\n",
       "    </tr>\n",
       "    <tr>\n",
       "      <th>3</th>\n",
       "      <td>--1UhMGODdWsrMastO9DZw</td>\n",
       "      <td>The Spicy Amigos</td>\n",
       "      <td>Restaurants, Mexican</td>\n",
       "      <td>4.0</td>\n",
       "      <td>0</td>\n",
       "      <td>2017-08-09</td>\n",
       "      <td>0</td>\n",
       "      <td>oKm8UTv-QSC0oCbniqwxjg</td>\n",
       "      <td>4</td>\n",
       "      <td>Tasty, authentic Mexican street food that give...</td>\n",
       "      <td>0</td>\n",
       "      <td>NoQCmYKyMPs4D01Wa6dZew</td>\n",
       "    </tr>\n",
       "  </tbody>\n",
       "</table>\n",
       "</div>"
      ],
      "text/plain": [
       "              business_id              name            categories  avg_stars  \\\n",
       "2  --1UhMGODdWsrMastO9DZw  The Spicy Amigos  Restaurants, Mexican        4.0   \n",
       "3  --1UhMGODdWsrMastO9DZw  The Spicy Amigos  Restaurants, Mexican        4.0   \n",
       "\n",
       "   cool        date  funny               review_id  stars  \\\n",
       "2     0  2017-12-12      0  e1HiHHD7CzY5NKZG7hvhTw      5   \n",
       "3     0  2017-08-09      0  oKm8UTv-QSC0oCbniqwxjg      4   \n",
       "\n",
       "                                                text  useful  \\\n",
       "2  Absolutely delicious! And great service as wel...       0   \n",
       "3  Tasty, authentic Mexican street food that give...       0   \n",
       "\n",
       "                  user_id  \n",
       "2  Sew1Nht6Q0sGTIZeNvRfLw  \n",
       "3  NoQCmYKyMPs4D01Wa6dZew  "
      ]
     },
     "execution_count": 14,
     "metadata": {},
     "output_type": "execute_result"
    }
   ],
   "source": [
    "df = pd.read_csv('2017_restaurant_reviews.csv')\n",
    "df.head(2)"
   ]
  },
  {
   "cell_type": "markdown",
   "metadata": {},
   "source": [
    "# Cluster the review text data for all the restaurants"
   ]
  },
  {
   "cell_type": "markdown",
   "metadata": {},
   "source": [
    "#### 1. Define my feature variables - the text of the review"
   ]
  },
  {
   "cell_type": "code",
   "execution_count": 15,
   "metadata": {},
   "outputs": [],
   "source": [
    "documents = df['text']"
   ]
  },
  {
   "cell_type": "markdown",
   "metadata": {},
   "source": [
    "#### 2. Create training dataset and test dataset"
   ]
  },
  {
   "cell_type": "code",
   "execution_count": 16,
   "metadata": {},
   "outputs": [],
   "source": [
    "from sklearn.model_selection import train_test_split\n",
    "# The clsutering algorithms is slow so I will take samples to find optima number of clusters\n",
    "documents_train, documents_test= train_test_split(documents, test_size=0.3)"
   ]
  },
  {
   "cell_type": "markdown",
   "metadata": {},
   "source": [
    "#### 3. Get NLP representation of the documents"
   ]
  },
  {
   "cell_type": "code",
   "execution_count": 17,
   "metadata": {},
   "outputs": [],
   "source": [
    "from sklearn.feature_extraction.text import TfidfVectorizer\n",
    "# Create TfidfVectorizer\n",
    "vectorizer = TfidfVectorizer(analyzer = 'word', stop_words = 'english', \n",
    "                             lowercase = True, max_features = 5000\n",
    "                            )\n",
    "# Train the model with my training data\n",
    "documents_train_vec = vectorizer.fit_transform(documents_train).toarray()#[:300]\n",
    "# Get the vocab of my tfidf\n",
    "words = vectorizer.get_feature_names()\n",
    "# Use the trained model to transform all the reviews\n",
    "documents_vec = vectorizer.transform(documents).toarray()#[:300]"
   ]
  },
  {
   "cell_type": "markdown",
   "metadata": {},
   "source": [
    "#### 4. Cluster reviews with KMeans (two clusters)"
   ]
  },
  {
   "cell_type": "markdown",
   "metadata": {},
   "source": [
    "Fit k-means clustering with the training vectors and apply it on all the data"
   ]
  },
  {
   "cell_type": "code",
   "execution_count": 18,
   "metadata": {},
   "outputs": [
    {
     "data": {
      "text/plain": [
       "KMeans(algorithm='auto', copy_x=True, init='k-means++', max_iter=300,\n",
       "    n_clusters=2, n_init=10, n_jobs=None, precompute_distances='auto',\n",
       "    random_state=None, tol=0.0001, verbose=0)"
      ]
     },
     "execution_count": 18,
     "metadata": {},
     "output_type": "execute_result"
    }
   ],
   "source": [
    "from sklearn.cluster import KMeans\n",
    "km_clf = KMeans(verbose = 0,n_clusters = 2)\n",
    "km_clf.fit(documents_train_vec)"
   ]
  },
  {
   "cell_type": "markdown",
   "metadata": {},
   "source": [
    "#### 5. Make predictions on all your data"
   ]
  },
  {
   "cell_type": "code",
   "execution_count": 19,
   "metadata": {},
   "outputs": [],
   "source": [
    "cluster = km_clf.predict(documents_vec)"
   ]
  },
  {
   "cell_type": "markdown",
   "metadata": {},
   "source": [
    "#### 6. Inspect the centroids\n",
    "To find out what \"topics\" Kmeans has discovered I must inspect the centroids. Print out the centroids of the Kmeans clustering.\n",
    "These centroids are simply a bunch of vectors.  To make any sense of them I need to map these vectors back into 'word space'.  Think of each feature/dimension of the centroid vector as representing the \"average\" review or the average occurances of words for that cluster."
   ]
  },
  {
   "cell_type": "code",
   "execution_count": 20,
   "metadata": {},
   "outputs": [
    {
     "data": {
      "text/plain": [
       "array([[ 1.93795602e-03,  0.00000000e+00,  7.25715004e-03, ...,\n",
       "        -1.73472348e-18,  8.13151629e-19, -2.71050543e-18],\n",
       "       [ 0.00000000e+00,  0.00000000e+00,  9.55734865e-03, ...,\n",
       "         5.01363055e-03,  1.01010525e-03,  2.88367898e-03]])"
      ]
     },
     "execution_count": 20,
     "metadata": {},
     "output_type": "execute_result"
    }
   ],
   "source": [
    "km_clf.cluster_centers_"
   ]
  },
  {
   "cell_type": "markdown",
   "metadata": {},
   "source": [
    "#### 7. Find the top 20 features for each cluster.\n",
    "For topics I am only really interested in the most present words, i.e. features/dimensions with the greatest representation in the centroid.  Print out the top ten words for each centroid.\n",
    "\n",
    "* Sort each centroid vector to find the top 10 features\n",
    "* Go back to my vectorizer object to find out what words each of these features corresponds to.\n"
   ]
  },
  {
   "cell_type": "code",
   "execution_count": 21,
   "metadata": {},
   "outputs": [
    {
     "name": "stdout",
     "output_type": "stream",
     "text": [
      "0: food, good, place, really, restaurant, service, chicken, time, just, like, got, order, nice, ordered, menu, people, came, delicious, experience, bit, went, best, amazing, better, ve, try, don, sweet, wait, pretty, little, minutes, sauce, busy, tried, definitely, dish, tasty, taste, say\n",
      "1: great, place, service, friendly, amazing, food, good, breakfast, staff, est, visit, atmosphere, super, nice, love, cooked, restaurant, delicious, le, family, definitely, et, best, spot, friends, recommend, sandwich, beer, time, pizza, hot, brisket, selection, just, value, excellent, really, fast, large, consistently\n"
     ]
    }
   ],
   "source": [
    "cluster_top_features = list()\n",
    "for i in range(km_clf.n_clusters):\n",
    "    cluster_top_features.append(np.argsort(km_clf.cluster_centers_[i])[::-1][:40])\n",
    "for num, centroid in enumerate(cluster_top_features):\n",
    "    print ('%d: %s' % (num, \", \".join(words[i] for i in centroid)))"
   ]
  },
  {
   "cell_type": "markdown",
   "metadata": {},
   "source": [
    "It seems that two clusters are both for positive reviews. This is quite strange. Print out the rating and review of a random sample of the reviews assigned to each cluster to get a sense of the cluster."
   ]
  },
  {
   "cell_type": "code",
   "execution_count": 22,
   "metadata": {},
   "outputs": [
    {
     "name": "stdout",
     "output_type": "stream",
     "text": [
      "The cluster is 1.\n",
      "The star is: 5 stars.\n",
      "The review is:\n",
      "Romados was fantastic. Super quick, fresh and clean food. Lots of portion for the price we paid. We paid about $12 dollars for two of us and still couldnt finish all the food. Chicken was really good. Tender and falling apart from the bone and very tasty. It should be must when visiting Montreal :).\n",
      "\n",
      "The cluster is 2.\n",
      "The star is: 5 stars.\n",
      "The review is:\n",
      "Absolutely delicious! And great service as well! Glad I forgot a lunch today and discovered this little gem!.\n",
      "\n"
     ]
    }
   ],
   "source": [
    "for i in range(km_clf.n_clusters):\n",
    "    sub_cluster = np.arange(0, cluster.shape[0])[cluster == i]\n",
    "    sample = np.random.choice(sub_cluster, 1)\n",
    "    print(\"The cluster is %d.\" % (i+1))\n",
    "    print(\"The star is: %s stars.\" % df['stars'].iloc[sample[0]])\n",
    "    print(\"The review is:\\n%s.\\n\" % df['text'].iloc[sample[0]])"
   ]
  },
  {
   "cell_type": "markdown",
   "metadata": {},
   "source": [
    "#### 8. Try different k = 3"
   ]
  },
  {
   "cell_type": "code",
   "execution_count": 23,
   "metadata": {},
   "outputs": [
    {
     "data": {
      "text/plain": [
       "KMeans(algorithm='auto', copy_x=True, init='k-means++', max_iter=300,\n",
       "    n_clusters=3, n_init=10, n_jobs=None, precompute_distances='auto',\n",
       "    random_state=None, tol=0.0001, verbose=0)"
      ]
     },
     "execution_count": 23,
     "metadata": {},
     "output_type": "execute_result"
    }
   ],
   "source": [
    "# To be implemented\n",
    "km_3_clusters = KMeans(verbose = 0, n_clusters = 3)\n",
    "km_3_clusters.fit(documents_train_vec)"
   ]
  },
  {
   "cell_type": "code",
   "execution_count": 24,
   "metadata": {},
   "outputs": [
    {
     "name": "stdout",
     "output_type": "stream",
     "text": [
      "1: place,food,delicious,great,definitely,amazing,nice,good,service,sweet,breakfast,friendly,restaurant,toronto,try,menu,dinner,atmosphere,ordered,est,bar,dish,come,came,spot,cheese,area,just,super,best,le,experience,cream,dishes,got,little,like,love,et,tea\n",
      "2: food,time,good,service,restaurant,place,great,staff,minutes,really,order,like,busy,wait,know,customer,better,amazing,nice,menu,visit,location,coming,going,best,came,make,drinks,bit,don,people,got,just,experience,10,bad,line,times,table,manager\n",
      "3: food,good,chicken,place,really,just,ve,service,like,soup,got,meat,ordered,little,don,restaurant,went,pretty,burger,amazing,eat,order,friendly,rice,curry,indian,bit,delicious,taste,best,sauce,fast,great,nice,fresh,spice,people,pork,decent,price\n"
     ]
    }
   ],
   "source": [
    "cluster_top_features = list()\n",
    "for i in range(km_3_clusters.n_clusters):\n",
    "    cluster_top_features.append(np.argsort(km_3_clusters.cluster_centers_[i])[::-1][:40])\n",
    "for num, centroid in enumerate(cluster_top_features):\n",
    "    print ('%d: %s' % (num+1, \",\".join(words[i] for i in centroid)))"
   ]
  },
  {
   "cell_type": "markdown",
   "metadata": {},
   "source": [
    "It seems that three clusters can get the positive, negative and in-between types."
   ]
  },
  {
   "cell_type": "code",
   "execution_count": 25,
   "metadata": {},
   "outputs": [],
   "source": [
    "three_cluster_pred = km_3_clusters.predict(documents_vec)"
   ]
  },
  {
   "cell_type": "markdown",
   "metadata": {},
   "source": [
    "Print out the rating and review of a random sample of the reviews assigned to each cluster to get a sense of the cluster."
   ]
  },
  {
   "cell_type": "code",
   "execution_count": 26,
   "metadata": {},
   "outputs": [
    {
     "name": "stdout",
     "output_type": "stream",
     "text": [
      "The cluster is 1.\n",
      "The star is: 1 stars.\n",
      "The review is:\n",
      "This was our first visit to this restaurant and we will not go back. We did feel sorry for the server who was serving the entire place and her service was adequate given what she had to do. \n",
      "\n",
      "One order was missing the sausages that were supposed to be there. The other order was supposed to have swiss cheese not cheddar on the sandwich which was a very disappointing Monte Cristo.  (Very little egg in the French toast). All the home fries were undercooked, tasteless and too cold to enjoy. The portion was large though but we left most of them on the plate.  \n",
      "\n",
      "Owner...you need to get more staff in the kitchen and serving. The place was busy for a weekday but they may not come back..\n",
      "\n",
      "The cluster is 2.\n",
      "The star is: 5 stars.\n",
      "The review is:\n",
      "The food was very good! It wasn't extremely to die for I'm moving to Canada for this restaurant, but it was very good! The owner and waitress were really nice. They are very child friendly and I love their healthy options menu. Overall, 10/10 would recommend..\n",
      "\n",
      "The cluster is 3.\n",
      "The star is: 3 stars.\n",
      "The review is:\n",
      "The hot plates are really cool and the display is great for those instagram and Snapchat pictures but I don't think the quality of food is worth the price..\n",
      "\n"
     ]
    }
   ],
   "source": [
    "for i in range(km_3_clusters.n_clusters):\n",
    "    sub_cluster = np.arange(0, three_cluster_pred.shape[0])[three_cluster_pred == i]\n",
    "    sample = np.random.choice(sub_cluster, 1)\n",
    "    print(\"The cluster is %d.\" % (i+1))\n",
    "    print(\"The star is: %s stars.\" % df['stars'].iloc[sample[0]])\n",
    "    print(\"The review is:\\n%s.\\n\" % df['text'].iloc[sample[0]])"
   ]
  },
  {
   "cell_type": "code",
   "execution_count": null,
   "metadata": {},
   "outputs": [],
   "source": []
  }
 ],
 "metadata": {
  "anaconda-cloud": {},
  "kernelspec": {
   "display_name": "Python 3",
   "language": "python",
   "name": "python3"
  },
  "language_info": {
   "codemirror_mode": {
    "name": "ipython",
    "version": 3
   },
   "file_extension": ".py",
   "mimetype": "text/x-python",
   "name": "python",
   "nbconvert_exporter": "python",
   "pygments_lexer": "ipython3",
   "version": "3.6.7"
  }
 },
 "nbformat": 4,
 "nbformat_minor": 1
}
